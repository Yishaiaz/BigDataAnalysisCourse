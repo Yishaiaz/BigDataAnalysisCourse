{
  "nbformat": 4,
  "nbformat_minor": 0,
  "metadata": {
    "kernelspec": {
      "display_name": "Python 3",
      "language": "python",
      "name": "python3"
    },
    "language_info": {
      "codemirror_mode": {
        "name": "ipython",
        "version": 3
      },
      "file_extension": ".py",
      "mimetype": "text/x-python",
      "name": "python",
      "nbconvert_exporter": "python",
      "pygments_lexer": "ipython3",
      "version": "3.6.9"
    },
    "colab": {
      "name": "HW_1_solution.ipynb",
      "provenance": [],
      "collapsed_sections": []
    }
  },
  "cells": [
    {
      "cell_type": "markdown",
      "metadata": {
        "id": "_fq8BHLiYCyE"
      },
      "source": [
        "# Homework Assignment 1\n",
        "### [The Art of Analyzing Big Data - The Data Scientist’s Toolbox](https://www.ise.bgu.ac.il/labs/fire/lectures.html)\n",
        "#### By Dr. Michael Fire "
      ]
    },
    {
      "cell_type": "markdown",
      "metadata": {
        "id": "jYvqtKSOYCyG"
      },
      "source": [
        "*For* this homework you will need to write code that analyzes real-world datasets. The code needs to be written in Python using the [sqlite3](https://docs.python.org/2/library/sqlite3.html) package. \n",
        "\n",
        "**Please note:** You need to answer only the questions that match your ID first digit."
      ]
    },
    {
      "cell_type": "markdown",
      "metadata": {
        "id": "AML-gkV-YCyI"
      },
      "source": [
        "# 1. Babies Names Dataset (35pt)"
      ]
    },
    {
      "cell_type": "markdown",
      "metadata": {
        "id": "4I1ma2SOTHZ1"
      },
      "source": [
        "## Preperations:"
      ]
    },
    {
      "cell_type": "code",
      "metadata": {
        "colab": {
          "base_uri": "https://localhost:8080/"
        },
        "id": "6NQFfD04TG0H",
        "outputId": "87462ba5-d2ca-45c7-f37e-3a976ee02807"
      },
      "source": [
        "! pip install kaggle \n",
        "! mkdir ~/.kaggle\n",
        "! cp kaggle.json ~/.kaggle/\n",
        "! chmod 600 ~/.kaggle/kaggle.json \n",
        "# download the dataset\n",
        "! kaggle datasets download kaggle/us-baby-names\n",
        "! unzip /content/us-baby-names.zip"
      ],
      "execution_count": null,
      "outputs": [
        {
          "output_type": "stream",
          "name": "stdout",
          "text": [
            "Requirement already satisfied: kaggle in /usr/local/lib/python3.7/dist-packages (1.5.12)\n",
            "Requirement already satisfied: python-dateutil in /usr/local/lib/python3.7/dist-packages (from kaggle) (2.8.2)\n",
            "Requirement already satisfied: six>=1.10 in /usr/local/lib/python3.7/dist-packages (from kaggle) (1.15.0)\n",
            "Requirement already satisfied: tqdm in /usr/local/lib/python3.7/dist-packages (from kaggle) (4.62.3)\n",
            "Requirement already satisfied: python-slugify in /usr/local/lib/python3.7/dist-packages (from kaggle) (5.0.2)\n",
            "Requirement already satisfied: urllib3 in /usr/local/lib/python3.7/dist-packages (from kaggle) (1.24.3)\n",
            "Requirement already satisfied: certifi in /usr/local/lib/python3.7/dist-packages (from kaggle) (2021.5.30)\n",
            "Requirement already satisfied: requests in /usr/local/lib/python3.7/dist-packages (from kaggle) (2.23.0)\n",
            "Requirement already satisfied: text-unidecode>=1.3 in /usr/local/lib/python3.7/dist-packages (from python-slugify->kaggle) (1.3)\n",
            "Requirement already satisfied: chardet<4,>=3.0.2 in /usr/local/lib/python3.7/dist-packages (from requests->kaggle) (3.0.4)\n",
            "Requirement already satisfied: idna<3,>=2.5 in /usr/local/lib/python3.7/dist-packages (from requests->kaggle) (2.10)\n",
            "mkdir: cannot create directory ‘/root/.kaggle’: File exists\n",
            "Downloading us-baby-names.zip to /content\n",
            " 99% 172M/173M [00:01<00:00, 128MB/s]\n",
            "100% 173M/173M [00:01<00:00, 115MB/s]\n",
            "Archive:  /content/us-baby-names.zip\n",
            "  inflating: NationalNames.csv       \n",
            "  inflating: NationalReadMe.pdf      \n",
            "  inflating: StateNames.csv          \n",
            "  inflating: StateReadMe.pdf         \n",
            "  inflating: database.sqlite         \n",
            "  inflating: hashes.txt              \n"
          ]
        }
      ]
    },
    {
      "cell_type": "code",
      "metadata": {
        "id": "Lbu59Sz-Vnsl"
      },
      "source": [
        "# IMPORTS\n",
        "import os\n",
        "import numpy as np\n",
        "import pandas as pd\n",
        "import sqlite3 as sql\n",
        "import matplotlib.pyplot as plt\n",
        "import time\n",
        "from typing import List, Tuple, Dict"
      ],
      "execution_count": null,
      "outputs": []
    },
    {
      "cell_type": "markdown",
      "metadata": {
        "id": "jvkBrt7SYCyK"
      },
      "source": [
        "**Task 1 (for everyone):** Write a code that uses the  [**babies names dataset** ](https://www.kaggle.com/kaggle/us-baby-names?select=NationalNames.csv) (use NationalNames.csv) and creates a table named (Names) with the dataset data and the following columns: 'State', 'Gender', 'Name', 'Count' , and 'Year' (5pt)\n",
        "**Bonus:** Load the data using a Batch INSERT SQL Query (2pt)"
      ]
    },
    {
      "cell_type": "code",
      "metadata": {
        "id": "-vrdQhaLYCyL"
      },
      "source": [
        "def df_to_db(df: pd.DataFrame, db_name: str, table_name: str, batch_size: int = 0):\n",
        "  conn = sql.connect(db_name)\n",
        "  if batch_size:\n",
        "    df.to_sql(table_name, conn, if_exists='replace', chunksize=batch_size)\n",
        "  else:\n",
        "    df.to_sql(table_name, conn, if_exists='replace')\n",
        "  conn.close()"
      ],
      "execution_count": null,
      "outputs": []
    },
    {
      "cell_type": "code",
      "metadata": {
        "id": "TzUUYSUZW0Fj"
      },
      "source": [
        "# BONUS IS IMPLEMENTED WITHIN THE FUNCITON (PARAMETER NAMED 'batch_size')\n",
        "db_name = 'namesDB.db'\n",
        "batch_size = 500\n",
        "\n",
        "national_names_df = pd.read_csv('NationalNames.csv')\n",
        "national_names_df['State'] = None\n",
        "national_names_table_name = 'national_names'\n",
        "\n",
        "names_by_states_df = pd.read_csv('StateNames.csv')\n",
        "names_by_states_table_name = 'state_names'\n",
        "\n",
        "df_to_db(national_names_df, db_name, national_names_table_name, batch_size=batch_size)\n",
        "df_to_db(names_by_states_df, db_name, names_by_states_table_name, batch_size=batch_size)"
      ],
      "execution_count": null,
      "outputs": []
    },
    {
      "cell_type": "markdown",
      "metadata": {
        "id": "QEbvkQhCYCyP"
      },
      "source": [
        "**Task 2 (for everyone):** Write a query that returns the statistics for the name Mary (5pt). Use the [the timeit package](https://docs.python.org/3/library/timeit.html) to measure the time it takes the query to run (5pt). **Bonus:** [Create an index](https://www.w3schools.com/sql/sql_create_index.asp)  on the _Name_ column and use the [the timeit package](https://docs.python.org/3/library/timeit.html) to measure the time it takes the query to run with the index (5pt)"
      ]
    },
    {
      "cell_type": "code",
      "metadata": {
        "id": "YBCHPAOzYCyR"
      },
      "source": [
        "def get_statistics_on_name(db_cursor, name_of_table: str, name_to_get_statistics: str = 'Mary'):\n",
        "  # STATISTICS 1: amount of name's\n",
        "  query_as_str = f\"\"\"\n",
        "  SELECT SUM(Count)\n",
        "  FROM {name_of_table}\n",
        "  WHERE Name=?\n",
        "  \"\"\"\n",
        "  query_params = (name_to_get_statistics,)\n",
        "  query_ans = db_cursor.execute(query_as_str, query_params).fetchone()\n",
        "  name_count = query_ans[0]\n",
        "  \n",
        "  # STATISTICS 2: average of name's about year\n",
        "  query_as_str = f\"\"\"\n",
        "  SELECT AVG(Count)\n",
        "  FROM {name_of_table}\n",
        "  WHERE Name=?\n",
        "  GROUP BY Year\n",
        "  \"\"\"\n",
        "  query_params = (name_to_get_statistics,)\n",
        "  query_ans = db_cursor.execute(query_as_str, query_params).fetchone()\n",
        "  average_about_year = query_ans[0]\n",
        "  \n",
        "  # STATISTICS 3: amount of female name, amout of male name\n",
        "  query_as_str = f\"\"\"\n",
        "  SELECT SUM(Count), Gender\n",
        "  FROM {name_of_table}\n",
        "  WHERE Name=? \n",
        "  GROUP BY Gender \n",
        "  \"\"\"\n",
        "  query_params = (name_to_get_statistics,)\n",
        "  query_ans = db_cursor.execute(query_as_str, query_params).fetchall()\n",
        "  female_count, male_count = query_ans[0][0], query_ans[1][0]\n",
        "  \n",
        "  return {\n",
        "      f'Total {name_to_get_statistics}': name_count,\n",
        "      f'Average {name_to_get_statistics} Per Year': average_about_year,\n",
        "      f'Total Male {name_to_get_statistics}':male_count,\n",
        "      f'Total Female {name_to_get_statistics}':female_count\n",
        "  }"
      ],
      "execution_count": null,
      "outputs": []
    },
    {
      "cell_type": "code",
      "metadata": {
        "id": "2SUumFGY4zfp"
      },
      "source": [
        "conn.close()"
      ],
      "execution_count": null,
      "outputs": []
    },
    {
      "cell_type": "code",
      "metadata": {
        "colab": {
          "base_uri": "https://localhost:8080/"
        },
        "id": "PZnNOLAUxbLw",
        "outputId": "a337a01d-6247-47fd-b389-c488bc70e688"
      },
      "source": [
        "# no index\n",
        "conn = sql.connect(db_name)\n",
        "db_cursor = conn.cursor()\n",
        "db_cursor.execute(f'DROP INDEX IF EXISTS name_idx;')\n",
        "start = time.time()\n",
        "print(get_statistics_on_name(db_cursor, names_by_states_table_name))\n",
        "time_with_no_index = time.time() - start\n",
        "conn.close()\n",
        "# with index\n",
        "conn = sql.connect(db_name)\n",
        "db_cursor = conn.cursor()\n",
        "db_cursor.execute(f'CREATE INDEX name_idx ON {names_by_states_table_name} (Name)')\n",
        "start = time.time()\n",
        "print(get_statistics_on_name(db_cursor, names_by_states_table_name))\n",
        "time_with_index = time.time() - start\n",
        "conn.close()\n",
        "print(f'Improvent factor with index: {time_with_no_index/time_with_index}')"
      ],
      "execution_count": null,
      "outputs": [
        {
          "output_type": "stream",
          "name": "stdout",
          "text": [
            "{'Total Mary': 3740495, 'Average Mary Per Year': 388.2542372881356, 'Total Male Mary': 9639, 'Total Female Mary': 3730856}\n",
            "{'Total Mary': 3740495, 'Average Mary Per Year': 388.2542372881356, 'Total Male Mary': 9639, 'Total Female Mary': 3730856}\n",
            "Improvent factor with index: 29.64407129654346\n"
          ]
        }
      ]
    },
    {
      "cell_type": "markdown",
      "metadata": {
        "id": "6dClZxXjYCyU"
      },
      "source": [
        "### <span style=\"color:red\"> Please answer only **one** of the following questions according to your ID number (use the formula **<YOUR_ID> mod 4 +1**) </span>"
      ]
    },
    {
      "cell_type": "code",
      "metadata": {
        "id": "iDpqwgwQYCyV",
        "colab": {
          "base_uri": "https://localhost:8080/"
        },
        "outputId": "49e16f65-8271-42a3-eeb0-71dca0c5d656"
      },
      "source": [
        "# which question to answer - put your ID number and run the code \n",
        "your_id  = \"307963538\"\n",
        "q = int(your_id) % 4 + 1\n",
        "print(\"You need to answer question number %s\" % q)"
      ],
      "execution_count": null,
      "outputs": [
        {
          "output_type": "stream",
          "name": "stdout",
          "text": [
            "You need to answer question number 3\n"
          ]
        }
      ]
    },
    {
      "cell_type": "markdown",
      "metadata": {
        "id": "bGU71KQ8YCyZ"
      },
      "source": [
        "***Question 1:*** Write a function that returns how many babies were born in a given state in a given year.\n",
        "Use it to calculate the number of babies born in TX in 1986 (10pt)"
      ]
    },
    {
      "cell_type": "code",
      "metadata": {
        "id": "0RB3GjaaYCya"
      },
      "source": [
        ""
      ],
      "execution_count": null,
      "outputs": []
    },
    {
      "cell_type": "markdown",
      "metadata": {
        "id": "510Wry5WYCye"
      },
      "source": [
        "***Question 2:*** Write a function that returns how many female babies were born between a given range of years.\n",
        "Use it to calculate how many babies were born between 1988 and 1995  (10pt)"
      ]
    },
    {
      "cell_type": "code",
      "metadata": {
        "id": "m5wOKWsBYCyf"
      },
      "source": [
        ""
      ],
      "execution_count": null,
      "outputs": []
    },
    {
      "cell_type": "markdown",
      "metadata": {
        "id": "x721dD1NYCyi"
      },
      "source": [
        "**Question 3:** Write a function that returns the most common female name in a given state. Use it to calculate the most common female name in Wasington in 1987 (10pt)"
      ]
    },
    {
      "cell_type": "code",
      "metadata": {
        "id": "h3t_ouDoYCyj"
      },
      "source": [
        "def most_common_name_in_country_by_gender_by_year(db_cursor, name_of_table:str, gender: str, year: str, state: str):\n",
        "  query_as_str = f\"\"\"\n",
        "  SELECT Count, Name\n",
        "  FROM {name_of_table}\n",
        "  WHERE State=? AND Gender=? AND Year=?\n",
        "  ORDER BY Count DESC\n",
        "  \"\"\"\n",
        "  query_params = (state, 'F', year,)\n",
        "  query_ans = db_cursor.execute(query_as_str, query_params).fetchone()\n",
        "  most_common, amount = query_ans[1], query_ans[0] \n",
        "  return most_common, amount"
      ],
      "execution_count": null,
      "outputs": []
    },
    {
      "cell_type": "code",
      "metadata": {
        "colab": {
          "base_uri": "https://localhost:8080/"
        },
        "id": "YSWbHCnz0hXW",
        "outputId": "565f71a1-7dc4-4d9a-a79f-8dd3d55404cd"
      },
      "source": [
        "conn = sql.connect(db_name)\n",
        "db_cursor = conn.cursor()\n",
        "most_common, amount = most_common_name_in_country_by_gender_by_year(db_cursor, names_by_states_table_name, 'F', '1987','WA')\n",
        "conn.close()\n",
        "print(f'Most common is: {most_common} with {amount}#')"
      ],
      "execution_count": null,
      "outputs": [
        {
          "output_type": "stream",
          "name": "stdout",
          "text": [
            "Most common is: Jessica with 885#\n"
          ]
        }
      ]
    },
    {
      "cell_type": "markdown",
      "metadata": {
        "id": "mRyUoBvhYCyl"
      },
      "source": [
        "**Question 4:** Write a function that returns how many male babies named _Robert where born in a given state in a given year. Use it to find the state in which the highest number of babies _Robert_ where born in 2010 (10pt)"
      ]
    },
    {
      "cell_type": "code",
      "metadata": {
        "id": "lz1q1mvPYCym"
      },
      "source": [
        ""
      ],
      "execution_count": null,
      "outputs": []
    },
    {
      "cell_type": "markdown",
      "metadata": {
        "id": "THz0vDHHYCyo"
      },
      "source": [
        "**Question (for everyone):** For the state of CA write code that calculates the second most popular female/male names in each decade (10pt). **Bonus**: Visualize it somehow using Matplotlib (5pt)"
      ]
    },
    {
      "cell_type": "code",
      "metadata": {
        "id": "dVRTQGOS_3G9"
      },
      "source": [
        "def get_min_decade_start(db_cursor, name_of_table):\n",
        "  query_as_str = f\"\"\"\n",
        "  SELECT MIN(Year)\n",
        "  FROM {name_of_table}\n",
        "  \"\"\"\n",
        "  \n",
        "  query_ans = db_cursor.execute(query_as_str).fetchone()\n",
        "  \n",
        "  return (int(query_ans[0])//10) * 10\n",
        "\n",
        "def get_max_decade_start(db_cursor, name_of_table):\n",
        "  query_as_str = f\"\"\"\n",
        "  SELECT MAX(Year)\n",
        "  FROM {name_of_table}\n",
        "  \"\"\"\n",
        "  \n",
        "  query_ans = db_cursor.execute(query_as_str).fetchone()\n",
        "  \n",
        "  return (int(query_ans[0])//10) * 10 + 10\n",
        "\n",
        "def sescond_most_popular_by_decade(db_cursor, name_of_table: str, state: str = 'CA', gender: str = 'F'):\n",
        "  min_decade, max_decade = get_min_decade_start(db_cursor, name_of_table), get_max_decade_start(db_cursor, name_of_table)\n",
        "\n",
        "  second_most_common_by_decade = {}\n",
        "\n",
        "  for start_of_decade in range(min_decade, max_decade+1, 10):\n",
        "    end_of_decade = start_of_decade + 9\n",
        "    \n",
        "    decade_key = f'{start_of_decade}-{end_of_decade}'\n",
        "\n",
        "    query_as_str = f\"\"\"\n",
        "    SELECT SUM(Count), Name\n",
        "    FROM {name_of_table}\n",
        "    WHERE State=? AND Gender=? AND Year BETWEEN ? AND ?\n",
        "    GROUP BY Name\n",
        "    ORDER BY SUM(Count) DESC\n",
        "    \"\"\"\n",
        "    query_params = (state, gender, start_of_decade, end_of_decade,)\n",
        "    query_ans = db_cursor.execute(query_as_str, query_params).fetchall()\n",
        "\n",
        "    if len(query_ans) < 2:\n",
        "      continue\n",
        "    second_most_common_by_decade[decade_key] = query_ans[1]\n",
        "  \n",
        "  return second_most_common_by_decade\n"
      ],
      "execution_count": null,
      "outputs": []
    },
    {
      "cell_type": "code",
      "metadata": {
        "colab": {
          "base_uri": "https://localhost:8080/"
        },
        "id": "IejHgjBm4GYA",
        "outputId": "413cffd0-0b3e-4f0f-f747-30c5f0c3f2e2"
      },
      "source": [
        "conn = sql.connect(db_name)\n",
        "db_cursor = conn.cursor()\n",
        "second_most_common_by_decade = sescond_most_popular_by_decade(db_cursor, names_by_states_table_name, 'CA', 'F')\n",
        "conn.close()\n",
        "print(second_most_common_by_decade)"
      ],
      "execution_count": null,
      "outputs": [
        {
          "output_type": "stream",
          "name": "stdout",
          "text": [
            "{'1910-1919': (5940, 'Dorothy'), '1920-1929': (11645, 'Betty'), '1930-1939': (15447, 'Barbara'), '1940-1949': (28384, 'Mary'), '1950-1959': (35635, 'Susan'), '1960-1969': (24393, 'Michelle'), '1970-1979': (26577, 'Michelle'), '1980-1989': (49348, 'Jennifer'), '1990-1999': (33086, 'Ashley'), '2000-2009': (25457, 'Ashley'), '2010-2019': (15013, 'Isabella')}\n"
          ]
        }
      ]
    },
    {
      "cell_type": "markdown",
      "metadata": {
        "id": "1SUc5Ufr0A6m"
      },
      "source": [
        "### Bonus: Visualize with matplotlib:"
      ]
    },
    {
      "cell_type": "code",
      "metadata": {
        "id": "i3BLWpbL0Ery"
      },
      "source": [
        "def visualize_count_by_decade(ax, decades_data:List[str], title:str, x_label: str, y_label: str):  \n",
        "  x_axis = np.arange(0, len(decades_data), 1)\n",
        "  x_axis_labels = list(decades_data.keys())\n",
        "  count_data = list(map(lambda item: item[0], decades_data.values()))\n",
        "  names = list(map(lambda item: item[1], decades_data.values()))\n",
        "  \n",
        "  ax.bar(x_axis, count_data, .5, align='center')\n",
        "\n",
        "  ax.set_xticks(x_axis)\n",
        "  ax.set_xticklabels(x_axis_labels)\n",
        "\n",
        "  ax.set_xlabel(x_label)\n",
        "  ax.set_ylabel(y_label)\n",
        "  ax.set_title(title)\n",
        "\n",
        "  rects = ax.patches\n",
        "\n",
        "  for rect, label in zip(rects, names):\n",
        "      height = rect.get_height()\n",
        "      ax.text(\n",
        "          rect.get_x() + rect.get_width() / 2, height + 5, label, ha=\"center\", va=\"bottom\"\n",
        "      )\n",
        "\n",
        "  ax.tick_params(axis='x', labelrotation=-45, labelsize=8)\n",
        "  plt.setp(ax.xaxis.get_majorticklabels(), ha=\"left\", rotation_mode=\"anchor\")"
      ],
      "execution_count": null,
      "outputs": []
    },
    {
      "cell_type": "code",
      "metadata": {
        "id": "pjR63Lcp0ge3"
      },
      "source": [
        "db_conn = sql.connect(db_name)\n",
        "db_cursor = db_conn.cursor()\n",
        "\n",
        "male_second_most_common = sescond_most_popular_by_decade(db_cursor, names_by_states_table_name, 'CA', 'M')\n",
        "female_second_most_common = sescond_most_popular_by_decade(db_cursor, names_by_states_table_name, 'CA', 'F')\n",
        "\n",
        "db_conn.close()"
      ],
      "execution_count": null,
      "outputs": []
    },
    {
      "cell_type": "code",
      "metadata": {
        "colab": {
          "base_uri": "https://localhost:8080/",
          "height": 369
        },
        "id": "mcS_a_un7vIp",
        "outputId": "eea0209e-5783-4b1c-f6e6-ccf9c8c0925f"
      },
      "source": [
        "fig, axis = plt.subplots(1, 2, figsize=(10, 5))\n",
        "\n",
        "data = (male_second_most_common, female_second_most_common)\n",
        "titles = ('Male', 'Female')\n",
        "for ax, datum, title  in zip(axis, data, titles):\n",
        "  visualize_count_by_decade(ax, datum, title, 'Decade', 'Count')\n",
        "\n",
        "plt.tight_layout()\n",
        "plt.show()"
      ],
      "execution_count": null,
      "outputs": [
        {
          "output_type": "display_data",
          "data": {
            "image/png": "[encoded data removed]",
            "text/plain": [
              "<Figure size 720x360 with 2 Axes>"
            ]
          },
          "metadata": {
            "needs_background": "light"
          }
        }
      ]
    },
    {
      "cell_type": "markdown",
      "metadata": {
        "id": "gmdQrLL9YCyp"
      },
      "source": [
        "# 2. Flavors of Cacao Dataset (15pt)"
      ]
    },
    {
      "cell_type": "markdown",
      "metadata": {
        "id": "dTpNKH7UYCyq"
      },
      "source": [
        "Using the [Flavors of Cacao](https://www.kaggle.com/rombikuboktaeder/choco-flavors) dataset, answer the following questions:"
      ]
    },
    {
      "cell_type": "markdown",
      "metadata": {
        "id": "JVLuBvkB5wrB"
      },
      "source": [
        "## Preperations:"
      ]
    },
    {
      "cell_type": "code",
      "metadata": {
        "colab": {
          "base_uri": "https://localhost:8080/"
        },
        "id": "o3rIgj-v5zFW",
        "outputId": "de81d192-ddaf-4058-a47e-c989b328a259"
      },
      "source": [
        "! pip install kaggle \n",
        "! mkdir ~/.kaggle\n",
        "! cp kaggle.json ~/.kaggle/\n",
        "! chmod 600 ~/.kaggle/kaggle.json \n",
        "# download the dataset\n",
        "! kaggle datasets download rombikuboktaeder/choco-flavors\n",
        "! unzip /content/choco-flavors.zip"
      ],
      "execution_count": null,
      "outputs": [
        {
          "output_type": "stream",
          "name": "stdout",
          "text": [
            "Requirement already satisfied: kaggle in /usr/local/lib/python3.7/dist-packages (1.5.12)\n",
            "Requirement already satisfied: python-slugify in /usr/local/lib/python3.7/dist-packages (from kaggle) (5.0.2)\n",
            "Requirement already satisfied: certifi in /usr/local/lib/python3.7/dist-packages (from kaggle) (2021.5.30)\n",
            "Requirement already satisfied: six>=1.10 in /usr/local/lib/python3.7/dist-packages (from kaggle) (1.15.0)\n",
            "Requirement already satisfied: requests in /usr/local/lib/python3.7/dist-packages (from kaggle) (2.23.0)\n",
            "Requirement already satisfied: tqdm in /usr/local/lib/python3.7/dist-packages (from kaggle) (4.62.3)\n",
            "Requirement already satisfied: urllib3 in /usr/local/lib/python3.7/dist-packages (from kaggle) (1.24.3)\n",
            "Requirement already satisfied: python-dateutil in /usr/local/lib/python3.7/dist-packages (from kaggle) (2.8.2)\n",
            "Requirement already satisfied: text-unidecode>=1.3 in /usr/local/lib/python3.7/dist-packages (from python-slugify->kaggle) (1.3)\n",
            "Requirement already satisfied: chardet<4,>=3.0.2 in /usr/local/lib/python3.7/dist-packages (from requests->kaggle) (3.0.4)\n",
            "Requirement already satisfied: idna<3,>=2.5 in /usr/local/lib/python3.7/dist-packages (from requests->kaggle) (2.10)\n",
            "Downloading choco-flavors.zip to /content\n",
            "  0% 0.00/30.3k [00:00<?, ?B/s]\n",
            "100% 30.3k/30.3k [00:00<00:00, 26.5MB/s]\n",
            "Archive:  /content/choco-flavors.zip\n",
            "  inflating: flavors_of_cacao.csv    \n"
          ]
        }
      ]
    },
    {
      "cell_type": "code",
      "metadata": {
        "id": "y1pVdgaW54K8"
      },
      "source": [
        "# IMPORTS\n",
        "import os\n",
        "import numpy as np\n",
        "import pandas as pd\n",
        "import sqlite3 as sql\n",
        "import matplotlib.pyplot as plt\n",
        "import time\n",
        "from typing import List, Tuple, Dict"
      ],
      "execution_count": null,
      "outputs": []
    },
    {
      "cell_type": "code",
      "metadata": {
        "id": "BcAhtLhC54Sj"
      },
      "source": [
        "def df_to_db(df: pd.DataFrame, db_name: str, table_name: str, batch_size: int = 0):\n",
        "  conn = sql.connect(db_name)\n",
        "  if batch_size:\n",
        "    df.to_sql(table_name, conn, if_exists='replace', chunksize=batch_size)\n",
        "  else:\n",
        "    df.to_sql(table_name, conn, if_exists='replace')\n",
        "  conn.close()"
      ],
      "execution_count": null,
      "outputs": []
    },
    {
      "cell_type": "code",
      "metadata": {
        "colab": {
          "base_uri": "https://localhost:8080/"
        },
        "id": "2Np6Houy54Zf",
        "outputId": "4de19aba-d6fa-4320-cbbb-4ee015c6f53a"
      },
      "source": [
        "db_name = 'CacaoDB.db'\n",
        "table_name = 'cacao'\n",
        "flavors_of_cacao_df = pd.read_csv('flavors_of_cacao.csv')\n",
        "\n",
        "df_to_db(flavors_of_cacao_df, db_name, table_name)"
      ],
      "execution_count": null,
      "outputs": [
        {
          "output_type": "stream",
          "name": "stderr",
          "text": [
            "/usr/local/lib/python3.7/dist-packages/pandas/core/generic.py:2615: UserWarning: The spaces in these column names will not be changed. In pandas versions < 0.14, spaces were converted to underscores.\n",
            "  method=method,\n"
          ]
        }
      ]
    },
    {
      "cell_type": "code",
      "metadata": {
        "colab": {
          "base_uri": "https://localhost:8080/"
        },
        "id": "FThy3ulhhoUJ",
        "outputId": "14f00447-3903-4b18-c212-3a94e1e758fd"
      },
      "source": [
        "conn = sql.connect(db_name)\n",
        "db_cursor = conn.cursor()\n",
        "db_cursor.execute(f'PRAGMA table_info({table_name})').fetchall()"
      ],
      "execution_count": null,
      "outputs": [
        {
          "output_type": "execute_result",
          "data": {
            "text/plain": [
              "[(0, 'index', 'INTEGER', 0, None, 0),\n",
              " (1, 'Company\\xa0\\n(Maker-if known)', 'TEXT', 0, None, 0),\n",
              " (2, 'Specific Bean Origin\\nor Bar Name', 'TEXT', 0, None, 0),\n",
              " (3, 'REF', 'INTEGER', 0, None, 0),\n",
              " (4, 'Review\\nDate', 'INTEGER', 0, None, 0),\n",
              " (5, 'Cocoa\\nPercent', 'TEXT', 0, None, 0),\n",
              " (6, 'Company\\nLocation', 'TEXT', 0, None, 0),\n",
              " (7, 'Rating', 'REAL', 0, None, 0),\n",
              " (8, 'Bean\\nType', 'TEXT', 0, None, 0),\n",
              " (9, 'Broad Bean\\nOrigin', 'TEXT', 0, None, 0)]"
            ]
          },
          "metadata": {},
          "execution_count": 7
        }
      ]
    },
    {
      "cell_type": "markdown",
      "metadata": {
        "id": "wbg9gkVtYCyr"
      },
      "source": [
        "**Question 1:** Write a function that returns the number of bars manufactured where the bars' BroadBean Origin is a given country. Use the function to calculate the number of bars where BroadBean Origin is 'Fiji' (15pt)"
      ]
    },
    {
      "cell_type": "code",
      "metadata": {
        "id": "D5FWfEiaYCys"
      },
      "source": [
        ""
      ],
      "execution_count": null,
      "outputs": []
    },
    {
      "cell_type": "markdown",
      "metadata": {
        "id": "9GCvKxWtYCyu"
      },
      "source": [
        "**Question 2:** Write a function that returns the maximal and average cocoa percentage in a bar manufactured by a company in a specific country. Use the function to calculate the minimal and average cocoa percentage in bars manufactured by a Swiss company (15pt)."
      ]
    },
    {
      "cell_type": "code",
      "metadata": {
        "id": "KZJXxtwWYCyv"
      },
      "source": [
        ""
      ],
      "execution_count": null,
      "outputs": []
    },
    {
      "cell_type": "markdown",
      "metadata": {
        "id": "SvZ0X19sQj4G"
      },
      "source": [
        "## Answer:"
      ]
    },
    {
      "cell_type": "markdown",
      "metadata": {
        "id": "GlYqUA1xYCyx"
      },
      "source": [
        "**Question 3:** Calculate the second most common bean type(s) and the most rare bean type(s) (15\n",
        "pt)"
      ]
    },
    {
      "cell_type": "code",
      "metadata": {
        "id": "kk0qIAiwYCyx"
      },
      "source": [
        "def calc_bean_type_2nd_and_rarest(db_cursor, name_of_table:str):\n",
        "  query_as_str = f\"\"\"\n",
        "  SELECT Count(\"Bean\\nType\"), \"Bean\\nType\"\n",
        "  FROM {name_of_table}\n",
        "  GROUP BY \"Bean\\nType\"\n",
        "  ORDER BY Count(\"Bean\\nType\") DESC\n",
        "  \"\"\"\n",
        "  \n",
        "  query_ans = db_cursor.execute(query_as_str).fetchall()\n",
        "  second_most_common_bean_type_name, second_most_common_bean_type_instances = query_ans[1][1], query_ans[1][0]\n",
        "  rarest_bean_type_name, rarest_bean_type_instances = query_ans[-2][1], query_ans[-2][0] # as the \"rarest\" one is None value \n",
        "  return second_most_common_bean_type_name, rarest_bean_type_name"
      ],
      "execution_count": null,
      "outputs": []
    },
    {
      "cell_type": "code",
      "metadata": {
        "colab": {
          "base_uri": "https://localhost:8080/"
        },
        "id": "q5R0uerAgrod",
        "outputId": "b5414435-3bb9-4df6-ccbf-3818090b7b54"
      },
      "source": [
        "conn = sql.connect(db_name)\n",
        "db_cursor = conn.cursor()\n",
        "second_most_common_bean_type, rarest_bean_type = calc_bean_type_2nd_and_rarest(db_cursor, table_name)\n",
        "conn.close()\n",
        "print(f'2nd most common bean type: {second_most_common_bean_type}. Rarest_bean_types: {rarest_bean_type}')"
      ],
      "execution_count": null,
      "outputs": [
        {
          "output_type": "stream",
          "name": "stdout",
          "text": [
            "2nd most common bean type: Trinitario. Rarest_bean_types: Trinitario, TCGA\n"
          ]
        }
      ]
    },
    {
      "cell_type": "markdown",
      "metadata": {
        "id": "aOg-NK_lYCyz"
      },
      "source": [
        "**Question 4:** Calculate the number of reviews and the average rating in each year. Calculate the number of reviews and the average rating of each company in each year (15pt)"
      ]
    },
    {
      "cell_type": "markdown",
      "metadata": {
        "id": "eKx7_9vyYCy1"
      },
      "source": [
        "# 3. Kickstarter Projects Dataset (25pt)"
      ]
    },
    {
      "cell_type": "markdown",
      "metadata": {
        "id": "5HXua9B5YCy2"
      },
      "source": [
        "Using the [Kickstarter Projects Dataset](https://www.kaggle.com/kemical/kickstarter-projects#ks-projects-201801.csv), answer the following questions:"
      ]
    },
    {
      "cell_type": "markdown",
      "metadata": {
        "id": "gs7_DkH6kCec"
      },
      "source": [
        "## Preperations:\n"
      ]
    },
    {
      "cell_type": "code",
      "metadata": {
        "colab": {
          "base_uri": "https://localhost:8080/"
        },
        "id": "iGfQ7WrHkCpv",
        "outputId": "4d1f64c9-b2e6-4bcc-e91d-55f26a3c55b7"
      },
      "source": [
        "! pip install kaggle \n",
        "! pip install pony\n",
        "! mkdir ~/.kaggle\n",
        "! cp kaggle.json ~/.kaggle/\n",
        "! chmod 600 ~/.kaggle/kaggle.json \n",
        "# download the dataset\n",
        "! kaggle datasets download kemical/kickstarter-projects\n",
        "! unzip kickstarter-projects.zip"
      ],
      "execution_count": null,
      "outputs": [
        {
          "output_type": "stream",
          "name": "stdout",
          "text": [
            "Requirement already satisfied: kaggle in /usr/local/lib/python3.7/dist-packages (1.5.12)\n",
            "Requirement already satisfied: urllib3 in /usr/local/lib/python3.7/dist-packages (from kaggle) (1.24.3)\n",
            "Requirement already satisfied: requests in /usr/local/lib/python3.7/dist-packages (from kaggle) (2.23.0)\n",
            "Requirement already satisfied: python-dateutil in /usr/local/lib/python3.7/dist-packages (from kaggle) (2.8.2)\n",
            "Requirement already satisfied: certifi in /usr/local/lib/python3.7/dist-packages (from kaggle) (2021.5.30)\n",
            "Requirement already satisfied: python-slugify in /usr/local/lib/python3.7/dist-packages (from kaggle) (5.0.2)\n",
            "Requirement already satisfied: six>=1.10 in /usr/local/lib/python3.7/dist-packages (from kaggle) (1.15.0)\n",
            "Requirement already satisfied: tqdm in /usr/local/lib/python3.7/dist-packages (from kaggle) (4.62.3)\n",
            "Requirement already satisfied: text-unidecode>=1.3 in /usr/local/lib/python3.7/dist-packages (from python-slugify->kaggle) (1.3)\n",
            "Requirement already satisfied: chardet<4,>=3.0.2 in /usr/local/lib/python3.7/dist-packages (from requests->kaggle) (3.0.4)\n",
            "Requirement already satisfied: idna<3,>=2.5 in /usr/local/lib/python3.7/dist-packages (from requests->kaggle) (2.10)\n",
            "Requirement already satisfied: pony in /usr/local/lib/python3.7/dist-packages (0.7.14)\n",
            "mkdir: cannot create directory ‘/root/.kaggle’: File exists\n",
            "Downloading kickstarter-projects.zip to /content\n",
            " 90% 33.0M/36.8M [00:01<00:00, 17.8MB/s]\n",
            "100% 36.8M/36.8M [00:01<00:00, 24.6MB/s]\n",
            "Archive:  kickstarter-projects.zip\n",
            "  inflating: ks-projects-201612.csv  \n",
            "  inflating: ks-projects-201801.csv  \n"
          ]
        }
      ]
    },
    {
      "cell_type": "code",
      "metadata": {
        "id": "1EXlLRdxkMvl"
      },
      "source": [
        "# IMPORTS\n",
        "import os\n",
        "import numpy as np\n",
        "import pandas as pd\n",
        "import sqlite3 as sql\n",
        "import matplotlib.pyplot as plt\n",
        "import time, datetime\n",
        "from typing import List, Tuple, Dict\n",
        "from pony.orm import *"
      ],
      "execution_count": null,
      "outputs": []
    },
    {
      "cell_type": "markdown",
      "metadata": {
        "id": "1O9zqTWeQtzD"
      },
      "source": [
        "## Answer:"
      ]
    },
    {
      "cell_type": "markdown",
      "metadata": {
        "id": "NGgJ1dyeZiFH"
      },
      "source": [
        "**Task 1 (for everyone):** Load the dataset to SQLite DB using [PonyORM](https://ponyorm.org) (10pt)"
      ]
    },
    {
      "cell_type": "code",
      "metadata": {
        "colab": {
          "base_uri": "https://localhost:8080/"
        },
        "id": "R1afUUuslFVW",
        "outputId": "0196f5f0-a30a-4240-dc58-3d38516a8ed3"
      },
      "source": [
        "# class ks_project declaration\n",
        "\n",
        "db = Database()\n",
        "db.bind(provider='sqlite', filename='/content/ks_projectsDB.db', create_db=True)\n",
        "\n",
        "set_sql_debug(True) \n",
        "\n",
        "class KsProject(db.Entity):\n",
        "  project_id = PrimaryKey(int) \n",
        "  project_name = Optional(str, default='NONAME')\n",
        "  project_category = Required(str)\n",
        "  project_main_category = Required(str)\n",
        "  project_currency = Required(str)\n",
        "  project_deadline = Required(datetime.datetime)\n",
        "  project_goal = Required(float)\n",
        "  project_launched = Required(datetime.datetime)\n",
        "  project_pledged = Required(float)\n",
        "  project_state = Required(str)\n",
        "  project_backers = Required(int)\n",
        "  project_country = Required(str)\n",
        "  project_usd_pledged = Optional(float, default=0)\n",
        "  project_usd_pledged_real = Required(float)\n",
        "  project_usd_goal_real = Required(float)\n",
        "\n",
        "db.generate_mapping(create_tables=True)"
      ],
      "execution_count": null,
      "outputs": [
        {
          "output_type": "stream",
          "name": "stdout",
          "text": [
            "GET NEW CONNECTION\n",
            "RELEASE CONNECTION\n",
            "GET CONNECTION FROM THE LOCAL POOL\n",
            "PRAGMA foreign_keys = false\n",
            "BEGIN IMMEDIATE TRANSACTION\n",
            "CREATE TABLE \"KsProject\" (\n",
            "  \"project_id\" INTEGER NOT NULL PRIMARY KEY,\n",
            "  \"project_name\" TEXT NOT NULL,\n",
            "  \"project_category\" TEXT NOT NULL,\n",
            "  \"project_main_category\" TEXT NOT NULL,\n",
            "  \"project_currency\" TEXT NOT NULL,\n",
            "  \"project_deadline\" DATETIME NOT NULL,\n",
            "  \"project_goal\" REAL NOT NULL,\n",
            "  \"project_launched\" DATETIME NOT NULL,\n",
            "  \"project_pledged\" REAL NOT NULL,\n",
            "  \"project_state\" TEXT NOT NULL,\n",
            "  \"project_backers\" INTEGER NOT NULL,\n",
            "  \"project_country\" TEXT NOT NULL,\n",
            "  \"project_usd_pledged\" REAL,\n",
            "  \"project_usd_pledged_real\" REAL NOT NULL,\n",
            "  \"project_usd_goal_real\" REAL NOT NULL\n",
            ")\n",
            "\n",
            "SELECT \"KsProject\".\"project_id\", \"KsProject\".\"project_name\", \"KsProject\".\"project_category\", \"KsProject\".\"project_main_category\", \"KsProject\".\"project_currency\", \"KsProject\".\"project_deadline\", \"KsProject\".\"project_goal\", \"KsProject\".\"project_launched\", \"KsProject\".\"project_pledged\", \"KsProject\".\"project_state\", \"KsProject\".\"project_backers\", \"KsProject\".\"project_country\", \"KsProject\".\"project_usd_pledged\", \"KsProject\".\"project_usd_pledged_real\", \"KsProject\".\"project_usd_goal_real\"\n",
            "FROM \"KsProject\" \"KsProject\"\n",
            "WHERE 0 = 1\n",
            "\n",
            "COMMIT\n",
            "PRAGMA foreign_keys = true\n",
            "CLOSE CONNECTION\n"
          ]
        }
      ]
    },
    {
      "cell_type": "code",
      "metadata": {
        "id": "TLhhxMDDb2nN"
      },
      "source": [
        "ks_df = pd.read_csv('ks-projects-201801.csv')\n",
        "ks_df['deadline'] = ks_df['deadline'].astype('datetime64[ns]')\n",
        "ks_df['launched'] = ks_df['launched'].astype('datetime64[ns]')\n",
        "\n",
        "set_sql_debug(False)\n",
        "\n",
        "for idx, row in ks_df.iterrows():\n",
        "  KsProject(\n",
        "      project_id = row['ID'],\n",
        "      project_name = str(row['name']),\n",
        "      project_category = row['category'],\n",
        "      project_main_category = row['main_category'],\n",
        "      project_currency = row['currency'],\n",
        "      project_deadline = row['deadline'],\n",
        "      project_goal = row['goal'],\n",
        "      project_launched = row['launched'],\n",
        "      project_pledged = row['pledged'],\n",
        "      project_state = row['state'],\n",
        "      project_backers = row['backers'],\n",
        "      project_country = row['country'],\n",
        "      project_usd_pledged = row['usd pledged'],\n",
        "      project_usd_pledged_real = row['usd_pledged_real'],\n",
        "      project_usd_goal_real = row['usd_goal_real']\n",
        "  )\n",
        "commit()"
      ],
      "execution_count": null,
      "outputs": []
    },
    {
      "cell_type": "markdown",
      "metadata": {
        "id": "W1K5VTLoYCy3"
      },
      "source": [
        "### <span style=\"color:red\"> Please answer only **one** of the following questions according to your ID number (use the formula **<YOUR_ID> mod 3 +1**) </span>"
      ]
    },
    {
      "cell_type": "code",
      "metadata": {
        "id": "vwlOZtVHYCy3",
        "colab": {
          "base_uri": "https://localhost:8080/"
        },
        "outputId": "c01d3410-da9e-4f74-cab6-fbacc7e1fbb8"
      },
      "source": [
        "# which question to answer - put your ID number and run the code \n",
        "your_id  = \"307963538\"\n",
        "q = int(your_id) % 3 + 1\n",
        "print(\"You need to answer question number %s\" % q)"
      ],
      "execution_count": null,
      "outputs": [
        {
          "output_type": "stream",
          "name": "stdout",
          "text": [
            "You need to answer question number 3\n"
          ]
        }
      ]
    },
    {
      "cell_type": "markdown",
      "metadata": {
        "id": "gkVN8OnxYCy5"
      },
      "source": [
        "**Question 1:** On average which project category received the highest number of backers? (15 pt)"
      ]
    },
    {
      "cell_type": "code",
      "metadata": {
        "id": "vkhb156oYCy6"
      },
      "source": [
        ""
      ],
      "execution_count": null,
      "outputs": []
    },
    {
      "cell_type": "markdown",
      "metadata": {
        "id": "LTk5XnNGYCy7"
      },
      "source": [
        "**Question 2:** On average which project category received the highest pledged USD? (15 pt)"
      ]
    },
    {
      "cell_type": "code",
      "metadata": {
        "id": "DfiXdIneYCy8"
      },
      "source": [
        ""
      ],
      "execution_count": null,
      "outputs": []
    },
    {
      "cell_type": "markdown",
      "metadata": {
        "id": "wM5KvHE1YCy9"
      },
      "source": [
        "**Question 3:** In which month occurred the highest number of projects? (15 pt)"
      ]
    },
    {
      "cell_type": "code",
      "metadata": {
        "id": "5DTIStGMYCy-",
        "colab": {
          "base_uri": "https://localhost:8080/"
        },
        "outputId": "569dac97-dba6-496c-8f2c-47fa740e82d5"
      },
      "source": [
        "months_indices = [month_idx for month_idx in range(1, 13, 1)]\n",
        "projects_amount_by_month = {}\n",
        "for month_idx in months_indices:\n",
        "  query = list(group_concat(project for project in KsProject if project.project_launched.month == month_idx))\n",
        "  projects_amount_by_month[month_idx] = len(query)\n",
        "\n",
        "index_of_prevelant_month = max(projects_amount_by_month, key=projects_amount_by_month.get)\n",
        "name_of_prevelant_month = datetime.datetime(2000, index_of_prevelant_month, 1).strftime(\"%B\")\n",
        "print(f'month with highest number of new projects is: {name_of_prevelant_month} | with {projects_amount_by_month[index_of_prevelant_month]}# projects')"
      ],
      "execution_count": null,
      "outputs": [
        {
          "output_type": "stream",
          "name": "stdout",
          "text": [
            "month with highest number of new projects is: July | with 381264# projects\n"
          ]
        }
      ]
    },
    {
      "cell_type": "markdown",
      "metadata": {
        "id": "ResaA3kxYCy_"
      },
      "source": [
        "# 4. Oscars Datasets (10pt)"
      ]
    },
    {
      "cell_type": "markdown",
      "metadata": {
        "id": "hcb76Qxs96QY"
      },
      "source": [
        "## Preperations"
      ]
    },
    {
      "cell_type": "markdown",
      "metadata": {
        "id": "WYQasQOKYCzA"
      },
      "source": [
        "Using the [Oscars Dataset](https://www.kaggle.com/theacademy/academy-awards), please answer only one of the following questions (you can chose):"
      ]
    },
    {
      "cell_type": "code",
      "metadata": {
        "colab": {
          "base_uri": "https://localhost:8080/"
        },
        "id": "HRnDaWaq98VL",
        "outputId": "e69014f4-d15b-420b-97f7-be8d750d2870"
      },
      "source": [
        "! pip install kaggle \n",
        "! pip install pony\n",
        "! mkdir ~/.kaggle\n",
        "! cp kaggle.json ~/.kaggle/\n",
        "! chmod 600 ~/.kaggle/kaggle.json \n",
        "# download the dataset\n",
        "! kaggle datasets download theacademy/academy-awards\n",
        "! unzip academy-awards.zip\n",
        "! mv 'database.csv' 'academy_awards.csv'"
      ],
      "execution_count": null,
      "outputs": [
        {
          "output_type": "stream",
          "name": "stdout",
          "text": [
            "Requirement already satisfied: kaggle in /usr/local/lib/python3.7/dist-packages (1.5.12)\n",
            "Requirement already satisfied: requests in /usr/local/lib/python3.7/dist-packages (from kaggle) (2.23.0)\n",
            "Requirement already satisfied: python-dateutil in /usr/local/lib/python3.7/dist-packages (from kaggle) (2.8.2)\n",
            "Requirement already satisfied: certifi in /usr/local/lib/python3.7/dist-packages (from kaggle) (2021.5.30)\n",
            "Requirement already satisfied: six>=1.10 in /usr/local/lib/python3.7/dist-packages (from kaggle) (1.15.0)\n",
            "Requirement already satisfied: python-slugify in /usr/local/lib/python3.7/dist-packages (from kaggle) (5.0.2)\n",
            "Requirement already satisfied: tqdm in /usr/local/lib/python3.7/dist-packages (from kaggle) (4.62.3)\n",
            "Requirement already satisfied: urllib3 in /usr/local/lib/python3.7/dist-packages (from kaggle) (1.24.3)\n",
            "Requirement already satisfied: text-unidecode>=1.3 in /usr/local/lib/python3.7/dist-packages (from python-slugify->kaggle) (1.3)\n",
            "Requirement already satisfied: idna<3,>=2.5 in /usr/local/lib/python3.7/dist-packages (from requests->kaggle) (2.10)\n",
            "Requirement already satisfied: chardet<4,>=3.0.2 in /usr/local/lib/python3.7/dist-packages (from requests->kaggle) (3.0.4)\n",
            "Collecting pony\n",
            "  Downloading pony-0.7.14.tar.gz (290 kB)\n",
            "\u001b[K     |████████████████████████████████| 290 kB 5.0 MB/s \n",
            "\u001b[?25hBuilding wheels for collected packages: pony\n",
            "  Building wheel for pony (setup.py) ... \u001b[?25l\u001b[?25hdone\n",
            "  Created wheel for pony: filename=pony-0.7.14-py3-none-any.whl size=351293 sha256=5f5fa2cd98399dab489c0401fb1bc8353454975e53329162e89ad09cf965ef7d\n",
            "  Stored in directory: /root/.cache/pip/wheels/de/7a/8b/82a3b5a0135fc6bad188f62e1bf6c4843142bc22c144879014\n",
            "Successfully built pony\n",
            "Installing collected packages: pony\n",
            "Successfully installed pony-0.7.14\n",
            "Downloading academy-awards.zip to /content\n",
            "  0% 0.00/185k [00:00<?, ?B/s]\n",
            "100% 185k/185k [00:00<00:00, 68.9MB/s]\n",
            "Archive:  academy-awards.zip\n",
            "  inflating: database.csv            \n"
          ]
        }
      ]
    },
    {
      "cell_type": "code",
      "metadata": {
        "id": "lT00keTU9_5S"
      },
      "source": [
        "# IMPORTS\n",
        "import os\n",
        "import numpy as np\n",
        "import pandas as pd\n",
        "import sqlite3 as sql\n",
        "import matplotlib.pyplot as plt\n",
        "import time, datetime\n",
        "from typing import List, Tuple, Dict\n",
        "from pony.orm import *"
      ],
      "execution_count": null,
      "outputs": []
    },
    {
      "cell_type": "code",
      "metadata": {
        "colab": {
          "base_uri": "https://localhost:8080/",
          "height": 597
        },
        "id": "_hDhVLj1-Rok",
        "outputId": "d2d89454-124a-4f65-acf1-a16ab2f698c1"
      },
      "source": [
        "# examining the dataframe for problematic value\n",
        "df = pd.read_csv('academy_awards.csv')\n",
        "print(df.isna().any())\n",
        "print(df.dtypes)\n",
        "df.head(10)"
      ],
      "execution_count": null,
      "outputs": [
        {
          "output_type": "stream",
          "name": "stdout",
          "text": [
            "Year        False\n",
            "Ceremony    False\n",
            "Award       False\n",
            "Winner       True\n",
            "Name        False\n",
            "Film         True\n",
            "dtype: bool\n",
            "Year         object\n",
            "Ceremony      int64\n",
            "Award        object\n",
            "Winner      float64\n",
            "Name         object\n",
            "Film         object\n",
            "dtype: object\n"
          ]
        },
        {
          "output_type": "execute_result",
          "data": {
            "text/html": [
              "<div>\n",
              "<style scoped>\n",
              "    .dataframe tbody tr th:only-of-type {\n",
              "        vertical-align: middle;\n",
              "    }\n",
              "\n",
              "    .dataframe tbody tr th {\n",
              "        vertical-align: top;\n",
              "    }\n",
              "\n",
              "    .dataframe thead th {\n",
              "        text-align: right;\n",
              "    }\n",
              "</style>\n",
              "<table border=\"1\" class=\"dataframe\">\n",
              "  <thead>\n",
              "    <tr style=\"text-align: right;\">\n",
              "      <th></th>\n",
              "      <th>Year</th>\n",
              "      <th>Ceremony</th>\n",
              "      <th>Award</th>\n",
              "      <th>Winner</th>\n",
              "      <th>Name</th>\n",
              "      <th>Film</th>\n",
              "    </tr>\n",
              "  </thead>\n",
              "  <tbody>\n",
              "    <tr>\n",
              "      <th>0</th>\n",
              "      <td>1927/1928</td>\n",
              "      <td>1</td>\n",
              "      <td>Actor</td>\n",
              "      <td>NaN</td>\n",
              "      <td>Richard Barthelmess</td>\n",
              "      <td>The Noose</td>\n",
              "    </tr>\n",
              "    <tr>\n",
              "      <th>1</th>\n",
              "      <td>1927/1928</td>\n",
              "      <td>1</td>\n",
              "      <td>Actor</td>\n",
              "      <td>1.0</td>\n",
              "      <td>Emil Jannings</td>\n",
              "      <td>The Last Command</td>\n",
              "    </tr>\n",
              "    <tr>\n",
              "      <th>2</th>\n",
              "      <td>1927/1928</td>\n",
              "      <td>1</td>\n",
              "      <td>Actress</td>\n",
              "      <td>NaN</td>\n",
              "      <td>Louise Dresser</td>\n",
              "      <td>A Ship Comes In</td>\n",
              "    </tr>\n",
              "    <tr>\n",
              "      <th>3</th>\n",
              "      <td>1927/1928</td>\n",
              "      <td>1</td>\n",
              "      <td>Actress</td>\n",
              "      <td>1.0</td>\n",
              "      <td>Janet Gaynor</td>\n",
              "      <td>7th Heaven</td>\n",
              "    </tr>\n",
              "    <tr>\n",
              "      <th>4</th>\n",
              "      <td>1927/1928</td>\n",
              "      <td>1</td>\n",
              "      <td>Actress</td>\n",
              "      <td>NaN</td>\n",
              "      <td>Gloria Swanson</td>\n",
              "      <td>Sadie Thompson</td>\n",
              "    </tr>\n",
              "    <tr>\n",
              "      <th>5</th>\n",
              "      <td>1927/1928</td>\n",
              "      <td>1</td>\n",
              "      <td>Art Direction</td>\n",
              "      <td>NaN</td>\n",
              "      <td>Rochus Gliese</td>\n",
              "      <td>Sunrise</td>\n",
              "    </tr>\n",
              "    <tr>\n",
              "      <th>6</th>\n",
              "      <td>1927/1928</td>\n",
              "      <td>1</td>\n",
              "      <td>Art Direction</td>\n",
              "      <td>1.0</td>\n",
              "      <td>William Cameron Menzies</td>\n",
              "      <td>The Dove; Tempest</td>\n",
              "    </tr>\n",
              "    <tr>\n",
              "      <th>7</th>\n",
              "      <td>1927/1928</td>\n",
              "      <td>1</td>\n",
              "      <td>Art Direction</td>\n",
              "      <td>NaN</td>\n",
              "      <td>Harry Oliver</td>\n",
              "      <td>7th Heaven</td>\n",
              "    </tr>\n",
              "    <tr>\n",
              "      <th>8</th>\n",
              "      <td>1927/1928</td>\n",
              "      <td>1</td>\n",
              "      <td>Cinematography</td>\n",
              "      <td>NaN</td>\n",
              "      <td>George Barnes</td>\n",
              "      <td>The Devil Dancer; The Magic Flame; Sadie Thompson</td>\n",
              "    </tr>\n",
              "    <tr>\n",
              "      <th>9</th>\n",
              "      <td>1927/1928</td>\n",
              "      <td>1</td>\n",
              "      <td>Cinematography</td>\n",
              "      <td>1.0</td>\n",
              "      <td>Charles Rosher</td>\n",
              "      <td>Sunrise</td>\n",
              "    </tr>\n",
              "  </tbody>\n",
              "</table>\n",
              "</div>"
            ],
            "text/plain": [
              "        Year  ...                                               Film\n",
              "0  1927/1928  ...                                          The Noose\n",
              "1  1927/1928  ...                                   The Last Command\n",
              "2  1927/1928  ...                                    A Ship Comes In\n",
              "3  1927/1928  ...                                         7th Heaven\n",
              "4  1927/1928  ...                                     Sadie Thompson\n",
              "5  1927/1928  ...                                            Sunrise\n",
              "6  1927/1928  ...                                  The Dove; Tempest\n",
              "7  1927/1928  ...                                         7th Heaven\n",
              "8  1927/1928  ...  The Devil Dancer; The Magic Flame; Sadie Thompson\n",
              "9  1927/1928  ...                                            Sunrise\n",
              "\n",
              "[10 rows x 6 columns]"
            ]
          },
          "metadata": {},
          "execution_count": 9
        }
      ]
    },
    {
      "cell_type": "code",
      "metadata": {
        "id": "vCn4a8wYvc_2"
      },
      "source": [
        "def df_to_db(df: pd.DataFrame, db_name: str, table_name: str, batch_size: int = 0):\n",
        "  conn = sql.connect(db_name)\n",
        "  if batch_size:\n",
        "    df.to_sql(table_name, conn, if_exists='replace', chunksize=batch_size)\n",
        "  else:\n",
        "    df.to_sql(table_name, conn, if_exists='replace')\n",
        "  conn.close()"
      ],
      "execution_count": null,
      "outputs": []
    },
    {
      "cell_type": "code",
      "metadata": {
        "id": "hCsoV5c4vdo7"
      },
      "source": [
        "csv_path_to_df = 'academy_awards.csv'\n",
        "db_name = 'Oscars.db'\n",
        "table_name = 'oscars_table'\n",
        "oscars_df = pd.read_csv(csv_path_to_df)\n",
        "\n",
        "df_to_db(oscars_df, db_name, table_name)"
      ],
      "execution_count": null,
      "outputs": []
    },
    {
      "cell_type": "markdown",
      "metadata": {
        "id": "QGDmLdbKYCzA"
      },
      "source": [
        "**Question 1:** Who is the male actress with the most Oscar nominees? (10pt)"
      ]
    },
    {
      "cell_type": "code",
      "metadata": {
        "id": "qipeHl6AYCzB"
      },
      "source": [
        ""
      ],
      "execution_count": null,
      "outputs": []
    },
    {
      "cell_type": "markdown",
      "metadata": {
        "id": "BR33wDkbYCzD"
      },
      "source": [
        "**Question 2:** Who is the female director with the most Oscar nominees? (10pt)"
      ]
    },
    {
      "cell_type": "code",
      "metadata": {
        "id": "2jm9HeghYCzD"
      },
      "source": [
        ""
      ],
      "execution_count": null,
      "outputs": []
    },
    {
      "cell_type": "markdown",
      "metadata": {
        "id": "Va320K09YCzE"
      },
      "source": [
        "**Question 3:** Which top-10 movies received the highest number of Oscar nominees? (10pt)"
      ]
    },
    {
      "cell_type": "markdown",
      "metadata": {
        "id": "KK9jpUEsysAf"
      },
      "source": [
        "## Answer to Q3:"
      ]
    },
    {
      "cell_type": "code",
      "metadata": {
        "id": "k9gVwnHVYCzF",
        "colab": {
          "base_uri": "https://localhost:8080/"
        },
        "outputId": "5a2c9cf9-f0c3-4a01-d118-e77310431a0e"
      },
      "source": [
        "conn = sql.connect(db_name)\n",
        "db_cursor = conn.cursor()\n",
        "query = f\"\"\"\n",
        "        SELECT Count(Film), Film\n",
        "        FROM {table_name}\n",
        "        GROUP BY Film\n",
        "        ORDER BY Count(Film) DESC\n",
        "        \"\"\"\n",
        "# query_params = (,)\n",
        "all_movies_nominees_count = db_cursor.execute(query).fetchall()#, query_params)\n",
        "top_movies_nominees = all_movies_nominees_count[:10]\n",
        "conn.close()\n",
        "for idx, movie_nominee in enumerate(top_movies_nominees):\n",
        "  print(f\"{idx+1}{'st' if idx==0 else 'nd' if idx==1 else 'th'} place: {movie_nominee[1]} with {movie_nominee[0]}# nominees\")\n"
      ],
      "execution_count": null,
      "outputs": [
        {
          "output_type": "stream",
          "name": "stdout",
          "text": [
            "1st place: Metro-Goldwyn-Mayer with 60# nominees\n",
            "2nd place: Walt Disney, Producer with 57# nominees\n",
            "3th place: John Williams with 42# nominees\n",
            "4th place: Warner Brothers with 42# nominees\n",
            "5th place: France with 36# nominees\n",
            "6th place: Alfred Newman with 34# nominees\n",
            "7th place: Italy with 27# nominees\n",
            "8th place: Paramount with 24# nominees\n",
            "9th place: Edith Head with 22# nominees\n",
            "10th place: Gordon Hollingshead, Producer with 22# nominees\n"
          ]
        }
      ]
    },
    {
      "cell_type": "markdown",
      "metadata": {
        "id": "AF15wiyqYCzH"
      },
      "source": [
        "**Question 4:** Write a function that receives an actor's name and returns the actor’s number of Oscar nominees. Use the function to calculate the number of times Leonardo DiCaprio was a nominee (10pt)"
      ]
    },
    {
      "cell_type": "code",
      "metadata": {
        "id": "_ZdwQJCWYCzH"
      },
      "source": [
        ""
      ],
      "execution_count": null,
      "outputs": []
    },
    {
      "cell_type": "markdown",
      "metadata": {
        "id": "eW1N-PBiYCzJ"
      },
      "source": [
        "## 5. Select a Dataset (15pt)"
      ]
    },
    {
      "cell_type": "markdown",
      "metadata": {
        "id": "Me79ek_mYCzJ"
      },
      "source": [
        "**Open Question:** Select an interesting dataset and use SQL to discover something interesting (15pt). **Bonus:** Use BigQuery (2pt)"
      ]
    },
    {
      "cell_type": "markdown",
      "metadata": {
        "id": "Kl8uz0ZRzoZs"
      },
      "source": [
        "## Preperations:\n",
        "### Dataset: HR analytics of data scientists' job positions and hires."
      ]
    },
    {
      "cell_type": "code",
      "metadata": {
        "colab": {
          "base_uri": "https://localhost:8080/"
        },
        "id": "53AccC1U7bZS",
        "outputId": "0e7c1213-7e6c-48d3-d009-737311935d63"
      },
      "source": [
        "! pip install kaggle \n",
        "! pip install pony\n",
        "! mkdir ~/.kaggle\n",
        "! cp kaggle.json ~/.kaggle/\n",
        "! chmod 600 ~/.kaggle/kaggle.json \n",
        "# download the dataset\n",
        "! kaggle datasets download arashnic/hr-analytics-job-change-of-data-scientists\n",
        "! unzip hr-analytics-job-change-of-data-scientists.zip"
      ],
      "execution_count": null,
      "outputs": [
        {
          "output_type": "stream",
          "name": "stdout",
          "text": [
            "Requirement already satisfied: kaggle in /usr/local/lib/python3.7/dist-packages (1.5.12)\n",
            "Requirement already satisfied: python-dateutil in /usr/local/lib/python3.7/dist-packages (from kaggle) (2.8.2)\n",
            "Requirement already satisfied: python-slugify in /usr/local/lib/python3.7/dist-packages (from kaggle) (5.0.2)\n",
            "Requirement already satisfied: six>=1.10 in /usr/local/lib/python3.7/dist-packages (from kaggle) (1.15.0)\n",
            "Requirement already satisfied: urllib3 in /usr/local/lib/python3.7/dist-packages (from kaggle) (1.24.3)\n",
            "Requirement already satisfied: requests in /usr/local/lib/python3.7/dist-packages (from kaggle) (2.23.0)\n",
            "Requirement already satisfied: tqdm in /usr/local/lib/python3.7/dist-packages (from kaggle) (4.62.3)\n",
            "Requirement already satisfied: certifi in /usr/local/lib/python3.7/dist-packages (from kaggle) (2021.5.30)\n",
            "Requirement already satisfied: text-unidecode>=1.3 in /usr/local/lib/python3.7/dist-packages (from python-slugify->kaggle) (1.3)\n",
            "Requirement already satisfied: chardet<4,>=3.0.2 in /usr/local/lib/python3.7/dist-packages (from requests->kaggle) (3.0.4)\n",
            "Requirement already satisfied: idna<3,>=2.5 in /usr/local/lib/python3.7/dist-packages (from requests->kaggle) (2.10)\n",
            "Requirement already satisfied: pony in /usr/local/lib/python3.7/dist-packages (0.7.14)\n",
            "mkdir: cannot create directory ‘/root/.kaggle’: File exists\n",
            "hr-analytics-job-change-of-data-scientists.zip: Skipping, found more recently modified local copy (use --force to force download)\n",
            "Archive:  hr-analytics-job-change-of-data-scientists.zip\n",
            "  inflating: aug_test.csv            \n",
            "  inflating: aug_train.csv           \n",
            "  inflating: sample_submission.csv   \n"
          ]
        }
      ]
    },
    {
      "cell_type": "code",
      "metadata": {
        "id": "QjWsrxGUEqkV"
      },
      "source": [
        "! export GOOGLE_APPLICATION_CREDENTIALS=\"bigquerytryouts-ff22569e5dad.json\""
      ],
      "execution_count": null,
      "outputs": []
    },
    {
      "cell_type": "code",
      "metadata": {
        "colab": {
          "base_uri": "https://localhost:8080/",
          "height": 547
        },
        "id": "uub4VUwk7b03",
        "outputId": "e6a6aea0-7aff-4f15-ba50-02f3ea28c321"
      },
      "source": [
        "df = pd.read_csv('aug_train.csv')\n",
        "df.dropna(inplace=True)\n",
        "print(df.dtypes)\n",
        "df.head()\n",
        "# df.hist()"
      ],
      "execution_count": null,
      "outputs": [
        {
          "output_type": "stream",
          "name": "stdout",
          "text": [
            "enrollee_id                 int64\n",
            "city                       object\n",
            "city_development_index    float64\n",
            "gender                     object\n",
            "relevent_experience        object\n",
            "enrolled_university        object\n",
            "education_level            object\n",
            "major_discipline           object\n",
            "experience                 object\n",
            "company_size               object\n",
            "company_type               object\n",
            "last_new_job               object\n",
            "training_hours              int64\n",
            "target                    float64\n",
            "dtype: object\n"
          ]
        },
        {
          "output_type": "execute_result",
          "data": {
            "text/html": [
              "<div>\n",
              "<style scoped>\n",
              "    .dataframe tbody tr th:only-of-type {\n",
              "        vertical-align: middle;\n",
              "    }\n",
              "\n",
              "    .dataframe tbody tr th {\n",
              "        vertical-align: top;\n",
              "    }\n",
              "\n",
              "    .dataframe thead th {\n",
              "        text-align: right;\n",
              "    }\n",
              "</style>\n",
              "<table border=\"1\" class=\"dataframe\">\n",
              "  <thead>\n",
              "    <tr style=\"text-align: right;\">\n",
              "      <th></th>\n",
              "      <th>enrollee_id</th>\n",
              "      <th>city</th>\n",
              "      <th>city_development_index</th>\n",
              "      <th>gender</th>\n",
              "      <th>relevent_experience</th>\n",
              "      <th>enrolled_university</th>\n",
              "      <th>education_level</th>\n",
              "      <th>major_discipline</th>\n",
              "      <th>experience</th>\n",
              "      <th>company_size</th>\n",
              "      <th>company_type</th>\n",
              "      <th>last_new_job</th>\n",
              "      <th>training_hours</th>\n",
              "      <th>target</th>\n",
              "    </tr>\n",
              "  </thead>\n",
              "  <tbody>\n",
              "    <tr>\n",
              "      <th>1</th>\n",
              "      <td>29725</td>\n",
              "      <td>city_40</td>\n",
              "      <td>0.776</td>\n",
              "      <td>Male</td>\n",
              "      <td>No relevent experience</td>\n",
              "      <td>no_enrollment</td>\n",
              "      <td>Graduate</td>\n",
              "      <td>STEM</td>\n",
              "      <td>15</td>\n",
              "      <td>50-99</td>\n",
              "      <td>Pvt Ltd</td>\n",
              "      <td>&gt;4</td>\n",
              "      <td>47</td>\n",
              "      <td>0.0</td>\n",
              "    </tr>\n",
              "    <tr>\n",
              "      <th>4</th>\n",
              "      <td>666</td>\n",
              "      <td>city_162</td>\n",
              "      <td>0.767</td>\n",
              "      <td>Male</td>\n",
              "      <td>Has relevent experience</td>\n",
              "      <td>no_enrollment</td>\n",
              "      <td>Masters</td>\n",
              "      <td>STEM</td>\n",
              "      <td>&gt;20</td>\n",
              "      <td>50-99</td>\n",
              "      <td>Funded Startup</td>\n",
              "      <td>4</td>\n",
              "      <td>8</td>\n",
              "      <td>0.0</td>\n",
              "    </tr>\n",
              "    <tr>\n",
              "      <th>7</th>\n",
              "      <td>402</td>\n",
              "      <td>city_46</td>\n",
              "      <td>0.762</td>\n",
              "      <td>Male</td>\n",
              "      <td>Has relevent experience</td>\n",
              "      <td>no_enrollment</td>\n",
              "      <td>Graduate</td>\n",
              "      <td>STEM</td>\n",
              "      <td>13</td>\n",
              "      <td>&lt;10</td>\n",
              "      <td>Pvt Ltd</td>\n",
              "      <td>&gt;4</td>\n",
              "      <td>18</td>\n",
              "      <td>1.0</td>\n",
              "    </tr>\n",
              "    <tr>\n",
              "      <th>8</th>\n",
              "      <td>27107</td>\n",
              "      <td>city_103</td>\n",
              "      <td>0.920</td>\n",
              "      <td>Male</td>\n",
              "      <td>Has relevent experience</td>\n",
              "      <td>no_enrollment</td>\n",
              "      <td>Graduate</td>\n",
              "      <td>STEM</td>\n",
              "      <td>7</td>\n",
              "      <td>50-99</td>\n",
              "      <td>Pvt Ltd</td>\n",
              "      <td>1</td>\n",
              "      <td>46</td>\n",
              "      <td>1.0</td>\n",
              "    </tr>\n",
              "    <tr>\n",
              "      <th>11</th>\n",
              "      <td>23853</td>\n",
              "      <td>city_103</td>\n",
              "      <td>0.920</td>\n",
              "      <td>Male</td>\n",
              "      <td>Has relevent experience</td>\n",
              "      <td>no_enrollment</td>\n",
              "      <td>Graduate</td>\n",
              "      <td>STEM</td>\n",
              "      <td>5</td>\n",
              "      <td>5000-9999</td>\n",
              "      <td>Pvt Ltd</td>\n",
              "      <td>1</td>\n",
              "      <td>108</td>\n",
              "      <td>0.0</td>\n",
              "    </tr>\n",
              "  </tbody>\n",
              "</table>\n",
              "</div>"
            ],
            "text/plain": [
              "    enrollee_id      city  ...  training_hours target\n",
              "1         29725   city_40  ...              47    0.0\n",
              "4           666  city_162  ...               8    0.0\n",
              "7           402   city_46  ...              18    1.0\n",
              "8         27107  city_103  ...              46    1.0\n",
              "11        23853  city_103  ...             108    0.0\n",
              "\n",
              "[5 rows x 14 columns]"
            ]
          },
          "metadata": {},
          "execution_count": 55
        }
      ]
    },
    {
      "cell_type": "code",
      "metadata": {
        "id": "Gfh5wWad_-mZ"
      },
      "source": [
        "def df_to_db(df: pd.DataFrame, db_name: str, table_name: str, batch_size: int = 0):\n",
        "  conn = sql.connect(db_name)\n",
        "  if batch_size:\n",
        "    df.to_sql(table_name, conn, if_exists='replace', chunksize=batch_size)\n",
        "  else:\n",
        "    df.to_sql(table_name, conn, if_exists='replace')\n",
        "  conn.close()"
      ],
      "execution_count": null,
      "outputs": []
    },
    {
      "cell_type": "code",
      "metadata": {
        "id": "Xam3eR2b7b7_"
      },
      "source": [
        "csv_path_to_df = 'aug_train.csv'\n",
        "db_name = 'HrAnalyticsDB.db'\n",
        "table_name = 'hr_analytics_table'\n",
        "hr_analytics_df = pd.read_csv(csv_path_to_df)\n",
        "hr_analytics_df.dropna(inplace=True)\n",
        "\n",
        "df_to_db(hr_analytics_df, db_name, table_name)"
      ],
      "execution_count": null,
      "outputs": []
    },
    {
      "cell_type": "markdown",
      "metadata": {
        "id": "755f9NWZNhvZ"
      },
      "source": [
        "## Answer:\n",
        "\n",
        "I decided to examine the fraction of job applicants with no prior experience which got chosen for the job. To see whether the level of education and gender of the applicants is a contributing factor, I grouped the results by both properties and plotted the results.\n",
        "\n",
        "Interestingly B.Sc. graduates are more likely to get a job with no experience compared to Masters and Ph.D graduates. \n",
        "Further more, male doctorates are far more likely to get accepted than women applicants with similar education. "
      ]
    },
    {
      "cell_type": "code",
      "metadata": {
        "id": "xXIIUhgccGWw"
      },
      "source": [
        "conn = sql.connect(db_name)\n",
        "db_cursor = conn.cursor()\n",
        "\n",
        "query = f\"\"\"\n",
        "SELECT  education_level, gender, Sum(target), Count(target)\n",
        "FROM {table_name}\n",
        "WHERE relevent_experience=? \n",
        "GROUP BY education_level, gender\n",
        "\"\"\"\n",
        "query_params = ('No relevent experience',)\n",
        "\n",
        "query_results = db_cursor.execute(query, query_params).fetchall()\n",
        "\n",
        "male_acceptance = {f'{item[0]}': item[2]/item[3] for item in query_results if item[1]=='Male'}\n",
        "female_acceptance = {f'{item[0]}': item[2]/item[3] for item in query_results if item[1]=='Female'}\n",
        "other_acceptance = {f'{item[0]}': item[2]/item[3] for item in query_results if item[1]=='Other'}\n",
        "\n",
        "conn.close()"
      ],
      "execution_count": null,
      "outputs": []
    },
    {
      "cell_type": "code",
      "metadata": {
        "colab": {
          "base_uri": "https://localhost:8080/",
          "height": 369
        },
        "id": "8-ler6GUJU87",
        "outputId": "72ebca49-a17b-41c7-e88e-856cea2b591f"
      },
      "source": [
        "other_acceptance['Phd'] = 0\n",
        "\n",
        "fig, ax = plt.subplots(figsize=(10, 5))\n",
        "\n",
        "x_axis = np.array([0,1,2])\n",
        "x_axis_labels = list(female_acceptance.keys())\n",
        "\n",
        "width = 0.3\n",
        "ax.bar(x_axis, list(male_acceptance.values()), 0.3, color=(1,0,0,1), label='Male')\n",
        "ax.bar(x_axis+width, list(female_acceptance.values()), 0.3, color=(0,1,0,1), label='Female')\n",
        "ax.bar(x_axis+width*2, list(other_acceptance.values()), 0.3, color=(0,0,1,1), label='Other')\n",
        "\n",
        "ax.set_ylabel('Fraction of candidates accepted')\n",
        "ax.set_xlabel('Education Level')\n",
        "ax.set_title('Fraction of educated applicants\\nwith no experience who got the job') \n",
        "ax.set_xticks(x_axis + width / 2)\n",
        "ax.set_xticklabels(x_axis_labels)\n",
        "\n",
        "plt.legend()\n",
        "\n",
        "plt.tight_layout()\n",
        "plt.show()\n"
      ],
      "execution_count": null,
      "outputs": [
        {
          "output_type": "display_data",
          "data": {
            "image/png": "[encoded data removed]",
            "text/plain": [
              "<Figure size 720x360 with 1 Axes>"
            ]
          },
          "metadata": {
            "needs_background": "light"
          }
        }
      ]
    },
    {
      "cell_type": "code",
      "metadata": {
        "colab": {
          "base_uri": "https://localhost:8080/"
        },
        "id": "ivH8WnQpIyyw",
        "outputId": "0d9a38b0-638f-4e53-e168-437eccb59315"
      },
      "source": [
        "other_acceptance"
      ],
      "execution_count": null,
      "outputs": [
        {
          "output_type": "execute_result",
          "data": {
            "text/plain": [
              "{'Graduate': 0.2857142857142857, 'Masters': 0.0, 'Phd': 0}"
            ]
          },
          "metadata": {},
          "execution_count": 96
        }
      ]
    }
  ]
}