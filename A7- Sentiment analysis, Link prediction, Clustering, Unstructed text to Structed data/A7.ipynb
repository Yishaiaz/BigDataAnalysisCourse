{
  "nbformat": 4,
  "nbformat_minor": 0,
  "metadata": {
    "colab": {
      "name": "Solution of HW_7.ipynb",
      "provenance": [],
      "collapsed_sections": [
        "bTThDbQEDQjY",
        "lgPS3E7VDSGU"
      ],
      "machine_shape": "hm"
    },
    "kernelspec": {
      "display_name": "Python 3",
      "language": "python",
      "name": "python3"
    },
    "language_info": {
      "codemirror_mode": {
        "name": "ipython",
        "version": 3
      },
      "file_extension": ".py",
      "mimetype": "text/x-python",
      "name": "python",
      "nbconvert_exporter": "python",
      "pygments_lexer": "ipython3",
      "version": "3.6.7"
    }
  },
  "cells": [
    {
      "cell_type": "markdown",
      "metadata": {
        "id": "vpM6SFPqDMEe"
      },
      "source": [
        "# Homework Assignment 7"
      ]
    },
    {
      "cell_type": "markdown",
      "metadata": {
        "id": "NeW9pN-3yvFA"
      },
      "source": [
        "## Q1:"
      ]
    },
    {
      "cell_type": "markdown",
      "metadata": {
        "id": "Fdve57NuDMEf"
      },
      "source": [
        "**Question 1:** Select two books and construct networks of people and locations, i.e. each link is between a a person and a location (20pt). Visualize the network using Cytoscape or Gephi (20pt).\n"
      ]
    },
    {
      "cell_type": "markdown",
      "metadata": {
        "id": "9Df2tYbRUaGU"
      },
      "source": [
        "### download books"
      ]
    },
    {
      "cell_type": "code",
      "metadata": {
        "colab": {
          "base_uri": "https://localhost:8080/"
        },
        "id": "6bBpODbVUeVz",
        "outputId": "98280206-604a-4671-9f00-ae7c0e05c37c"
      },
      "source": [
        "! mkdir -p  ./datasets/books\n",
        "! wget -O ./datasets/books/mlk_book.pdf https://freekidsbooks.org/wp-content/uploads/2019/12/free-at-last-US_civil_rights-PD-FKB.pdf\n",
        "! wget -O ./datasets/books/tied_up.txt https://www.gutenberg.org/ebooks/66832.txt.utf-8"
      ],
      "execution_count": null,
      "outputs": [
        {
          "name": "stdout",
          "output_type": "stream",
          "text": [
            "--2021-11-29 07:12:43--  https://freekidsbooks.org/wp-content/uploads/2019/12/free-at-last-US_civil_rights-PD-FKB.pdf\n",
            "Resolving freekidsbooks.org (freekidsbooks.org)... 63.250.45.193\n",
            "Connecting to freekidsbooks.org (freekidsbooks.org)|63.250.45.193|:443... connected.\n",
            "HTTP request sent, awaiting response... 200 OK\n",
            "Length: 6889897 (6.6M) [application/pdf]\n",
            "Saving to: ‘./datasets/books/mlk_book.pdf’\n",
            "\n",
            "./datasets/books/ml 100%[===================>]   6.57M  4.02MB/s    in 1.6s    \n",
            "\n",
            "2021-11-29 07:12:45 (4.02 MB/s) - ‘./datasets/books/mlk_book.pdf’ saved [6889897/6889897]\n",
            "\n",
            "--2021-11-29 07:12:45--  https://www.gutenberg.org/ebooks/66832.txt.utf-8\n",
            "Resolving www.gutenberg.org (www.gutenberg.org)... 152.19.134.47, 2610:28:3090:3000:0:bad:cafe:47\n",
            "Connecting to www.gutenberg.org (www.gutenberg.org)|152.19.134.47|:443... connected.\n",
            "HTTP request sent, awaiting response... 302 Found\n",
            "Location: https://www.gutenberg.org/cache/epub/66832/pg66832.txt [following]\n",
            "--2021-11-29 07:12:46--  https://www.gutenberg.org/cache/epub/66832/pg66832.txt\n",
            "Reusing existing connection to www.gutenberg.org:443.\n",
            "HTTP request sent, awaiting response... 200 OK\n",
            "Length: 58347 (57K) [text/plain]\n",
            "Saving to: ‘./datasets/books/tied_up.txt’\n",
            "\n",
            "./datasets/books/ti 100%[===================>]  56.98K   155KB/s    in 0.4s    \n",
            "\n",
            "2021-11-29 07:12:47 (155 KB/s) - ‘./datasets/books/tied_up.txt’ saved [58347/58347]\n",
            "\n"
          ]
        }
      ]
    },
    {
      "cell_type": "markdown",
      "metadata": {
        "id": "Mc6TImWorm00"
      },
      "source": [
        "### Installs and imports:"
      ]
    },
    {
      "cell_type": "code",
      "metadata": {
        "colab": {
          "base_uri": "https://localhost:8080/",
          "height": 311
        },
        "id": "2ox-D92jVlUS",
        "outputId": "a540e68d-56d2-4b11-a4e3-758e962a1481"
      },
      "source": [
        "!pip install PyPDF2\n",
        "!pip install turicreate\n",
        "!pip install gensim\n",
        "!pip install pyLDAvis\n",
        "!pip install spaCy\n",
        "!pip install afinn\n",
        "!pip install nltk\n",
        "!pip install plotly_express\n",
        "!pip install networkx==2.5"
      ],
      "execution_count": null,
      "outputs": [
        {
          "name": "stdout",
          "output_type": "stream",
          "text": [
            "Collecting networkx==2.5\n",
            "  Downloading networkx-2.5-py3-none-any.whl (1.6 MB)\n",
            "\u001b[K     |████████████████████████████████| 1.6 MB 3.9 MB/s \n",
            "\u001b[?25hRequirement already satisfied: decorator>=4.3.0 in /usr/local/lib/python3.7/dist-packages (from networkx==2.5) (4.4.2)\n",
            "Installing collected packages: networkx\n",
            "  Attempting uninstall: networkx\n",
            "    Found existing installation: networkx 2.6.3\n",
            "    Uninstalling networkx-2.6.3:\n",
            "      Successfully uninstalled networkx-2.6.3\n",
            "\u001b[31mERROR: pip's dependency resolver does not currently take into account all the packages that are installed. This behaviour is the source of the following dependency conflicts.\n",
            "albumentations 0.1.12 requires imgaug<0.2.7,>=0.2.5, but you have imgaug 0.2.9 which is incompatible.\u001b[0m\n",
            "Successfully installed networkx-2.5\n"
          ]
        },
        {
          "data": {
            "application/vnd.colab-display-data+json": {
              "pip_warning": {
                "packages": [
                  "networkx"
                ]
              }
            }
          },
          "metadata": {},
          "output_type": "display_data"
        }
      ]
    },
    {
      "cell_type": "markdown",
      "metadata": {
        "id": "-imKbun9sd4l"
      },
      "source": [
        "#### Downloads"
      ]
    },
    {
      "cell_type": "code",
      "metadata": {
        "colab": {
          "base_uri": "https://localhost:8080/"
        },
        "id": "m5ZbBCA3r-5D",
        "outputId": "863a12f9-6f91-48ed-9b5d-916e2349d56f"
      },
      "source": [
        "import nltk\n",
        "\n",
        "nltk.download('stopwords')\n",
        "nltk.download('punkt')\n",
        "!python -m spacy download en_core_web_lg \n",
        "# restarting runtime\n",
        "import os\n",
        "os.kill(os.getpid(), 9)"
      ],
      "execution_count": null,
      "outputs": [
        {
          "name": "stdout",
          "output_type": "stream",
          "text": [
            "[nltk_data] Downloading package stopwords to /root/nltk_data...\n",
            "[nltk_data]   Package stopwords is already up-to-date!\n",
            "[nltk_data] Downloading package punkt to /root/nltk_data...\n",
            "[nltk_data]   Package punkt is already up-to-date!\n",
            "Fatal Python error: initsite: Failed to import the site module\n",
            "Traceback (most recent call last):\n",
            "  File \"/usr/lib/python3.7/site.py\", line 596, in <module>\n",
            "    main()\n",
            "  File \"/usr/lib/python3.7/site.py\", line 583, in main\n",
            "    known_paths = addsitepackages(known_paths)\n",
            "  File \"/usr/lib/python3.7/site.py\", line 366, in addsitepackages\n",
            "    addsitedir(sitedir, known_paths)\n",
            "  File \"/usr/lib/python3.7/site.py\", line 213, in addsitedir\n",
            "    addpackage(sitedir, name, known_paths)\n",
            "  File \"/usr/lib/python3.7/site.py\", line 174, in addpackage\n",
            "    exec(line)\n",
            "  File \"<string>\", line 1, in <module>\n",
            "KeyboardInterrupt\n",
            "Traceback (most recent call last):\n",
            "  File \"/usr/lib/python3.7/runpy.py\", line 193, in _run_module_as_main\n",
            "    \"__main__\", mod_spec)\n",
            "  File \"/usr/lib/python3.7/runpy.py\", line 85, in _run_code\n",
            "    exec(code, run_globals)\n",
            "  File \"/usr/local/lib/python3.7/dist-packages/spacy/__main__.py\", line 33, in <module>\n",
            "    plac.call(commands[command], sys.argv[1:])\n",
            "  File \"/usr/local/lib/python3.7/dist-packages/plac_core.py\", line 367, in call\n",
            "    cmd, result = parser.consume(arglist)\n",
            "  File \"/usr/local/lib/python3.7/dist-packages/plac_core.py\", line 232, in consume\n",
            "    return cmd, self.func(*(args + varargs + extraopts), **kwargs)\n",
            "  File \"/usr/local/lib/python3.7/dist-packages/spacy/cli/download.py\", line 48, in download\n",
            "    dl = download_model(dl_tpl.format(m=model_name, v=version), pip_args)\n",
            "  File \"/usr/local/lib/python3.7/dist-packages/spacy/cli/download.py\", line 135, in download_model\n",
            "    return subprocess.call(cmd, env=os.environ.copy())\n",
            "  File \"/usr/lib/python3.7/subprocess.py\", line 341, in call\n",
            "    return p.wait(timeout=timeout)\n",
            "  File \"/usr/lib/python3.7/subprocess.py\", line 1019, in wait\n",
            "    return self._wait(timeout=timeout)\n",
            "  File \"/usr/lib/python3.7/subprocess.py\", line 1653, in _wait\n",
            "    (pid, sts) = self._try_wait(0)\n",
            "  File \"/usr/lib/python3.7/subprocess.py\", line 1611, in _try_wait\n",
            "    (pid, sts) = os.waitpid(self.pid, wait_flags)\n",
            "KeyboardInterrupt\n"
          ]
        }
      ]
    },
    {
      "cell_type": "markdown",
      "metadata": {
        "id": "iiEX8hVisgUm"
      },
      "source": [
        "##### IMPORTS"
      ]
    },
    {
      "cell_type": "code",
      "metadata": {
        "id": "m0K8kyrWrfpA"
      },
      "source": [
        "import PyPDF2\n",
        "from typing import *\n",
        "import numpy as np\n",
        "import pandas as pd\n",
        "from functools import lru_cache\n",
        "import turicreate as turi \n",
        "import nltk\n",
        "from nltk.tokenize import word_tokenize\n",
        "from nltk.corpus import stopwords\n",
        "from nltk.stem.porter import *\n",
        "import spacy\n",
        "from tqdm import tqdm\n",
        "import networkx as ntkx\n",
        "import matplotlib.pyplot as plt"
      ],
      "execution_count": null,
      "outputs": []
    },
    {
      "cell_type": "markdown",
      "metadata": {
        "id": "y8_Q9OUHVZ9Z"
      },
      "source": [
        "### read books and keep clean story text"
      ]
    },
    {
      "cell_type": "markdown",
      "metadata": {
        "id": "vHIeoNI1tnOp"
      },
      "source": [
        "#### read books raw text"
      ]
    },
    {
      "cell_type": "code",
      "metadata": {
        "id": "tV7_iJC1VX8Y"
      },
      "source": [
        "def read_book_pdf(book_path: str) -> str:\n",
        "  book_text = ''\n",
        "  with open(book_path, 'rb') as file:\n",
        "    pdf_reader = PyPDF2.PdfFileReader(file)\n",
        "    n_pages = pdf_reader.getNumPages()\n",
        "    # iterating through pages and reading all raw text\n",
        "    for i in range(n_pages):\n",
        "      page_text = pdf_reader.getPage(i).extractText()\n",
        "      if page_text!='' and page_text is not None:\n",
        "        book_text+=f'{page_text}\\n'\n",
        "  return book_text\n",
        "\n",
        "def read_books(book_paths: List[str]) -> List[str]:\n",
        "  book_texts = []\n",
        "  for book_path in book_paths:\n",
        "    if book_path.endswith('.pdf'):\n",
        "      book_texts.append(read_book_pdf(book_path))\n",
        "    elif book_path.endswith('.txt'):\n",
        "      book_text = ''\n",
        "      with open(book_path) as f:\n",
        "        book_text = f.read()\n",
        "      book_texts.append(book_text)\n",
        "    else:\n",
        "      raise NotImplemented(f'dont know how to read {book_path.split(\".\")[-1]}')\n",
        "  return book_texts\n",
        "\n",
        "\n",
        "mlk_book_path = '/content/datasets/books/mlk_book.pdf'\n",
        "tied_up_book_path = '/content/datasets/books/tied_up.txt'\n",
        "books_texts = read_books([mlk_book_path, tied_up_book_path])"
      ],
      "execution_count": null,
      "outputs": []
    },
    {
      "cell_type": "markdown",
      "metadata": {
        "id": "7C8KMd_GsMlM"
      },
      "source": [
        "#### clean books test"
      ]
    },
    {
      "cell_type": "code",
      "metadata": {
        "id": "4F3gH_B0sLkX"
      },
      "source": [
        "stop_words_set = set(stopwords.words(\"english\"))\n",
        "stemmer = PorterStemmer()\n",
        "\n",
        "skip_word_func = lambda w: len(w)<2 or w.isdigit() or not w.isalpha() or stemmer.stem(w) in stop_words_set\n",
        "def clean_text(text: str, stemming: bool = False) -> str:\n",
        "  text = ' '.join([stemmer.stem(w) if stemming else w for w in word_tokenize(text) if not skip_word_func(w)])\n",
        "  return text\n",
        "\n",
        "clean_books_texts = [clean_text(x) for x in books_texts]\n",
        "  "
      ],
      "execution_count": null,
      "outputs": []
    },
    {
      "cell_type": "markdown",
      "metadata": {
        "id": "1gxomhVbakYk"
      },
      "source": [
        "### extract NERS of people and locations and draw their graphs:"
      ]
    },
    {
      "cell_type": "code",
      "metadata": {
        "id": "hu-zOeC7xXRO"
      },
      "source": [
        "nlp = spacy.load('en_core_web_lg')"
      ],
      "execution_count": null,
      "outputs": []
    },
    {
      "cell_type": "code",
      "metadata": {
        "id": "CImG8aBrXt9q"
      },
      "source": [
        "# I define that a person is linked to a location\n",
        "#  only if the location appears (the token itself) up to N (def=10)  \n",
        "#  tokens after a person and vice versa, if not, the location is discarded. \n",
        "all_entities_to_type_dict = {}\n",
        "def extract_entities_and_locations_tuples(text: str, max_distance_between_person_and_location: int = 10) -> List[Tuple[str, str]]:\n",
        "  global all_entities_to_type_dict\n",
        "  people_to_loc_tuples = []\n",
        "  doc = nlp(text)\n",
        "  entities = doc.ents\n",
        "  # keep only entities of people or locations\n",
        "  entities_to_label_dict = {entity.text.lower():entity.label_ for entity in entities if entity.label_ in ['PERSON', 'LOC']}\n",
        "\n",
        "  tokens = text.split()\n",
        "\n",
        "  token_idx = 0\n",
        "  while token_idx < len(tokens):\n",
        "    token = tokens[token_idx]\n",
        "    # if the token is an entity of type person\n",
        "    if token.lower() in entities_to_label_dict:\n",
        "      token_label = entities_to_label_dict[token.lower()]\n",
        "      type_to_find = 'PERSON' if token_label == 'LOC' else 'LOC'\n",
        "      temp_token_idx = token_idx + 1\n",
        "      while temp_token_idx < len(tokens) and temp_token_idx-token_idx < max_distance_between_person_and_location:\n",
        "        temp_token = tokens[temp_token_idx]\n",
        "        if temp_token.lower() in entities_to_label_dict:\n",
        "          temp_token_label = entities_to_label_dict[temp_token.lower()]\n",
        "          # if we found a pair, add it to list of tuples (in the direction of the order \n",
        "          # the tokens were found) and progress the main index\n",
        "          if temp_token_label == type_to_find:\n",
        "            people_to_loc_tuples.append((token.lower(), temp_token.lower()))\n",
        "            token_idx = temp_token_idx\n",
        "            break\n",
        "        temp_token_idx += 1\n",
        "      token_idx = temp_token_idx\n",
        "    else:\n",
        "      token_idx += 1\n",
        "\n",
        "  all_entities_to_type_dict.update(entities_to_label_dict)\n",
        "  return people_to_loc_tuples\n",
        "\n",
        "people_to_locs_lists_by_book_name = {book_name: extract_entities_and_locations_tuples(book) for book_name, book in zip(['MLK', 'TiedUp'], clean_books_texts)}"
      ],
      "execution_count": null,
      "outputs": []
    },
    {
      "cell_type": "code",
      "metadata": {
        "id": "Ghc2xisi0Azx"
      },
      "source": [
        "! mkdir ./graphs"
      ],
      "execution_count": null,
      "outputs": []
    },
    {
      "cell_type": "code",
      "metadata": {
        "colab": {
          "base_uri": "https://localhost:8080/",
          "height": 1000
        },
        "id": "n5T-SMZHDMEg",
        "outputId": "61e04c83-2925-4b96-bc4e-29f0c98444f5"
      },
      "source": [
        "def create_graph_from_edges_tuples(lst_of_edges: List[Tuple[str, str]], directed: bool = True, node_to_type_maps_dict: Dict[str, str] = None) -> Union[ntkx.DiGraph, ntkx.Graph]:\n",
        "  \"\"\"\n",
        "  creates a un/directed graph (boolean argument directed, default=True) \n",
        "    from a list of tuples which represents the graph's edges.\n",
        "  if a map of node type (PERSON/LOC) is provided, the type is added as an attribute.\n",
        "  \"\"\"\n",
        "  print(node_to_type_maps_dict)\n",
        "  g = ntkx.Graph() if not directed else ntkx.DiGraph()\n",
        "  \n",
        "  all_nodes = np.unique(np.stack(np.array(lst_of_edges)).flatten())\n",
        "  g.add_edges_from(lst_of_edges)\n",
        "  \n",
        "  if node_to_type_maps_dict is not None:\n",
        "    for node in all_nodes:\n",
        "      g.nodes[node]['entity_type'] = node_to_type_maps_dict.get(node, 'UNK')\n",
        "\n",
        "  return g\n",
        "   \n",
        "\n",
        "\n",
        "def create_graph_of_people_and_location_by_book(tuples_lst_by_book: Dict[str, List[Tuple[str, str]]], directed: bool = True, node_to_type_maps_dict: Dict[str, str] = None) -> None:\n",
        "  \"\"\"\n",
        "  this function plots the graph using networkx.drawing.nx_pylab.draw_kamada_kawai method.\n",
        "  this does not provide the answer for the question but is simply for debugging purposes.\n",
        "  \"\"\"\n",
        "  graphs_by_book = {book_name: create_graph_from_edges_tuples(book_edges, directed, node_to_type_maps_dict) for book_name, book_edges in tuples_lst_by_book.items()}\n",
        "  for book_name, book_graph in graphs_by_book.items():\n",
        "    fig = plt.figure(figsize=(10,10))\n",
        "    fig.suptitle(book_name)\n",
        "    if node_to_type_maps_dict is None:\n",
        "      ntkx.drawing.nx_pylab.draw_kamada_kawai(book_graph, with_labels=True)\n",
        "    else:\n",
        "      c_map = []\n",
        "      for _node in book_graph.nodes:\n",
        "        type_of_node = book_graph.nodes[_node]['entity_type']\n",
        "        if type_of_node == 'LOC':\n",
        "          c_map.append('blue')\n",
        "        elif type_of_node == 'PERSON':\n",
        "          c_map.append('red')\n",
        "        else:\n",
        "          c_map.append('green')\n",
        "      ntkx.drawing.nx_pylab.draw_kamada_kawai(book_graph, with_labels=True, node_color=c_map)\n",
        "      ntkx.write_gml(book_graph, f\"./graphs/{book_name}.gml\")\n",
        "      \n",
        "\n",
        "# locations are blue and people are red. green should not appear as it is an indicator for a bug.\n",
        "create_graph_of_people_and_location_by_book(people_to_locs_lists_by_book_name, directed=False, node_to_type_maps_dict=all_entities_to_type_dict)\n",
        "\n"
      ],
      "execution_count": null,
      "outputs": [
        {
          "name": "stdout",
          "output_type": "stream",
          "text": [
            "{'booker': 'PERSON', 'marcus garvey': 'PERSON', 'jim crow': 'PERSON', 'spotlight jackie robinson': 'PERSON', 'rosa parks': 'PERSON', 'lyndon baines': 'PERSON', 'ñmong': 'PERSON', 'atlantic': 'LOC', 'christopher columbusõs': 'PERSON', 'caribbean': 'LOC', 'western europeõs': 'LOC', 'atlantic ocean': 'LOC', 'africa': 'LOC', 'americas': 'LOC', 'europe': 'LOC', 'latin america': 'LOC', 'north america': 'LOC', 'orlando patterson': 'PERSON', 'eli whitney': 'PERSON', 'lower south': 'LOC', 'eugene genovese': 'PERSON', 'martin luther king': 'PERSON', 'di erent': 'PERSON', 'brethrenó': 'LOC', 'moses': 'PERSON', 'vann woodward': 'PERSON', 'þve': 'LOC', 'òmiddle passageó': 'LOC', 'þcant þgures': 'PERSON', 'barbara jordan john lewis': 'PERSON', 'jesse jackson': 'PERSON', 'mahalia jackson': 'PERSON', 'ßuence': 'PERSON', 'nelson mandela': 'PERSON', 'desmond tutu': 'PERSON', 'michael battle': 'PERSON', 'south': 'LOC', 'òking': 'PERSON', 'united statesõ declaration independence': 'PERSON', 'creator': 'PERSON', 'omas je erson': 'PERSON', 'virginian je erson': 'PERSON', 'þghts': 'PERSON', 'david stewart': 'PERSON', 'james wilson': 'PERSON', 'david walker': 'PERSON', 'je erson': 'PERSON', 'southern states': 'LOC', 'john adams': 'PERSON', 'dred': 'PERSON', 'scott sanford': 'PERSON', 'þed': 'PERSON', 'frederick douglass': 'PERSON', 'american south òpeculiar': 'LOC', 'martin luther': 'PERSON', 'abraham lincoln òa': 'PERSON', 'douglass': 'PERSON', 'ective': 'LOC', 'william lloyd garrison': 'PERSON', 'òor': 'PERSON', 'òsomething': 'PERSON', 'william lloyd garrison garrison': 'PERSON', 'òmoral douglass': 'PERSON', 'north': 'LOC', 'john brown': 'PERSON', 'victoria cla': 'PERSON', 'abraham lincoln': 'PERSON', 'þght douglass': 'PERSON', 'lincoln òin': 'PERSON', 'douglass douglass': 'PERSON', 'harriet tubman': 'PERSON', 'south free': 'LOC', 'òstation': 'PERSON', 'tubman': 'PERSON', 'jordan': 'PERSON', 'james forten': 'PERSON', 'òcould': 'PERSON', 'virginia nat turner': 'PERSON', 'turner': 'PERSON', 'white virginians': 'PERSON', 'þnd': 'PERSON', 'nat turner': 'PERSON', 'ye': 'PERSON', 'brown': 'PERSON', 'lawrence kansas brown': 'PERSON', 'new england': 'LOC', 'robert lee': 'PERSON', 'julia ward': 'PERSON', 'john brownõs': 'PERSON', 'john brownõs pike': 'PERSON', 'james mcpherson': 'PERSON', 'òi': 'PERSON', 'jacob dodson': 'PERSON', 'war simon cameron': 'PERSON', 'cameron': 'PERSON', 'þght': 'PERSON', 'david hunter': 'PERSON', 'hunter': 'PERSON', 'aboli': 'PERSON', 'òno': 'PERSON', 'antonia etheart': 'PERSON', 'andrew johnson': 'PERSON', 'johnson': 'PERSON', 'lincolnõs': 'PERSON', 'rati': 'PERSON', 'òright': 'PERSON', 'benjamin sterling turner': 'PERSON', 'selma': 'PERSON', 'congress turner': 'PERSON', 'ulysses grant': 'PERSON', 'mcpherson': 'PERSON', 'rutherford hayes': 'PERSON', 'hayes': 'PERSON', 'homer plessy': 'PERSON', 'plessy': 'PERSON', 'plessy ferguson': 'PERSON', 'john marshall harlan': 'PERSON', 'harlanõs': 'PERSON', 'quest economic independence': 'LOC', 'william edward burghardt du bois': 'PERSON', 'booker washington': 'PERSON', 'john rockefeller': 'PERSON', 'andrew carnegie sears roebuck': 'PERSON', 'julius rosenwald': 'PERSON', 'òcriminal': 'PERSON', 'shelby steele': 'PERSON', 'washington du bois': 'PERSON', 'north south': 'LOC', 'òis': 'PERSON', 'òtalented tenthó': 'PERSON', 'woodrow wilson': 'PERSON', 'jim crow du': 'PERSON', 'langston hughes countee cullen': 'PERSON', 'marcus ga rve': 'PERSON', 'booker washingtonõs': 'PERSON', 'garvey': 'PERSON', 'ann jamaica': 'PERSON', 'alfred burrowes garveyõs': 'PERSON', 'burrowes': 'PERSON', 'marcus': 'PERSON', 'kingston garvey': 'PERSON', 'þned': 'PERSON', 'duse mohammed ali': 'PERSON', 'arriving garvey': 'PERSON', 'martin luther king jr': 'PERSON', 'kevin mumford': 'PERSON', 'charles hamilton': 'PERSON', 'marshall': 'PERSON', 'united statesõ': 'PERSON', 'houston marshall': 'PERSON', 'american south': 'LOC', 'jim crow charles hamilton': 'PERSON', 'òa': 'PERSON', 'howard òa': 'PERSON', 'courtõs plessy': 'PERSON', 'houstonõs': 'PERSON', 'nathan ross margold': 'PERSON', 'james nabrit spottswood robinson iii leon higginbotham robert carter': 'PERSON', 'william hastie': 'PERSON', 'george hayes jack greenberg oliver hill': 'PERSON', 'south armed': 'LOC', 'quali þed': 'PERSON', 'naacp': 'PERSON', 'charlie marshall': 'PERSON', 'thurgood marshall': 'PERSON', 'donald gaines murray': 'PERSON', 'lyndon johnson': 'PERSON', 'lewis powell': 'PERSON', 'murray pearson': 'PERSON', 'sheri': 'PERSON', 'marshall naacp': 'PERSON', 'juan williams marshall': 'PERSON', 'morgan virginia marshall': 'PERSON', 'boynton virginia marshall': 'PERSON', 'shelley kraemer marshall': 'PERSON', 'rosa parks irene morgan': 'PERSON', 'morgan': 'PERSON', 'oliver brown': 'PERSON', 'linda brown linda': 'PERSON', 'brownõs': 'PERSON', 'þnding': 'PERSON', 'kenneth mamie clark': 'PERSON', 'þndings black': 'PERSON', 'dwight eisenhower': 'PERSON', 'revs martin luther': 'PERSON', 'fred shuttlesworth': 'PERSON', 'ralph abernathy': 'PERSON', 'clark': 'PERSON', 'deryl wynn': 'PERSON', 'brown õs': 'PERSON', 'ii marshall': 'PERSON', 'dwight eisenhowerõs': 'PERSON', 'little rock': 'PERSON', 'ralph bunche': 'PERSON', 'barber': 'PERSON', 'bunche': 'PERSON', 'gunnar myrdal': 'PERSON', 'ralph johnson bunche': 'PERSON', 'statesma ndr': 'PERSON', 'middle east': 'LOC', 'folke bernadotte bunche': 'PERSON', 'bernadotte': 'PERSON', 'stern gang': 'PERSON', 'dag hammarskjold': 'PERSON', 'cyprus hammarskjold': 'PERSON', 'brian urquhart': 'PERSON', 'jackie robinson': 'PERSON', 'ralph branca': 'PERSON', 'ben chapman': 'PERSON', 'robinson': 'PERSON', 'branca': 'PERSON', 'robinsonõs': 'PERSON', 'jackie': 'PERSON', 'joe black': 'PERSON', 'duke snyder': 'PERSON', 'pee wee reese': 'PERSON', 'chuck dressen': 'PERSON', 'floyd patterson': 'PERSON', 'ralph abernathy martin luther': 'PERSON', 'harry truman': 'PERSON', 'rachel robinson': 'PERSON', 'rickey': 'PERSON', 'þeld': 'PERSON', 'brian heyman': 'PERSON', 'white plains': 'PERSON', 'þgure montgomery': 'PERSON', 'parks': 'PERSON', 'þlled': 'PERSON', 'montgomery': 'PERSON', 'king': 'PERSON', 'þgure king': 'PERSON', 'òrisen': 'PERSON', 'òhindering': 'PERSON', 'terri þed': 'PERSON', 'rosa parksõs': 'PERSON', 'þnal': 'PERSON', 'forti þed': 'PERSON', 'ralph abernathy jemison': 'PERSON', 'joseph lowery': 'PERSON', 'steele': 'PERSON', 'ella baker bayard rustin': 'PERSON', 'naacp sclc': 'PERSON', 'stokley carmichael': 'PERSON', 'joseph alfred mcneil': 'PERSON', 'david leinail': 'PERSON', 'òand': 'PERSON', 'blair': 'PERSON', 'mahatma gandhiõs': 'PERSON', 'james lawson': 'PERSON', 'lawson': 'PERSON', 'diane nash james bevel john lewis': 'PERSON', 'jesus christ mohandas gandhi martin luther king': 'PERSON', 'god': 'PERSON', 'david halberstam': 'PERSON', 'philip randolph': 'PERSON', 'franklin roosevelt': 'PERSON', 'diane nash': 'PERSON', 'james farmer': 'PERSON', 'farmer': 'PERSON', 'raymond arsenault': 'PERSON', 'rev perry smith': 'PERSON', 'robert stone': 'PERSON', 'walter bergman': 'PERSON', 'howard smith': 'PERSON', 'birminghamõs': 'PERSON', 'eugene òbulló connor': 'PERSON', 'robert kennedy': 'PERSON', 'john patterson': 'PERSON', 'patterson': 'PERSON', 'george huddleston': 'PERSON', 'òwithin instantó': 'PERSON', 'john seigenthaler': 'PERSON', 'kennedy kennedy': 'PERSON', 'jackson farmer': 'PERSON', 'þnes': 'PERSON', 'kennedy': 'PERSON', 'tommy langston': 'PERSON', 'þlm': 'PERSON', 'billy graham': 'PERSON', 'bernard bamberger': 'PERSON', 'janie miller': 'PERSON', 'jim crow south': 'PERSON', 'william anderson': 'PERSON', 'anderson': 'PERSON', 'laurie pritchett': 'PERSON', 'pritchett': 'PERSON', 'jim crow pritchett': 'PERSON', 'abernathy': 'PERSON', 'þne': 'PERSON', 'þnally': 'PERSON', 'laurie pritchettõs': 'PERSON', 'þght albany': 'PERSON', 'þght nonviolence nonviolence': 'PERSON', 'bull connor king': 'PERSON', 'connor': 'PERSON', 'marshall frady': 'PERSON', 'connor òa': 'PERSON', 'þnd albany': 'PERSON', 'king abernathy': 'PERSON', 'saint augustineõs': 'PERSON', 'ñindeed': 'PERSON', 'james bevel': 'PERSON', 'wyatt tee walker': 'PERSON', 'james foreman': 'PERSON', 'weõve': 'PERSON', 'foreman': 'PERSON', 'òvery': 'PERSON', 'may bull connor': 'PERSON', 'oval ce': 'PERSON', 'bull connor': 'PERSON', 'ralph abernathy fred shuttlesworth': 'PERSON', 'weõre': 'PERSON', 'james meredith': 'PERSON', 'george wallace': 'PERSON', 'vivian malone': 'PERSON', 'medgar evers': 'PERSON', 'mississippi naacp': 'PERSON', 'addie mae': 'PERSON', 'collins carole robertson cynthia wesley denise mcnair': 'PERSON', 'john kennedy': 'PERSON', 'òwith': 'PERSON', 'randolph': 'PERSON', 'roosevelt': 'PERSON', 'washington roosevelt': 'PERSON', 'harry trumanõs': 'PERSON', 'bayard rustin': 'PERSON', 'randolph king': 'PERSON', 'roy wilkins': 'PERSON', 'john lewis': 'PERSON', 'þxed': 'PERSON', 'marian anderson': 'PERSON', 'abraham lincolnõs': 'PERSON', 'john lewis whitney': 'PERSON', 'martin': 'PERSON', 'þnest': 'PERSON', 'mccauley parks': 'PERSON', 'jr': 'PERSON', 'rosa louise mccauley': 'PERSON', 'rosa': 'PERSON', 'johnnie carr': 'PERSON', 'carr': 'PERSON', 'raymond parks': 'PERSON', 'john conyers': 'PERSON', 'bill clinton': 'PERSON', 'kenneth hare': 'PERSON', 'montgomery alabama advertiser hare': 'PERSON', 'james chaney andrew goodman': 'PERSON', 'michael schwerner': 'PERSON', 'mississippi': 'LOC', 'chaney': 'PERSON', 'sheri cecil ray price': 'PERSON', 'andrew goodman james': 'PERSON', 'klan': 'LOC', 'price': 'PERSON', 'mississippi cials': 'PERSON', 'chaney goodman': 'PERSON', 'edgar ray killen klan': 'PERSON', 'dray': 'PERSON', 'seth cagin': 'PERSON', 'goodman schwerner': 'PERSON', 'goodman chaney schwerner': 'PERSON', 'edgar ray killen': 'PERSON', 'naacp mississippi': 'PERSON', 'myrlie': 'PERSON', 'evers': 'PERSON', 'howard': 'PERSON', 'councilõs ective': 'PERSON', 'emmett': 'PERSON', 'mack charles parker poplarville evers': 'PERSON', 'cials': 'PERSON', 'intensi þed': 'PERSON', 'eversõs': 'PERSON', 'undeterred evers': 'PERSON', 'ese': 'PERSON', 'medgarõs': 'PERSON', 'charles': 'PERSON', 'jackson': 'PERSON', 'medgar eversõs': 'PERSON', 'byron de la beckwith': 'PERSON', 'beckwith': 'PERSON', 'horri þed': 'PERSON', 'rev hosea williams': 'PERSON', 'selma alabama': 'PERSON', 'rightsó': 'PERSON', 'franklin rooseveltõs': 'PERSON', 'strom urmond': 'PERSON', 'coretta scott king': 'PERSON', 'richard nixon': 'PERSON', 'di er': 'PERSON', 'john robert kennedy': 'PERSON', 'kennedys': 'PERSON', 'lyndon johnson lyndon': 'PERSON', 'baines johnson': 'PERSON', 'robert dallek': 'PERSON', 'hubert humphrey': 'PERSON', 'doris kearns goodwin': 'PERSON', 'richard russell': 'PERSON', 'dick': 'PERSON', 'deep south': 'LOC', 'rosa parks martin luther kings': 'PERSON', 'woolworthõs': 'PERSON', 'daniel paul': 'PERSON', 'johnsonõs': 'PERSON', 'ßoor': 'PERSON', 'johnson xed': 'PERSON', 'di erences': 'PERSON', 'andrew young': 'PERSON', 'òpoll': 'PERSON', 'eir': 'PERSON', 'james chaney': 'PERSON', 'andrew goodman': 'PERSON', 'jimmie lee jackson': 'PERSON', 'hosea williams': 'PERSON', 'john cloud': 'PERSON', 'williams': 'PERSON', 'òmay': 'PERSON', 'þred': 'PERSON', 'lewis': 'PERSON', 'james oõhara': 'PERSON', 'frank johnson': 'PERSON', 'òthat': 'PERSON', 'di erence': 'PERSON', 'wallaceõs': 'PERSON', 'mahatma gandhi': 'PERSON', 'harry belafonte': 'PERSON', 'je erson davis þrst': 'PERSON', 'wallace': 'PERSON', 'pollard': 'PERSON', 'òlike': 'PERSON', 'ònot': 'PERSON', 'di': 'PERSON', 'earth': 'LOC', 'ronald reagan': 'PERSON', 'crown jewel': 'PERSON', 'george bush': 'PERSON', 'de þned': 'PERSON', 'harry byrd': 'PERSON', 'orval faubus': 'PERSON', 'alabamaõs': 'PERSON', 'jason sokol mellon': 'PERSON', 'sokol': 'PERSON', 'je erson rogers': 'PERSON', 'marshall king': 'PERSON', 'greenwood mississippi': 'PERSON', 'carmichael': 'PERSON', 'marshall martin luther king': 'PERSON', 'huey newton bobby seale': 'PERSON', 'panthers': 'PERSON', 'kingõs': 'LOC', 'land king': 'PERSON', 'denise mcnair': 'PERSON', 'condoleezza rice': 'PERSON', 'marshall martin luther': 'PERSON', 'linda brownõs': 'PERSON', 'barack obama': 'PERSON', 'america obama': 'PERSON', 'george clack mildred neely': 'PERSON', 'michael jay friedman': 'PERSON', 'yao': 'PERSON', 'maggie johnson sliker': 'PERSON', 'hulton': 'PERSON', 'david janice frent scurlock': 'PERSON', 'sy kattelson': 'PERSON', 'paul life': 'PERSON', 'horace': 'PERSON', 'bill': 'PERSON', 'harry': 'PERSON', 'carlos images gene': 'PERSON', 'lacy': 'PERSON', 'landall kyle ap': 'PERSON', 'dozier': 'PERSON', 'tuttle': 'PERSON', 'loco love': 'PERSON', 'piperock': 'LOC', 'magpie simpkins': 'PERSON', 'buck': 'PERSON', 'ike': 'PERSON', 'magpie': 'PERSON', 'paradise': 'LOC', 'abe anderson': 'PERSON', 'abe': 'PERSON', 'yuh': 'PERSON', 'tombstone todd wilier crick': 'PERSON', 'cactus collins': 'PERSON', 'abe anderson abe': 'PERSON', 'cactus magpie': 'PERSON', 'tombstone': 'PERSON', 'injun': 'PERSON', 'magpie chaws': 'PERSON', 'magpie yuh': 'PERSON', 'magpie piperock': 'PERSON', 'yuh hankers': 'PERSON', 'uncle tom': 'PERSON', 'magpie ice': 'PERSON', 'chin bullet': 'PERSON', 'sabe': 'PERSON', 'sabe shepherd': 'PERSON', 'chaws': 'PERSON', 'slim hawkins': 'PERSON', 'slim': 'PERSON', 'yuh dirty': 'PERSON', 'dirty shirt': 'PERSON', 'shirt': 'PERSON', 'sabe slim': 'PERSON', 'buck smith': 'PERSON', 'silver bend': 'PERSON', 'shakespeare': 'PERSON', 'ricky henderson': 'PERSON', 'tombstone todd': 'PERSON', 'young feller': 'PERSON', 'razor': 'PERSON', 'ricky million razor': 'PERSON', 'ricky': 'PERSON', 'sam': 'PERSON', 'man feller': 'PERSON', 'my sam': 'PERSON', 'slim sam': 'PERSON', 'tom cabin': 'PERSON', 'legree': 'PERSON', 'swaller': 'PERSON', 'mike pelly': 'PERSON', 'slim hawkins sabe': 'PERSON', 'mighty': 'PERSON', 'magpie feller slim': 'PERSON', 'pick yuh': 'PERSON', 'bernard collie': 'PERSON', 'lucy hannibal': 'PERSON', 'magpie long': 'PERSON', 'yuh scalp': 'PERSON', 'rustle': 'PERSON', 'obituary sabe': 'PERSON', 'sabe yuh': 'PERSON', 'pete gonyer pete': 'PERSON', 'pete': 'PERSON', 'todd cactus collins': 'PERSON', 'jaspers ike': 'PERSON', 'ike tombstone todd': 'PERSON', 'magpie aim': 'PERSON', 'ike harper': 'PERSON', 'willer crick': 'PERSON', 'hank padden': 'PERSON', 'todd ike': 'PERSON', 'epitaf': 'PERSON', 'gutenberg': 'PERSON', 'michael hart': 'PERSON'}\n",
            "{'booker': 'PERSON', 'marcus garvey': 'PERSON', 'jim crow': 'PERSON', 'spotlight jackie robinson': 'PERSON', 'rosa parks': 'PERSON', 'lyndon baines': 'PERSON', 'ñmong': 'PERSON', 'atlantic': 'LOC', 'christopher columbusõs': 'PERSON', 'caribbean': 'LOC', 'western europeõs': 'LOC', 'atlantic ocean': 'LOC', 'africa': 'LOC', 'americas': 'LOC', 'europe': 'LOC', 'latin america': 'LOC', 'north america': 'LOC', 'orlando patterson': 'PERSON', 'eli whitney': 'PERSON', 'lower south': 'LOC', 'eugene genovese': 'PERSON', 'martin luther king': 'PERSON', 'di erent': 'PERSON', 'brethrenó': 'LOC', 'moses': 'PERSON', 'vann woodward': 'PERSON', 'þve': 'LOC', 'òmiddle passageó': 'LOC', 'þcant þgures': 'PERSON', 'barbara jordan john lewis': 'PERSON', 'jesse jackson': 'PERSON', 'mahalia jackson': 'PERSON', 'ßuence': 'PERSON', 'nelson mandela': 'PERSON', 'desmond tutu': 'PERSON', 'michael battle': 'PERSON', 'south': 'LOC', 'òking': 'PERSON', 'united statesõ declaration independence': 'PERSON', 'creator': 'PERSON', 'omas je erson': 'PERSON', 'virginian je erson': 'PERSON', 'þghts': 'PERSON', 'david stewart': 'PERSON', 'james wilson': 'PERSON', 'david walker': 'PERSON', 'je erson': 'PERSON', 'southern states': 'LOC', 'john adams': 'PERSON', 'dred': 'PERSON', 'scott sanford': 'PERSON', 'þed': 'PERSON', 'frederick douglass': 'PERSON', 'american south òpeculiar': 'LOC', 'martin luther': 'PERSON', 'abraham lincoln òa': 'PERSON', 'douglass': 'PERSON', 'ective': 'LOC', 'william lloyd garrison': 'PERSON', 'òor': 'PERSON', 'òsomething': 'PERSON', 'william lloyd garrison garrison': 'PERSON', 'òmoral douglass': 'PERSON', 'north': 'LOC', 'john brown': 'PERSON', 'victoria cla': 'PERSON', 'abraham lincoln': 'PERSON', 'þght douglass': 'PERSON', 'lincoln òin': 'PERSON', 'douglass douglass': 'PERSON', 'harriet tubman': 'PERSON', 'south free': 'LOC', 'òstation': 'PERSON', 'tubman': 'PERSON', 'jordan': 'PERSON', 'james forten': 'PERSON', 'òcould': 'PERSON', 'virginia nat turner': 'PERSON', 'turner': 'PERSON', 'white virginians': 'PERSON', 'þnd': 'PERSON', 'nat turner': 'PERSON', 'ye': 'PERSON', 'brown': 'PERSON', 'lawrence kansas brown': 'PERSON', 'new england': 'LOC', 'robert lee': 'PERSON', 'julia ward': 'PERSON', 'john brownõs': 'PERSON', 'john brownõs pike': 'PERSON', 'james mcpherson': 'PERSON', 'òi': 'PERSON', 'jacob dodson': 'PERSON', 'war simon cameron': 'PERSON', 'cameron': 'PERSON', 'þght': 'PERSON', 'david hunter': 'PERSON', 'hunter': 'PERSON', 'aboli': 'PERSON', 'òno': 'PERSON', 'antonia etheart': 'PERSON', 'andrew johnson': 'PERSON', 'johnson': 'PERSON', 'lincolnõs': 'PERSON', 'rati': 'PERSON', 'òright': 'PERSON', 'benjamin sterling turner': 'PERSON', 'selma': 'PERSON', 'congress turner': 'PERSON', 'ulysses grant': 'PERSON', 'mcpherson': 'PERSON', 'rutherford hayes': 'PERSON', 'hayes': 'PERSON', 'homer plessy': 'PERSON', 'plessy': 'PERSON', 'plessy ferguson': 'PERSON', 'john marshall harlan': 'PERSON', 'harlanõs': 'PERSON', 'quest economic independence': 'LOC', 'william edward burghardt du bois': 'PERSON', 'booker washington': 'PERSON', 'john rockefeller': 'PERSON', 'andrew carnegie sears roebuck': 'PERSON', 'julius rosenwald': 'PERSON', 'òcriminal': 'PERSON', 'shelby steele': 'PERSON', 'washington du bois': 'PERSON', 'north south': 'LOC', 'òis': 'PERSON', 'òtalented tenthó': 'PERSON', 'woodrow wilson': 'PERSON', 'jim crow du': 'PERSON', 'langston hughes countee cullen': 'PERSON', 'marcus ga rve': 'PERSON', 'booker washingtonõs': 'PERSON', 'garvey': 'PERSON', 'ann jamaica': 'PERSON', 'alfred burrowes garveyõs': 'PERSON', 'burrowes': 'PERSON', 'marcus': 'PERSON', 'kingston garvey': 'PERSON', 'þned': 'PERSON', 'duse mohammed ali': 'PERSON', 'arriving garvey': 'PERSON', 'martin luther king jr': 'PERSON', 'kevin mumford': 'PERSON', 'charles hamilton': 'PERSON', 'marshall': 'PERSON', 'united statesõ': 'PERSON', 'houston marshall': 'PERSON', 'american south': 'LOC', 'jim crow charles hamilton': 'PERSON', 'òa': 'PERSON', 'howard òa': 'PERSON', 'courtõs plessy': 'PERSON', 'houstonõs': 'PERSON', 'nathan ross margold': 'PERSON', 'james nabrit spottswood robinson iii leon higginbotham robert carter': 'PERSON', 'william hastie': 'PERSON', 'george hayes jack greenberg oliver hill': 'PERSON', 'south armed': 'LOC', 'quali þed': 'PERSON', 'naacp': 'PERSON', 'charlie marshall': 'PERSON', 'thurgood marshall': 'PERSON', 'donald gaines murray': 'PERSON', 'lyndon johnson': 'PERSON', 'lewis powell': 'PERSON', 'murray pearson': 'PERSON', 'sheri': 'PERSON', 'marshall naacp': 'PERSON', 'juan williams marshall': 'PERSON', 'morgan virginia marshall': 'PERSON', 'boynton virginia marshall': 'PERSON', 'shelley kraemer marshall': 'PERSON', 'rosa parks irene morgan': 'PERSON', 'morgan': 'PERSON', 'oliver brown': 'PERSON', 'linda brown linda': 'PERSON', 'brownõs': 'PERSON', 'þnding': 'PERSON', 'kenneth mamie clark': 'PERSON', 'þndings black': 'PERSON', 'dwight eisenhower': 'PERSON', 'revs martin luther': 'PERSON', 'fred shuttlesworth': 'PERSON', 'ralph abernathy': 'PERSON', 'clark': 'PERSON', 'deryl wynn': 'PERSON', 'brown õs': 'PERSON', 'ii marshall': 'PERSON', 'dwight eisenhowerõs': 'PERSON', 'little rock': 'PERSON', 'ralph bunche': 'PERSON', 'barber': 'PERSON', 'bunche': 'PERSON', 'gunnar myrdal': 'PERSON', 'ralph johnson bunche': 'PERSON', 'statesma ndr': 'PERSON', 'middle east': 'LOC', 'folke bernadotte bunche': 'PERSON', 'bernadotte': 'PERSON', 'stern gang': 'PERSON', 'dag hammarskjold': 'PERSON', 'cyprus hammarskjold': 'PERSON', 'brian urquhart': 'PERSON', 'jackie robinson': 'PERSON', 'ralph branca': 'PERSON', 'ben chapman': 'PERSON', 'robinson': 'PERSON', 'branca': 'PERSON', 'robinsonõs': 'PERSON', 'jackie': 'PERSON', 'joe black': 'PERSON', 'duke snyder': 'PERSON', 'pee wee reese': 'PERSON', 'chuck dressen': 'PERSON', 'floyd patterson': 'PERSON', 'ralph abernathy martin luther': 'PERSON', 'harry truman': 'PERSON', 'rachel robinson': 'PERSON', 'rickey': 'PERSON', 'þeld': 'PERSON', 'brian heyman': 'PERSON', 'white plains': 'PERSON', 'þgure montgomery': 'PERSON', 'parks': 'PERSON', 'þlled': 'PERSON', 'montgomery': 'PERSON', 'king': 'PERSON', 'þgure king': 'PERSON', 'òrisen': 'PERSON', 'òhindering': 'PERSON', 'terri þed': 'PERSON', 'rosa parksõs': 'PERSON', 'þnal': 'PERSON', 'forti þed': 'PERSON', 'ralph abernathy jemison': 'PERSON', 'joseph lowery': 'PERSON', 'steele': 'PERSON', 'ella baker bayard rustin': 'PERSON', 'naacp sclc': 'PERSON', 'stokley carmichael': 'PERSON', 'joseph alfred mcneil': 'PERSON', 'david leinail': 'PERSON', 'òand': 'PERSON', 'blair': 'PERSON', 'mahatma gandhiõs': 'PERSON', 'james lawson': 'PERSON', 'lawson': 'PERSON', 'diane nash james bevel john lewis': 'PERSON', 'jesus christ mohandas gandhi martin luther king': 'PERSON', 'god': 'PERSON', 'david halberstam': 'PERSON', 'philip randolph': 'PERSON', 'franklin roosevelt': 'PERSON', 'diane nash': 'PERSON', 'james farmer': 'PERSON', 'farmer': 'PERSON', 'raymond arsenault': 'PERSON', 'rev perry smith': 'PERSON', 'robert stone': 'PERSON', 'walter bergman': 'PERSON', 'howard smith': 'PERSON', 'birminghamõs': 'PERSON', 'eugene òbulló connor': 'PERSON', 'robert kennedy': 'PERSON', 'john patterson': 'PERSON', 'patterson': 'PERSON', 'george huddleston': 'PERSON', 'òwithin instantó': 'PERSON', 'john seigenthaler': 'PERSON', 'kennedy kennedy': 'PERSON', 'jackson farmer': 'PERSON', 'þnes': 'PERSON', 'kennedy': 'PERSON', 'tommy langston': 'PERSON', 'þlm': 'PERSON', 'billy graham': 'PERSON', 'bernard bamberger': 'PERSON', 'janie miller': 'PERSON', 'jim crow south': 'PERSON', 'william anderson': 'PERSON', 'anderson': 'PERSON', 'laurie pritchett': 'PERSON', 'pritchett': 'PERSON', 'jim crow pritchett': 'PERSON', 'abernathy': 'PERSON', 'þne': 'PERSON', 'þnally': 'PERSON', 'laurie pritchettõs': 'PERSON', 'þght albany': 'PERSON', 'þght nonviolence nonviolence': 'PERSON', 'bull connor king': 'PERSON', 'connor': 'PERSON', 'marshall frady': 'PERSON', 'connor òa': 'PERSON', 'þnd albany': 'PERSON', 'king abernathy': 'PERSON', 'saint augustineõs': 'PERSON', 'ñindeed': 'PERSON', 'james bevel': 'PERSON', 'wyatt tee walker': 'PERSON', 'james foreman': 'PERSON', 'weõve': 'PERSON', 'foreman': 'PERSON', 'òvery': 'PERSON', 'may bull connor': 'PERSON', 'oval ce': 'PERSON', 'bull connor': 'PERSON', 'ralph abernathy fred shuttlesworth': 'PERSON', 'weõre': 'PERSON', 'james meredith': 'PERSON', 'george wallace': 'PERSON', 'vivian malone': 'PERSON', 'medgar evers': 'PERSON', 'mississippi naacp': 'PERSON', 'addie mae': 'PERSON', 'collins carole robertson cynthia wesley denise mcnair': 'PERSON', 'john kennedy': 'PERSON', 'òwith': 'PERSON', 'randolph': 'PERSON', 'roosevelt': 'PERSON', 'washington roosevelt': 'PERSON', 'harry trumanõs': 'PERSON', 'bayard rustin': 'PERSON', 'randolph king': 'PERSON', 'roy wilkins': 'PERSON', 'john lewis': 'PERSON', 'þxed': 'PERSON', 'marian anderson': 'PERSON', 'abraham lincolnõs': 'PERSON', 'john lewis whitney': 'PERSON', 'martin': 'PERSON', 'þnest': 'PERSON', 'mccauley parks': 'PERSON', 'jr': 'PERSON', 'rosa louise mccauley': 'PERSON', 'rosa': 'PERSON', 'johnnie carr': 'PERSON', 'carr': 'PERSON', 'raymond parks': 'PERSON', 'john conyers': 'PERSON', 'bill clinton': 'PERSON', 'kenneth hare': 'PERSON', 'montgomery alabama advertiser hare': 'PERSON', 'james chaney andrew goodman': 'PERSON', 'michael schwerner': 'PERSON', 'mississippi': 'LOC', 'chaney': 'PERSON', 'sheri cecil ray price': 'PERSON', 'andrew goodman james': 'PERSON', 'klan': 'LOC', 'price': 'PERSON', 'mississippi cials': 'PERSON', 'chaney goodman': 'PERSON', 'edgar ray killen klan': 'PERSON', 'dray': 'PERSON', 'seth cagin': 'PERSON', 'goodman schwerner': 'PERSON', 'goodman chaney schwerner': 'PERSON', 'edgar ray killen': 'PERSON', 'naacp mississippi': 'PERSON', 'myrlie': 'PERSON', 'evers': 'PERSON', 'howard': 'PERSON', 'councilõs ective': 'PERSON', 'emmett': 'PERSON', 'mack charles parker poplarville evers': 'PERSON', 'cials': 'PERSON', 'intensi þed': 'PERSON', 'eversõs': 'PERSON', 'undeterred evers': 'PERSON', 'ese': 'PERSON', 'medgarõs': 'PERSON', 'charles': 'PERSON', 'jackson': 'PERSON', 'medgar eversõs': 'PERSON', 'byron de la beckwith': 'PERSON', 'beckwith': 'PERSON', 'horri þed': 'PERSON', 'rev hosea williams': 'PERSON', 'selma alabama': 'PERSON', 'rightsó': 'PERSON', 'franklin rooseveltõs': 'PERSON', 'strom urmond': 'PERSON', 'coretta scott king': 'PERSON', 'richard nixon': 'PERSON', 'di er': 'PERSON', 'john robert kennedy': 'PERSON', 'kennedys': 'PERSON', 'lyndon johnson lyndon': 'PERSON', 'baines johnson': 'PERSON', 'robert dallek': 'PERSON', 'hubert humphrey': 'PERSON', 'doris kearns goodwin': 'PERSON', 'richard russell': 'PERSON', 'dick': 'PERSON', 'deep south': 'LOC', 'rosa parks martin luther kings': 'PERSON', 'woolworthõs': 'PERSON', 'daniel paul': 'PERSON', 'johnsonõs': 'PERSON', 'ßoor': 'PERSON', 'johnson xed': 'PERSON', 'di erences': 'PERSON', 'andrew young': 'PERSON', 'òpoll': 'PERSON', 'eir': 'PERSON', 'james chaney': 'PERSON', 'andrew goodman': 'PERSON', 'jimmie lee jackson': 'PERSON', 'hosea williams': 'PERSON', 'john cloud': 'PERSON', 'williams': 'PERSON', 'òmay': 'PERSON', 'þred': 'PERSON', 'lewis': 'PERSON', 'james oõhara': 'PERSON', 'frank johnson': 'PERSON', 'òthat': 'PERSON', 'di erence': 'PERSON', 'wallaceõs': 'PERSON', 'mahatma gandhi': 'PERSON', 'harry belafonte': 'PERSON', 'je erson davis þrst': 'PERSON', 'wallace': 'PERSON', 'pollard': 'PERSON', 'òlike': 'PERSON', 'ònot': 'PERSON', 'di': 'PERSON', 'earth': 'LOC', 'ronald reagan': 'PERSON', 'crown jewel': 'PERSON', 'george bush': 'PERSON', 'de þned': 'PERSON', 'harry byrd': 'PERSON', 'orval faubus': 'PERSON', 'alabamaõs': 'PERSON', 'jason sokol mellon': 'PERSON', 'sokol': 'PERSON', 'je erson rogers': 'PERSON', 'marshall king': 'PERSON', 'greenwood mississippi': 'PERSON', 'carmichael': 'PERSON', 'marshall martin luther king': 'PERSON', 'huey newton bobby seale': 'PERSON', 'panthers': 'PERSON', 'kingõs': 'LOC', 'land king': 'PERSON', 'denise mcnair': 'PERSON', 'condoleezza rice': 'PERSON', 'marshall martin luther': 'PERSON', 'linda brownõs': 'PERSON', 'barack obama': 'PERSON', 'america obama': 'PERSON', 'george clack mildred neely': 'PERSON', 'michael jay friedman': 'PERSON', 'yao': 'PERSON', 'maggie johnson sliker': 'PERSON', 'hulton': 'PERSON', 'david janice frent scurlock': 'PERSON', 'sy kattelson': 'PERSON', 'paul life': 'PERSON', 'horace': 'PERSON', 'bill': 'PERSON', 'harry': 'PERSON', 'carlos images gene': 'PERSON', 'lacy': 'PERSON', 'landall kyle ap': 'PERSON', 'dozier': 'PERSON', 'tuttle': 'PERSON', 'loco love': 'PERSON', 'piperock': 'LOC', 'magpie simpkins': 'PERSON', 'buck': 'PERSON', 'ike': 'PERSON', 'magpie': 'PERSON', 'paradise': 'LOC', 'abe anderson': 'PERSON', 'abe': 'PERSON', 'yuh': 'PERSON', 'tombstone todd wilier crick': 'PERSON', 'cactus collins': 'PERSON', 'abe anderson abe': 'PERSON', 'cactus magpie': 'PERSON', 'tombstone': 'PERSON', 'injun': 'PERSON', 'magpie chaws': 'PERSON', 'magpie yuh': 'PERSON', 'magpie piperock': 'PERSON', 'yuh hankers': 'PERSON', 'uncle tom': 'PERSON', 'magpie ice': 'PERSON', 'chin bullet': 'PERSON', 'sabe': 'PERSON', 'sabe shepherd': 'PERSON', 'chaws': 'PERSON', 'slim hawkins': 'PERSON', 'slim': 'PERSON', 'yuh dirty': 'PERSON', 'dirty shirt': 'PERSON', 'shirt': 'PERSON', 'sabe slim': 'PERSON', 'buck smith': 'PERSON', 'silver bend': 'PERSON', 'shakespeare': 'PERSON', 'ricky henderson': 'PERSON', 'tombstone todd': 'PERSON', 'young feller': 'PERSON', 'razor': 'PERSON', 'ricky million razor': 'PERSON', 'ricky': 'PERSON', 'sam': 'PERSON', 'man feller': 'PERSON', 'my sam': 'PERSON', 'slim sam': 'PERSON', 'tom cabin': 'PERSON', 'legree': 'PERSON', 'swaller': 'PERSON', 'mike pelly': 'PERSON', 'slim hawkins sabe': 'PERSON', 'mighty': 'PERSON', 'magpie feller slim': 'PERSON', 'pick yuh': 'PERSON', 'bernard collie': 'PERSON', 'lucy hannibal': 'PERSON', 'magpie long': 'PERSON', 'yuh scalp': 'PERSON', 'rustle': 'PERSON', 'obituary sabe': 'PERSON', 'sabe yuh': 'PERSON', 'pete gonyer pete': 'PERSON', 'pete': 'PERSON', 'todd cactus collins': 'PERSON', 'jaspers ike': 'PERSON', 'ike tombstone todd': 'PERSON', 'magpie aim': 'PERSON', 'ike harper': 'PERSON', 'willer crick': 'PERSON', 'hank padden': 'PERSON', 'todd ike': 'PERSON', 'epitaf': 'PERSON', 'gutenberg': 'PERSON', 'michael hart': 'PERSON'}\n"
          ]
        },
        {
          "data": {
            "image/png": "[encoded data removed]",
            "text/plain": [
              "<Figure size 720x720 with 1 Axes>"
            ]
          },
          "metadata": {},
          "output_type": "display_data"
        },
        {
          "data": {
            "image/png": "[encoded data removed]",
            "text/plain": [
              "<Figure size 720x720 with 1 Axes>"
            ]
          },
          "metadata": {},
          "output_type": "display_data"
        }
      ]
    },
    {
      "cell_type": "markdown",
      "metadata": {
        "id": "e4TRL4LGzSeX"
      },
      "source": [
        "#### The graphs generated in Cytoscape: (same color mapping)\n",
        "\n",
        "MLK book:\n",
        "\n",
        "![MLK (1).gml.png](data:image/png;base64,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)\n",
        "\n",
        "Tied up book:\n",
        "\n",
        "![TiedUp (1).gml.png](data:image/png;base64,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)\n",
        "\n",
        "\n"
      ]
    },
    {
      "cell_type": "markdown",
      "metadata": {
        "id": "zHVQPrkoyzk2"
      },
      "source": [
        "## Q2:"
      ]
    },
    {
      "cell_type": "markdown",
      "metadata": {
        "id": "tEHVwYACDMEl"
      },
      "source": [
        "**Question 2:** Use the [Friends TV Show Transcript](https://www.kaggle.com/ryanstonebraker/friends-transcript)\n",
        "to create and evaluate a classifier that given a line of text can predict\n",
        " who is the \"friend\" that said it (20pt). Using sentiment analysis identify who are the most and less friendly friends (20pt). Construct a classifier that can be given several text lines (quotes) from a specific episode that will predict the episode's season number (20pt)."
      ]
    },
    {
      "cell_type": "markdown",
      "metadata": {
        "id": "Lm3oDdsXDJd5"
      },
      "source": [
        "### Preperations:"
      ]
    },
    {
      "cell_type": "markdown",
      "metadata": {
        "id": "x5kraZKJDNcU"
      },
      "source": [
        "#### downloads and imports\n"
      ]
    },
    {
      "cell_type": "markdown",
      "metadata": {
        "id": "bTThDbQEDQjY"
      },
      "source": [
        "##### downloads"
      ]
    },
    {
      "cell_type": "code",
      "metadata": {
        "colab": {
          "base_uri": "https://localhost:8080/",
          "height": 1000
        },
        "id": "gnEjj-NzHBI6",
        "outputId": "33847a4e-61bc-4383-a100-fc28f7c0ac5e"
      },
      "source": [
        "!mkdir ./datasets/friends_tv\n",
        "!pip install kaggle \n",
        "!pip install turicreate\n",
        "!pip install kaggle \n",
        "!pip install gensim\n",
        "!pip install pyLDAvis\n",
        "!pip install spaCy\n",
        "!pip install afinn\n",
        "!pip install nltk\n",
        "!pip install plotly_express"
      ],
      "execution_count": null,
      "outputs": [
        {
          "output_type": "stream",
          "name": "stdout",
          "text": [
            "mkdir: cannot create directory ‘./datasets/friends_tv’: No such file or directory\n",
            "Requirement already satisfied: kaggle in /usr/local/lib/python3.7/dist-packages (1.5.12)\n",
            "Requirement already satisfied: six>=1.10 in /usr/local/lib/python3.7/dist-packages (from kaggle) (1.15.0)\n",
            "Requirement already satisfied: python-slugify in /usr/local/lib/python3.7/dist-packages (from kaggle) (5.0.2)\n",
            "Requirement already satisfied: urllib3 in /usr/local/lib/python3.7/dist-packages (from kaggle) (1.24.3)\n",
            "Requirement already satisfied: tqdm in /usr/local/lib/python3.7/dist-packages (from kaggle) (4.62.3)\n",
            "Requirement already satisfied: python-dateutil in /usr/local/lib/python3.7/dist-packages (from kaggle) (2.8.2)\n",
            "Requirement already satisfied: requests in /usr/local/lib/python3.7/dist-packages (from kaggle) (2.23.0)\n",
            "Requirement already satisfied: certifi in /usr/local/lib/python3.7/dist-packages (from kaggle) (2021.10.8)\n",
            "Requirement already satisfied: text-unidecode>=1.3 in /usr/local/lib/python3.7/dist-packages (from python-slugify->kaggle) (1.3)\n",
            "Requirement already satisfied: chardet<4,>=3.0.2 in /usr/local/lib/python3.7/dist-packages (from requests->kaggle) (3.0.4)\n",
            "Requirement already satisfied: idna<3,>=2.5 in /usr/local/lib/python3.7/dist-packages (from requests->kaggle) (2.10)\n",
            "Collecting turicreate\n",
            "  Downloading turicreate-6.4.1-cp37-cp37m-manylinux1_x86_64.whl (92.0 MB)\n",
            "\u001b[K     |████████████████████████████████| 92.0 MB 18 kB/s \n",
            "\u001b[?25hCollecting prettytable==0.7.2\n",
            "  Downloading prettytable-0.7.2.zip (28 kB)\n",
            "Requirement already satisfied: decorator>=4.0.9 in /usr/local/lib/python3.7/dist-packages (from turicreate) (4.4.2)\n",
            "Collecting tensorflow<2.1.0,>=2.0.0\n",
            "  Downloading tensorflow-2.0.4-cp37-cp37m-manylinux2010_x86_64.whl (86.4 MB)\n",
            "\u001b[K     |████████████████████████████████| 86.4 MB 1.2 MB/s \n",
            "\u001b[?25hRequirement already satisfied: pandas>=0.23.2 in /usr/local/lib/python3.7/dist-packages (from turicreate) (1.1.5)\n",
            "Requirement already satisfied: requests>=2.9.1 in /usr/local/lib/python3.7/dist-packages (from turicreate) (2.23.0)\n",
            "Collecting numba<0.51.0\n",
            "  Downloading numba-0.50.1-cp37-cp37m-manylinux2014_x86_64.whl (3.6 MB)\n",
            "\u001b[K     |████████████████████████████████| 3.6 MB 39.3 MB/s \n",
            "\u001b[?25hRequirement already satisfied: numpy in /usr/local/lib/python3.7/dist-packages (from turicreate) (1.19.5)\n",
            "Requirement already satisfied: pillow>=5.2.0 in /usr/local/lib/python3.7/dist-packages (from turicreate) (7.1.2)\n",
            "Requirement already satisfied: six>=1.10.0 in /usr/local/lib/python3.7/dist-packages (from turicreate) (1.15.0)\n",
            "Requirement already satisfied: scipy>=1.1.0 in /usr/local/lib/python3.7/dist-packages (from turicreate) (1.4.1)\n",
            "Collecting coremltools==3.3\n",
            "  Downloading coremltools-3.3-cp37-none-manylinux1_x86_64.whl (3.5 MB)\n",
            "\u001b[K     |████████████████████████████████| 3.5 MB 62.6 MB/s \n",
            "\u001b[?25hCollecting resampy==0.2.1\n",
            "  Downloading resampy-0.2.1.tar.gz (322 kB)\n",
            "\u001b[K     |████████████████████████████████| 322 kB 68.8 MB/s \n",
            "\u001b[?25hRequirement already satisfied: protobuf>=3.1.0 in /usr/local/lib/python3.7/dist-packages (from coremltools==3.3->turicreate) (3.17.3)\n",
            "Collecting llvmlite<0.34,>=0.33.0.dev0\n",
            "  Downloading llvmlite-0.33.0-cp37-cp37m-manylinux1_x86_64.whl (18.3 MB)\n",
            "\u001b[K     |████████████████████████████████| 18.3 MB 55.4 MB/s \n",
            "\u001b[?25hRequirement already satisfied: setuptools in /usr/local/lib/python3.7/dist-packages (from numba<0.51.0->turicreate) (57.4.0)\n",
            "Requirement already satisfied: python-dateutil>=2.7.3 in /usr/local/lib/python3.7/dist-packages (from pandas>=0.23.2->turicreate) (2.8.2)\n",
            "Requirement already satisfied: pytz>=2017.2 in /usr/local/lib/python3.7/dist-packages (from pandas>=0.23.2->turicreate) (2018.9)\n",
            "Requirement already satisfied: certifi>=2017.4.17 in /usr/local/lib/python3.7/dist-packages (from requests>=2.9.1->turicreate) (2021.10.8)\n",
            "Requirement already satisfied: urllib3!=1.25.0,!=1.25.1,<1.26,>=1.21.1 in /usr/local/lib/python3.7/dist-packages (from requests>=2.9.1->turicreate) (1.24.3)\n",
            "Requirement already satisfied: chardet<4,>=3.0.2 in /usr/local/lib/python3.7/dist-packages (from requests>=2.9.1->turicreate) (3.0.4)\n",
            "Requirement already satisfied: idna<3,>=2.5 in /usr/local/lib/python3.7/dist-packages (from requests>=2.9.1->turicreate) (2.10)\n",
            "Collecting keras-applications>=1.0.8\n",
            "  Downloading Keras_Applications-1.0.8-py3-none-any.whl (50 kB)\n",
            "\u001b[K     |████████████████████████████████| 50 kB 7.0 MB/s \n",
            "\u001b[?25hRequirement already satisfied: wheel>=0.26 in /usr/local/lib/python3.7/dist-packages (from tensorflow<2.1.0,>=2.0.0->turicreate) (0.37.0)\n",
            "Requirement already satisfied: wrapt>=1.11.1 in /usr/local/lib/python3.7/dist-packages (from tensorflow<2.1.0,>=2.0.0->turicreate) (1.13.3)\n",
            "Collecting h5py<=2.10.0\n",
            "  Downloading h5py-2.10.0-cp37-cp37m-manylinux1_x86_64.whl (2.9 MB)\n",
            "\u001b[K     |████████████████████████████████| 2.9 MB 42.7 MB/s \n",
            "\u001b[?25hRequirement already satisfied: astor>=0.6.0 in /usr/local/lib/python3.7/dist-packages (from tensorflow<2.1.0,>=2.0.0->turicreate) (0.8.1)\n",
            "Requirement already satisfied: google-pasta>=0.1.6 in /usr/local/lib/python3.7/dist-packages (from tensorflow<2.1.0,>=2.0.0->turicreate) (0.2.0)\n",
            "Requirement already satisfied: opt-einsum>=2.3.2 in /usr/local/lib/python3.7/dist-packages (from tensorflow<2.1.0,>=2.0.0->turicreate) (3.3.0)\n",
            "Collecting tensorboard<2.1.0,>=2.0.0\n",
            "  Downloading tensorboard-2.0.2-py3-none-any.whl (3.8 MB)\n",
            "\u001b[K     |████████████████████████████████| 3.8 MB 61.4 MB/s \n",
            "\u001b[?25hCollecting tensorflow-estimator<2.1.0,>=2.0.0\n",
            "  Downloading tensorflow_estimator-2.0.1-py2.py3-none-any.whl (449 kB)\n",
            "\u001b[K     |████████████████████████████████| 449 kB 45.6 MB/s \n",
            "\u001b[?25hRequirement already satisfied: keras-preprocessing>=1.0.5 in /usr/local/lib/python3.7/dist-packages (from tensorflow<2.1.0,>=2.0.0->turicreate) (1.1.2)\n",
            "Collecting gast==0.2.2\n",
            "  Downloading gast-0.2.2.tar.gz (10 kB)\n",
            "Collecting numpy\n",
            "  Downloading numpy-1.18.5-cp37-cp37m-manylinux1_x86_64.whl (20.1 MB)\n",
            "\u001b[K     |████████████████████████████████| 20.1 MB 111.3 MB/s \n",
            "\u001b[?25hRequirement already satisfied: absl-py>=0.7.0 in /usr/local/lib/python3.7/dist-packages (from tensorflow<2.1.0,>=2.0.0->turicreate) (0.12.0)\n",
            "Requirement already satisfied: grpcio>=1.8.6 in /usr/local/lib/python3.7/dist-packages (from tensorflow<2.1.0,>=2.0.0->turicreate) (1.42.0)\n",
            "Requirement already satisfied: termcolor>=1.1.0 in /usr/local/lib/python3.7/dist-packages (from tensorflow<2.1.0,>=2.0.0->turicreate) (1.1.0)\n",
            "Requirement already satisfied: google-auth<2,>=1.6.3 in /usr/local/lib/python3.7/dist-packages (from tensorboard<2.1.0,>=2.0.0->tensorflow<2.1.0,>=2.0.0->turicreate) (1.35.0)\n",
            "Requirement already satisfied: google-auth-oauthlib<0.5,>=0.4.1 in /usr/local/lib/python3.7/dist-packages (from tensorboard<2.1.0,>=2.0.0->tensorflow<2.1.0,>=2.0.0->turicreate) (0.4.6)\n",
            "Requirement already satisfied: werkzeug>=0.11.15 in /usr/local/lib/python3.7/dist-packages (from tensorboard<2.1.0,>=2.0.0->tensorflow<2.1.0,>=2.0.0->turicreate) (1.0.1)\n",
            "Requirement already satisfied: markdown>=2.6.8 in /usr/local/lib/python3.7/dist-packages (from tensorboard<2.1.0,>=2.0.0->tensorflow<2.1.0,>=2.0.0->turicreate) (3.3.6)\n",
            "Requirement already satisfied: pyasn1-modules>=0.2.1 in /usr/local/lib/python3.7/dist-packages (from google-auth<2,>=1.6.3->tensorboard<2.1.0,>=2.0.0->tensorflow<2.1.0,>=2.0.0->turicreate) (0.2.8)\n",
            "Requirement already satisfied: rsa<5,>=3.1.4 in /usr/local/lib/python3.7/dist-packages (from google-auth<2,>=1.6.3->tensorboard<2.1.0,>=2.0.0->tensorflow<2.1.0,>=2.0.0->turicreate) (4.8)\n",
            "Requirement already satisfied: cachetools<5.0,>=2.0.0 in /usr/local/lib/python3.7/dist-packages (from google-auth<2,>=1.6.3->tensorboard<2.1.0,>=2.0.0->tensorflow<2.1.0,>=2.0.0->turicreate) (4.2.4)\n",
            "Requirement already satisfied: requests-oauthlib>=0.7.0 in /usr/local/lib/python3.7/dist-packages (from google-auth-oauthlib<0.5,>=0.4.1->tensorboard<2.1.0,>=2.0.0->tensorflow<2.1.0,>=2.0.0->turicreate) (1.3.0)\n",
            "Requirement already satisfied: importlib-metadata>=4.4 in /usr/local/lib/python3.7/dist-packages (from markdown>=2.6.8->tensorboard<2.1.0,>=2.0.0->tensorflow<2.1.0,>=2.0.0->turicreate) (4.8.2)\n",
            "Requirement already satisfied: typing-extensions>=3.6.4 in /usr/local/lib/python3.7/dist-packages (from importlib-metadata>=4.4->markdown>=2.6.8->tensorboard<2.1.0,>=2.0.0->tensorflow<2.1.0,>=2.0.0->turicreate) (3.10.0.2)\n",
            "Requirement already satisfied: zipp>=0.5 in /usr/local/lib/python3.7/dist-packages (from importlib-metadata>=4.4->markdown>=2.6.8->tensorboard<2.1.0,>=2.0.0->tensorflow<2.1.0,>=2.0.0->turicreate) (3.6.0)\n",
            "Requirement already satisfied: pyasn1<0.5.0,>=0.4.6 in /usr/local/lib/python3.7/dist-packages (from pyasn1-modules>=0.2.1->google-auth<2,>=1.6.3->tensorboard<2.1.0,>=2.0.0->tensorflow<2.1.0,>=2.0.0->turicreate) (0.4.8)\n",
            "Requirement already satisfied: oauthlib>=3.0.0 in /usr/local/lib/python3.7/dist-packages (from requests-oauthlib>=0.7.0->google-auth-oauthlib<0.5,>=0.4.1->tensorboard<2.1.0,>=2.0.0->tensorflow<2.1.0,>=2.0.0->turicreate) (3.1.1)\n",
            "Building wheels for collected packages: prettytable, resampy, gast\n",
            "  Building wheel for prettytable (setup.py) ... \u001b[?25l\u001b[?25hdone\n",
            "  Created wheel for prettytable: filename=prettytable-0.7.2-py3-none-any.whl size=13714 sha256=3c0b0a62738d9f191fd14a7aa9ee971f4d7f37968c6a70ddf621c6893c523665\n",
            "  Stored in directory: /root/.cache/pip/wheels/b2/7f/f6/f180315b584f00445045ff1699b550fa895d09471337ce21c6\n",
            "  Building wheel for resampy (setup.py) ... \u001b[?25l\u001b[?25hdone\n",
            "  Created wheel for resampy: filename=resampy-0.2.1-py3-none-any.whl size=320860 sha256=79426ee6baada248800718ca5406e3424e3b3aa2772b4da3743ef5b559d19dab\n",
            "  Stored in directory: /root/.cache/pip/wheels/71/74/53/d5ceb7c5ee7a168c7d106041863e71ac3273f4a4677743a284\n",
            "  Building wheel for gast (setup.py) ... \u001b[?25l\u001b[?25hdone\n",
            "  Created wheel for gast: filename=gast-0.2.2-py3-none-any.whl size=7554 sha256=93b7913af295ce4efcdd9b6e3f4e8fb27ddbd5547191ae32fd616c0abfcb059c\n",
            "  Stored in directory: /root/.cache/pip/wheels/21/7f/02/420f32a803f7d0967b48dd823da3f558c5166991bfd204eef3\n",
            "Successfully built prettytable resampy gast\n",
            "Installing collected packages: numpy, llvmlite, h5py, tensorflow-estimator, tensorboard, numba, keras-applications, gast, tensorflow, resampy, prettytable, coremltools, turicreate\n",
            "  Attempting uninstall: numpy\n",
            "    Found existing installation: numpy 1.19.5\n",
            "    Uninstalling numpy-1.19.5:\n",
            "      Successfully uninstalled numpy-1.19.5\n",
            "  Attempting uninstall: llvmlite\n",
            "    Found existing installation: llvmlite 0.34.0\n",
            "    Uninstalling llvmlite-0.34.0:\n",
            "      Successfully uninstalled llvmlite-0.34.0\n",
            "  Attempting uninstall: h5py\n",
            "    Found existing installation: h5py 3.1.0\n",
            "    Uninstalling h5py-3.1.0:\n",
            "      Successfully uninstalled h5py-3.1.0\n",
            "  Attempting uninstall: tensorflow-estimator\n",
            "    Found existing installation: tensorflow-estimator 2.7.0\n",
            "    Uninstalling tensorflow-estimator-2.7.0:\n",
            "      Successfully uninstalled tensorflow-estimator-2.7.0\n",
            "  Attempting uninstall: tensorboard\n",
            "    Found existing installation: tensorboard 2.7.0\n",
            "    Uninstalling tensorboard-2.7.0:\n",
            "      Successfully uninstalled tensorboard-2.7.0\n",
            "  Attempting uninstall: numba\n",
            "    Found existing installation: numba 0.51.2\n",
            "    Uninstalling numba-0.51.2:\n",
            "      Successfully uninstalled numba-0.51.2\n",
            "  Attempting uninstall: gast\n",
            "    Found existing installation: gast 0.4.0\n",
            "    Uninstalling gast-0.4.0:\n",
            "      Successfully uninstalled gast-0.4.0\n",
            "  Attempting uninstall: tensorflow\n",
            "    Found existing installation: tensorflow 2.7.0\n",
            "    Uninstalling tensorflow-2.7.0:\n",
            "      Successfully uninstalled tensorflow-2.7.0\n",
            "  Attempting uninstall: resampy\n",
            "    Found existing installation: resampy 0.2.2\n",
            "    Uninstalling resampy-0.2.2:\n",
            "      Successfully uninstalled resampy-0.2.2\n",
            "  Attempting uninstall: prettytable\n",
            "    Found existing installation: prettytable 2.4.0\n",
            "    Uninstalling prettytable-2.4.0:\n",
            "      Successfully uninstalled prettytable-2.4.0\n",
            "\u001b[31mERROR: pip's dependency resolver does not currently take into account all the packages that are installed. This behaviour is the source of the following dependency conflicts.\n",
            "tensorflow-probability 0.15.0 requires gast>=0.3.2, but you have gast 0.2.2 which is incompatible.\n",
            "librosa 0.8.1 requires resampy>=0.2.2, but you have resampy 0.2.1 which is incompatible.\n",
            "datascience 0.10.6 requires folium==0.2.1, but you have folium 0.8.3 which is incompatible.\n",
            "albumentations 0.1.12 requires imgaug<0.2.7,>=0.2.5, but you have imgaug 0.2.9 which is incompatible.\u001b[0m\n",
            "Successfully installed coremltools-3.3 gast-0.2.2 h5py-2.10.0 keras-applications-1.0.8 llvmlite-0.33.0 numba-0.50.1 numpy-1.18.5 prettytable-0.7.2 resampy-0.2.1 tensorboard-2.0.2 tensorflow-2.0.4 tensorflow-estimator-2.0.1 turicreate-6.4.1\n"
          ]
        },
        {
          "output_type": "display_data",
          "data": {
            "application/vnd.colab-display-data+json": {
              "pip_warning": {
                "packages": [
                  "numpy"
                ]
              }
            }
          },
          "metadata": {}
        },
        {
          "output_type": "stream",
          "name": "stdout",
          "text": [
            "Requirement already satisfied: kaggle in /usr/local/lib/python3.7/dist-packages (1.5.12)\n",
            "Requirement already satisfied: tqdm in /usr/local/lib/python3.7/dist-packages (from kaggle) (4.62.3)\n",
            "Requirement already satisfied: six>=1.10 in /usr/local/lib/python3.7/dist-packages (from kaggle) (1.15.0)\n",
            "Requirement already satisfied: requests in /usr/local/lib/python3.7/dist-packages (from kaggle) (2.23.0)\n",
            "Requirement already satisfied: urllib3 in /usr/local/lib/python3.7/dist-packages (from kaggle) (1.24.3)\n",
            "Requirement already satisfied: certifi in /usr/local/lib/python3.7/dist-packages (from kaggle) (2021.10.8)\n",
            "Requirement already satisfied: python-slugify in /usr/local/lib/python3.7/dist-packages (from kaggle) (5.0.2)\n",
            "Requirement already satisfied: python-dateutil in /usr/local/lib/python3.7/dist-packages (from kaggle) (2.8.2)\n",
            "Requirement already satisfied: text-unidecode>=1.3 in /usr/local/lib/python3.7/dist-packages (from python-slugify->kaggle) (1.3)\n",
            "Requirement already satisfied: chardet<4,>=3.0.2 in /usr/local/lib/python3.7/dist-packages (from requests->kaggle) (3.0.4)\n",
            "Requirement already satisfied: idna<3,>=2.5 in /usr/local/lib/python3.7/dist-packages (from requests->kaggle) (2.10)\n",
            "Requirement already satisfied: gensim in /usr/local/lib/python3.7/dist-packages (3.6.0)\n",
            "Requirement already satisfied: scipy>=0.18.1 in /usr/local/lib/python3.7/dist-packages (from gensim) (1.4.1)\n",
            "Requirement already satisfied: smart-open>=1.2.1 in /usr/local/lib/python3.7/dist-packages (from gensim) (5.2.1)\n",
            "Requirement already satisfied: six>=1.5.0 in /usr/local/lib/python3.7/dist-packages (from gensim) (1.15.0)\n",
            "Requirement already satisfied: numpy>=1.11.3 in /usr/local/lib/python3.7/dist-packages (from gensim) (1.18.5)\n",
            "Collecting pyLDAvis\n",
            "  Downloading pyLDAvis-3.3.1.tar.gz (1.7 MB)\n",
            "\u001b[K     |████████████████████████████████| 1.7 MB 15.8 MB/s \n",
            "\u001b[?25h  Installing build dependencies ... \u001b[?25l\u001b[?25hdone\n",
            "  Getting requirements to build wheel ... \u001b[?25l\u001b[?25hdone\n",
            "  Installing backend dependencies ... \u001b[?25l\u001b[?25hdone\n",
            "    Preparing wheel metadata ... \u001b[?25l\u001b[?25hdone\n",
            "Requirement already satisfied: setuptools in /usr/local/lib/python3.7/dist-packages (from pyLDAvis) (57.4.0)\n",
            "Requirement already satisfied: scikit-learn in /usr/local/lib/python3.7/dist-packages (from pyLDAvis) (1.0.1)\n",
            "Collecting pandas>=1.2.0\n",
            "  Downloading pandas-1.3.4-cp37-cp37m-manylinux_2_17_x86_64.manylinux2014_x86_64.whl (11.3 MB)\n",
            "\u001b[K     |████████████████████████████████| 11.3 MB 43.1 MB/s \n",
            "\u001b[?25hCollecting numpy>=1.20.0\n",
            "  Downloading numpy-1.21.4-cp37-cp37m-manylinux_2_12_x86_64.manylinux2010_x86_64.whl (15.7 MB)\n",
            "\u001b[K     |████████████████████████████████| 15.7 MB 58.4 MB/s \n",
            "\u001b[?25hRequirement already satisfied: gensim in /usr/local/lib/python3.7/dist-packages (from pyLDAvis) (3.6.0)\n",
            "Requirement already satisfied: numexpr in /usr/local/lib/python3.7/dist-packages (from pyLDAvis) (2.7.3)\n",
            "Requirement already satisfied: sklearn in /usr/local/lib/python3.7/dist-packages (from pyLDAvis) (0.0)\n",
            "Requirement already satisfied: future in /usr/local/lib/python3.7/dist-packages (from pyLDAvis) (0.16.0)\n",
            "Collecting funcy\n",
            "  Downloading funcy-1.16-py2.py3-none-any.whl (32 kB)\n",
            "Requirement already satisfied: joblib in /usr/local/lib/python3.7/dist-packages (from pyLDAvis) (1.1.0)\n",
            "Requirement already satisfied: jinja2 in /usr/local/lib/python3.7/dist-packages (from pyLDAvis) (2.11.3)\n",
            "Requirement already satisfied: scipy in /usr/local/lib/python3.7/dist-packages (from pyLDAvis) (1.4.1)\n",
            "Requirement already satisfied: python-dateutil>=2.7.3 in /usr/local/lib/python3.7/dist-packages (from pandas>=1.2.0->pyLDAvis) (2.8.2)\n",
            "Requirement already satisfied: pytz>=2017.3 in /usr/local/lib/python3.7/dist-packages (from pandas>=1.2.0->pyLDAvis) (2018.9)\n",
            "Requirement already satisfied: six>=1.5 in /usr/local/lib/python3.7/dist-packages (from python-dateutil>=2.7.3->pandas>=1.2.0->pyLDAvis) (1.15.0)\n",
            "Requirement already satisfied: smart-open>=1.2.1 in /usr/local/lib/python3.7/dist-packages (from gensim->pyLDAvis) (5.2.1)\n",
            "Requirement already satisfied: MarkupSafe>=0.23 in /usr/local/lib/python3.7/dist-packages (from jinja2->pyLDAvis) (2.0.1)\n",
            "Requirement already satisfied: threadpoolctl>=2.0.0 in /usr/local/lib/python3.7/dist-packages (from scikit-learn->pyLDAvis) (3.0.0)\n",
            "Building wheels for collected packages: pyLDAvis\n",
            "  Building wheel for pyLDAvis (PEP 517) ... \u001b[?25l\u001b[?25hdone\n",
            "  Created wheel for pyLDAvis: filename=pyLDAvis-3.3.1-py2.py3-none-any.whl size=136897 sha256=a29570392927002a9acbd847d3afe432c74477e0e476baa91588563472cee47b\n",
            "  Stored in directory: /root/.cache/pip/wheels/c9/21/f6/17bcf2667e8a68532ba2fbf6d5c72fdf4c7f7d9abfa4852d2f\n",
            "Successfully built pyLDAvis\n",
            "Installing collected packages: numpy, pandas, funcy, pyLDAvis\n",
            "  Attempting uninstall: numpy\n",
            "    Found existing installation: numpy 1.18.5\n",
            "    Uninstalling numpy-1.18.5:\n",
            "      Successfully uninstalled numpy-1.18.5\n",
            "  Attempting uninstall: pandas\n",
            "    Found existing installation: pandas 1.1.5\n",
            "    Uninstalling pandas-1.1.5:\n",
            "      Successfully uninstalled pandas-1.1.5\n",
            "\u001b[31mERROR: pip's dependency resolver does not currently take into account all the packages that are installed. This behaviour is the source of the following dependency conflicts.\n",
            "yellowbrick 1.3.post1 requires numpy<1.20,>=1.16.0, but you have numpy 1.21.4 which is incompatible.\n",
            "tensorflow 2.0.4 requires numpy<1.19.0,>=1.16.0, but you have numpy 1.21.4 which is incompatible.\n",
            "tensorflow-probability 0.15.0 requires gast>=0.3.2, but you have gast 0.2.2 which is incompatible.\n",
            "librosa 0.8.1 requires resampy>=0.2.2, but you have resampy 0.2.1 which is incompatible.\n",
            "google-colab 1.0.0 requires pandas~=1.1.0; python_version >= \"3.0\", but you have pandas 1.3.4 which is incompatible.\n",
            "datascience 0.10.6 requires folium==0.2.1, but you have folium 0.8.3 which is incompatible.\n",
            "albumentations 0.1.12 requires imgaug<0.2.7,>=0.2.5, but you have imgaug 0.2.9 which is incompatible.\u001b[0m\n",
            "Successfully installed funcy-1.16 numpy-1.21.4 pandas-1.3.4 pyLDAvis-3.3.1\n"
          ]
        },
        {
          "output_type": "display_data",
          "data": {
            "application/vnd.colab-display-data+json": {
              "pip_warning": {
                "packages": [
                  "numpy",
                  "pandas"
                ]
              }
            }
          },
          "metadata": {}
        },
        {
          "output_type": "stream",
          "name": "stdout",
          "text": [
            "Requirement already satisfied: spaCy in /usr/local/lib/python3.7/dist-packages (2.2.4)\n",
            "Requirement already satisfied: catalogue<1.1.0,>=0.0.7 in /usr/local/lib/python3.7/dist-packages (from spaCy) (1.0.0)\n",
            "Requirement already satisfied: thinc==7.4.0 in /usr/local/lib/python3.7/dist-packages (from spaCy) (7.4.0)\n",
            "Requirement already satisfied: numpy>=1.15.0 in /usr/local/lib/python3.7/dist-packages (from spaCy) (1.21.4)\n",
            "Requirement already satisfied: blis<0.5.0,>=0.4.0 in /usr/local/lib/python3.7/dist-packages (from spaCy) (0.4.1)\n",
            "Requirement already satisfied: setuptools in /usr/local/lib/python3.7/dist-packages (from spaCy) (57.4.0)\n",
            "Requirement already satisfied: srsly<1.1.0,>=1.0.2 in /usr/local/lib/python3.7/dist-packages (from spaCy) (1.0.5)\n",
            "Requirement already satisfied: preshed<3.1.0,>=3.0.2 in /usr/local/lib/python3.7/dist-packages (from spaCy) (3.0.6)\n",
            "Requirement already satisfied: requests<3.0.0,>=2.13.0 in /usr/local/lib/python3.7/dist-packages (from spaCy) (2.23.0)\n",
            "Requirement already satisfied: murmurhash<1.1.0,>=0.28.0 in /usr/local/lib/python3.7/dist-packages (from spaCy) (1.0.6)\n",
            "Requirement already satisfied: cymem<2.1.0,>=2.0.2 in /usr/local/lib/python3.7/dist-packages (from spaCy) (2.0.6)\n",
            "Requirement already satisfied: tqdm<5.0.0,>=4.38.0 in /usr/local/lib/python3.7/dist-packages (from spaCy) (4.62.3)\n",
            "Requirement already satisfied: wasabi<1.1.0,>=0.4.0 in /usr/local/lib/python3.7/dist-packages (from spaCy) (0.8.2)\n",
            "Requirement already satisfied: plac<1.2.0,>=0.9.6 in /usr/local/lib/python3.7/dist-packages (from spaCy) (1.1.3)\n",
            "Requirement already satisfied: importlib-metadata>=0.20 in /usr/local/lib/python3.7/dist-packages (from catalogue<1.1.0,>=0.0.7->spaCy) (4.8.2)\n",
            "Requirement already satisfied: typing-extensions>=3.6.4 in /usr/local/lib/python3.7/dist-packages (from importlib-metadata>=0.20->catalogue<1.1.0,>=0.0.7->spaCy) (3.10.0.2)\n",
            "Requirement already satisfied: zipp>=0.5 in /usr/local/lib/python3.7/dist-packages (from importlib-metadata>=0.20->catalogue<1.1.0,>=0.0.7->spaCy) (3.6.0)\n",
            "Requirement already satisfied: idna<3,>=2.5 in /usr/local/lib/python3.7/dist-packages (from requests<3.0.0,>=2.13.0->spaCy) (2.10)\n",
            "Requirement already satisfied: urllib3!=1.25.0,!=1.25.1,<1.26,>=1.21.1 in /usr/local/lib/python3.7/dist-packages (from requests<3.0.0,>=2.13.0->spaCy) (1.24.3)\n",
            "Requirement already satisfied: chardet<4,>=3.0.2 in /usr/local/lib/python3.7/dist-packages (from requests<3.0.0,>=2.13.0->spaCy) (3.0.4)\n",
            "Requirement already satisfied: certifi>=2017.4.17 in /usr/local/lib/python3.7/dist-packages (from requests<3.0.0,>=2.13.0->spaCy) (2021.10.8)\n",
            "Collecting afinn\n",
            "  Downloading afinn-0.1.tar.gz (52 kB)\n",
            "\u001b[K     |████████████████████████████████| 52 kB 1.2 MB/s \n",
            "\u001b[?25hBuilding wheels for collected packages: afinn\n",
            "  Building wheel for afinn (setup.py) ... \u001b[?25l\u001b[?25hdone\n",
            "  Created wheel for afinn: filename=afinn-0.1-py3-none-any.whl size=53448 sha256=3a48af78cd56bf36fb0cfcb5610989e2b72e9dc54fdc0978eb22489e9e30e65e\n",
            "  Stored in directory: /root/.cache/pip/wheels/9d/16/3a/9f0953027434eab5dadf3f33ab3298fa95afa8292fcf7aba75\n",
            "Successfully built afinn\n",
            "Installing collected packages: afinn\n",
            "Successfully installed afinn-0.1\n",
            "Requirement already satisfied: nltk in /usr/local/lib/python3.7/dist-packages (3.2.5)\n",
            "Requirement already satisfied: six in /usr/local/lib/python3.7/dist-packages (from nltk) (1.15.0)\n",
            "Collecting plotly_express\n",
            "  Downloading plotly_express-0.4.1-py2.py3-none-any.whl (2.9 kB)\n",
            "Requirement already satisfied: plotly>=4.1.0 in /usr/local/lib/python3.7/dist-packages (from plotly_express) (4.4.1)\n",
            "Requirement already satisfied: patsy>=0.5 in /usr/local/lib/python3.7/dist-packages (from plotly_express) (0.5.2)\n",
            "Requirement already satisfied: pandas>=0.20.0 in /usr/local/lib/python3.7/dist-packages (from plotly_express) (1.3.4)\n",
            "Requirement already satisfied: scipy>=0.18 in /usr/local/lib/python3.7/dist-packages (from plotly_express) (1.4.1)\n",
            "Requirement already satisfied: statsmodels>=0.9.0 in /usr/local/lib/python3.7/dist-packages (from plotly_express) (0.10.2)\n",
            "Requirement already satisfied: numpy>=1.11 in /usr/local/lib/python3.7/dist-packages (from plotly_express) (1.21.4)\n",
            "Requirement already satisfied: pytz>=2017.3 in /usr/local/lib/python3.7/dist-packages (from pandas>=0.20.0->plotly_express) (2018.9)\n",
            "Requirement already satisfied: python-dateutil>=2.7.3 in /usr/local/lib/python3.7/dist-packages (from pandas>=0.20.0->plotly_express) (2.8.2)\n",
            "Requirement already satisfied: six in /usr/local/lib/python3.7/dist-packages (from patsy>=0.5->plotly_express) (1.15.0)\n",
            "Requirement already satisfied: retrying>=1.3.3 in /usr/local/lib/python3.7/dist-packages (from plotly>=4.1.0->plotly_express) (1.3.3)\n",
            "Installing collected packages: plotly-express\n",
            "Successfully installed plotly-express-0.4.1\n"
          ]
        }
      ]
    },
    {
      "cell_type": "code",
      "metadata": {
        "colab": {
          "base_uri": "https://localhost:8080/"
        },
        "id": "V92OH9ON5gpP",
        "outputId": "833f465f-b0c8-4d44-fb3c-12f7ff678485"
      },
      "source": [
        "from google.colab import drive\n",
        "\n",
        "drive.mount('/content/gdrive')"
      ],
      "execution_count": null,
      "outputs": [
        {
          "output_type": "stream",
          "name": "stdout",
          "text": [
            "Mounted at /content/gdrive\n"
          ]
        }
      ]
    },
    {
      "cell_type": "code",
      "metadata": {
        "colab": {
          "base_uri": "https://localhost:8080/"
        },
        "id": "OPpIQhkHDWrB",
        "outputId": "028632c0-ceb8-4b58-98a1-8f00840ed16e"
      },
      "source": [
        "! cp \"/content/gdrive/MyDrive/DataMining/APIs and Credentials/kaggle.json\" \"/content/kaggle.json\"\n",
        "! mkdir ~/.kaggle\n",
        "! cp kaggle.json ~/.kaggle/\n",
        "! chmod 600 ~/.kaggle/kaggle.json \n",
        "\n",
        "! kaggle datasets download ryanstonebraker/friends-transcript -p ./datasets/friends_tv\n",
        "! unzip ./datasets/friends_tv/*.zip  -d ./datasets/friends_tv/"
      ],
      "execution_count": null,
      "outputs": [
        {
          "output_type": "stream",
          "name": "stdout",
          "text": [
            "mkdir: cannot create directory ‘/root/.kaggle’: File exists\n",
            "Downloading friends-transcript.zip to ./datasets/friends_tv\n",
            "  0% 0.00/1.72M [00:00<?, ?B/s]\n",
            "100% 1.72M/1.72M [00:00<00:00, 56.4MB/s]\n",
            "Archive:  ./datasets/friends_tv/friends-transcript.zip\n",
            "  inflating: ./datasets/friends_tv/friends_quotes.csv  \n"
          ]
        }
      ]
    },
    {
      "cell_type": "code",
      "metadata": {
        "colab": {
          "base_uri": "https://localhost:8080/"
        },
        "id": "rybQWqsdHDZY",
        "outputId": "e591bce3-918d-499a-ccab-f6443ff3e9e4"
      },
      "source": [
        "import nltk\n",
        "nltk.download('stopwords')\n",
        "nltk.download('punkt')\n",
        "\n",
        "!python -m spacy download en_core_web_lg\n",
        "# restarting runtime\n",
        "import os\n",
        "os.kill(os.getpid(), 9)"
      ],
      "execution_count": null,
      "outputs": [
        {
          "output_type": "stream",
          "name": "stdout",
          "text": [
            "[nltk_data] Downloading package stopwords to /root/nltk_data...\n",
            "[nltk_data]   Package stopwords is already up-to-date!\n",
            "[nltk_data] Downloading package punkt to /root/nltk_data...\n",
            "[nltk_data]   Package punkt is already up-to-date!\n",
            "Collecting en_core_web_lg==2.2.5\n",
            "  Downloading https://github.com/explosion/spacy-models/releases/download/en_core_web_lg-2.2.5/en_core_web_lg-2.2.5.tar.gz (827.9 MB)\n",
            "\u001b[K     |████████████████████████████████| 827.9 MB 1.2 MB/s \n",
            "\u001b[?25hRequirement already satisfied: spacy>=2.2.2 in /usr/local/lib/python3.7/dist-packages (from en_core_web_lg==2.2.5) (2.2.4)\n",
            "Requirement already satisfied: thinc==7.4.0 in /usr/local/lib/python3.7/dist-packages (from spacy>=2.2.2->en_core_web_lg==2.2.5) (7.4.0)\n",
            "Requirement already satisfied: wasabi<1.1.0,>=0.4.0 in /usr/local/lib/python3.7/dist-packages (from spacy>=2.2.2->en_core_web_lg==2.2.5) (0.8.2)\n",
            "Requirement already satisfied: requests<3.0.0,>=2.13.0 in /usr/local/lib/python3.7/dist-packages (from spacy>=2.2.2->en_core_web_lg==2.2.5) (2.23.0)\n",
            "Requirement already satisfied: murmurhash<1.1.0,>=0.28.0 in /usr/local/lib/python3.7/dist-packages (from spacy>=2.2.2->en_core_web_lg==2.2.5) (1.0.6)\n",
            "Requirement already satisfied: catalogue<1.1.0,>=0.0.7 in /usr/local/lib/python3.7/dist-packages (from spacy>=2.2.2->en_core_web_lg==2.2.5) (1.0.0)\n",
            "Requirement already satisfied: preshed<3.1.0,>=3.0.2 in /usr/local/lib/python3.7/dist-packages (from spacy>=2.2.2->en_core_web_lg==2.2.5) (3.0.6)\n",
            "Requirement already satisfied: cymem<2.1.0,>=2.0.2 in /usr/local/lib/python3.7/dist-packages (from spacy>=2.2.2->en_core_web_lg==2.2.5) (2.0.6)\n",
            "Requirement already satisfied: srsly<1.1.0,>=1.0.2 in /usr/local/lib/python3.7/dist-packages (from spacy>=2.2.2->en_core_web_lg==2.2.5) (1.0.5)\n",
            "Requirement already satisfied: setuptools in /usr/local/lib/python3.7/dist-packages (from spacy>=2.2.2->en_core_web_lg==2.2.5) (57.4.0)\n",
            "Requirement already satisfied: blis<0.5.0,>=0.4.0 in /usr/local/lib/python3.7/dist-packages (from spacy>=2.2.2->en_core_web_lg==2.2.5) (0.4.1)\n",
            "Requirement already satisfied: tqdm<5.0.0,>=4.38.0 in /usr/local/lib/python3.7/dist-packages (from spacy>=2.2.2->en_core_web_lg==2.2.5) (4.62.3)\n",
            "Requirement already satisfied: plac<1.2.0,>=0.9.6 in /usr/local/lib/python3.7/dist-packages (from spacy>=2.2.2->en_core_web_lg==2.2.5) (1.1.3)\n",
            "Requirement already satisfied: numpy>=1.15.0 in /usr/local/lib/python3.7/dist-packages (from spacy>=2.2.2->en_core_web_lg==2.2.5) (1.21.4)\n",
            "Requirement already satisfied: importlib-metadata>=0.20 in /usr/local/lib/python3.7/dist-packages (from catalogue<1.1.0,>=0.0.7->spacy>=2.2.2->en_core_web_lg==2.2.5) (4.8.2)\n",
            "Requirement already satisfied: zipp>=0.5 in /usr/local/lib/python3.7/dist-packages (from importlib-metadata>=0.20->catalogue<1.1.0,>=0.0.7->spacy>=2.2.2->en_core_web_lg==2.2.5) (3.6.0)\n",
            "Requirement already satisfied: typing-extensions>=3.6.4 in /usr/local/lib/python3.7/dist-packages (from importlib-metadata>=0.20->catalogue<1.1.0,>=0.0.7->spacy>=2.2.2->en_core_web_lg==2.2.5) (3.10.0.2)\n",
            "Requirement already satisfied: chardet<4,>=3.0.2 in /usr/local/lib/python3.7/dist-packages (from requests<3.0.0,>=2.13.0->spacy>=2.2.2->en_core_web_lg==2.2.5) (3.0.4)\n",
            "Requirement already satisfied: idna<3,>=2.5 in /usr/local/lib/python3.7/dist-packages (from requests<3.0.0,>=2.13.0->spacy>=2.2.2->en_core_web_lg==2.2.5) (2.10)\n",
            "Requirement already satisfied: certifi>=2017.4.17 in /usr/local/lib/python3.7/dist-packages (from requests<3.0.0,>=2.13.0->spacy>=2.2.2->en_core_web_lg==2.2.5) (2021.10.8)\n",
            "Requirement already satisfied: urllib3!=1.25.0,!=1.25.1,<1.26,>=1.21.1 in /usr/local/lib/python3.7/dist-packages (from requests<3.0.0,>=2.13.0->spacy>=2.2.2->en_core_web_lg==2.2.5) (1.24.3)\n",
            "Building wheels for collected packages: en-core-web-lg\n",
            "  Building wheel for en-core-web-lg (setup.py) ... \u001b[?25l\u001b[?25hdone\n",
            "  Created wheel for en-core-web-lg: filename=en_core_web_lg-2.2.5-py3-none-any.whl size=829180942 sha256=c5309d7f5bd4bbbd9b9c572117fe3263d40230f54c6aeee4a1dcc4081affebd2\n",
            "  Stored in directory: /tmp/pip-ephem-wheel-cache-0iz4tt0_/wheels/11/95/ba/2c36cc368c0bd339b44a791c2c1881a1fb714b78c29a4cb8f5\n",
            "Successfully built en-core-web-lg\n",
            "Installing collected packages: en-core-web-lg\n",
            "Successfully installed en-core-web-lg-2.2.5\n",
            "\u001b[38;5;2m✔ Download and installation successful\u001b[0m\n",
            "You can now load the model via spacy.load('en_core_web_lg')\n"
          ]
        }
      ]
    },
    {
      "cell_type": "markdown",
      "metadata": {
        "id": "lgPS3E7VDSGU"
      },
      "source": [
        "##### imports"
      ]
    },
    {
      "cell_type": "code",
      "metadata": {
        "id": "6bda8VdBDXGi"
      },
      "source": [
        "import os\n",
        "from typing import *\n",
        "import numpy as np\n",
        "import pandas as pd\n",
        "from functools import lru_cache\n",
        "import turicreate as turi \n",
        "import nltk\n",
        "from nltk.tokenize import word_tokenize\n",
        "from nltk.corpus import stopwords\n",
        "from nltk.stem.porter import *\n",
        "import spacy\n",
        "from tqdm import tqdm\n",
        "import networkx as ntkx\n",
        "import matplotlib.pyplot as plt\n",
        "from textblob import TextBlob\n",
        "from afinn import Afinn\n",
        "import gensim.downloader as api\n",
        "from gensim.models import Word2Vec\n",
        "from sklearn.decomposition import PCA\n",
        "import plotly.express as px"
      ],
      "execution_count": null,
      "outputs": []
    },
    {
      "cell_type": "markdown",
      "metadata": {
        "id": "1jFb_x5IDXs6"
      },
      "source": [
        "#### Part 1 - a classifier to predict speaker"
      ]
    },
    {
      "cell_type": "code",
      "metadata": {
        "id": "3LQBbUP6Dcvc",
        "colab": {
          "base_uri": "https://localhost:8080/"
        },
        "outputId": "891a775b-d584-47f5-df70-0bbc4be910e4"
      },
      "source": [
        "path_to_friends_quotes = '/content/datasets/friends_tv/friends_quotes.csv'\n",
        "quotes_csv = pd.read_csv(path_to_friends_quotes)\n",
        "\n",
        "\n",
        "# preprocessing the dataframe - the dataset contains many authors that are not a part of the \"close\" friends (star characters of the show)\n",
        "# in total, the dataset contains X unique authors, some of them are simply corrupted data (where the author name is \"conteminated\" with the actual quote).\n",
        "# to enable more productive learning, i filter all the rows with authors that are not part of the subgroup: ['Rachel', 'Monica', 'Phoebe', 'Joey', 'Chandler', 'Ross'] (letter casing is ignored)\n",
        "# moreover, some names appear in different notation, Ross Geller for example, might appear as \"Dr. Ross\"/\"Dr. Ross Geller\" etc., therefore\n",
        "# i will convert all names to a standard naming convension as seen in the key_characters list\n",
        "key_characters = np.array(['rachel', 'monica', 'phoebe', 'joey', 'chandler', 'ross'])\n",
        "print(f'Before removing all quotes that are not said by a key character, the dataset has :{len(quotes_csv)} rows.')\n",
        "\n",
        "def convert_to_familiar_naming_convesion(names):\n",
        "  converted_names = []\n",
        "  for name in names:\n",
        "    for n in key_characters:\n",
        "      if n in name.lower():\n",
        "        converted_names.append(n)\n",
        "      else:\n",
        "        converted_names.append(name.lower())\n",
        "  return np.array(converted_names)\n",
        "\n",
        "quotes_csv[['author']] = quotes_csv[['author']].apply(convert_to_familiar_naming_convesion)\n",
        "quotes_csv = quotes_csv[quotes_csv['author'].isin(key_characters)]\n",
        "\n",
        "print(f'After removing all quotes that are not said by a key character, the dataset has :{len(quotes_csv)} rows.')"
      ],
      "execution_count": 177,
      "outputs": [
        {
          "output_type": "stream",
          "name": "stdout",
          "text": [
            "Before removing all quotes that are not said by a key character, the dataset has :60291 rows.\n",
            "After removing all quotes that are not said by a key character, the dataset has :45451 rows.\n"
          ]
        }
      ]
    },
    {
      "cell_type": "code",
      "metadata": {
        "id": "IPEQCj3ZPN9M"
      },
      "source": [
        "# creating a word2vec model based on the words in the quotes.\n",
        "import re\n",
        "import gensim\n",
        "\n",
        "tokenizer = nltk.data.load('tokenizers/punkt/english.pickle')\n",
        "re_words_split = re.compile(\"(\\w+)\")\n",
        "\n",
        "def txt2words(s):\n",
        "    s = re.sub(\"[^a-zA-Z]\", \" \", s).lower()\n",
        "    return re_words_split.findall(s)\n",
        "\n",
        "class Sentences(object):\n",
        "        def __init__(self, txt):\n",
        "            self._txt = txt\n",
        "            \n",
        "        def __iter__(self):\n",
        "            for s in tokenizer.tokenize(self._txt):                                    \n",
        "                yield txt2words(s)\n",
        "\n",
        "# We will create a Word2Vec model based on Dickens work\n",
        "txt = ' '.join(quotes_csv['quote'].values)\n",
        "sentences = Sentences(txt)\n",
        "model = gensim.models.Word2Vec(sentences, size=50, window=5, min_count=1, workers=6)"
      ],
      "execution_count": 178,
      "outputs": []
    },
    {
      "cell_type": "code",
      "metadata": {
        "colab": {
          "base_uri": "https://localhost:8080/"
        },
        "id": "45enUb7gOE8t",
        "outputId": "b59ef704-c219-4935-a1fa-3a916d76705c"
      },
      "source": [
        "df_with_features = quotes_csv[['quote','author']].copy()\n",
        "df_with_features['clean_tokens'] = df_with_features['quote'].apply(lambda x: txt2words(x))\n",
        "df_with_features['is_question'] = df_with_features['quote'].apply(lambda x: x.count('?'))\n",
        "df_with_features['is_shout'] = df_with_features['quote'].apply(lambda x: x.count('1'))\n",
        "df_with_features['n_tokens'] = df_with_features['clean_tokens'].apply(lambda x: len(x))\n",
        "\n",
        "embeddings = [np.array([model[w] for w in row]) for row in df_with_features['clean_tokens']]\n",
        "mean_embeddings = [x.mean(axis=0) if len(x.shape)>1 else x for x in embeddings]\n",
        "\n",
        "df_with_features['mean_embedding'] = mean_embeddings # .apply(lambda x: np.array([model[w] for w in x if w in model.wv.vocab]).mean())\n",
        "print(f'dataset size before removing quotes with no text: {len(df_with_features)}')\n",
        "df_with_features = df_with_features[[x.shape[0]==50 for x in df_with_features['mean_embedding']]]\n",
        "print(f'dataset size after removing quotes with no text: {len(df_with_features)}')"
      ],
      "execution_count": 179,
      "outputs": [
        {
          "output_type": "stream",
          "name": "stderr",
          "text": [
            "/usr/local/lib/python3.7/dist-packages/ipykernel_launcher.py:7: DeprecationWarning:\n",
            "\n",
            "Call to deprecated `__getitem__` (Method will be removed in 4.0.0, use self.wv.__getitem__() instead).\n",
            "\n"
          ]
        },
        {
          "output_type": "stream",
          "name": "stdout",
          "text": [
            "dataset size before removing quotes with no text: 45451\n",
            "dataset size after removing quotes with no text: 45440\n"
          ]
        }
      ]
    },
    {
      "cell_type": "code",
      "metadata": {
        "colab": {
          "base_uri": "https://localhost:8080/",
          "height": 1000
        },
        "id": "nK4z6neenmyv",
        "outputId": "593c1617-a1ec-4148-d918-4451efd3e3cf"
      },
      "source": [
        "quouts_sframe = turi.SFrame(df_with_features)\n",
        "quouts_sframe['quote_TF-IDF'] = turi.text_analytics.tf_idf(quouts_sframe['quote'])\n",
        "\n",
        "train, test = quouts_sframe.random_split(0.8)\n",
        "\n",
        "features_list = ['is_question', 'is_shout', 'n_tokens', 'mean_embedding', 'quote_TF-IDF']\n",
        "cls = turi.classifier.create(train,features=features_list, target=\"author\", verbose=True) # to enable/disable report.\n"
      ],
      "execution_count": 180,
      "outputs": [
        {
          "output_type": "stream",
          "name": "stdout",
          "text": [
            "PROGRESS: Creating a validation set from 5 percent of training data. This may take a while.\n",
            "          You can set ``validation_set=None`` to disable validation tracking.\n",
            "\n",
            "PROGRESS: The following methods are available for this type of problem.\n",
            "PROGRESS: BoostedTreesClassifier, RandomForestClassifier, DecisionTreeClassifier, LogisticClassifier\n",
            "PROGRESS: The returned model will be chosen according to validation accuracy.\n"
          ]
        },
        {
          "output_type": "display_data",
          "data": {
            "text/html": [
              "<pre>Boosted trees classifier:</pre>"
            ],
            "text/plain": [
              "Boosted trees classifier:"
            ]
          },
          "metadata": {}
        },
        {
          "output_type": "display_data",
          "data": {
            "text/html": [
              "<pre>--------------------------------------------------------</pre>"
            ],
            "text/plain": [
              "--------------------------------------------------------"
            ]
          },
          "metadata": {}
        },
        {
          "output_type": "display_data",
          "data": {
            "text/html": [
              "<pre>Number of examples          : 34498</pre>"
            ],
            "text/plain": [
              "Number of examples          : 34498"
            ]
          },
          "metadata": {}
        },
        {
          "output_type": "display_data",
          "data": {
            "text/html": [
              "<pre>Number of classes           : 6</pre>"
            ],
            "text/plain": [
              "Number of classes           : 6"
            ]
          },
          "metadata": {}
        },
        {
          "output_type": "display_data",
          "data": {
            "text/html": [
              "<pre>Number of feature columns   : 5</pre>"
            ],
            "text/plain": [
              "Number of feature columns   : 5"
            ]
          },
          "metadata": {}
        },
        {
          "output_type": "display_data",
          "data": {
            "text/html": [
              "<pre>Number of unpacked features : 32174</pre>"
            ],
            "text/plain": [
              "Number of unpacked features : 32174"
            ]
          },
          "metadata": {}
        },
        {
          "output_type": "display_data",
          "data": {
            "text/html": [
              "<pre>+-----------+--------------+-------------------+---------------------+-------------------+---------------------+</pre>"
            ],
            "text/plain": [
              "+-----------+--------------+-------------------+---------------------+-------------------+---------------------+"
            ]
          },
          "metadata": {}
        },
        {
          "output_type": "display_data",
          "data": {
            "text/html": [
              "<pre>| Iteration | Elapsed Time | Training Accuracy | Validation Accuracy | Training Log Loss | Validation Log Loss |</pre>"
            ],
            "text/plain": [
              "| Iteration | Elapsed Time | Training Accuracy | Validation Accuracy | Training Log Loss | Validation Log Loss |"
            ]
          },
          "metadata": {}
        },
        {
          "output_type": "display_data",
          "data": {
            "text/html": [
              "<pre>+-----------+--------------+-------------------+---------------------+-------------------+---------------------+</pre>"
            ],
            "text/plain": [
              "+-----------+--------------+-------------------+---------------------+-------------------+---------------------+"
            ]
          },
          "metadata": {}
        },
        {
          "output_type": "display_data",
          "data": {
            "text/html": [
              "<pre>| 1         | 0.809685     | 0.223201          | 0.199339            | 1.781749          | 1.788085            |</pre>"
            ],
            "text/plain": [
              "| 1         | 0.809685     | 0.223201          | 0.199339            | 1.781749          | 1.788085            |"
            ]
          },
          "metadata": {}
        },
        {
          "output_type": "display_data",
          "data": {
            "text/html": [
              "<pre>| 2         | 1.615814     | 0.230158          | 0.203744            | 1.774355          | 1.785703            |</pre>"
            ],
            "text/plain": [
              "| 2         | 1.615814     | 0.230158          | 0.203744            | 1.774355          | 1.785703            |"
            ]
          },
          "metadata": {}
        },
        {
          "output_type": "display_data",
          "data": {
            "text/html": [
              "<pre>| 3         | 2.679960     | 0.237637          | 0.202093            | 1.767874          | 1.783983            |</pre>"
            ],
            "text/plain": [
              "| 3         | 2.679960     | 0.237637          | 0.202093            | 1.767874          | 1.783983            |"
            ]
          },
          "metadata": {}
        },
        {
          "output_type": "display_data",
          "data": {
            "text/html": [
              "<pre>| 4         | 3.615223     | 0.244652          | 0.202093            | 1.761605          | 1.783195            |</pre>"
            ],
            "text/plain": [
              "| 4         | 3.615223     | 0.244652          | 0.202093            | 1.761605          | 1.783195            |"
            ]
          },
          "metadata": {}
        },
        {
          "output_type": "display_data",
          "data": {
            "text/html": [
              "<pre>| 5         | 4.526416     | 0.251087          | 0.202643            | 1.757141          | 1.782659            |</pre>"
            ],
            "text/plain": [
              "| 5         | 4.526416     | 0.251087          | 0.202643            | 1.757141          | 1.782659            |"
            ]
          },
          "metadata": {}
        },
        {
          "output_type": "display_data",
          "data": {
            "text/html": [
              "<pre>| 10        | 9.085803     | 0.279784          | 0.209251            | 1.734298          | 1.780392            |</pre>"
            ],
            "text/plain": [
              "| 10        | 9.085803     | 0.279784          | 0.209251            | 1.734298          | 1.780392            |"
            ]
          },
          "metadata": {}
        },
        {
          "output_type": "display_data",
          "data": {
            "text/html": [
              "<pre>+-----------+--------------+-------------------+---------------------+-------------------+---------------------+</pre>"
            ],
            "text/plain": [
              "+-----------+--------------+-------------------+---------------------+-------------------+---------------------+"
            ]
          },
          "metadata": {}
        },
        {
          "output_type": "display_data",
          "data": {
            "text/html": [
              "<pre>Random forest classifier:</pre>"
            ],
            "text/plain": [
              "Random forest classifier:"
            ]
          },
          "metadata": {}
        },
        {
          "output_type": "display_data",
          "data": {
            "text/html": [
              "<pre>--------------------------------------------------------</pre>"
            ],
            "text/plain": [
              "--------------------------------------------------------"
            ]
          },
          "metadata": {}
        },
        {
          "output_type": "display_data",
          "data": {
            "text/html": [
              "<pre>Number of examples          : 34498</pre>"
            ],
            "text/plain": [
              "Number of examples          : 34498"
            ]
          },
          "metadata": {}
        },
        {
          "output_type": "display_data",
          "data": {
            "text/html": [
              "<pre>Number of classes           : 6</pre>"
            ],
            "text/plain": [
              "Number of classes           : 6"
            ]
          },
          "metadata": {}
        },
        {
          "output_type": "display_data",
          "data": {
            "text/html": [
              "<pre>Number of feature columns   : 5</pre>"
            ],
            "text/plain": [
              "Number of feature columns   : 5"
            ]
          },
          "metadata": {}
        },
        {
          "output_type": "display_data",
          "data": {
            "text/html": [
              "<pre>Number of unpacked features : 32174</pre>"
            ],
            "text/plain": [
              "Number of unpacked features : 32174"
            ]
          },
          "metadata": {}
        },
        {
          "output_type": "display_data",
          "data": {
            "text/html": [
              "<pre>+-----------+--------------+-------------------+---------------------+-------------------+---------------------+</pre>"
            ],
            "text/plain": [
              "+-----------+--------------+-------------------+---------------------+-------------------+---------------------+"
            ]
          },
          "metadata": {}
        },
        {
          "output_type": "display_data",
          "data": {
            "text/html": [
              "<pre>| Iteration | Elapsed Time | Training Accuracy | Validation Accuracy | Training Log Loss | Validation Log Loss |</pre>"
            ],
            "text/plain": [
              "| Iteration | Elapsed Time | Training Accuracy | Validation Accuracy | Training Log Loss | Validation Log Loss |"
            ]
          },
          "metadata": {}
        },
        {
          "output_type": "display_data",
          "data": {
            "text/html": [
              "<pre>+-----------+--------------+-------------------+---------------------+-------------------+---------------------+</pre>"
            ],
            "text/plain": [
              "+-----------+--------------+-------------------+---------------------+-------------------+---------------------+"
            ]
          },
          "metadata": {}
        },
        {
          "output_type": "display_data",
          "data": {
            "text/html": [
              "<pre>| 1         | 0.831534     | 0.221085          | 0.202093            | 1.767870          | 1.788855            |</pre>"
            ],
            "text/plain": [
              "| 1         | 0.831534     | 0.221085          | 0.202093            | 1.767870          | 1.788855            |"
            ]
          },
          "metadata": {}
        },
        {
          "output_type": "display_data",
          "data": {
            "text/html": [
              "<pre>| 2         | 1.702292     | 0.231086          | 0.199890            | 1.765659          | 1.786928            |</pre>"
            ],
            "text/plain": [
              "| 2         | 1.702292     | 0.231086          | 0.199890            | 1.765659          | 1.786928            |"
            ]
          },
          "metadata": {}
        },
        {
          "output_type": "display_data",
          "data": {
            "text/html": [
              "<pre>| 3         | 2.662902     | 0.234709          | 0.203194            | 1.765146          | 1.785208            |</pre>"
            ],
            "text/plain": [
              "| 3         | 2.662902     | 0.234709          | 0.203194            | 1.765146          | 1.785208            |"
            ]
          },
          "metadata": {}
        },
        {
          "output_type": "display_data",
          "data": {
            "text/html": [
              "<pre>| 4         | 3.556994     | 0.238999          | 0.200991            | 1.764734          | 1.784612            |</pre>"
            ],
            "text/plain": [
              "| 4         | 3.556994     | 0.238999          | 0.200991            | 1.764734          | 1.784612            |"
            ]
          },
          "metadata": {}
        },
        {
          "output_type": "display_data",
          "data": {
            "text/html": [
              "<pre>| 5         | 4.359344     | 0.243927          | 0.203194            | 1.764128          | 1.784463            |</pre>"
            ],
            "text/plain": [
              "| 5         | 4.359344     | 0.243927          | 0.203194            | 1.764128          | 1.784463            |"
            ]
          },
          "metadata": {}
        },
        {
          "output_type": "display_data",
          "data": {
            "text/html": [
              "<pre>| 10        | 7.803647     | 0.244478          | 0.197687            | 1.763640          | 1.784358            |</pre>"
            ],
            "text/plain": [
              "| 10        | 7.803647     | 0.244478          | 0.197687            | 1.763640          | 1.784358            |"
            ]
          },
          "metadata": {}
        },
        {
          "output_type": "display_data",
          "data": {
            "text/html": [
              "<pre>+-----------+--------------+-------------------+---------------------+-------------------+---------------------+</pre>"
            ],
            "text/plain": [
              "+-----------+--------------+-------------------+---------------------+-------------------+---------------------+"
            ]
          },
          "metadata": {}
        },
        {
          "output_type": "display_data",
          "data": {
            "text/html": [
              "<pre>Decision tree classifier:</pre>"
            ],
            "text/plain": [
              "Decision tree classifier:"
            ]
          },
          "metadata": {}
        },
        {
          "output_type": "display_data",
          "data": {
            "text/html": [
              "<pre>--------------------------------------------------------</pre>"
            ],
            "text/plain": [
              "--------------------------------------------------------"
            ]
          },
          "metadata": {}
        },
        {
          "output_type": "display_data",
          "data": {
            "text/html": [
              "<pre>Number of examples          : 34498</pre>"
            ],
            "text/plain": [
              "Number of examples          : 34498"
            ]
          },
          "metadata": {}
        },
        {
          "output_type": "display_data",
          "data": {
            "text/html": [
              "<pre>Number of classes           : 6</pre>"
            ],
            "text/plain": [
              "Number of classes           : 6"
            ]
          },
          "metadata": {}
        },
        {
          "output_type": "display_data",
          "data": {
            "text/html": [
              "<pre>Number of feature columns   : 5</pre>"
            ],
            "text/plain": [
              "Number of feature columns   : 5"
            ]
          },
          "metadata": {}
        },
        {
          "output_type": "display_data",
          "data": {
            "text/html": [
              "<pre>Number of unpacked features : 32174</pre>"
            ],
            "text/plain": [
              "Number of unpacked features : 32174"
            ]
          },
          "metadata": {}
        },
        {
          "output_type": "display_data",
          "data": {
            "text/html": [
              "<pre>+-----------+--------------+-------------------+---------------------+-------------------+---------------------+</pre>"
            ],
            "text/plain": [
              "+-----------+--------------+-------------------+---------------------+-------------------+---------------------+"
            ]
          },
          "metadata": {}
        },
        {
          "output_type": "display_data",
          "data": {
            "text/html": [
              "<pre>| Iteration | Elapsed Time | Training Accuracy | Validation Accuracy | Training Log Loss | Validation Log Loss |</pre>"
            ],
            "text/plain": [
              "| Iteration | Elapsed Time | Training Accuracy | Validation Accuracy | Training Log Loss | Validation Log Loss |"
            ]
          },
          "metadata": {}
        },
        {
          "output_type": "display_data",
          "data": {
            "text/html": [
              "<pre>+-----------+--------------+-------------------+---------------------+-------------------+---------------------+</pre>"
            ],
            "text/plain": [
              "+-----------+--------------+-------------------+---------------------+-------------------+---------------------+"
            ]
          },
          "metadata": {}
        },
        {
          "output_type": "display_data",
          "data": {
            "text/html": [
              "<pre>| 1         | 0.840375     | 0.223201          | 0.199339            | 1.765583          | 1.785612            |</pre>"
            ],
            "text/plain": [
              "| 1         | 0.840375     | 0.223201          | 0.199339            | 1.765583          | 1.785612            |"
            ]
          },
          "metadata": {}
        },
        {
          "output_type": "display_data",
          "data": {
            "text/html": [
              "<pre>+-----------+--------------+-------------------+---------------------+-------------------+---------------------+</pre>"
            ],
            "text/plain": [
              "+-----------+--------------+-------------------+---------------------+-------------------+---------------------+"
            ]
          },
          "metadata": {}
        },
        {
          "output_type": "display_data",
          "data": {
            "text/html": [
              "<pre>Logistic regression:</pre>"
            ],
            "text/plain": [
              "Logistic regression:"
            ]
          },
          "metadata": {}
        },
        {
          "output_type": "display_data",
          "data": {
            "text/html": [
              "<pre>--------------------------------------------------------</pre>"
            ],
            "text/plain": [
              "--------------------------------------------------------"
            ]
          },
          "metadata": {}
        },
        {
          "output_type": "display_data",
          "data": {
            "text/html": [
              "<pre>Number of examples          : 34498</pre>"
            ],
            "text/plain": [
              "Number of examples          : 34498"
            ]
          },
          "metadata": {}
        },
        {
          "output_type": "display_data",
          "data": {
            "text/html": [
              "<pre>Number of classes           : 6</pre>"
            ],
            "text/plain": [
              "Number of classes           : 6"
            ]
          },
          "metadata": {}
        },
        {
          "output_type": "display_data",
          "data": {
            "text/html": [
              "<pre>Number of feature columns   : 5</pre>"
            ],
            "text/plain": [
              "Number of feature columns   : 5"
            ]
          },
          "metadata": {}
        },
        {
          "output_type": "display_data",
          "data": {
            "text/html": [
              "<pre>Number of unpacked features : 32174</pre>"
            ],
            "text/plain": [
              "Number of unpacked features : 32174"
            ]
          },
          "metadata": {}
        },
        {
          "output_type": "display_data",
          "data": {
            "text/html": [
              "<pre>Number of coefficients      : 160875</pre>"
            ],
            "text/plain": [
              "Number of coefficients      : 160875"
            ]
          },
          "metadata": {}
        },
        {
          "output_type": "display_data",
          "data": {
            "text/html": [
              "<pre>Starting L-BFGS</pre>"
            ],
            "text/plain": [
              "Starting L-BFGS"
            ]
          },
          "metadata": {}
        },
        {
          "output_type": "display_data",
          "data": {
            "text/html": [
              "<pre>--------------------------------------------------------</pre>"
            ],
            "text/plain": [
              "--------------------------------------------------------"
            ]
          },
          "metadata": {}
        },
        {
          "output_type": "display_data",
          "data": {
            "text/html": [
              "<pre>+-----------+----------+-----------+--------------+-------------------+---------------------+</pre>"
            ],
            "text/plain": [
              "+-----------+----------+-----------+--------------+-------------------+---------------------+"
            ]
          },
          "metadata": {}
        },
        {
          "output_type": "display_data",
          "data": {
            "text/html": [
              "<pre>| Iteration | Passes   | Step size | Elapsed Time | Training Accuracy | Validation Accuracy |</pre>"
            ],
            "text/plain": [
              "| Iteration | Passes   | Step size | Elapsed Time | Training Accuracy | Validation Accuracy |"
            ]
          },
          "metadata": {}
        },
        {
          "output_type": "display_data",
          "data": {
            "text/html": [
              "<pre>+-----------+----------+-----------+--------------+-------------------+---------------------+</pre>"
            ],
            "text/plain": [
              "+-----------+----------+-----------+--------------+-------------------+---------------------+"
            ]
          },
          "metadata": {}
        },
        {
          "output_type": "display_data",
          "data": {
            "text/html": [
              "<pre>| 0         | 2        | 1.000000  | 0.330321     | 0.360485          | 0.204295            |</pre>"
            ],
            "text/plain": [
              "| 0         | 2        | 1.000000  | 0.330321     | 0.360485          | 0.204295            |"
            ]
          },
          "metadata": {}
        },
        {
          "output_type": "display_data",
          "data": {
            "text/html": [
              "<pre>| 1         | 4        | 1.000000  | 3.954410     | 0.559308          | 0.213656            |</pre>"
            ],
            "text/plain": [
              "| 1         | 4        | 1.000000  | 3.954410     | 0.559308          | 0.213656            |"
            ]
          },
          "metadata": {}
        },
        {
          "output_type": "display_data",
          "data": {
            "text/html": [
              "<pre>| 2         | 5        | 1.000000  | 7.407693     | 0.608615          | 0.193833            |</pre>"
            ],
            "text/plain": [
              "| 2         | 5        | 1.000000  | 7.407693     | 0.608615          | 0.193833            |"
            ]
          },
          "metadata": {}
        },
        {
          "output_type": "display_data",
          "data": {
            "text/html": [
              "<pre>| 3         | 6        | 1.000000  | 10.913519    | 0.653893          | 0.198238            |</pre>"
            ],
            "text/plain": [
              "| 3         | 6        | 1.000000  | 10.913519    | 0.653893          | 0.198238            |"
            ]
          },
          "metadata": {}
        },
        {
          "output_type": "display_data",
          "data": {
            "text/html": [
              "<pre>| 4         | 7        | 1.000000  | 14.462892    | 0.670126          | 0.189427            |</pre>"
            ],
            "text/plain": [
              "| 4         | 7        | 1.000000  | 14.462892    | 0.670126          | 0.189427            |"
            ]
          },
          "metadata": {}
        },
        {
          "output_type": "display_data",
          "data": {
            "text/html": [
              "<pre>| 6         | 10       | 1.000000  | 21.672502    | 0.706215          | 0.194934            |</pre>"
            ],
            "text/plain": [
              "| 6         | 10       | 1.000000  | 21.672502    | 0.706215          | 0.194934            |"
            ]
          },
          "metadata": {}
        },
        {
          "output_type": "display_data",
          "data": {
            "text/html": [
              "<pre>| 7         | 11       | 1.000000  | 25.170870    | 0.718882          | 0.191630            |</pre>"
            ],
            "text/plain": [
              "| 7         | 11       | 1.000000  | 25.170870    | 0.718882          | 0.191630            |"
            ]
          },
          "metadata": {}
        },
        {
          "output_type": "display_data",
          "data": {
            "text/html": [
              "<pre>| 8         | 12       | 1.000000  | 28.662924    | 0.727752          | 0.191630            |</pre>"
            ],
            "text/plain": [
              "| 8         | 12       | 1.000000  | 28.662924    | 0.727752          | 0.191630            |"
            ]
          },
          "metadata": {}
        },
        {
          "output_type": "display_data",
          "data": {
            "text/html": [
              "<pre>| 9         | 13       | 1.000000  | 32.196298    | 0.744420          | 0.192181            |</pre>"
            ],
            "text/plain": [
              "| 9         | 13       | 1.000000  | 32.196298    | 0.744420          | 0.192181            |"
            ]
          },
          "metadata": {}
        },
        {
          "output_type": "display_data",
          "data": {
            "text/html": [
              "<pre>+-----------+----------+-----------+--------------+-------------------+---------------------+</pre>"
            ],
            "text/plain": [
              "+-----------+----------+-----------+--------------+-------------------+---------------------+"
            ]
          },
          "metadata": {}
        },
        {
          "output_type": "stream",
          "name": "stdout",
          "text": [
            "PROGRESS: Model selection based on validation accuracy:\n",
            "PROGRESS: ---------------------------------------------\n",
            "PROGRESS: BoostedTreesClassifier          : 0.2092511013215859\n",
            "PROGRESS: RandomForestClassifier          : 0.19768722466960353\n",
            "PROGRESS: DecisionTreeClassifier          : 0.19933920704845814\n",
            "PROGRESS: LogisticClassifier              : 0.1921806167400881\n",
            "PROGRESS: ---------------------------------------------\n",
            "PROGRESS: Selecting BoostedTreesClassifier based on validation set performance.\n"
          ]
        }
      ]
    },
    {
      "cell_type": "code",
      "metadata": {
        "colab": {
          "base_uri": "https://localhost:8080/"
        },
        "id": "xx3pAE7znRi4",
        "outputId": "9bad7627-49e2-454d-da6c-3ac9cb1b82fe"
      },
      "source": [
        "def predict_speaker_of_text(raw_text: str, model=model,cls = cls):\n",
        "  df_with_features = pd.DataFrame()\n",
        "  df_with_features['clean_tokens'] = [txt2words(raw_text) ]\n",
        "  df_with_features['is_question'] = raw_text.count('?')\n",
        "  df_with_features['is_shout'] = raw_text.count('!')\n",
        "  df_with_features['n_tokens'] = len(txt2words(raw_text))\n",
        "  print(df_with_features)\n",
        "  embeddings = np.array([model[w] for w in txt2words(raw_text) if w in model.wv.vocab]).mean(axis=0)\n",
        "  mean_embeddings = [x.mean(axis=0) if len(x.shape)>1 else x for x in embeddings]\n",
        "  df_with_features['mean_embedding'] = [mean_embeddings]\n",
        "  prediction_sframe = turi.SFrame(df_with_features)\n",
        "  prediction_sframe['quote_TF-IDF'] = turi.text_analytics.tf_idf(turi.SArray([raw_text]))\n",
        "  return cls.predict(prediction_sframe)[0]\n",
        "\n",
        "a_random_sentence = 'Drama is all i need'\n",
        "\n",
        "print(f'the model predicted that the sentence:\\n\"{a_random_sentence}\"\\nwas said by:{predict_speaker_of_text(a_random_sentence)}')\n",
        "\n",
        "a_random_sentence = 'some of us have work to do'\n",
        "print(f'the model predicted that the sentence:\\n\"{a_random_sentence}\"\\nwas said by:{predict_speaker_of_text(a_random_sentence)}')"
      ],
      "execution_count": 181,
      "outputs": [
        {
          "output_type": "stream",
          "name": "stdout",
          "text": [
            "                clean_tokens  is_question  is_shout  n_tokens\n",
            "0  [drama, is, all, i, need]            0         0         5\n",
            "the model predicted that the sentence:\n",
            "\"Drama is all i need\"\n",
            "was said by:ross\n",
            "                         clean_tokens  is_question  is_shout  n_tokens\n",
            "0  [some, of, us, have, work, to, do]            0         0         7\n",
            "the model predicted that the sentence:\n",
            "\"some of us have work to do\"\n",
            "was said by:monica\n"
          ]
        },
        {
          "output_type": "stream",
          "name": "stderr",
          "text": [
            "/usr/local/lib/python3.7/dist-packages/ipykernel_launcher.py:8: DeprecationWarning:\n",
            "\n",
            "Call to deprecated `__getitem__` (Method will be removed in 4.0.0, use self.wv.__getitem__() instead).\n",
            "\n",
            "/usr/local/lib/python3.7/dist-packages/ipykernel_launcher.py:8: DeprecationWarning:\n",
            "\n",
            "Call to deprecated `__getitem__` (Method will be removed in 4.0.0, use self.wv.__getitem__() instead).\n",
            "\n"
          ]
        }
      ]
    },
    {
      "cell_type": "markdown",
      "metadata": {
        "id": "L2xyOEMADc6Q"
      },
      "source": [
        "### Part 2 - Friendliest friends"
      ]
    },
    {
      "cell_type": "code",
      "metadata": {
        "id": "gfbUEAhODja3",
        "colab": {
          "base_uri": "https://localhost:8080/"
        },
        "outputId": "a7190c4c-a95e-4b8c-9044-4e43ee34e8a1"
      },
      "source": [
        "!pip install textblob"
      ],
      "execution_count": null,
      "outputs": [
        {
          "output_type": "stream",
          "name": "stdout",
          "text": [
            "Requirement already satisfied: textblob in /usr/local/lib/python3.7/dist-packages (0.15.3)\n",
            "Requirement already satisfied: nltk>=3.1 in /usr/local/lib/python3.7/dist-packages (from textblob) (3.2.5)\n",
            "Requirement already satisfied: six in /usr/local/lib/python3.7/dist-packages (from nltk>=3.1->textblob) (1.15.0)\n"
          ]
        }
      ]
    },
    {
      "cell_type": "code",
      "metadata": {
        "id": "2FBIks8la1vV",
        "colab": {
          "base_uri": "https://localhost:8080/"
        },
        "outputId": "41e44330-a39c-4923-d869-fd201141d2fb"
      },
      "source": [
        "path_to_friends_quotes = '/content/datasets/friends_tv/friends_quotes.csv'\n",
        "quotes_csv = pd.read_csv(path_to_friends_quotes)\n",
        "\n",
        "# preprocessing the dataframe - the dataset contains many authors that are not a part of the \"close\" friends (star characters of the show)\n",
        "# in total, the dataset contains X unique authors, some of them are simply corrupted data (where the author name is \"conteminated\" with the actual quote).\n",
        "# to enable more productive learning, i filter all the rows with authors that are not part of the subgroup: ['Rachel', 'Monica', 'Phoebe', 'Joey', 'Chandler', 'Ross'] (letter casing is ignored)\n",
        "# moreover, some names appear in different notation, Ross Geller for example, might appear as \"Dr. Ross\"/\"Dr. Ross Geller\" etc., therefore\n",
        "# i will convert all names to a standard naming convension as seen in the key_characters list\n",
        "key_characters = np.array(['rachel', 'monica', 'phoebe', 'joey', 'chandler', 'ross'])\n",
        "print(f'Before removing all quotes that are not said by a key character, the dataset has :{len(quotes_csv)} rows.')\n",
        "\n",
        "def convert_to_familiar_naming_convesion(names):\n",
        "  converted_names = []\n",
        "  for name in names:\n",
        "    for n in key_characters:\n",
        "      if n in name.lower():\n",
        "        converted_names.append(n)\n",
        "      else:\n",
        "        converted_names.append(name.lower())\n",
        "  return np.array(converted_names)\n",
        "\n",
        "quotes_csv[['author']] = quotes_csv[['author']].apply(convert_to_familiar_naming_convesion)\n",
        "quotes_csv = quotes_csv[quotes_csv['author'].isin(key_characters)]\n",
        "\n",
        "print(f'After removing all quotes that are not said by a key character, the dataset has :{len(quotes_csv)} rows.')\n"
      ],
      "execution_count": 182,
      "outputs": [
        {
          "output_type": "stream",
          "name": "stdout",
          "text": [
            "Before removing all quotes that are not said by a key character, the dataset has :60291 rows.\n",
            "After removing all quotes that are not said by a key character, the dataset has :45451 rows.\n"
          ]
        }
      ]
    },
    {
      "cell_type": "code",
      "metadata": {
        "id": "mL7nnt38ahpo"
      },
      "source": [
        "# for each quote, the polarity and subjectivity from textblob and score from affin will be calculated\n",
        "# for each friend, we will calculate a mean score of all the quotes he said.\n",
        "# we will show which friend was the least friendly ever (a single worst quote) and the most friednly.\n",
        "# and which of the friends is the friendliest and least friendly on average (the mean score) \n",
        "quotes_textblob_and_afinn_features_df = pd.DataFrame()\n",
        "features_list = [\n",
        "                 'TextBlob text polarity', \n",
        "                 'TextBlob text subjectivity', \n",
        "                 'Afinn text score',\n",
        "                 ]\n",
        "# TextBlob features\n",
        "textblob_text_polarity = quotes_csv['quote'].apply(lambda quote: TextBlob(quote).sentiment.polarity)\n",
        "quotes_textblob_and_afinn_features_df['TextBlob text polarity'] = textblob_text_polarity\n",
        "\n",
        "textblob_text_subjectivity = quotes_csv['quote'].apply(lambda quote: TextBlob(quote).sentiment.subjectivity)\n",
        "quotes_textblob_and_afinn_features_df['TextBlob text subjectivity'] = textblob_text_subjectivity\n",
        "# Afinn features\n",
        "afinn = Afinn()\n",
        "afinn_text_score = quotes_csv['quote'].apply(lambda t: afinn.score(t))\n",
        "quotes_textblob_and_afinn_features_df['Afinn text score'] = afinn_text_score\n",
        "# original data\n",
        "quotes_textblob_and_afinn_features_df['org_quote'] = quotes_csv['quote']\n",
        "quotes_textblob_and_afinn_features_df['author'] = quotes_csv['author']\n",
        "\n",
        "quotes_textblob_and_afinn_features_sframe = turi.SFrame(quotes_textblob_and_afinn_features_df)"
      ],
      "execution_count": 183,
      "outputs": []
    },
    {
      "cell_type": "code",
      "metadata": {
        "id": "0RttNsDKahwf",
        "colab": {
          "base_uri": "https://localhost:8080/",
          "height": 265
        },
        "outputId": "9eb7d209-004c-4227-8b87-14af34a8d96f"
      },
      "source": [
        "# to examine how all quotes differ, we will perform a PCA on the scores, coloring the PCs' datapoints by author\n",
        "pca = PCA(n_components=3)\n",
        "pca_comp = pca.fit_transform(quotes_textblob_and_afinn_features_sframe[['TextBlob text polarity', 'TextBlob text subjectivity', 'Afinn text score']].to_numpy())\n",
        "pc_df = pd.DataFrame(data = pca_comp, columns = ['PC1', 'PC2', 'PC3'])\n",
        "\n",
        "pc_with_author_df = pd.concat([pc_df, quotes_textblob_and_afinn_features_sframe[['author']].to_dataframe()], axis = 1)\n",
        "# px.scatter_3d(pc_with_author_df, x=\"PC1\", y=\"PC2\",z=\"PC3\", color=\"author\")\n",
        "fig, ax = plt.subplots()\n",
        "x_axis = np.arange(0, len(pc_df), 1)\n",
        "ax.plot(x_axis, pc_df[['PC1']].values, color='red')\n",
        "ax.plot(x_axis, pc_df[['PC2']].values, color='green')\n",
        "ax.plot(x_axis, pc_df[['PC3']].values, color='yellow')\n",
        "plt.show()"
      ],
      "execution_count": 184,
      "outputs": [
        {
          "output_type": "display_data",
          "data": {
            "image/png": "[encoded data removed]",
            "text/plain": [
              "<Figure size 432x288 with 1 Axes>"
            ]
          },
          "metadata": {
            "needs_background": "light"
          }
        }
      ]
    },
    {
      "cell_type": "markdown",
      "metadata": {
        "id": "ku9hP7fw80sW"
      },
      "source": [
        "According to the PC analysis, PC #1 is responsible for the majority of variance in the extracted features values. \n",
        "Therefore, by checking the correlation of PC1 with all original features, the most correlated feature with PC1 will represent the level of friendliesness of the quote. By averaging all scores of the most correlated feature (by author), we can infer which author is the frienliest friend."
      ]
    },
    {
      "cell_type": "code",
      "metadata": {
        "id": "qhAGs4qyahzd",
        "colab": {
          "base_uri": "https://localhost:8080/",
          "height": 304
        },
        "outputId": "509d88c7-c905-49d3-b99d-741c84e5bd6e"
      },
      "source": [
        "from scipy.stats import pearsonr as pr\n",
        "def correlate_pc1_with_all_features(pc_values=pc_df[['PC1']], \n",
        "                                    data_sf=quotes_textblob_and_afinn_features_sframe,\n",
        "                                    features_to_correlate=['TextBlob text polarity', 'TextBlob text subjectivity', 'Afinn text score']):\n",
        "  features_scores_df = pd.DataFrame(columns=[f'feature_name', 'correlation_with_pc'])\n",
        "  features_scores = []\n",
        "  for f_idx, f_name in enumerate(features_to_correlate):\n",
        "    features_scores.append(pr(data_sf[[f_name]].to_numpy().flatten(), pc_values.values.flatten())[0])\n",
        "  \n",
        "  features_scores_df[f'feature_name'] = features_to_correlate\n",
        "  features_scores_df[f'correlation_with_pc'] = features_scores\n",
        "  fig, ax = plt.subplots()\n",
        "  print(np.arange(0, len(features_to_correlate), 1))\n",
        "  print(features_scores)\n",
        "\n",
        "  ax.bar(np.arange(0, len(features_to_correlate), 1), features_scores)\n",
        "  ax.set_xticks(np.arange(0, len(features_to_correlate), 1))\n",
        "  ax.set_xticklabels(features_to_correlate)\n",
        "  # fig = px.bar(features_scores_df, x='feature_name', y='correlation_with_pc')\n",
        "  # fig.show()\n",
        "  plt.show()\n",
        "\n",
        "correlate_pc1_with_all_features()"
      ],
      "execution_count": 185,
      "outputs": [
        {
          "output_type": "stream",
          "name": "stdout",
          "text": [
            "[0 1 2]\n",
            "[-0.45516310488785805, -0.18804413409521656, -0.9999691138874773]\n"
          ]
        },
        {
          "output_type": "display_data",
          "data": {
            "image/png": "[encoded data removed]",
            "text/plain": [
              "<Figure size 432x288 with 1 Axes>"
            ]
          },
          "metadata": {
            "needs_background": "light"
          }
        }
      ]
    },
    {
      "cell_type": "markdown",
      "metadata": {
        "id": "9YUBqLi4_9aM"
      },
      "source": [
        "The feature \"Afinn text score\" is the most (negatively) correlated with PC1, therefore, we will average the feature's scores by author name and rank all authors by the mean score."
      ]
    },
    {
      "cell_type": "code",
      "metadata": {
        "id": "GHeMs_sYAPdG",
        "colab": {
          "base_uri": "https://localhost:8080/",
          "height": 542
        },
        "outputId": "f3c3c5a0-8a18-41d8-9bc3-7a84b5db846d"
      },
      "source": [
        "import turicreate.aggregate as agg\n",
        "\n",
        "chosen_feature_name = 'Afinn text score'\n",
        "authors_friendlieness_scores = quotes_textblob_and_afinn_features_sframe.groupby('author', operations={f'mean_{chosen_feature_name}': agg.MEAN(chosen_feature_name)})\n",
        "sorted_authors_friendlieness_scores = authors_friendlieness_scores.sort(f'mean_{chosen_feature_name}', ascending=False)\n",
        "\n",
        "fig = px.bar(sorted_authors_friendlieness_scores, x='author', y=f'mean_{chosen_feature_name}')\n",
        "fig.show()"
      ],
      "execution_count": 186,
      "outputs": [
        {
          "output_type": "display_data",
          "data": {
            "text/html": [
              "<html>\n",
              "<head><meta charset=\"utf-8\" /></head>\n",
              "<body>\n",
              "    <div>\n",
              "            <script src=\"https://cdnjs.cloudflare.com/ajax/libs/mathjax/2.7.5/MathJax.js?config=TeX-AMS-MML_SVG\"></script><script type=\"text/javascript\">if (window.MathJax) {MathJax.Hub.Config({SVG: {font: \"STIX-Web\"}});}</script>\n",
              "                <script type=\"text/javascript\">window.PlotlyConfig = {MathJaxConfig: 'local'};</script>\n",
              "        <script src=\"https://cdn.plot.ly/plotly-latest.min.js\"></script>    \n",
              "            <div id=\"697bf230-a198-4394-8028-22ca4c26e18d\" class=\"plotly-graph-div\" style=\"height:525px; width:100%;\"></div>\n",
              "            <script type=\"text/javascript\">\n",
              "                \n",
              "                    window.PLOTLYENV=window.PLOTLYENV || {};\n",
              "                    \n",
              "                if (document.getElementById(\"697bf230-a198-4394-8028-22ca4c26e18d\")) {\n",
              "                    Plotly.newPlot(\n",
              "                        '697bf230-a198-4394-8028-22ca4c26e18d',\n",
              "                        [{\"alignmentgroup\": \"True\", \"hoverlabel\": {\"namelength\": 0}, \"hovertemplate\": \"author=%{x}<br>mean_Afinn text score=%{y}\", \"legendgroup\": \"\", \"marker\": {\"color\": \"#636efa\"}, \"name\": \"\", \"offsetgroup\": \"\", \"orientation\": \"v\", \"showlegend\": false, \"textposition\": \"auto\", \"type\": \"bar\", \"x\": [\"chandler\", \"phoebe\", \"ross\", \"joey\", \"rachel\", \"monica\"], \"xaxis\": \"x\", \"y\": [0.5395156998403406, 0.52640236881066, 0.5255651806465244, 0.4943872059049671, 0.48604769152714355, 0.4652005497938274], \"yaxis\": \"y\"}],\n",
              "                        {\"barmode\": \"relative\", \"legend\": {\"tracegroupgap\": 0}, \"margin\": {\"t\": 60}, \"template\": {\"data\": {\"bar\": [{\"error_x\": {\"color\": \"#2a3f5f\"}, \"error_y\": {\"color\": \"#2a3f5f\"}, \"marker\": {\"line\": {\"color\": \"#E5ECF6\", \"width\": 0.5}}, \"type\": \"bar\"}], \"barpolar\": [{\"marker\": {\"line\": {\"color\": \"#E5ECF6\", \"width\": 0.5}}, \"type\": \"barpolar\"}], \"carpet\": [{\"aaxis\": {\"endlinecolor\": \"#2a3f5f\", \"gridcolor\": \"white\", \"linecolor\": \"white\", \"minorgridcolor\": \"white\", \"startlinecolor\": \"#2a3f5f\"}, \"baxis\": {\"endlinecolor\": \"#2a3f5f\", \"gridcolor\": \"white\", \"linecolor\": \"white\", \"minorgridcolor\": \"white\", \"startlinecolor\": \"#2a3f5f\"}, \"type\": \"carpet\"}], \"choropleth\": [{\"colorbar\": {\"outlinewidth\": 0, \"ticks\": \"\"}, \"type\": \"choropleth\"}], \"contour\": [{\"colorbar\": {\"outlinewidth\": 0, \"ticks\": \"\"}, \"colorscale\": [[0.0, \"#0d0887\"], [0.1111111111111111, \"#46039f\"], [0.2222222222222222, \"#7201a8\"], [0.3333333333333333, \"#9c179e\"], [0.4444444444444444, \"#bd3786\"], [0.5555555555555556, \"#d8576b\"], [0.6666666666666666, \"#ed7953\"], [0.7777777777777778, \"#fb9f3a\"], [0.8888888888888888, \"#fdca26\"], [1.0, \"#f0f921\"]], \"type\": \"contour\"}], \"contourcarpet\": [{\"colorbar\": {\"outlinewidth\": 0, \"ticks\": \"\"}, \"type\": \"contourcarpet\"}], \"heatmap\": [{\"colorbar\": {\"outlinewidth\": 0, \"ticks\": \"\"}, \"colorscale\": [[0.0, \"#0d0887\"], [0.1111111111111111, \"#46039f\"], [0.2222222222222222, \"#7201a8\"], [0.3333333333333333, \"#9c179e\"], [0.4444444444444444, \"#bd3786\"], [0.5555555555555556, \"#d8576b\"], [0.6666666666666666, \"#ed7953\"], [0.7777777777777778, \"#fb9f3a\"], [0.8888888888888888, \"#fdca26\"], [1.0, \"#f0f921\"]], \"type\": \"heatmap\"}], \"heatmapgl\": [{\"colorbar\": {\"outlinewidth\": 0, \"ticks\": \"\"}, \"colorscale\": [[0.0, \"#0d0887\"], [0.1111111111111111, \"#46039f\"], [0.2222222222222222, \"#7201a8\"], [0.3333333333333333, \"#9c179e\"], [0.4444444444444444, \"#bd3786\"], [0.5555555555555556, \"#d8576b\"], [0.6666666666666666, \"#ed7953\"], [0.7777777777777778, \"#fb9f3a\"], [0.8888888888888888, \"#fdca26\"], [1.0, \"#f0f921\"]], \"type\": \"heatmapgl\"}], \"histogram\": [{\"marker\": {\"colorbar\": {\"outlinewidth\": 0, \"ticks\": \"\"}}, \"type\": \"histogram\"}], \"histogram2d\": [{\"colorbar\": {\"outlinewidth\": 0, \"ticks\": \"\"}, \"colorscale\": [[0.0, \"#0d0887\"], [0.1111111111111111, \"#46039f\"], [0.2222222222222222, \"#7201a8\"], [0.3333333333333333, \"#9c179e\"], [0.4444444444444444, \"#bd3786\"], [0.5555555555555556, \"#d8576b\"], [0.6666666666666666, \"#ed7953\"], [0.7777777777777778, \"#fb9f3a\"], [0.8888888888888888, \"#fdca26\"], [1.0, \"#f0f921\"]], \"type\": \"histogram2d\"}], \"histogram2dcontour\": [{\"colorbar\": {\"outlinewidth\": 0, \"ticks\": \"\"}, \"colorscale\": [[0.0, \"#0d0887\"], [0.1111111111111111, \"#46039f\"], [0.2222222222222222, \"#7201a8\"], [0.3333333333333333, \"#9c179e\"], [0.4444444444444444, \"#bd3786\"], [0.5555555555555556, \"#d8576b\"], [0.6666666666666666, \"#ed7953\"], [0.7777777777777778, \"#fb9f3a\"], [0.8888888888888888, \"#fdca26\"], [1.0, \"#f0f921\"]], \"type\": \"histogram2dcontour\"}], \"mesh3d\": [{\"colorbar\": {\"outlinewidth\": 0, \"ticks\": \"\"}, \"type\": \"mesh3d\"}], \"parcoords\": [{\"line\": {\"colorbar\": {\"outlinewidth\": 0, \"ticks\": \"\"}}, \"type\": \"parcoords\"}], \"pie\": [{\"automargin\": true, \"type\": \"pie\"}], \"scatter\": [{\"marker\": {\"colorbar\": {\"outlinewidth\": 0, \"ticks\": \"\"}}, \"type\": \"scatter\"}], \"scatter3d\": [{\"line\": {\"colorbar\": {\"outlinewidth\": 0, \"ticks\": \"\"}}, \"marker\": {\"colorbar\": {\"outlinewidth\": 0, \"ticks\": \"\"}}, \"type\": \"scatter3d\"}], \"scattercarpet\": [{\"marker\": {\"colorbar\": {\"outlinewidth\": 0, \"ticks\": \"\"}}, \"type\": \"scattercarpet\"}], \"scattergeo\": [{\"marker\": {\"colorbar\": {\"outlinewidth\": 0, \"ticks\": \"\"}}, \"type\": \"scattergeo\"}], \"scattergl\": [{\"marker\": {\"colorbar\": {\"outlinewidth\": 0, \"ticks\": \"\"}}, \"type\": \"scattergl\"}], \"scattermapbox\": [{\"marker\": {\"colorbar\": {\"outlinewidth\": 0, \"ticks\": \"\"}}, \"type\": \"scattermapbox\"}], \"scatterpolar\": [{\"marker\": {\"colorbar\": {\"outlinewidth\": 0, \"ticks\": \"\"}}, \"type\": \"scatterpolar\"}], \"scatterpolargl\": [{\"marker\": {\"colorbar\": {\"outlinewidth\": 0, \"ticks\": \"\"}}, \"type\": \"scatterpolargl\"}], \"scatterternary\": [{\"marker\": {\"colorbar\": {\"outlinewidth\": 0, \"ticks\": \"\"}}, \"type\": \"scatterternary\"}], \"surface\": [{\"colorbar\": {\"outlinewidth\": 0, \"ticks\": \"\"}, \"colorscale\": [[0.0, \"#0d0887\"], [0.1111111111111111, \"#46039f\"], [0.2222222222222222, \"#7201a8\"], [0.3333333333333333, \"#9c179e\"], [0.4444444444444444, \"#bd3786\"], [0.5555555555555556, \"#d8576b\"], [0.6666666666666666, \"#ed7953\"], [0.7777777777777778, \"#fb9f3a\"], [0.8888888888888888, \"#fdca26\"], [1.0, \"#f0f921\"]], \"type\": \"surface\"}], \"table\": [{\"cells\": {\"fill\": {\"color\": \"#EBF0F8\"}, \"line\": {\"color\": \"white\"}}, \"header\": {\"fill\": {\"color\": \"#C8D4E3\"}, \"line\": {\"color\": \"white\"}}, \"type\": \"table\"}]}, \"layout\": {\"annotationdefaults\": {\"arrowcolor\": \"#2a3f5f\", \"arrowhead\": 0, \"arrowwidth\": 1}, \"coloraxis\": {\"colorbar\": {\"outlinewidth\": 0, \"ticks\": \"\"}}, \"colorscale\": {\"diverging\": [[0, \"#8e0152\"], [0.1, \"#c51b7d\"], [0.2, \"#de77ae\"], [0.3, \"#f1b6da\"], [0.4, \"#fde0ef\"], [0.5, \"#f7f7f7\"], [0.6, \"#e6f5d0\"], [0.7, \"#b8e186\"], [0.8, \"#7fbc41\"], [0.9, \"#4d9221\"], [1, \"#276419\"]], \"sequential\": [[0.0, \"#0d0887\"], [0.1111111111111111, \"#46039f\"], [0.2222222222222222, \"#7201a8\"], [0.3333333333333333, \"#9c179e\"], [0.4444444444444444, \"#bd3786\"], [0.5555555555555556, \"#d8576b\"], [0.6666666666666666, \"#ed7953\"], [0.7777777777777778, \"#fb9f3a\"], [0.8888888888888888, \"#fdca26\"], [1.0, \"#f0f921\"]], \"sequentialminus\": [[0.0, \"#0d0887\"], [0.1111111111111111, \"#46039f\"], [0.2222222222222222, \"#7201a8\"], [0.3333333333333333, \"#9c179e\"], [0.4444444444444444, \"#bd3786\"], [0.5555555555555556, \"#d8576b\"], [0.6666666666666666, \"#ed7953\"], [0.7777777777777778, \"#fb9f3a\"], [0.8888888888888888, \"#fdca26\"], [1.0, \"#f0f921\"]]}, \"colorway\": [\"#636efa\", \"#EF553B\", \"#00cc96\", \"#ab63fa\", \"#FFA15A\", \"#19d3f3\", \"#FF6692\", \"#B6E880\", \"#FF97FF\", \"#FECB52\"], \"font\": {\"color\": \"#2a3f5f\"}, \"geo\": {\"bgcolor\": \"white\", \"lakecolor\": \"white\", \"landcolor\": \"#E5ECF6\", \"showlakes\": true, \"showland\": true, \"subunitcolor\": \"white\"}, \"hoverlabel\": {\"align\": \"left\"}, \"hovermode\": \"closest\", \"mapbox\": {\"style\": \"light\"}, \"paper_bgcolor\": \"white\", \"plot_bgcolor\": \"#E5ECF6\", \"polar\": {\"angularaxis\": {\"gridcolor\": \"white\", \"linecolor\": \"white\", \"ticks\": \"\"}, \"bgcolor\": \"#E5ECF6\", \"radialaxis\": {\"gridcolor\": \"white\", \"linecolor\": \"white\", \"ticks\": \"\"}}, \"scene\": {\"xaxis\": {\"backgroundcolor\": \"#E5ECF6\", \"gridcolor\": \"white\", \"gridwidth\": 2, \"linecolor\": \"white\", \"showbackground\": true, \"ticks\": \"\", \"zerolinecolor\": \"white\"}, \"yaxis\": {\"backgroundcolor\": \"#E5ECF6\", \"gridcolor\": \"white\", \"gridwidth\": 2, \"linecolor\": \"white\", \"showbackground\": true, \"ticks\": \"\", \"zerolinecolor\": \"white\"}, \"zaxis\": {\"backgroundcolor\": \"#E5ECF6\", \"gridcolor\": \"white\", \"gridwidth\": 2, \"linecolor\": \"white\", \"showbackground\": true, \"ticks\": \"\", \"zerolinecolor\": \"white\"}}, \"shapedefaults\": {\"line\": {\"color\": \"#2a3f5f\"}}, \"ternary\": {\"aaxis\": {\"gridcolor\": \"white\", \"linecolor\": \"white\", \"ticks\": \"\"}, \"baxis\": {\"gridcolor\": \"white\", \"linecolor\": \"white\", \"ticks\": \"\"}, \"bgcolor\": \"#E5ECF6\", \"caxis\": {\"gridcolor\": \"white\", \"linecolor\": \"white\", \"ticks\": \"\"}}, \"title\": {\"x\": 0.05}, \"xaxis\": {\"automargin\": true, \"gridcolor\": \"white\", \"linecolor\": \"white\", \"ticks\": \"\", \"title\": {\"standoff\": 15}, \"zerolinecolor\": \"white\", \"zerolinewidth\": 2}, \"yaxis\": {\"automargin\": true, \"gridcolor\": \"white\", \"linecolor\": \"white\", \"ticks\": \"\", \"title\": {\"standoff\": 15}, \"zerolinecolor\": \"white\", \"zerolinewidth\": 2}}}, \"xaxis\": {\"anchor\": \"y\", \"domain\": [0.0, 1.0], \"title\": {\"text\": \"author\"}}, \"yaxis\": {\"anchor\": \"x\", \"domain\": [0.0, 1.0], \"title\": {\"text\": \"mean_Afinn text score\"}}},\n",
              "                        {\"responsive\": true}\n",
              "                    ).then(function(){\n",
              "                            \n",
              "var gd = document.getElementById('697bf230-a198-4394-8028-22ca4c26e18d');\n",
              "var x = new MutationObserver(function (mutations, observer) {{\n",
              "        var display = window.getComputedStyle(gd).display;\n",
              "        if (!display || display === 'none') {{\n",
              "            console.log([gd, 'removed!']);\n",
              "            Plotly.purge(gd);\n",
              "            observer.disconnect();\n",
              "        }}\n",
              "}});\n",
              "\n",
              "// Listen for the removal of the full notebook cells\n",
              "var notebookContainer = gd.closest('#notebook-container');\n",
              "if (notebookContainer) {{\n",
              "    x.observe(notebookContainer, {childList: true});\n",
              "}}\n",
              "\n",
              "// Listen for the clearing of the current output cell\n",
              "var outputEl = gd.closest('.output');\n",
              "if (outputEl) {{\n",
              "    x.observe(outputEl, {childList: true});\n",
              "}}\n",
              "\n",
              "                        })\n",
              "                };\n",
              "                \n",
              "            </script>\n",
              "        </div>\n",
              "</body>\n",
              "</html>"
            ]
          },
          "metadata": {}
        }
      ]
    },
    {
      "cell_type": "markdown",
      "metadata": {
        "id": "bhN4G89UMRFE"
      },
      "source": [
        "As we can see, Chandler is the most unfriendly friend, while Monica is the friendliest one."
      ]
    },
    {
      "cell_type": "markdown",
      "metadata": {
        "id": "zpwf-nJuDjjS"
      },
      "source": [
        "### Part 3 - Season of quotes text classifier"
      ]
    },
    {
      "cell_type": "code",
      "metadata": {
        "id": "IIh11ESmDMEm",
        "colab": {
          "base_uri": "https://localhost:8080/",
          "height": 208
        },
        "outputId": "9b2a6312-3a90-4a41-e94b-e44a22f460c3"
      },
      "source": [
        "quotes_sframe_org = turi.SFrame.read_csv('/content/datasets/friends_tv/friends_quotes.csv')"
      ],
      "execution_count": 187,
      "outputs": [
        {
          "output_type": "display_data",
          "data": {
            "text/html": [
              "<pre>Finished parsing file /content/datasets/friends_tv/friends_quotes.csv</pre>"
            ],
            "text/plain": [
              "Finished parsing file /content/datasets/friends_tv/friends_quotes.csv"
            ]
          },
          "metadata": {}
        },
        {
          "output_type": "display_data",
          "data": {
            "text/html": [
              "<pre>Parsing completed. Parsed 100 lines in 0.159863 secs.</pre>"
            ],
            "text/plain": [
              "Parsing completed. Parsed 100 lines in 0.159863 secs."
            ]
          },
          "metadata": {}
        },
        {
          "output_type": "stream",
          "name": "stdout",
          "text": [
            "------------------------------------------------------\n",
            "Inferred types from first 100 line(s) of file as \n",
            "column_type_hints=[str,float,str,str,float,float]\n",
            "If parsing fails due to incorrect types, you can correct\n",
            "the inferred type list above and pass it to read_csv in\n",
            "the column_type_hints argument\n",
            "------------------------------------------------------\n"
          ]
        },
        {
          "output_type": "display_data",
          "data": {
            "text/html": [
              "<pre>Finished parsing file /content/datasets/friends_tv/friends_quotes.csv</pre>"
            ],
            "text/plain": [
              "Finished parsing file /content/datasets/friends_tv/friends_quotes.csv"
            ]
          },
          "metadata": {}
        },
        {
          "output_type": "display_data",
          "data": {
            "text/html": [
              "<pre>Parsing completed. Parsed 60291 lines in 0.156272 secs.</pre>"
            ],
            "text/plain": [
              "Parsing completed. Parsed 60291 lines in 0.156272 secs."
            ]
          },
          "metadata": {}
        }
      ]
    },
    {
      "cell_type": "code",
      "metadata": {
        "id": "if8XPUXvP7Sd"
      },
      "source": [
        "# aggregate the original sframe by the season:\n",
        "import itertools\n",
        "\n",
        "quotes_sframe = quotes_sframe_org.groupby(['episode_number', 'season'], {\"quotes\":agg.CONCAT(\"quote\")})\n",
        "# quotes_sframe[0]['quotes'][0]\n",
        "quotes_sframe['quotes'] = quotes_sframe['quotes'].apply(lambda x: [token for token in x ])\n"
      ],
      "execution_count": 188,
      "outputs": []
    },
    {
      "cell_type": "markdown",
      "metadata": {
        "id": "oYQgBT-ZQEBB"
      },
      "source": [
        "We were instructed to provide a prediction for the season number given \"several text lines (quotes) from a specific episode\". \n",
        "Due to the unknown number of quotes provided for prediction, i will create a mean score for each episode, derived from multiple quotes. \n",
        "all episodes of a given season will be considered as a single cluster, and i will calculate for each season its cluster's centroid. \n",
        "To predict the season of a collection of any new quotes, i will calculate the mean scores of the new quotes, and the cluster centroid which is the closest to the new quotes scores will be considered as the predicted cluster and hence the predicted season."
      ]
    },
    {
      "cell_type": "code",
      "metadata": {
        "colab": {
          "base_uri": "https://localhost:8080/"
        },
        "id": "9U9xoPGBTiZR",
        "outputId": "04ab1107-4a02-4050-ac7c-e9dc0ccdb106"
      },
      "source": [
        "import nltk\n",
        "nltk.download('stopwords')\n",
        "nltk.download('punkt')"
      ],
      "execution_count": 189,
      "outputs": [
        {
          "output_type": "stream",
          "name": "stdout",
          "text": [
            "[nltk_data] Downloading package stopwords to /root/nltk_data...\n",
            "[nltk_data]   Package stopwords is already up-to-date!\n",
            "[nltk_data] Downloading package punkt to /root/nltk_data...\n",
            "[nltk_data]   Package punkt is already up-to-date!\n"
          ]
        },
        {
          "output_type": "execute_result",
          "data": {
            "text/plain": [
              "True"
            ]
          },
          "metadata": {},
          "execution_count": 189
        }
      ]
    },
    {
      "cell_type": "code",
      "metadata": {
        "colab": {
          "base_uri": "https://localhost:8080/",
          "height": 1000
        },
        "id": "G6Fbi-akT4Pj",
        "outputId": "21f40f98-8110-4dfb-d7f1-f5c61ed55640"
      },
      "source": [
        "quotes_df_with_features = quotes_sframe.copy().to_dataframe()  \n",
        "def calc_features_for_single_episode_quotes(single_episode_quotes):\n",
        "  quotes_len = []\n",
        "  quotes_embdedings = []\n",
        "  fraction_of_stop_words = []\n",
        "  for single_quote in single_episode_quotes:\n",
        "    tokens = txt2words(single_quote)\n",
        "    stop_words = list(filter(lambda x: x in turi.text_analytics.stop_words(lang='en'), tokens))\n",
        "    quotes_len.append(len(tokens))\n",
        "    fraction_of_stop_words.append(len(stop_words)/len(tokens) if len(tokens)!=0 else 0)\n",
        "    \n",
        "    embeddings = np.array([model[w] for w in tokens if w in model.wv.vocab])\n",
        "    mean_embeddings = embeddings.mean(axis=0) if len(embeddings.shape)>1 else embeddings \n",
        "    # print(np.array(mean_embeddings).shape)\n",
        "    if len(mean_embeddings) != 0:\n",
        "      quotes_embdedings.append(mean_embeddings)\n",
        "      \n",
        "  mean_quotes_len = np.array(quotes_len).mean()\n",
        "  mean_fraction_of_stop_words = np.array(fraction_of_stop_words).mean()\n",
        "  mean_quotes_embdedings = np.array(quotes_embdedings).mean(axis=0)\n",
        "  return mean_quotes_len, mean_fraction_of_stop_words, mean_quotes_embdedings\n",
        "\n",
        "quotes_df_with_features[['mean_quotes_len', 'mean_fraction_of_stop_words']] = None\n",
        "mean_quotes_embdedings = []\n",
        "for row_idx, row in quotes_df_with_features.iterrows():\n",
        "  row_feats = calc_features_for_single_episode_quotes(row['quotes'])\n",
        "  quotes_df_with_features.loc[row_idx, 'mean_quotes_len'] = row_feats[0]\n",
        "  quotes_df_with_features.loc[row_idx, 'mean_fraction_of_stop_words'] = row_feats[1]\n",
        "  mean_quotes_embdedings.append(row_feats[2])\n",
        "  # quotes_df_with_features.loc[row_idx, 'mean_quotes_embdedings'] = [row_feats[2]]\n",
        "mean_quotes_embdedings = np.array(mean_quotes_embdedings)\n",
        "for i in range(len(mean_quotes_embdedings[0])):\n",
        "  quotes_df_with_features[f'mean_quotes_embdedings_{i}'] = mean_quotes_embdedings[:, i]\n",
        "quotes_df_with_features"
      ],
      "execution_count": 202,
      "outputs": [
        {
          "output_type": "stream",
          "name": "stderr",
          "text": [
            "/usr/local/lib/python3.7/dist-packages/ipykernel_launcher.py:12: DeprecationWarning:\n",
            "\n",
            "Call to deprecated `__getitem__` (Method will be removed in 4.0.0, use self.wv.__getitem__() instead).\n",
            "\n"
          ]
        },
        {
          "output_type": "execute_result",
          "data": {
            "text/html": [
              "<div>\n",
              "<style scoped>\n",
              "    .dataframe tbody tr th:only-of-type {\n",
              "        vertical-align: middle;\n",
              "    }\n",
              "\n",
              "    .dataframe tbody tr th {\n",
              "        vertical-align: top;\n",
              "    }\n",
              "\n",
              "    .dataframe thead th {\n",
              "        text-align: right;\n",
              "    }\n",
              "</style>\n",
              "<table border=\"1\" class=\"dataframe\">\n",
              "  <thead>\n",
              "    <tr style=\"text-align: right;\">\n",
              "      <th></th>\n",
              "      <th>episode_number</th>\n",
              "      <th>season</th>\n",
              "      <th>quotes</th>\n",
              "      <th>mean_quotes_len</th>\n",
              "      <th>mean_fraction_of_stop_words</th>\n",
              "      <th>mean_quotes_embdedings_0</th>\n",
              "      <th>mean_quotes_embdedings_1</th>\n",
              "      <th>mean_quotes_embdedings_2</th>\n",
              "      <th>mean_quotes_embdedings_3</th>\n",
              "      <th>mean_quotes_embdedings_4</th>\n",
              "      <th>mean_quotes_embdedings_5</th>\n",
              "      <th>mean_quotes_embdedings_6</th>\n",
              "      <th>mean_quotes_embdedings_7</th>\n",
              "      <th>mean_quotes_embdedings_8</th>\n",
              "      <th>mean_quotes_embdedings_9</th>\n",
              "      <th>mean_quotes_embdedings_10</th>\n",
              "      <th>mean_quotes_embdedings_11</th>\n",
              "      <th>mean_quotes_embdedings_12</th>\n",
              "      <th>mean_quotes_embdedings_13</th>\n",
              "      <th>mean_quotes_embdedings_14</th>\n",
              "      <th>mean_quotes_embdedings_15</th>\n",
              "      <th>mean_quotes_embdedings_16</th>\n",
              "      <th>mean_quotes_embdedings_17</th>\n",
              "      <th>mean_quotes_embdedings_18</th>\n",
              "      <th>mean_quotes_embdedings_19</th>\n",
              "      <th>mean_quotes_embdedings_20</th>\n",
              "      <th>mean_quotes_embdedings_21</th>\n",
              "      <th>mean_quotes_embdedings_22</th>\n",
              "      <th>mean_quotes_embdedings_23</th>\n",
              "      <th>mean_quotes_embdedings_24</th>\n",
              "      <th>mean_quotes_embdedings_25</th>\n",
              "      <th>mean_quotes_embdedings_26</th>\n",
              "      <th>mean_quotes_embdedings_27</th>\n",
              "      <th>mean_quotes_embdedings_28</th>\n",
              "      <th>mean_quotes_embdedings_29</th>\n",
              "      <th>mean_quotes_embdedings_30</th>\n",
              "      <th>mean_quotes_embdedings_31</th>\n",
              "      <th>mean_quotes_embdedings_32</th>\n",
              "      <th>mean_quotes_embdedings_33</th>\n",
              "      <th>mean_quotes_embdedings_34</th>\n",
              "      <th>mean_quotes_embdedings_35</th>\n",
              "      <th>mean_quotes_embdedings_36</th>\n",
              "      <th>mean_quotes_embdedings_37</th>\n",
              "      <th>mean_quotes_embdedings_38</th>\n",
              "      <th>mean_quotes_embdedings_39</th>\n",
              "      <th>mean_quotes_embdedings_40</th>\n",
              "      <th>mean_quotes_embdedings_41</th>\n",
              "      <th>mean_quotes_embdedings_42</th>\n",
              "      <th>mean_quotes_embdedings_43</th>\n",
              "      <th>mean_quotes_embdedings_44</th>\n",
              "      <th>mean_quotes_embdedings_45</th>\n",
              "      <th>mean_quotes_embdedings_46</th>\n",
              "      <th>mean_quotes_embdedings_47</th>\n",
              "      <th>mean_quotes_embdedings_48</th>\n",
              "      <th>mean_quotes_embdedings_49</th>\n",
              "    </tr>\n",
              "  </thead>\n",
              "  <tbody>\n",
              "    <tr>\n",
              "      <th>0</th>\n",
              "      <td>18.0</td>\n",
              "      <td>9.0</td>\n",
              "      <td>[(into receiver)Hello? Hey Charlie, what do yo...</td>\n",
              "      <td>12.833333</td>\n",
              "      <td>0.656649</td>\n",
              "      <td>0.279602</td>\n",
              "      <td>0.729692</td>\n",
              "      <td>0.074632</td>\n",
              "      <td>-1.201502</td>\n",
              "      <td>-0.791971</td>\n",
              "      <td>-0.310972</td>\n",
              "      <td>-0.642774</td>\n",
              "      <td>-0.873141</td>\n",
              "      <td>-0.383274</td>\n",
              "      <td>0.104119</td>\n",
              "      <td>0.216720</td>\n",
              "      <td>0.094234</td>\n",
              "      <td>1.124417</td>\n",
              "      <td>-0.469194</td>\n",
              "      <td>-0.425328</td>\n",
              "      <td>0.373611</td>\n",
              "      <td>0.685978</td>\n",
              "      <td>0.215865</td>\n",
              "      <td>0.064873</td>\n",
              "      <td>-0.284628</td>\n",
              "      <td>-0.586580</td>\n",
              "      <td>0.502536</td>\n",
              "      <td>-0.882126</td>\n",
              "      <td>-0.299545</td>\n",
              "      <td>0.018433</td>\n",
              "      <td>-0.489086</td>\n",
              "      <td>0.275092</td>\n",
              "      <td>0.063654</td>\n",
              "      <td>0.274143</td>\n",
              "      <td>-0.453943</td>\n",
              "      <td>-0.131990</td>\n",
              "      <td>0.246916</td>\n",
              "      <td>-0.185259</td>\n",
              "      <td>-0.589768</td>\n",
              "      <td>-0.889817</td>\n",
              "      <td>0.007126</td>\n",
              "      <td>-0.612161</td>\n",
              "      <td>-0.379424</td>\n",
              "      <td>0.206691</td>\n",
              "      <td>-0.379297</td>\n",
              "      <td>0.066842</td>\n",
              "      <td>-0.306711</td>\n",
              "      <td>-0.896813</td>\n",
              "      <td>0.362629</td>\n",
              "      <td>-0.761797</td>\n",
              "      <td>-0.060008</td>\n",
              "      <td>0.476640</td>\n",
              "      <td>0.343773</td>\n",
              "      <td>0.010957</td>\n",
              "      <td>-0.154127</td>\n",
              "    </tr>\n",
              "    <tr>\n",
              "      <th>1</th>\n",
              "      <td>3.0</td>\n",
              "      <td>3.0</td>\n",
              "      <td>[Chandler and Joey's, Chandler is sitting read...</td>\n",
              "      <td>13.106838</td>\n",
              "      <td>0.61423</td>\n",
              "      <td>0.144159</td>\n",
              "      <td>0.721846</td>\n",
              "      <td>-0.037474</td>\n",
              "      <td>-1.222369</td>\n",
              "      <td>-0.693599</td>\n",
              "      <td>-0.407440</td>\n",
              "      <td>-0.634820</td>\n",
              "      <td>-0.842211</td>\n",
              "      <td>-0.247254</td>\n",
              "      <td>0.117805</td>\n",
              "      <td>0.288236</td>\n",
              "      <td>0.059766</td>\n",
              "      <td>1.183982</td>\n",
              "      <td>-0.408938</td>\n",
              "      <td>-0.258428</td>\n",
              "      <td>0.247064</td>\n",
              "      <td>0.778842</td>\n",
              "      <td>0.220879</td>\n",
              "      <td>0.083567</td>\n",
              "      <td>-0.140260</td>\n",
              "      <td>-0.619765</td>\n",
              "      <td>0.306294</td>\n",
              "      <td>-0.753933</td>\n",
              "      <td>-0.274218</td>\n",
              "      <td>0.033596</td>\n",
              "      <td>-0.458956</td>\n",
              "      <td>0.237654</td>\n",
              "      <td>0.026361</td>\n",
              "      <td>0.245916</td>\n",
              "      <td>-0.408585</td>\n",
              "      <td>-0.094237</td>\n",
              "      <td>0.327311</td>\n",
              "      <td>-0.245820</td>\n",
              "      <td>-0.604169</td>\n",
              "      <td>-0.927244</td>\n",
              "      <td>-0.038162</td>\n",
              "      <td>-0.561087</td>\n",
              "      <td>-0.261236</td>\n",
              "      <td>0.043413</td>\n",
              "      <td>-0.311637</td>\n",
              "      <td>0.052075</td>\n",
              "      <td>-0.192849</td>\n",
              "      <td>-0.813603</td>\n",
              "      <td>0.386395</td>\n",
              "      <td>-0.776796</td>\n",
              "      <td>-0.093594</td>\n",
              "      <td>0.418509</td>\n",
              "      <td>0.287702</td>\n",
              "      <td>0.003282</td>\n",
              "      <td>-0.065001</td>\n",
              "    </tr>\n",
              "    <tr>\n",
              "      <th>2</th>\n",
              "      <td>12.0</td>\n",
              "      <td>6.0</td>\n",
              "      <td>[What?, Im sorry, I was just reading the joke...</td>\n",
              "      <td>13.012</td>\n",
              "      <td>0.662865</td>\n",
              "      <td>0.251727</td>\n",
              "      <td>0.758589</td>\n",
              "      <td>0.025503</td>\n",
              "      <td>-1.285598</td>\n",
              "      <td>-0.791992</td>\n",
              "      <td>-0.371451</td>\n",
              "      <td>-0.693738</td>\n",
              "      <td>-0.939099</td>\n",
              "      <td>-0.391440</td>\n",
              "      <td>0.117118</td>\n",
              "      <td>0.255339</td>\n",
              "      <td>0.053823</td>\n",
              "      <td>1.240712</td>\n",
              "      <td>-0.487507</td>\n",
              "      <td>-0.425894</td>\n",
              "      <td>0.365967</td>\n",
              "      <td>0.740532</td>\n",
              "      <td>0.199068</td>\n",
              "      <td>0.073457</td>\n",
              "      <td>-0.196226</td>\n",
              "      <td>-0.630805</td>\n",
              "      <td>0.420915</td>\n",
              "      <td>-0.919340</td>\n",
              "      <td>-0.351260</td>\n",
              "      <td>0.043754</td>\n",
              "      <td>-0.458257</td>\n",
              "      <td>0.206029</td>\n",
              "      <td>0.131820</td>\n",
              "      <td>0.200408</td>\n",
              "      <td>-0.440502</td>\n",
              "      <td>-0.118459</td>\n",
              "      <td>0.377637</td>\n",
              "      <td>-0.228091</td>\n",
              "      <td>-0.670164</td>\n",
              "      <td>-0.978308</td>\n",
              "      <td>-0.019900</td>\n",
              "      <td>-0.611137</td>\n",
              "      <td>-0.322677</td>\n",
              "      <td>0.121041</td>\n",
              "      <td>-0.369916</td>\n",
              "      <td>0.049305</td>\n",
              "      <td>-0.301211</td>\n",
              "      <td>-0.907590</td>\n",
              "      <td>0.368642</td>\n",
              "      <td>-0.837163</td>\n",
              "      <td>-0.051636</td>\n",
              "      <td>0.437294</td>\n",
              "      <td>0.294497</td>\n",
              "      <td>0.058974</td>\n",
              "      <td>-0.164882</td>\n",
              "    </tr>\n",
              "    <tr>\n",
              "      <th>3</th>\n",
              "      <td>1.0</td>\n",
              "      <td>3.0</td>\n",
              "      <td>[I want you to say that you like her!, I can't...</td>\n",
              "      <td>12.016598</td>\n",
              "      <td>0.665949</td>\n",
              "      <td>0.267584</td>\n",
              "      <td>0.787345</td>\n",
              "      <td>0.019118</td>\n",
              "      <td>-1.290135</td>\n",
              "      <td>-0.765642</td>\n",
              "      <td>-0.347854</td>\n",
              "      <td>-0.699476</td>\n",
              "      <td>-0.930123</td>\n",
              "      <td>-0.397911</td>\n",
              "      <td>0.113599</td>\n",
              "      <td>0.310202</td>\n",
              "      <td>0.085052</td>\n",
              "      <td>1.274412</td>\n",
              "      <td>-0.473143</td>\n",
              "      <td>-0.354918</td>\n",
              "      <td>0.330478</td>\n",
              "      <td>0.755610</td>\n",
              "      <td>0.130996</td>\n",
              "      <td>0.061428</td>\n",
              "      <td>-0.188086</td>\n",
              "      <td>-0.614718</td>\n",
              "      <td>0.460632</td>\n",
              "      <td>-0.853852</td>\n",
              "      <td>-0.317604</td>\n",
              "      <td>0.033533</td>\n",
              "      <td>-0.414833</td>\n",
              "      <td>0.190941</td>\n",
              "      <td>0.130707</td>\n",
              "      <td>0.214045</td>\n",
              "      <td>-0.404837</td>\n",
              "      <td>-0.102184</td>\n",
              "      <td>0.383133</td>\n",
              "      <td>-0.185580</td>\n",
              "      <td>-0.698161</td>\n",
              "      <td>-0.926275</td>\n",
              "      <td>-0.006879</td>\n",
              "      <td>-0.596260</td>\n",
              "      <td>-0.306142</td>\n",
              "      <td>0.099889</td>\n",
              "      <td>-0.418920</td>\n",
              "      <td>-0.003835</td>\n",
              "      <td>-0.300750</td>\n",
              "      <td>-0.854250</td>\n",
              "      <td>0.417990</td>\n",
              "      <td>-0.862165</td>\n",
              "      <td>-0.003408</td>\n",
              "      <td>0.474122</td>\n",
              "      <td>0.268446</td>\n",
              "      <td>0.014795</td>\n",
              "      <td>-0.151262</td>\n",
              "    </tr>\n",
              "    <tr>\n",
              "      <th>4</th>\n",
              "      <td>10.0</td>\n",
              "      <td>6.0</td>\n",
              "      <td>[Let me ask you, why is everybody using these ...</td>\n",
              "      <td>12.643478</td>\n",
              "      <td>0.675428</td>\n",
              "      <td>0.279264</td>\n",
              "      <td>0.825097</td>\n",
              "      <td>0.020456</td>\n",
              "      <td>-1.303907</td>\n",
              "      <td>-0.780243</td>\n",
              "      <td>-0.351313</td>\n",
              "      <td>-0.706047</td>\n",
              "      <td>-0.946105</td>\n",
              "      <td>-0.371618</td>\n",
              "      <td>0.071771</td>\n",
              "      <td>0.242584</td>\n",
              "      <td>0.107406</td>\n",
              "      <td>1.198737</td>\n",
              "      <td>-0.451243</td>\n",
              "      <td>-0.379167</td>\n",
              "      <td>0.359405</td>\n",
              "      <td>0.807696</td>\n",
              "      <td>0.121582</td>\n",
              "      <td>0.181305</td>\n",
              "      <td>-0.208682</td>\n",
              "      <td>-0.631937</td>\n",
              "      <td>0.460464</td>\n",
              "      <td>-0.908824</td>\n",
              "      <td>-0.378974</td>\n",
              "      <td>0.027847</td>\n",
              "      <td>-0.518297</td>\n",
              "      <td>0.256950</td>\n",
              "      <td>0.064258</td>\n",
              "      <td>0.278992</td>\n",
              "      <td>-0.434325</td>\n",
              "      <td>-0.120739</td>\n",
              "      <td>0.321727</td>\n",
              "      <td>-0.213695</td>\n",
              "      <td>-0.657877</td>\n",
              "      <td>-0.962017</td>\n",
              "      <td>-0.033650</td>\n",
              "      <td>-0.595663</td>\n",
              "      <td>-0.338428</td>\n",
              "      <td>0.141846</td>\n",
              "      <td>-0.449104</td>\n",
              "      <td>0.034717</td>\n",
              "      <td>-0.271033</td>\n",
              "      <td>-0.837860</td>\n",
              "      <td>0.408700</td>\n",
              "      <td>-0.838213</td>\n",
              "      <td>-0.041133</td>\n",
              "      <td>0.460107</td>\n",
              "      <td>0.369125</td>\n",
              "      <td>0.053424</td>\n",
              "      <td>-0.176565</td>\n",
              "    </tr>\n",
              "    <tr>\n",
              "      <th>...</th>\n",
              "      <td>...</td>\n",
              "      <td>...</td>\n",
              "      <td>...</td>\n",
              "      <td>...</td>\n",
              "      <td>...</td>\n",
              "      <td>...</td>\n",
              "      <td>...</td>\n",
              "      <td>...</td>\n",
              "      <td>...</td>\n",
              "      <td>...</td>\n",
              "      <td>...</td>\n",
              "      <td>...</td>\n",
              "      <td>...</td>\n",
              "      <td>...</td>\n",
              "      <td>...</td>\n",
              "      <td>...</td>\n",
              "      <td>...</td>\n",
              "      <td>...</td>\n",
              "      <td>...</td>\n",
              "      <td>...</td>\n",
              "      <td>...</td>\n",
              "      <td>...</td>\n",
              "      <td>...</td>\n",
              "      <td>...</td>\n",
              "      <td>...</td>\n",
              "      <td>...</td>\n",
              "      <td>...</td>\n",
              "      <td>...</td>\n",
              "      <td>...</td>\n",
              "      <td>...</td>\n",
              "      <td>...</td>\n",
              "      <td>...</td>\n",
              "      <td>...</td>\n",
              "      <td>...</td>\n",
              "      <td>...</td>\n",
              "      <td>...</td>\n",
              "      <td>...</td>\n",
              "      <td>...</td>\n",
              "      <td>...</td>\n",
              "      <td>...</td>\n",
              "      <td>...</td>\n",
              "      <td>...</td>\n",
              "      <td>...</td>\n",
              "      <td>...</td>\n",
              "      <td>...</td>\n",
              "      <td>...</td>\n",
              "      <td>...</td>\n",
              "      <td>...</td>\n",
              "      <td>...</td>\n",
              "      <td>...</td>\n",
              "      <td>...</td>\n",
              "      <td>...</td>\n",
              "      <td>...</td>\n",
              "      <td>...</td>\n",
              "      <td>...</td>\n",
              "    </tr>\n",
              "    <tr>\n",
              "      <th>221</th>\n",
              "      <td>7.0</td>\n",
              "      <td>4.0</td>\n",
              "      <td>[(entering in a bathrobe) I just walked in the...</td>\n",
              "      <td>11.978903</td>\n",
              "      <td>0.671767</td>\n",
              "      <td>0.254133</td>\n",
              "      <td>0.842292</td>\n",
              "      <td>-0.050050</td>\n",
              "      <td>-1.297886</td>\n",
              "      <td>-0.777694</td>\n",
              "      <td>-0.280374</td>\n",
              "      <td>-0.715416</td>\n",
              "      <td>-0.959275</td>\n",
              "      <td>-0.436775</td>\n",
              "      <td>0.110203</td>\n",
              "      <td>0.295689</td>\n",
              "      <td>0.096470</td>\n",
              "      <td>1.316414</td>\n",
              "      <td>-0.527284</td>\n",
              "      <td>-0.440213</td>\n",
              "      <td>0.324569</td>\n",
              "      <td>0.841796</td>\n",
              "      <td>0.108374</td>\n",
              "      <td>0.042922</td>\n",
              "      <td>-0.196915</td>\n",
              "      <td>-0.673146</td>\n",
              "      <td>0.409836</td>\n",
              "      <td>-0.907859</td>\n",
              "      <td>-0.355085</td>\n",
              "      <td>0.043732</td>\n",
              "      <td>-0.417061</td>\n",
              "      <td>0.152311</td>\n",
              "      <td>0.177560</td>\n",
              "      <td>0.185182</td>\n",
              "      <td>-0.415743</td>\n",
              "      <td>-0.129323</td>\n",
              "      <td>0.438286</td>\n",
              "      <td>-0.234443</td>\n",
              "      <td>-0.745499</td>\n",
              "      <td>-0.965734</td>\n",
              "      <td>0.006480</td>\n",
              "      <td>-0.580788</td>\n",
              "      <td>-0.302726</td>\n",
              "      <td>0.102130</td>\n",
              "      <td>-0.407087</td>\n",
              "      <td>-0.028350</td>\n",
              "      <td>-0.311219</td>\n",
              "      <td>-0.891626</td>\n",
              "      <td>0.418070</td>\n",
              "      <td>-0.876154</td>\n",
              "      <td>-0.017491</td>\n",
              "      <td>0.506370</td>\n",
              "      <td>0.237485</td>\n",
              "      <td>0.030746</td>\n",
              "      <td>-0.142255</td>\n",
              "    </tr>\n",
              "    <tr>\n",
              "      <th>222</th>\n",
              "      <td>5.0</td>\n",
              "      <td>4.0</td>\n",
              "      <td>[No, I don't., Yes, you do. Chandler loves Kat...</td>\n",
              "      <td>12.708861</td>\n",
              "      <td>0.648804</td>\n",
              "      <td>0.117253</td>\n",
              "      <td>0.762017</td>\n",
              "      <td>-0.033782</td>\n",
              "      <td>-1.250574</td>\n",
              "      <td>-0.760074</td>\n",
              "      <td>-0.446710</td>\n",
              "      <td>-0.717156</td>\n",
              "      <td>-0.912738</td>\n",
              "      <td>-0.257617</td>\n",
              "      <td>0.127510</td>\n",
              "      <td>0.306898</td>\n",
              "      <td>0.027662</td>\n",
              "      <td>1.221008</td>\n",
              "      <td>-0.478154</td>\n",
              "      <td>-0.324305</td>\n",
              "      <td>0.293622</td>\n",
              "      <td>0.770209</td>\n",
              "      <td>0.241134</td>\n",
              "      <td>0.051895</td>\n",
              "      <td>-0.125833</td>\n",
              "      <td>-0.653122</td>\n",
              "      <td>0.340163</td>\n",
              "      <td>-0.801927</td>\n",
              "      <td>-0.228733</td>\n",
              "      <td>0.047988</td>\n",
              "      <td>-0.448598</td>\n",
              "      <td>0.206768</td>\n",
              "      <td>0.077806</td>\n",
              "      <td>0.214570</td>\n",
              "      <td>-0.380940</td>\n",
              "      <td>-0.132371</td>\n",
              "      <td>0.419089</td>\n",
              "      <td>-0.213304</td>\n",
              "      <td>-0.596459</td>\n",
              "      <td>-0.973189</td>\n",
              "      <td>-0.053924</td>\n",
              "      <td>-0.599349</td>\n",
              "      <td>-0.174834</td>\n",
              "      <td>0.004412</td>\n",
              "      <td>-0.333571</td>\n",
              "      <td>0.028805</td>\n",
              "      <td>-0.240799</td>\n",
              "      <td>-0.836032</td>\n",
              "      <td>0.369396</td>\n",
              "      <td>-0.817850</td>\n",
              "      <td>-0.071156</td>\n",
              "      <td>0.401489</td>\n",
              "      <td>0.269394</td>\n",
              "      <td>0.033594</td>\n",
              "      <td>0.016358</td>\n",
              "    </tr>\n",
              "    <tr>\n",
              "      <th>223</th>\n",
              "      <td>22.0</td>\n",
              "      <td>8.0</td>\n",
              "      <td>[Hey! What are you guys looking at?, Oh, its ...</td>\n",
              "      <td>13.223176</td>\n",
              "      <td>0.67355</td>\n",
              "      <td>0.307560</td>\n",
              "      <td>0.782101</td>\n",
              "      <td>0.092115</td>\n",
              "      <td>-1.312144</td>\n",
              "      <td>-0.774821</td>\n",
              "      <td>-0.375643</td>\n",
              "      <td>-0.696029</td>\n",
              "      <td>-0.913892</td>\n",
              "      <td>-0.368846</td>\n",
              "      <td>0.109682</td>\n",
              "      <td>0.217189</td>\n",
              "      <td>0.078509</td>\n",
              "      <td>1.196339</td>\n",
              "      <td>-0.471586</td>\n",
              "      <td>-0.408132</td>\n",
              "      <td>0.386597</td>\n",
              "      <td>0.731306</td>\n",
              "      <td>0.182575</td>\n",
              "      <td>0.125143</td>\n",
              "      <td>-0.238249</td>\n",
              "      <td>-0.618478</td>\n",
              "      <td>0.466534</td>\n",
              "      <td>-0.937552</td>\n",
              "      <td>-0.362289</td>\n",
              "      <td>0.022005</td>\n",
              "      <td>-0.448181</td>\n",
              "      <td>0.266837</td>\n",
              "      <td>0.094032</td>\n",
              "      <td>0.253460</td>\n",
              "      <td>-0.429253</td>\n",
              "      <td>-0.105070</td>\n",
              "      <td>0.351018</td>\n",
              "      <td>-0.209449</td>\n",
              "      <td>-0.673785</td>\n",
              "      <td>-0.962990</td>\n",
              "      <td>-0.012811</td>\n",
              "      <td>-0.667777</td>\n",
              "      <td>-0.343148</td>\n",
              "      <td>0.171197</td>\n",
              "      <td>-0.418406</td>\n",
              "      <td>0.011753</td>\n",
              "      <td>-0.263388</td>\n",
              "      <td>-0.892019</td>\n",
              "      <td>0.353322</td>\n",
              "      <td>-0.837260</td>\n",
              "      <td>-0.082061</td>\n",
              "      <td>0.445175</td>\n",
              "      <td>0.343466</td>\n",
              "      <td>0.058272</td>\n",
              "      <td>-0.197783</td>\n",
              "    </tr>\n",
              "    <tr>\n",
              "      <th>224</th>\n",
              "      <td>13.0</td>\n",
              "      <td>4.0</td>\n",
              "      <td>[Hey, Rach! I made a pile of your stuff over o...</td>\n",
              "      <td>12.401515</td>\n",
              "      <td>0.65527</td>\n",
              "      <td>0.176453</td>\n",
              "      <td>0.789900</td>\n",
              "      <td>-0.037296</td>\n",
              "      <td>-1.262069</td>\n",
              "      <td>-0.778389</td>\n",
              "      <td>-0.358148</td>\n",
              "      <td>-0.644619</td>\n",
              "      <td>-0.898980</td>\n",
              "      <td>-0.277749</td>\n",
              "      <td>0.111522</td>\n",
              "      <td>0.245483</td>\n",
              "      <td>0.054733</td>\n",
              "      <td>1.225892</td>\n",
              "      <td>-0.510346</td>\n",
              "      <td>-0.363701</td>\n",
              "      <td>0.306795</td>\n",
              "      <td>0.801047</td>\n",
              "      <td>0.191086</td>\n",
              "      <td>0.077060</td>\n",
              "      <td>-0.161788</td>\n",
              "      <td>-0.645072</td>\n",
              "      <td>0.362772</td>\n",
              "      <td>-0.821790</td>\n",
              "      <td>-0.288890</td>\n",
              "      <td>0.009763</td>\n",
              "      <td>-0.444038</td>\n",
              "      <td>0.221053</td>\n",
              "      <td>0.089725</td>\n",
              "      <td>0.263084</td>\n",
              "      <td>-0.388527</td>\n",
              "      <td>-0.108076</td>\n",
              "      <td>0.363316</td>\n",
              "      <td>-0.232951</td>\n",
              "      <td>-0.649831</td>\n",
              "      <td>-0.920715</td>\n",
              "      <td>-0.032084</td>\n",
              "      <td>-0.624451</td>\n",
              "      <td>-0.243143</td>\n",
              "      <td>0.120560</td>\n",
              "      <td>-0.358392</td>\n",
              "      <td>0.022608</td>\n",
              "      <td>-0.271974</td>\n",
              "      <td>-0.822593</td>\n",
              "      <td>0.358359</td>\n",
              "      <td>-0.832020</td>\n",
              "      <td>-0.056520</td>\n",
              "      <td>0.468429</td>\n",
              "      <td>0.275991</td>\n",
              "      <td>0.015260</td>\n",
              "      <td>-0.052566</td>\n",
              "    </tr>\n",
              "    <tr>\n",
              "      <th>225</th>\n",
              "      <td>10.0</td>\n",
              "      <td>5.0</td>\n",
              "      <td>[Shes a woman!, Oh, thanks!, Yeah!, Wow!, Is ...</td>\n",
              "      <td>13.530806</td>\n",
              "      <td>0.651896</td>\n",
              "      <td>0.217534</td>\n",
              "      <td>0.687663</td>\n",
              "      <td>0.022452</td>\n",
              "      <td>-1.288402</td>\n",
              "      <td>-0.771018</td>\n",
              "      <td>-0.360395</td>\n",
              "      <td>-0.668983</td>\n",
              "      <td>-0.885922</td>\n",
              "      <td>-0.321612</td>\n",
              "      <td>0.093254</td>\n",
              "      <td>0.263756</td>\n",
              "      <td>0.064717</td>\n",
              "      <td>1.153062</td>\n",
              "      <td>-0.443526</td>\n",
              "      <td>-0.389811</td>\n",
              "      <td>0.316944</td>\n",
              "      <td>0.667480</td>\n",
              "      <td>0.213154</td>\n",
              "      <td>0.068218</td>\n",
              "      <td>-0.186260</td>\n",
              "      <td>-0.589867</td>\n",
              "      <td>0.456985</td>\n",
              "      <td>-0.867712</td>\n",
              "      <td>-0.293822</td>\n",
              "      <td>0.022403</td>\n",
              "      <td>-0.443695</td>\n",
              "      <td>0.256851</td>\n",
              "      <td>0.047340</td>\n",
              "      <td>0.268888</td>\n",
              "      <td>-0.424768</td>\n",
              "      <td>-0.072579</td>\n",
              "      <td>0.284292</td>\n",
              "      <td>-0.233852</td>\n",
              "      <td>-0.614987</td>\n",
              "      <td>-0.888361</td>\n",
              "      <td>-0.041890</td>\n",
              "      <td>-0.606266</td>\n",
              "      <td>-0.270649</td>\n",
              "      <td>0.177104</td>\n",
              "      <td>-0.364785</td>\n",
              "      <td>0.070882</td>\n",
              "      <td>-0.308807</td>\n",
              "      <td>-0.867322</td>\n",
              "      <td>0.355623</td>\n",
              "      <td>-0.793357</td>\n",
              "      <td>-0.046173</td>\n",
              "      <td>0.426949</td>\n",
              "      <td>0.317706</td>\n",
              "      <td>0.020808</td>\n",
              "      <td>-0.137649</td>\n",
              "    </tr>\n",
              "  </tbody>\n",
              "</table>\n",
              "<p>226 rows × 55 columns</p>\n",
              "</div>"
            ],
            "text/plain": [
              "     episode_number  ...  mean_quotes_embdedings_49\n",
              "0              18.0  ...                  -0.154127\n",
              "1               3.0  ...                  -0.065001\n",
              "2              12.0  ...                  -0.164882\n",
              "3               1.0  ...                  -0.151262\n",
              "4              10.0  ...                  -0.176565\n",
              "..              ...  ...                        ...\n",
              "221             7.0  ...                  -0.142255\n",
              "222             5.0  ...                   0.016358\n",
              "223            22.0  ...                  -0.197783\n",
              "224            13.0  ...                  -0.052566\n",
              "225            10.0  ...                  -0.137649\n",
              "\n",
              "[226 rows x 55 columns]"
            ]
          },
          "metadata": {},
          "execution_count": 202
        }
      ]
    },
    {
      "cell_type": "code",
      "metadata": {
        "colab": {
          "base_uri": "https://localhost:8080/"
        },
        "id": "AhickCVreJt9",
        "outputId": "545f90cf-c867-48ea-d77e-5168a4537b73"
      },
      "source": [
        "# cluster centroids will be calculated using the mean euclidean distance of all scores in a season \n",
        "\n",
        "from sklearn.neighbors import NearestCentroid\n",
        "\n",
        "\n",
        "seasons_numbers = quotes_df_with_features['season'].unique()\n",
        "seasons_centroids_by_season = {}\n",
        "\n",
        "X = []\n",
        "y = []\n",
        "for season_n in seasons_numbers:\n",
        "  all_data_in_season = quotes_df_with_features[quotes_df_with_features['season']==season_n]\n",
        "  all_scores_in_season = all_data_in_season[['mean_quotes_len', 'mean_fraction_of_stop_words'] + [f'mean_quotes_embdedings_{i}' for i in range(len(mean_quotes_embdedings[0]))]]\n",
        "  # print(all_scores_in_season)\n",
        "  # break\n",
        "  X += [line for line in all_scores_in_season.values]\n",
        "  y += [season_n for i in range(len(all_scores_in_season.values))]\n",
        "\n",
        "clf = NearestCentroid()\n",
        "clf.fit(X, y)\n",
        "# collect the centroids by season:\n",
        "y_idx = 0\n",
        "seasons_centroids_by_season = {}\n",
        "for y_s in y:\n",
        "  if y_s not in seasons_centroids_by_season:\n",
        "    seasons_centroids_by_season[y_s] = clf.centroids_[y_idx]\n",
        "    y_idx += 1   "
      ],
      "execution_count": 256,
      "outputs": [
        {
          "output_type": "stream",
          "name": "stderr",
          "text": [
            "/usr/local/lib/python3.7/dist-packages/sklearn/utils/validation.py:968: FutureWarning:\n",
            "\n",
            "Arrays of bytes/strings is being converted to decimal numbers if dtype='numeric'. This behavior is deprecated in 0.24 and will be removed in 1.1 (renaming of 0.26). Please convert your data to numeric values explicitly instead.\n",
            "\n"
          ]
        }
      ]
    },
    {
      "cell_type": "code",
      "metadata": {
        "colab": {
          "base_uri": "https://localhost:8080/"
        },
        "id": "Zc_w1FgN-R-y",
        "outputId": "b680c8ee-445c-4fa2-9c9f-7b7307f5b424"
      },
      "source": [
        "def predict_season_by_episode_quotes(lst_of_quotes_from_episode: List[str], centroid_finder=clf):\n",
        "  # calculate all the features for the episode's quotes.\n",
        "  mean_quotes_len, mean_fraction_of_stop_words, mean_quotes_embdedings = calc_features_for_single_episode_quotes(lst_of_quotes_from_episode)\n",
        "  single_episode_quotes_df = pd.DataFrame()\n",
        "  single_episode_quotes_df[['mean_quotes_len', 'mean_fraction_of_stop_words']] = None\n",
        "  single_episode_quotes_df.loc[0, 'mean_quotes_len'] = mean_quotes_len\n",
        "  single_episode_quotes_df.loc[0, 'mean_fraction_of_stop_words'] = mean_fraction_of_stop_words\n",
        "  for i in range(len(mean_quotes_embdedings)):\n",
        "    single_episode_quotes_df.loc[0, f'mean_quotes_embdedings_{i}'] = mean_quotes_embdedings[i]\n",
        "  \n",
        "  # find which centroid is the closest!\n",
        "  predicted_season = centroid_finder.predict(single_episode_quotes_df.values)\n",
        "\n",
        "  return predicted_season\n",
        "\n",
        "# sample quotes taken from season 6\n",
        "predicted_season_number = predict_season_by_episode_quotes([\"Well! What happened?! Did we miss it?\",\n",
        "                                  \"Ross and Rachel left us a message saying they were getting married! isn't that why you guys are here?\"])[0]\n",
        "\n",
        "print(f'{\"#\"*20}\\nFor two quotes taken from season 6, my custom classifier predicted that the season is {int(predicted_season_number)}\\n{\"#\"*20}')                                  "
      ],
      "execution_count": 263,
      "outputs": [
        {
          "output_type": "stream",
          "name": "stdout",
          "text": [
            "####################\n",
            "For two quotes taken from season 6, my custom classifier predicted that the season is 6\n",
            "####################\n"
          ]
        },
        {
          "output_type": "stream",
          "name": "stderr",
          "text": [
            "/usr/local/lib/python3.7/dist-packages/ipykernel_launcher.py:12: DeprecationWarning:\n",
            "\n",
            "Call to deprecated `__getitem__` (Method will be removed in 4.0.0, use self.wv.__getitem__() instead).\n",
            "\n"
          ]
        }
      ]
    }
  ]
}