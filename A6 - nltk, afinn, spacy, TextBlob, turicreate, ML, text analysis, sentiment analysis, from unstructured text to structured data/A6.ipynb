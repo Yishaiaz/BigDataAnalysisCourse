{
  "nbformat": 4,
  "nbformat_minor": 0,
  "metadata": {
    "kernelspec": {
      "display_name": "Python 3",
      "language": "python",
      "name": "python3"
    },
    "language_info": {
      "codemirror_mode": {
        "name": "ipython",
        "version": 3
      },
      "file_extension": ".py",
      "mimetype": "text/x-python",
      "name": "python",
      "nbconvert_exporter": "python",
      "pygments_lexer": "ipython3",
      "version": "3.6.7"
    },
    "colab": {
      "name": "DataMining solution for HW-6.ipynb",
      "provenance": [],
      "collapsed_sections": [],
      "machine_shape": "hm"
    }
  },
  "cells": [
    {
      "cell_type": "markdown",
      "metadata": {
        "id": "ATxpf1JpbCyE"
      },
      "source": [
        "# Homework Assignment  6"
      ]
    },
    {
      "cell_type": "markdown",
      "metadata": {
        "id": "f72OF5E8D-aL"
      },
      "source": [
        "## Q1"
      ]
    },
    {
      "cell_type": "markdown",
      "metadata": {
        "id": "T6nDeYS6bCyF"
      },
      "source": [
        "**Question 1:** Construct a sentiment classifier using 80% of the reviews in the [Amazon Fine Food Reviews dataset](https://www.kaggle.com/snap/amazon-fine-food-reviews).\n",
        "The classifier needs to predict if a product got a one-star or a five-star review. \n",
        "Evaluate the classifier using the rest of the data (30pt). \n"
      ]
    },
    {
      "cell_type": "markdown",
      "metadata": {
        "id": "toVGR2omD_yE"
      },
      "source": [
        "### Preperations:"
      ]
    },
    {
      "cell_type": "code",
      "metadata": {
        "colab": {
          "base_uri": "https://localhost:8080/",
          "height": 1000
        },
        "id": "nYUfZZeLEB_3",
        "outputId": "34da5a11-32b5-429e-a291-c01e2078297f"
      },
      "source": [
        "!pip install turicreate\n",
        "!pip install kaggle \n",
        "!pip install gensim\n",
        "!pip install pyLDAvis\n",
        "!pip install spaCy\n",
        "!pip install afinn\n",
        "\n",
        "! mkdir ~/.kaggle\n",
        "! cp kaggle.json ~/.kaggle/\n",
        "! chmod 600 ~/.kaggle/kaggle.json \n",
        "! mkdir -f ./datasets/amazon_reviews\n",
        "\n",
        "!kaggle datasets download snap/amazon-fine-food-reviews  -p ./datasets/amazon_reviews\n",
        "!unzip ./datasets/amazon_reviews/*.zip  -d ./datasets/amazon_reviews"
      ],
      "execution_count": 1,
      "outputs": [
        {
          "output_type": "stream",
          "name": "stdout",
          "text": [
            "Collecting turicreate\n",
            "  Downloading turicreate-6.4.1-cp37-cp37m-manylinux1_x86_64.whl (92.0 MB)\n",
            "\u001b[K     |████████████████████████████████| 92.0 MB 10 kB/s \n",
            "\u001b[?25hRequirement already satisfied: scipy>=1.1.0 in /usr/local/lib/python3.7/dist-packages (from turicreate) (1.4.1)\n",
            "Collecting coremltools==3.3\n",
            "  Downloading coremltools-3.3-cp37-none-manylinux1_x86_64.whl (3.5 MB)\n",
            "\u001b[K     |████████████████████████████████| 3.5 MB 40.9 MB/s \n",
            "\u001b[?25hCollecting prettytable==0.7.2\n",
            "  Downloading prettytable-0.7.2.zip (28 kB)\n",
            "Requirement already satisfied: numpy in /usr/local/lib/python3.7/dist-packages (from turicreate) (1.19.5)\n",
            "Requirement already satisfied: decorator>=4.0.9 in /usr/local/lib/python3.7/dist-packages (from turicreate) (4.4.2)\n",
            "Requirement already satisfied: requests>=2.9.1 in /usr/local/lib/python3.7/dist-packages (from turicreate) (2.23.0)\n",
            "Requirement already satisfied: six>=1.10.0 in /usr/local/lib/python3.7/dist-packages (from turicreate) (1.15.0)\n",
            "Collecting tensorflow<2.1.0,>=2.0.0\n",
            "  Downloading tensorflow-2.0.4-cp37-cp37m-manylinux2010_x86_64.whl (86.4 MB)\n",
            "\u001b[K     |████████████████████████████████| 86.4 MB 20 kB/s \n",
            "\u001b[?25hCollecting resampy==0.2.1\n",
            "  Downloading resampy-0.2.1.tar.gz (322 kB)\n",
            "\u001b[K     |████████████████████████████████| 322 kB 63.2 MB/s \n",
            "\u001b[?25hRequirement already satisfied: pillow>=5.2.0 in /usr/local/lib/python3.7/dist-packages (from turicreate) (7.1.2)\n",
            "Collecting numba<0.51.0\n",
            "  Downloading numba-0.50.1-cp37-cp37m-manylinux2014_x86_64.whl (3.6 MB)\n",
            "\u001b[K     |████████████████████████████████| 3.6 MB 50.3 MB/s \n",
            "\u001b[?25hRequirement already satisfied: pandas>=0.23.2 in /usr/local/lib/python3.7/dist-packages (from turicreate) (1.1.5)\n",
            "Requirement already satisfied: protobuf>=3.1.0 in /usr/local/lib/python3.7/dist-packages (from coremltools==3.3->turicreate) (3.17.3)\n",
            "Collecting llvmlite<0.34,>=0.33.0.dev0\n",
            "  Downloading llvmlite-0.33.0-cp37-cp37m-manylinux1_x86_64.whl (18.3 MB)\n",
            "\u001b[K     |████████████████████████████████| 18.3 MB 174 kB/s \n",
            "\u001b[?25hRequirement already satisfied: setuptools in /usr/local/lib/python3.7/dist-packages (from numba<0.51.0->turicreate) (57.4.0)\n",
            "Requirement already satisfied: pytz>=2017.2 in /usr/local/lib/python3.7/dist-packages (from pandas>=0.23.2->turicreate) (2018.9)\n",
            "Requirement already satisfied: python-dateutil>=2.7.3 in /usr/local/lib/python3.7/dist-packages (from pandas>=0.23.2->turicreate) (2.8.2)\n",
            "Requirement already satisfied: urllib3!=1.25.0,!=1.25.1,<1.26,>=1.21.1 in /usr/local/lib/python3.7/dist-packages (from requests>=2.9.1->turicreate) (1.24.3)\n",
            "Requirement already satisfied: chardet<4,>=3.0.2 in /usr/local/lib/python3.7/dist-packages (from requests>=2.9.1->turicreate) (3.0.4)\n",
            "Requirement already satisfied: certifi>=2017.4.17 in /usr/local/lib/python3.7/dist-packages (from requests>=2.9.1->turicreate) (2021.10.8)\n",
            "Requirement already satisfied: idna<3,>=2.5 in /usr/local/lib/python3.7/dist-packages (from requests>=2.9.1->turicreate) (2.10)\n",
            "Collecting numpy\n",
            "  Downloading numpy-1.18.5-cp37-cp37m-manylinux1_x86_64.whl (20.1 MB)\n",
            "\u001b[K     |████████████████████████████████| 20.1 MB 1.3 MB/s \n",
            "\u001b[?25hRequirement already satisfied: wheel>=0.26 in /usr/local/lib/python3.7/dist-packages (from tensorflow<2.1.0,>=2.0.0->turicreate) (0.37.0)\n",
            "Requirement already satisfied: wrapt>=1.11.1 in /usr/local/lib/python3.7/dist-packages (from tensorflow<2.1.0,>=2.0.0->turicreate) (1.13.3)\n",
            "Collecting h5py<=2.10.0\n",
            "  Downloading h5py-2.10.0-cp37-cp37m-manylinux1_x86_64.whl (2.9 MB)\n",
            "\u001b[K     |████████████████████████████████| 2.9 MB 26.5 MB/s \n",
            "\u001b[?25hRequirement already satisfied: absl-py>=0.7.0 in /usr/local/lib/python3.7/dist-packages (from tensorflow<2.1.0,>=2.0.0->turicreate) (0.12.0)\n",
            "Collecting keras-applications>=1.0.8\n",
            "  Downloading Keras_Applications-1.0.8-py3-none-any.whl (50 kB)\n",
            "\u001b[K     |████████████████████████████████| 50 kB 6.2 MB/s \n",
            "\u001b[?25hRequirement already satisfied: keras-preprocessing>=1.0.5 in /usr/local/lib/python3.7/dist-packages (from tensorflow<2.1.0,>=2.0.0->turicreate) (1.1.2)\n",
            "Collecting tensorboard<2.1.0,>=2.0.0\n",
            "  Downloading tensorboard-2.0.2-py3-none-any.whl (3.8 MB)\n",
            "\u001b[K     |████████████████████████████████| 3.8 MB 54.8 MB/s \n",
            "\u001b[?25hCollecting tensorflow-estimator<2.1.0,>=2.0.0\n",
            "  Downloading tensorflow_estimator-2.0.1-py2.py3-none-any.whl (449 kB)\n",
            "\u001b[K     |████████████████████████████████| 449 kB 17.3 MB/s \n",
            "\u001b[?25hRequirement already satisfied: termcolor>=1.1.0 in /usr/local/lib/python3.7/dist-packages (from tensorflow<2.1.0,>=2.0.0->turicreate) (1.1.0)\n",
            "Collecting gast==0.2.2\n",
            "  Downloading gast-0.2.2.tar.gz (10 kB)\n",
            "Requirement already satisfied: google-pasta>=0.1.6 in /usr/local/lib/python3.7/dist-packages (from tensorflow<2.1.0,>=2.0.0->turicreate) (0.2.0)\n",
            "Requirement already satisfied: opt-einsum>=2.3.2 in /usr/local/lib/python3.7/dist-packages (from tensorflow<2.1.0,>=2.0.0->turicreate) (3.3.0)\n",
            "Requirement already satisfied: astor>=0.6.0 in /usr/local/lib/python3.7/dist-packages (from tensorflow<2.1.0,>=2.0.0->turicreate) (0.8.1)\n",
            "Requirement already satisfied: grpcio>=1.8.6 in /usr/local/lib/python3.7/dist-packages (from tensorflow<2.1.0,>=2.0.0->turicreate) (1.41.1)\n",
            "Requirement already satisfied: google-auth<2,>=1.6.3 in /usr/local/lib/python3.7/dist-packages (from tensorboard<2.1.0,>=2.0.0->tensorflow<2.1.0,>=2.0.0->turicreate) (1.35.0)\n",
            "Requirement already satisfied: werkzeug>=0.11.15 in /usr/local/lib/python3.7/dist-packages (from tensorboard<2.1.0,>=2.0.0->tensorflow<2.1.0,>=2.0.0->turicreate) (1.0.1)\n",
            "Requirement already satisfied: google-auth-oauthlib<0.5,>=0.4.1 in /usr/local/lib/python3.7/dist-packages (from tensorboard<2.1.0,>=2.0.0->tensorflow<2.1.0,>=2.0.0->turicreate) (0.4.6)\n",
            "Requirement already satisfied: markdown>=2.6.8 in /usr/local/lib/python3.7/dist-packages (from tensorboard<2.1.0,>=2.0.0->tensorflow<2.1.0,>=2.0.0->turicreate) (3.3.4)\n",
            "Requirement already satisfied: cachetools<5.0,>=2.0.0 in /usr/local/lib/python3.7/dist-packages (from google-auth<2,>=1.6.3->tensorboard<2.1.0,>=2.0.0->tensorflow<2.1.0,>=2.0.0->turicreate) (4.2.4)\n",
            "Requirement already satisfied: rsa<5,>=3.1.4 in /usr/local/lib/python3.7/dist-packages (from google-auth<2,>=1.6.3->tensorboard<2.1.0,>=2.0.0->tensorflow<2.1.0,>=2.0.0->turicreate) (4.7.2)\n",
            "Requirement already satisfied: pyasn1-modules>=0.2.1 in /usr/local/lib/python3.7/dist-packages (from google-auth<2,>=1.6.3->tensorboard<2.1.0,>=2.0.0->tensorflow<2.1.0,>=2.0.0->turicreate) (0.2.8)\n",
            "Requirement already satisfied: requests-oauthlib>=0.7.0 in /usr/local/lib/python3.7/dist-packages (from google-auth-oauthlib<0.5,>=0.4.1->tensorboard<2.1.0,>=2.0.0->tensorflow<2.1.0,>=2.0.0->turicreate) (1.3.0)\n",
            "Requirement already satisfied: importlib-metadata in /usr/local/lib/python3.7/dist-packages (from markdown>=2.6.8->tensorboard<2.1.0,>=2.0.0->tensorflow<2.1.0,>=2.0.0->turicreate) (4.8.2)\n",
            "Requirement already satisfied: pyasn1<0.5.0,>=0.4.6 in /usr/local/lib/python3.7/dist-packages (from pyasn1-modules>=0.2.1->google-auth<2,>=1.6.3->tensorboard<2.1.0,>=2.0.0->tensorflow<2.1.0,>=2.0.0->turicreate) (0.4.8)\n",
            "Requirement already satisfied: oauthlib>=3.0.0 in /usr/local/lib/python3.7/dist-packages (from requests-oauthlib>=0.7.0->google-auth-oauthlib<0.5,>=0.4.1->tensorboard<2.1.0,>=2.0.0->tensorflow<2.1.0,>=2.0.0->turicreate) (3.1.1)\n",
            "Requirement already satisfied: zipp>=0.5 in /usr/local/lib/python3.7/dist-packages (from importlib-metadata->markdown>=2.6.8->tensorboard<2.1.0,>=2.0.0->tensorflow<2.1.0,>=2.0.0->turicreate) (3.6.0)\n",
            "Requirement already satisfied: typing-extensions>=3.6.4 in /usr/local/lib/python3.7/dist-packages (from importlib-metadata->markdown>=2.6.8->tensorboard<2.1.0,>=2.0.0->tensorflow<2.1.0,>=2.0.0->turicreate) (3.10.0.2)\n",
            "Building wheels for collected packages: prettytable, resampy, gast\n",
            "  Building wheel for prettytable (setup.py) ... \u001b[?25l\u001b[?25hdone\n",
            "  Created wheel for prettytable: filename=prettytable-0.7.2-py3-none-any.whl size=13714 sha256=1392db6adff8fbe80150402699864c08d133ed636d8616d9bf10155aaa978e4d\n",
            "  Stored in directory: /root/.cache/pip/wheels/b2/7f/f6/f180315b584f00445045ff1699b550fa895d09471337ce21c6\n",
            "  Building wheel for resampy (setup.py) ... \u001b[?25l\u001b[?25hdone\n",
            "  Created wheel for resampy: filename=resampy-0.2.1-py3-none-any.whl size=320860 sha256=e78f6dbd9a5f58e11ce49008d0432b64bca88c2b143c9c1dd785c786f89cbfcb\n",
            "  Stored in directory: /root/.cache/pip/wheels/71/74/53/d5ceb7c5ee7a168c7d106041863e71ac3273f4a4677743a284\n",
            "  Building wheel for gast (setup.py) ... \u001b[?25l\u001b[?25hdone\n",
            "  Created wheel for gast: filename=gast-0.2.2-py3-none-any.whl size=7554 sha256=07323419839ffddc11d98ecd600456824899d0bb9b4d4ce0ff9a7f872a1d0cd0\n",
            "  Stored in directory: /root/.cache/pip/wheels/21/7f/02/420f32a803f7d0967b48dd823da3f558c5166991bfd204eef3\n",
            "Successfully built prettytable resampy gast\n",
            "Installing collected packages: numpy, llvmlite, h5py, tensorflow-estimator, tensorboard, numba, keras-applications, gast, tensorflow, resampy, prettytable, coremltools, turicreate\n",
            "  Attempting uninstall: numpy\n",
            "    Found existing installation: numpy 1.19.5\n",
            "    Uninstalling numpy-1.19.5:\n",
            "      Successfully uninstalled numpy-1.19.5\n",
            "  Attempting uninstall: llvmlite\n",
            "    Found existing installation: llvmlite 0.34.0\n",
            "    Uninstalling llvmlite-0.34.0:\n",
            "      Successfully uninstalled llvmlite-0.34.0\n",
            "  Attempting uninstall: h5py\n",
            "    Found existing installation: h5py 3.1.0\n",
            "    Uninstalling h5py-3.1.0:\n",
            "      Successfully uninstalled h5py-3.1.0\n",
            "  Attempting uninstall: tensorflow-estimator\n",
            "    Found existing installation: tensorflow-estimator 2.7.0\n",
            "    Uninstalling tensorflow-estimator-2.7.0:\n",
            "      Successfully uninstalled tensorflow-estimator-2.7.0\n",
            "  Attempting uninstall: tensorboard\n",
            "    Found existing installation: tensorboard 2.7.0\n",
            "    Uninstalling tensorboard-2.7.0:\n",
            "      Successfully uninstalled tensorboard-2.7.0\n",
            "  Attempting uninstall: numba\n",
            "    Found existing installation: numba 0.51.2\n",
            "    Uninstalling numba-0.51.2:\n",
            "      Successfully uninstalled numba-0.51.2\n",
            "  Attempting uninstall: gast\n",
            "    Found existing installation: gast 0.4.0\n",
            "    Uninstalling gast-0.4.0:\n",
            "      Successfully uninstalled gast-0.4.0\n",
            "  Attempting uninstall: tensorflow\n",
            "    Found existing installation: tensorflow 2.7.0\n",
            "    Uninstalling tensorflow-2.7.0:\n",
            "      Successfully uninstalled tensorflow-2.7.0\n",
            "  Attempting uninstall: resampy\n",
            "    Found existing installation: resampy 0.2.2\n",
            "    Uninstalling resampy-0.2.2:\n",
            "      Successfully uninstalled resampy-0.2.2\n",
            "  Attempting uninstall: prettytable\n",
            "    Found existing installation: prettytable 2.4.0\n",
            "    Uninstalling prettytable-2.4.0:\n",
            "      Successfully uninstalled prettytable-2.4.0\n",
            "\u001b[31mERROR: pip's dependency resolver does not currently take into account all the packages that are installed. This behaviour is the source of the following dependency conflicts.\n",
            "tensorflow-probability 0.14.1 requires gast>=0.3.2, but you have gast 0.2.2 which is incompatible.\n",
            "librosa 0.8.1 requires resampy>=0.2.2, but you have resampy 0.2.1 which is incompatible.\n",
            "datascience 0.10.6 requires folium==0.2.1, but you have folium 0.8.3 which is incompatible.\n",
            "albumentations 0.1.12 requires imgaug<0.2.7,>=0.2.5, but you have imgaug 0.2.9 which is incompatible.\u001b[0m\n",
            "Successfully installed coremltools-3.3 gast-0.2.2 h5py-2.10.0 keras-applications-1.0.8 llvmlite-0.33.0 numba-0.50.1 numpy-1.18.5 prettytable-0.7.2 resampy-0.2.1 tensorboard-2.0.2 tensorflow-2.0.4 tensorflow-estimator-2.0.1 turicreate-6.4.1\n"
          ]
        },
        {
          "output_type": "display_data",
          "data": {
            "application/vnd.colab-display-data+json": {
              "pip_warning": {
                "packages": [
                  "numpy"
                ]
              }
            }
          },
          "metadata": {}
        },
        {
          "output_type": "stream",
          "name": "stdout",
          "text": [
            "Requirement already satisfied: kaggle in /usr/local/lib/python3.7/dist-packages (1.5.12)\n",
            "Requirement already satisfied: urllib3 in /usr/local/lib/python3.7/dist-packages (from kaggle) (1.24.3)\n",
            "Requirement already satisfied: python-slugify in /usr/local/lib/python3.7/dist-packages (from kaggle) (5.0.2)\n",
            "Requirement already satisfied: tqdm in /usr/local/lib/python3.7/dist-packages (from kaggle) (4.62.3)\n",
            "Requirement already satisfied: six>=1.10 in /usr/local/lib/python3.7/dist-packages (from kaggle) (1.15.0)\n",
            "Requirement already satisfied: requests in /usr/local/lib/python3.7/dist-packages (from kaggle) (2.23.0)\n",
            "Requirement already satisfied: python-dateutil in /usr/local/lib/python3.7/dist-packages (from kaggle) (2.8.2)\n",
            "Requirement already satisfied: certifi in /usr/local/lib/python3.7/dist-packages (from kaggle) (2021.10.8)\n",
            "Requirement already satisfied: text-unidecode>=1.3 in /usr/local/lib/python3.7/dist-packages (from python-slugify->kaggle) (1.3)\n",
            "Requirement already satisfied: chardet<4,>=3.0.2 in /usr/local/lib/python3.7/dist-packages (from requests->kaggle) (3.0.4)\n",
            "Requirement already satisfied: idna<3,>=2.5 in /usr/local/lib/python3.7/dist-packages (from requests->kaggle) (2.10)\n",
            "Requirement already satisfied: gensim in /usr/local/lib/python3.7/dist-packages (3.6.0)\n",
            "Requirement already satisfied: six>=1.5.0 in /usr/local/lib/python3.7/dist-packages (from gensim) (1.15.0)\n",
            "Requirement already satisfied: smart-open>=1.2.1 in /usr/local/lib/python3.7/dist-packages (from gensim) (5.2.1)\n",
            "Requirement already satisfied: scipy>=0.18.1 in /usr/local/lib/python3.7/dist-packages (from gensim) (1.4.1)\n",
            "Requirement already satisfied: numpy>=1.11.3 in /usr/local/lib/python3.7/dist-packages (from gensim) (1.18.5)\n",
            "Collecting pyLDAvis\n",
            "  Using cached pyLDAvis-3.3.1.tar.gz (1.7 MB)\n",
            "  Installing build dependencies ... \u001b[?25l\u001b[?25hdone\n",
            "  Getting requirements to build wheel ... \u001b[?25l\u001b[?25hdone\n",
            "  Installing backend dependencies ... \u001b[?25l\u001b[?25hdone\n",
            "    Preparing wheel metadata ... \u001b[?25l\u001b[?25hdone\n",
            "Collecting funcy\n",
            "  Downloading funcy-1.16-py2.py3-none-any.whl (32 kB)\n",
            "Requirement already satisfied: joblib in /usr/local/lib/python3.7/dist-packages (from pyLDAvis) (1.1.0)\n",
            "Collecting pandas>=1.2.0\n",
            "  Downloading pandas-1.3.4-cp37-cp37m-manylinux_2_17_x86_64.manylinux2014_x86_64.whl (11.3 MB)\n",
            "\u001b[K     |████████████████████████████████| 11.3 MB 6.6 MB/s \n",
            "\u001b[?25hCollecting numpy>=1.20.0\n",
            "  Downloading numpy-1.21.4-cp37-cp37m-manylinux_2_12_x86_64.manylinux2010_x86_64.whl (15.7 MB)\n",
            "\u001b[K     |████████████████████████████████| 15.7 MB 24.7 MB/s \n",
            "\u001b[?25hRequirement already satisfied: setuptools in /usr/local/lib/python3.7/dist-packages (from pyLDAvis) (57.4.0)\n",
            "Requirement already satisfied: sklearn in /usr/local/lib/python3.7/dist-packages (from pyLDAvis) (0.0)\n",
            "Requirement already satisfied: gensim in /usr/local/lib/python3.7/dist-packages (from pyLDAvis) (3.6.0)\n",
            "Requirement already satisfied: scikit-learn in /usr/local/lib/python3.7/dist-packages (from pyLDAvis) (1.0.1)\n",
            "Requirement already satisfied: scipy in /usr/local/lib/python3.7/dist-packages (from pyLDAvis) (1.4.1)\n",
            "Requirement already satisfied: future in /usr/local/lib/python3.7/dist-packages (from pyLDAvis) (0.16.0)\n",
            "Requirement already satisfied: numexpr in /usr/local/lib/python3.7/dist-packages (from pyLDAvis) (2.7.3)\n",
            "Requirement already satisfied: jinja2 in /usr/local/lib/python3.7/dist-packages (from pyLDAvis) (2.11.3)\n",
            "Requirement already satisfied: python-dateutil>=2.7.3 in /usr/local/lib/python3.7/dist-packages (from pandas>=1.2.0->pyLDAvis) (2.8.2)\n",
            "Requirement already satisfied: pytz>=2017.3 in /usr/local/lib/python3.7/dist-packages (from pandas>=1.2.0->pyLDAvis) (2018.9)\n",
            "Requirement already satisfied: six>=1.5 in /usr/local/lib/python3.7/dist-packages (from python-dateutil>=2.7.3->pandas>=1.2.0->pyLDAvis) (1.15.0)\n",
            "Requirement already satisfied: smart-open>=1.2.1 in /usr/local/lib/python3.7/dist-packages (from gensim->pyLDAvis) (5.2.1)\n",
            "Requirement already satisfied: MarkupSafe>=0.23 in /usr/local/lib/python3.7/dist-packages (from jinja2->pyLDAvis) (2.0.1)\n",
            "Requirement already satisfied: threadpoolctl>=2.0.0 in /usr/local/lib/python3.7/dist-packages (from scikit-learn->pyLDAvis) (3.0.0)\n",
            "Building wheels for collected packages: pyLDAvis\n",
            "  Building wheel for pyLDAvis (PEP 517) ... \u001b[?25l\u001b[?25hdone\n",
            "  Created wheel for pyLDAvis: filename=pyLDAvis-3.3.1-py2.py3-none-any.whl size=136897 sha256=dd424a6ed7eb108ae3359f480da81101c8885f4c293bd457d9abdd81947c94b5\n",
            "  Stored in directory: /root/.cache/pip/wheels/c9/21/f6/17bcf2667e8a68532ba2fbf6d5c72fdf4c7f7d9abfa4852d2f\n",
            "Successfully built pyLDAvis\n",
            "Installing collected packages: numpy, pandas, funcy, pyLDAvis\n",
            "  Attempting uninstall: numpy\n",
            "    Found existing installation: numpy 1.18.5\n",
            "    Uninstalling numpy-1.18.5:\n",
            "      Successfully uninstalled numpy-1.18.5\n",
            "  Attempting uninstall: pandas\n",
            "    Found existing installation: pandas 1.1.5\n",
            "    Uninstalling pandas-1.1.5:\n",
            "      Successfully uninstalled pandas-1.1.5\n",
            "\u001b[31mERROR: pip's dependency resolver does not currently take into account all the packages that are installed. This behaviour is the source of the following dependency conflicts.\n",
            "yellowbrick 1.3.post1 requires numpy<1.20,>=1.16.0, but you have numpy 1.21.4 which is incompatible.\n",
            "tensorflow 2.0.4 requires numpy<1.19.0,>=1.16.0, but you have numpy 1.21.4 which is incompatible.\n",
            "tensorflow-probability 0.14.1 requires gast>=0.3.2, but you have gast 0.2.2 which is incompatible.\n",
            "librosa 0.8.1 requires resampy>=0.2.2, but you have resampy 0.2.1 which is incompatible.\n",
            "google-colab 1.0.0 requires pandas~=1.1.0; python_version >= \"3.0\", but you have pandas 1.3.4 which is incompatible.\n",
            "datascience 0.10.6 requires folium==0.2.1, but you have folium 0.8.3 which is incompatible.\n",
            "albumentations 0.1.12 requires imgaug<0.2.7,>=0.2.5, but you have imgaug 0.2.9 which is incompatible.\u001b[0m\n",
            "Successfully installed funcy-1.16 numpy-1.21.4 pandas-1.3.4 pyLDAvis-3.3.1\n"
          ]
        },
        {
          "output_type": "display_data",
          "data": {
            "application/vnd.colab-display-data+json": {
              "pip_warning": {
                "packages": [
                  "numpy",
                  "pandas"
                ]
              }
            }
          },
          "metadata": {}
        },
        {
          "output_type": "stream",
          "name": "stdout",
          "text": [
            "Requirement already satisfied: spaCy in /usr/local/lib/python3.7/dist-packages (2.2.4)\n",
            "Requirement already satisfied: requests<3.0.0,>=2.13.0 in /usr/local/lib/python3.7/dist-packages (from spaCy) (2.23.0)\n",
            "Requirement already satisfied: plac<1.2.0,>=0.9.6 in /usr/local/lib/python3.7/dist-packages (from spaCy) (1.1.3)\n",
            "Requirement already satisfied: srsly<1.1.0,>=1.0.2 in /usr/local/lib/python3.7/dist-packages (from spaCy) (1.0.5)\n",
            "Requirement already satisfied: murmurhash<1.1.0,>=0.28.0 in /usr/local/lib/python3.7/dist-packages (from spaCy) (1.0.6)\n",
            "Requirement already satisfied: blis<0.5.0,>=0.4.0 in /usr/local/lib/python3.7/dist-packages (from spaCy) (0.4.1)\n",
            "Requirement already satisfied: numpy>=1.15.0 in /usr/local/lib/python3.7/dist-packages (from spaCy) (1.21.4)\n",
            "Requirement already satisfied: thinc==7.4.0 in /usr/local/lib/python3.7/dist-packages (from spaCy) (7.4.0)\n",
            "Requirement already satisfied: preshed<3.1.0,>=3.0.2 in /usr/local/lib/python3.7/dist-packages (from spaCy) (3.0.6)\n",
            "Requirement already satisfied: wasabi<1.1.0,>=0.4.0 in /usr/local/lib/python3.7/dist-packages (from spaCy) (0.8.2)\n",
            "Requirement already satisfied: tqdm<5.0.0,>=4.38.0 in /usr/local/lib/python3.7/dist-packages (from spaCy) (4.62.3)\n",
            "Requirement already satisfied: setuptools in /usr/local/lib/python3.7/dist-packages (from spaCy) (57.4.0)\n",
            "Requirement already satisfied: cymem<2.1.0,>=2.0.2 in /usr/local/lib/python3.7/dist-packages (from spaCy) (2.0.6)\n",
            "Requirement already satisfied: catalogue<1.1.0,>=0.0.7 in /usr/local/lib/python3.7/dist-packages (from spaCy) (1.0.0)\n",
            "Requirement already satisfied: importlib-metadata>=0.20 in /usr/local/lib/python3.7/dist-packages (from catalogue<1.1.0,>=0.0.7->spaCy) (4.8.2)\n",
            "Requirement already satisfied: typing-extensions>=3.6.4 in /usr/local/lib/python3.7/dist-packages (from importlib-metadata>=0.20->catalogue<1.1.0,>=0.0.7->spaCy) (3.10.0.2)\n",
            "Requirement already satisfied: zipp>=0.5 in /usr/local/lib/python3.7/dist-packages (from importlib-metadata>=0.20->catalogue<1.1.0,>=0.0.7->spaCy) (3.6.0)\n",
            "Requirement already satisfied: idna<3,>=2.5 in /usr/local/lib/python3.7/dist-packages (from requests<3.0.0,>=2.13.0->spaCy) (2.10)\n",
            "Requirement already satisfied: certifi>=2017.4.17 in /usr/local/lib/python3.7/dist-packages (from requests<3.0.0,>=2.13.0->spaCy) (2021.10.8)\n",
            "Requirement already satisfied: urllib3!=1.25.0,!=1.25.1,<1.26,>=1.21.1 in /usr/local/lib/python3.7/dist-packages (from requests<3.0.0,>=2.13.0->spaCy) (1.24.3)\n",
            "Requirement already satisfied: chardet<4,>=3.0.2 in /usr/local/lib/python3.7/dist-packages (from requests<3.0.0,>=2.13.0->spaCy) (3.0.4)\n",
            "Collecting afinn\n",
            "  Downloading afinn-0.1.tar.gz (52 kB)\n",
            "\u001b[K     |████████████████████████████████| 52 kB 848 kB/s \n",
            "\u001b[?25hBuilding wheels for collected packages: afinn\n",
            "  Building wheel for afinn (setup.py) ... \u001b[?25l\u001b[?25hdone\n",
            "  Created wheel for afinn: filename=afinn-0.1-py3-none-any.whl size=53448 sha256=7435d095543143342643477e64293cdb649c0b40adf22717d173880c0530858c\n",
            "  Stored in directory: /root/.cache/pip/wheels/9d/16/3a/9f0953027434eab5dadf3f33ab3298fa95afa8292fcf7aba75\n",
            "Successfully built afinn\n",
            "Installing collected packages: afinn\n",
            "Successfully installed afinn-0.1\n",
            "mkdir: invalid option -- 'f'\n",
            "Try 'mkdir --help' for more information.\n",
            "Downloading amazon-fine-food-reviews.zip to ./datasets/amazon_reviews\n",
            " 99% 240M/242M [00:01<00:00, 142MB/s]\n",
            "100% 242M/242M [00:01<00:00, 129MB/s]\n",
            "Archive:  ./datasets/amazon_reviews/amazon-fine-food-reviews.zip\n",
            "  inflating: ./datasets/amazon_reviews/Reviews.csv  \n",
            "  inflating: ./datasets/amazon_reviews/database.sqlite  \n",
            "  inflating: ./datasets/amazon_reviews/hashes.txt  \n"
          ]
        }
      ]
    },
    {
      "cell_type": "code",
      "metadata": {
        "id": "VFuLh5r9ECKm"
      },
      "source": [
        "# IMPORTS\n",
        "import os\n",
        "import json\n",
        "import re\n",
        "import requests\n",
        "from typing import *\n",
        "import numpy as np\n",
        "import pandas as pd\n",
        "import turicreate as turi\n",
        "import networkx as ntkx\n",
        "import matplotlib.pyplot as plt\n",
        "from tqdm.notebook import tqdm \n",
        "\n",
        "%matplotlib inline"
      ],
      "execution_count": 1,
      "outputs": []
    },
    {
      "cell_type": "code",
      "metadata": {
        "id": "UD5n1r2dECRz",
        "colab": {
          "base_uri": "https://localhost:8080/",
          "height": 1000
        },
        "outputId": "5cd24102-3e84-4d18-94ba-ec7786d1bb5d"
      },
      "source": [
        "reviews_sframe = turi.SFrame.read_csv('/content/datasets/amazon_reviews/Reviews.csv')\n",
        "reviews_sframe"
      ],
      "execution_count": 2,
      "outputs": [
        {
          "output_type": "display_data",
          "data": {
            "text/html": [
              "<pre>Unexpected characters after last column. \"B000GW46D4\"\n",
              "Parse failed at token ending at: \n",
              "\tmyself that tastes much better than this.\"\n",
              "35360,B000GW46D4,\u001b[1;31m^\u001b[0mA1DPWQR4WSPXTM,Japri,0,0,2,1331424000,Very unsat\n",
              "Successfully parsed 10 tokens: \n",
              "\t0: 35359\n",
              "\t1: B000GW46D4\n",
              "\t2: A2Y4S4CNGKF21S\n",
              "\t3: H. Swanson\n",
              "\t4: 0\n",
              "\t5: 0\n",
              "\t6: 2\n",
              "\t7: 1332374400\n",
              "\t8: Very dry,  ... rumbly :\",\n",
              "\t9: to the poi ... is.\"\n",
              "35360</pre>"
            ],
            "text/plain": [
              "Unexpected characters after last column. \"B000GW46D4\"\n",
              "Parse failed at token ending at: \n",
              "\tmyself that tastes much better than this.\"\n",
              "35360,B000GW46D4,\u001b[1;31m^\u001b[0mA1DPWQR4WSPXTM,Japri,0,0,2,1331424000,Very unsat\n",
              "Successfully parsed 10 tokens: \n",
              "\t0: 35359\n",
              "\t1: B000GW46D4\n",
              "\t2: A2Y4S4CNGKF21S\n",
              "\t3: H. Swanson\n",
              "\t4: 0\n",
              "\t5: 0\n",
              "\t6: 2\n",
              "\t7: 1332374400\n",
              "\t8: Very dry,  ... rumbly :\",\n",
              "\t9: to the poi ... is.\"\n",
              "35360"
            ]
          },
          "metadata": {}
        },
        {
          "output_type": "display_data",
          "data": {
            "text/html": [
              "<pre>Unexpected characters after last column. \"one of only a very few\"\n",
              "Parse failed at token ending at: \n",
              "\thile. This is a very rare hot sauce, one of only a very few,\u001b[1;31m^\u001b[0m where the actual chile is the major ingredient.\n",
              "Successfully parsed 10 tokens: \n",
              "\t0: 74275\n",
              "\t1: B005B3HKPO\n",
              "\t2: A3OC6M21K4UAQ\n",
              "\t3: tw\n",
              "\t4: 2\n",
              "\t5: 5\n",
              "\t6: 2\n",
              "\t7: 1328486400\n",
              "\t8: whats with ... is smell??\n",
              "\t9: ummm can s ... mmended!.,</pre>"
            ],
            "text/plain": [
              "Unexpected characters after last column. \"one of only a very few\"\n",
              "Parse failed at token ending at: \n",
              "\thile. This is a very rare hot sauce, one of only a very few,\u001b[1;31m^\u001b[0m where the actual chile is the major ingredient.\n",
              "Successfully parsed 10 tokens: \n",
              "\t0: 74275\n",
              "\t1: B005B3HKPO\n",
              "\t2: A3OC6M21K4UAQ\n",
              "\t3: tw\n",
              "\t4: 2\n",
              "\t5: 5\n",
              "\t6: 2\n",
              "\t7: 1328486400\n",
              "\t8: whats with ... is smell??\n",
              "\t9: ummm can s ... mmended!.,"
            ]
          },
          "metadata": {}
        },
        {
          "output_type": "display_data",
          "data": {
            "text/html": [
              "<pre>Unexpected characters after last column. \"B000PMJLJO\"\n",
              "Parse failed at token ending at: \n",
              "\tmyself that tastes much better than this.\"\n",
              "88623,B000PMJLJO,\u001b[1;31m^\u001b[0mA1DPWQR4WSPXTM,Japri,0,0,2,1331424000,Very unsat\n",
              "Successfully parsed 10 tokens: \n",
              "\t0: 88622\n",
              "\t1: B000PMJLJO\n",
              "\t2: A2Y4S4CNGKF21S\n",
              "\t3: H. Swanson\n",
              "\t4: 0\n",
              "\t5: 0\n",
              "\t6: 2\n",
              "\t7: 1332374400\n",
              "\t8: Very dry,  ... rumbly :\",\n",
              "\t9: to the poi ... is.\"\n",
              "88623</pre>"
            ],
            "text/plain": [
              "Unexpected characters after last column. \"B000PMJLJO\"\n",
              "Parse failed at token ending at: \n",
              "\tmyself that tastes much better than this.\"\n",
              "88623,B000PMJLJO,\u001b[1;31m^\u001b[0mA1DPWQR4WSPXTM,Japri,0,0,2,1331424000,Very unsat\n",
              "Successfully parsed 10 tokens: \n",
              "\t0: 88622\n",
              "\t1: B000PMJLJO\n",
              "\t2: A2Y4S4CNGKF21S\n",
              "\t3: H. Swanson\n",
              "\t4: 0\n",
              "\t5: 0\n",
              "\t6: 2\n",
              "\t7: 1332374400\n",
              "\t8: Very dry,  ... rumbly :\",\n",
              "\t9: to the poi ... is.\"\n",
              "88623"
            ]
          },
          "metadata": {}
        },
        {
          "output_type": "display_data",
          "data": {
            "text/html": [
              "<pre>3 lines failed to parse correctly</pre>"
            ],
            "text/plain": [
              "3 lines failed to parse correctly"
            ]
          },
          "metadata": {}
        },
        {
          "output_type": "display_data",
          "data": {
            "text/html": [
              "<pre>Finished parsing file /content/datasets/amazon_reviews/Reviews.csv</pre>"
            ],
            "text/plain": [
              "Finished parsing file /content/datasets/amazon_reviews/Reviews.csv"
            ]
          },
          "metadata": {}
        },
        {
          "output_type": "display_data",
          "data": {
            "text/html": [
              "<pre>Parsing completed. Parsed 100 lines in 0.91869 secs.</pre>"
            ],
            "text/plain": [
              "Parsing completed. Parsed 100 lines in 0.91869 secs."
            ]
          },
          "metadata": {}
        },
        {
          "output_type": "stream",
          "name": "stdout",
          "text": [
            "------------------------------------------------------\n",
            "Inferred types from first 100 line(s) of file as \n",
            "column_type_hints=[int,str,str,str,int,int,int,int,str,str]\n",
            "If parsing fails due to incorrect types, you can correct\n",
            "the inferred type list above and pass it to read_csv in\n",
            "the column_type_hints argument\n",
            "------------------------------------------------------\n"
          ]
        },
        {
          "output_type": "display_data",
          "data": {
            "text/html": [
              "<pre>Unexpected characters after last column. \"B000GW46D4\"\n",
              "Parse failed at token ending at: \n",
              "\tmyself that tastes much better than this.\"\n",
              "35360,B000GW46D4,\u001b[1;31m^\u001b[0mA1DPWQR4WSPXTM,Japri,0,0,2,1331424000,Very unsat\n",
              "Successfully parsed 10 tokens: \n",
              "\t0: 35359\n",
              "\t1: B000GW46D4\n",
              "\t2: A2Y4S4CNGKF21S\n",
              "\t3: H. Swanson\n",
              "\t4: 0\n",
              "\t5: 0\n",
              "\t6: 2\n",
              "\t7: 1332374400\n",
              "\t8: \"Very dry, ... edibly dry\n",
              "\t9: to the poi ... is.\"\n",
              "35360</pre>"
            ],
            "text/plain": [
              "Unexpected characters after last column. \"B000GW46D4\"\n",
              "Parse failed at token ending at: \n",
              "\tmyself that tastes much better than this.\"\n",
              "35360,B000GW46D4,\u001b[1;31m^\u001b[0mA1DPWQR4WSPXTM,Japri,0,0,2,1331424000,Very unsat\n",
              "Successfully parsed 10 tokens: \n",
              "\t0: 35359\n",
              "\t1: B000GW46D4\n",
              "\t2: A2Y4S4CNGKF21S\n",
              "\t3: H. Swanson\n",
              "\t4: 0\n",
              "\t5: 0\n",
              "\t6: 2\n",
              "\t7: 1332374400\n",
              "\t8: \"Very dry, ... edibly dry\n",
              "\t9: to the poi ... is.\"\n",
              "35360"
            ]
          },
          "metadata": {}
        },
        {
          "output_type": "display_data",
          "data": {
            "text/html": [
              "<pre>Unexpected characters after last column. \"one of only a very few\"\n",
              "Parse failed at token ending at: \n",
              "\thile. This is a very rare hot sauce, one of only a very few,\u001b[1;31m^\u001b[0m where the actual chile is the major ingredient.\n",
              "Successfully parsed 10 tokens: \n",
              "\t0: 74275\n",
              "\t1: B005B3HKPO\n",
              "\t2: A3OC6M21K4UAQ\n",
              "\t3: tw\n",
              "\t4: 2\n",
              "\t5: 5\n",
              "\t6: 2\n",
              "\t7: 1328486400\n",
              "\t8: whats with ... is smell??\n",
              "\t9: \"ummm can  ...  hot sauce</pre>"
            ],
            "text/plain": [
              "Unexpected characters after last column. \"one of only a very few\"\n",
              "Parse failed at token ending at: \n",
              "\thile. This is a very rare hot sauce, one of only a very few,\u001b[1;31m^\u001b[0m where the actual chile is the major ingredient.\n",
              "Successfully parsed 10 tokens: \n",
              "\t0: 74275\n",
              "\t1: B005B3HKPO\n",
              "\t2: A3OC6M21K4UAQ\n",
              "\t3: tw\n",
              "\t4: 2\n",
              "\t5: 5\n",
              "\t6: 2\n",
              "\t7: 1328486400\n",
              "\t8: whats with ... is smell??\n",
              "\t9: \"ummm can  ...  hot sauce"
            ]
          },
          "metadata": {}
        },
        {
          "output_type": "display_data",
          "data": {
            "text/html": [
              "<pre>Unexpected characters after last column. \"B000PMJLJO\"\n",
              "Parse failed at token ending at: \n",
              "\tmyself that tastes much better than this.\"\n",
              "88623,B000PMJLJO,\u001b[1;31m^\u001b[0mA1DPWQR4WSPXTM,Japri,0,0,2,1331424000,Very unsat\n",
              "Successfully parsed 10 tokens: \n",
              "\t0: 88622\n",
              "\t1: B000PMJLJO\n",
              "\t2: A2Y4S4CNGKF21S\n",
              "\t3: H. Swanson\n",
              "\t4: 0\n",
              "\t5: 0\n",
              "\t6: 2\n",
              "\t7: 1332374400\n",
              "\t8: \"Very dry, ... edibly dry\n",
              "\t9: to the poi ... is.\"\n",
              "88623</pre>"
            ],
            "text/plain": [
              "Unexpected characters after last column. \"B000PMJLJO\"\n",
              "Parse failed at token ending at: \n",
              "\tmyself that tastes much better than this.\"\n",
              "88623,B000PMJLJO,\u001b[1;31m^\u001b[0mA1DPWQR4WSPXTM,Japri,0,0,2,1331424000,Very unsat\n",
              "Successfully parsed 10 tokens: \n",
              "\t0: 88622\n",
              "\t1: B000PMJLJO\n",
              "\t2: A2Y4S4CNGKF21S\n",
              "\t3: H. Swanson\n",
              "\t4: 0\n",
              "\t5: 0\n",
              "\t6: 2\n",
              "\t7: 1332374400\n",
              "\t8: \"Very dry, ... edibly dry\n",
              "\t9: to the poi ... is.\"\n",
              "88623"
            ]
          },
          "metadata": {}
        },
        {
          "output_type": "display_data",
          "data": {
            "text/html": [
              "<pre>Unexpected characters after last column. \"but that awful after taste has no place in my afternoons.  Fog Chaser is flavorful but smooth. If you have had difficulty finding a good coffee for the new machines\"\n",
              "Parse failed at token ending at: \n",
              "\te had difficulty finding a good coffee for the new machines,\u001b[1;31m^\u001b[0m do give this one a try.\"\n",
              "181216,B007Y59HVM,#oc-\n",
              "Successfully parsed 10 tokens: \n",
              "\t0: 181213\n",
              "\t1: B007Y59HVM\n",
              "\t2: #oc-R3W5DW4JKJT228\n",
              "\t3: Mamaw\n",
              "\t4: 0\n",
              "\t5: 2\n",
              "\t6: 1\n",
              "\t7: 1346112000\n",
              "\t8: Disappointed\n",
              "\t9: \"I regret  ... he morning</pre>"
            ],
            "text/plain": [
              "Unexpected characters after last column. \"but that awful after taste has no place in my afternoons.  Fog Chaser is flavorful but smooth. If you have had difficulty finding a good coffee for the new machines\"\n",
              "Parse failed at token ending at: \n",
              "\te had difficulty finding a good coffee for the new machines,\u001b[1;31m^\u001b[0m do give this one a try.\"\n",
              "181216,B007Y59HVM,#oc-\n",
              "Successfully parsed 10 tokens: \n",
              "\t0: 181213\n",
              "\t1: B007Y59HVM\n",
              "\t2: #oc-R3W5DW4JKJT228\n",
              "\t3: Mamaw\n",
              "\t4: 0\n",
              "\t5: 2\n",
              "\t6: 1\n",
              "\t7: 1346112000\n",
              "\t8: Disappointed\n",
              "\t9: \"I regret  ... he morning"
            ]
          },
          "metadata": {}
        },
        {
          "output_type": "display_data",
          "data": {
            "text/html": [
              "<pre>Read 71440 lines. Lines per second: 73137</pre>"
            ],
            "text/plain": [
              "Read 71440 lines. Lines per second: 73137"
            ]
          },
          "metadata": {}
        },
        {
          "output_type": "display_data",
          "data": {
            "text/html": [
              "<pre>Unexpected characters after last column. \"0\"\n",
              "Parse failed at token ending at: \n",
              "\t />\\\"\n",
              "190510,B0012UEHFQ,A2788LGTSGCFA6,\"Mom of 3 \"\"sue\"\"\",0,\u001b[1;31m^\u001b[0m0,5,1329436800,She Loves Them!,I have a crazy do\n",
              "Successfully parsed 10 tokens: \n",
              "\t0: 190509\n",
              "\t1: B0012UEHFQ\n",
              "\t2: A3CR0UBHFX0NE7\n",
              "\t3: Sharee Lee Peterson\n",
              "\t4: 0\n",
              "\t5: 0\n",
              "\t6: 1\n",
              "\t7: 1330300800\n",
              "\t8: Poor Substitute\n",
              "\t9: I had prev ... of 3 \"sue\"</pre>"
            ],
            "text/plain": [
              "Unexpected characters after last column. \"0\"\n",
              "Parse failed at token ending at: \n",
              "\t />\\\"\n",
              "190510,B0012UEHFQ,A2788LGTSGCFA6,\"Mom of 3 \"\"sue\"\"\",0,\u001b[1;31m^\u001b[0m0,5,1329436800,She Loves Them!,I have a crazy do\n",
              "Successfully parsed 10 tokens: \n",
              "\t0: 190509\n",
              "\t1: B0012UEHFQ\n",
              "\t2: A3CR0UBHFX0NE7\n",
              "\t3: Sharee Lee Peterson\n",
              "\t4: 0\n",
              "\t5: 0\n",
              "\t6: 1\n",
              "\t7: 1330300800\n",
              "\t8: Poor Substitute\n",
              "\t9: I had prev ... of 3 \"sue\""
            ]
          },
          "metadata": {}
        },
        {
          "output_type": "display_data",
          "data": {
            "text/html": [
              "<pre>Unable to interpret \"encouraged him to eat\" as a integer\n",
              "Parse failed at token ending at: \n",
              "\tencouraged him to eat,\u001b[1;31m^\u001b[0m again.  It is also low in fat which is what he \n",
              "Successfully parsed 0 tokens:</pre>"
            ],
            "text/plain": [
              "Unable to interpret \"encouraged him to eat\" as a integer\n",
              "Parse failed at token ending at: \n",
              "\tencouraged him to eat,\u001b[1;31m^\u001b[0m again.  It is also low in fat which is what he \n",
              "Successfully parsed 0 tokens:"
            ]
          },
          "metadata": {}
        },
        {
          "output_type": "display_data",
          "data": {
            "text/html": [
              "<pre>Unable to interpret \"aDent just for grins and really like it! The taste is pleasant and long lasting. Nice flavor still after chewing away. Would recommend it to those who aren't sure if it's a product they would like. Great gum product.\" as a integer\n",
              "Parse failed at token ending at: \n",
              "\taDent just for grins and really like it! The taste is pleasant and long lasting. Nice flavor still after chewing away. Would recommend it to those who aren't sure if it's a product they would like. Great gum product.\u001b[1;31m^\u001b[0m\n",
              "Successfully parsed 0 tokens:</pre>"
            ],
            "text/plain": [
              "Unable to interpret \"aDent just for grins and really like it! The taste is pleasant and long lasting. Nice flavor still after chewing away. Would recommend it to those who aren't sure if it's a product they would like. Great gum product.\" as a integer\n",
              "Parse failed at token ending at: \n",
              "\taDent just for grins and really like it! The taste is pleasant and long lasting. Nice flavor still after chewing away. Would recommend it to those who aren't sure if it's a product they would like. Great gum product.\u001b[1;31m^\u001b[0m\n",
              "Successfully parsed 0 tokens:"
            ]
          },
          "metadata": {}
        },
        {
          "output_type": "display_data",
          "data": {
            "text/html": [
              "<pre>Unexpected characters after last column. \"B000GW6786\"\n",
              "Parse failed at token ending at: \n",
              "\tyself that tastes much better than this.\"\n",
              "415822,B000GW6786,\u001b[1;31m^\u001b[0mA1DPWQR4WSPXTM,Japri,0,0,2,1331424000,Very unsat\n",
              "Successfully parsed 10 tokens: \n",
              "\t0: 415821\n",
              "\t1: B000GW6786\n",
              "\t2: A2Y4S4CNGKF21S\n",
              "\t3: H. Swanson\n",
              "\t4: 0\n",
              "\t5: 0\n",
              "\t6: 2\n",
              "\t7: 1332374400\n",
              "\t8: \"Very dry, ... edibly dry\n",
              "\t9: to the poi ... s.\"\n",
              "415822</pre>"
            ],
            "text/plain": [
              "Unexpected characters after last column. \"B000GW6786\"\n",
              "Parse failed at token ending at: \n",
              "\tyself that tastes much better than this.\"\n",
              "415822,B000GW6786,\u001b[1;31m^\u001b[0mA1DPWQR4WSPXTM,Japri,0,0,2,1331424000,Very unsat\n",
              "Successfully parsed 10 tokens: \n",
              "\t0: 415821\n",
              "\t1: B000GW6786\n",
              "\t2: A2Y4S4CNGKF21S\n",
              "\t3: H. Swanson\n",
              "\t4: 0\n",
              "\t5: 0\n",
              "\t6: 2\n",
              "\t7: 1332374400\n",
              "\t8: \"Very dry, ... edibly dry\n",
              "\t9: to the poi ... s.\"\n",
              "415822"
            ]
          },
          "metadata": {}
        },
        {
          "output_type": "display_data",
          "data": {
            "text/html": [
              "<pre>Unable to interpret \"no carbonation.  Great for dieters who don't want the calories but are sick of the flavor of water.  The Cherry mint ha a nice flavor with a hint of cherry.  Delicious.\"\n",
              "514288\" as a integer\n",
              "Parse failed at token ending at: \n",
              "\tha a nice flavor with a hint of cherry.  Delicious.\"\n",
              "514288,\u001b[1;31m^\u001b[0mB0081X097M,A1YN5RSMH6TTZP,ltgr;blu,0,0,5,1332979\n",
              "Successfully parsed 4 tokens: \n",
              "\t0: 514285\n",
              "\t1: B0081X097M\n",
              "\t2: ATO7WKMVJD6XQ\n",
              "\t3: \"Curcio \"\" ... tives.Plus</pre>"
            ],
            "text/plain": [
              "Unable to interpret \"no carbonation.  Great for dieters who don't want the calories but are sick of the flavor of water.  The Cherry mint ha a nice flavor with a hint of cherry.  Delicious.\"\n",
              "514288\" as a integer\n",
              "Parse failed at token ending at: \n",
              "\tha a nice flavor with a hint of cherry.  Delicious.\"\n",
              "514288,\u001b[1;31m^\u001b[0mB0081X097M,A1YN5RSMH6TTZP,ltgr;blu,0,0,5,1332979\n",
              "Successfully parsed 4 tokens: \n",
              "\t0: 514285\n",
              "\t1: B0081X097M\n",
              "\t2: ATO7WKMVJD6XQ\n",
              "\t3: \"Curcio \"\" ... tives.Plus"
            ]
          },
          "metadata": {}
        },
        {
          "output_type": "display_data",
          "data": {
            "text/html": [
              "<pre>9 lines failed to parse correctly</pre>"
            ],
            "text/plain": [
              "9 lines failed to parse correctly"
            ]
          },
          "metadata": {}
        },
        {
          "output_type": "display_data",
          "data": {
            "text/html": [
              "<pre>Finished parsing file /content/datasets/amazon_reviews/Reviews.csv</pre>"
            ],
            "text/plain": [
              "Finished parsing file /content/datasets/amazon_reviews/Reviews.csv"
            ]
          },
          "metadata": {}
        },
        {
          "output_type": "display_data",
          "data": {
            "text/html": [
              "<pre>Parsing completed. Parsed 289205 lines in 2.66604 secs.</pre>"
            ],
            "text/plain": [
              "Parsing completed. Parsed 289205 lines in 2.66604 secs."
            ]
          },
          "metadata": {}
        },
        {
          "output_type": "execute_result",
          "data": {
            "text/html": [
              "<div style=\"max-height:1000px;max-width:1500px;overflow:auto;\"><table frame=\"box\" rules=\"cols\">\n",
              "    <tr>\n",
              "        <th style=\"padding-left: 1em; padding-right: 1em; text-align: center\">Id</th>\n",
              "        <th style=\"padding-left: 1em; padding-right: 1em; text-align: center\">ProductId</th>\n",
              "        <th style=\"padding-left: 1em; padding-right: 1em; text-align: center\">UserId</th>\n",
              "        <th style=\"padding-left: 1em; padding-right: 1em; text-align: center\">ProfileName</th>\n",
              "        <th style=\"padding-left: 1em; padding-right: 1em; text-align: center\">HelpfulnessNumerator</th>\n",
              "        <th style=\"padding-left: 1em; padding-right: 1em; text-align: center\">HelpfulnessDenominator</th>\n",
              "        <th style=\"padding-left: 1em; padding-right: 1em; text-align: center\">Score</th>\n",
              "    </tr>\n",
              "    <tr>\n",
              "        <td style=\"padding-left: 1em; padding-right: 1em; text-align: center; vertical-align: top\">1</td>\n",
              "        <td style=\"padding-left: 1em; padding-right: 1em; text-align: center; vertical-align: top\">B001E4KFG0</td>\n",
              "        <td style=\"padding-left: 1em; padding-right: 1em; text-align: center; vertical-align: top\">A3SGXH7AUHU8GW</td>\n",
              "        <td style=\"padding-left: 1em; padding-right: 1em; text-align: center; vertical-align: top\">delmartian</td>\n",
              "        <td style=\"padding-left: 1em; padding-right: 1em; text-align: center; vertical-align: top\">1</td>\n",
              "        <td style=\"padding-left: 1em; padding-right: 1em; text-align: center; vertical-align: top\">1</td>\n",
              "        <td style=\"padding-left: 1em; padding-right: 1em; text-align: center; vertical-align: top\">5</td>\n",
              "    </tr>\n",
              "    <tr>\n",
              "        <td style=\"padding-left: 1em; padding-right: 1em; text-align: center; vertical-align: top\">2</td>\n",
              "        <td style=\"padding-left: 1em; padding-right: 1em; text-align: center; vertical-align: top\">B00813GRG4</td>\n",
              "        <td style=\"padding-left: 1em; padding-right: 1em; text-align: center; vertical-align: top\">A1D87F6ZCVE5NK</td>\n",
              "        <td style=\"padding-left: 1em; padding-right: 1em; text-align: center; vertical-align: top\">dll pa</td>\n",
              "        <td style=\"padding-left: 1em; padding-right: 1em; text-align: center; vertical-align: top\">0</td>\n",
              "        <td style=\"padding-left: 1em; padding-right: 1em; text-align: center; vertical-align: top\">0</td>\n",
              "        <td style=\"padding-left: 1em; padding-right: 1em; text-align: center; vertical-align: top\">1</td>\n",
              "    </tr>\n",
              "    <tr>\n",
              "        <td style=\"padding-left: 1em; padding-right: 1em; text-align: center; vertical-align: top\">3</td>\n",
              "        <td style=\"padding-left: 1em; padding-right: 1em; text-align: center; vertical-align: top\">B000LQOCH0</td>\n",
              "        <td style=\"padding-left: 1em; padding-right: 1em; text-align: center; vertical-align: top\">ABXLMWJIXXAIN</td>\n",
              "        <td style=\"padding-left: 1em; padding-right: 1em; text-align: center; vertical-align: top\">Natalia Corres &quot;Natalia<br>Corres&quot; ...</td>\n",
              "        <td style=\"padding-left: 1em; padding-right: 1em; text-align: center; vertical-align: top\">1</td>\n",
              "        <td style=\"padding-left: 1em; padding-right: 1em; text-align: center; vertical-align: top\">1</td>\n",
              "        <td style=\"padding-left: 1em; padding-right: 1em; text-align: center; vertical-align: top\">4</td>\n",
              "    </tr>\n",
              "    <tr>\n",
              "        <td style=\"padding-left: 1em; padding-right: 1em; text-align: center; vertical-align: top\">4</td>\n",
              "        <td style=\"padding-left: 1em; padding-right: 1em; text-align: center; vertical-align: top\">B000UA0QIQ</td>\n",
              "        <td style=\"padding-left: 1em; padding-right: 1em; text-align: center; vertical-align: top\">A395BORC6FGVXV</td>\n",
              "        <td style=\"padding-left: 1em; padding-right: 1em; text-align: center; vertical-align: top\">Karl</td>\n",
              "        <td style=\"padding-left: 1em; padding-right: 1em; text-align: center; vertical-align: top\">3</td>\n",
              "        <td style=\"padding-left: 1em; padding-right: 1em; text-align: center; vertical-align: top\">3</td>\n",
              "        <td style=\"padding-left: 1em; padding-right: 1em; text-align: center; vertical-align: top\">2</td>\n",
              "    </tr>\n",
              "    <tr>\n",
              "        <td style=\"padding-left: 1em; padding-right: 1em; text-align: center; vertical-align: top\">5</td>\n",
              "        <td style=\"padding-left: 1em; padding-right: 1em; text-align: center; vertical-align: top\">B006K2ZZ7K</td>\n",
              "        <td style=\"padding-left: 1em; padding-right: 1em; text-align: center; vertical-align: top\">A1UQRSCLF8GW1T</td>\n",
              "        <td style=\"padding-left: 1em; padding-right: 1em; text-align: center; vertical-align: top\">Michael D. Bigham &quot;M.<br>Wassir&quot; ...</td>\n",
              "        <td style=\"padding-left: 1em; padding-right: 1em; text-align: center; vertical-align: top\">0</td>\n",
              "        <td style=\"padding-left: 1em; padding-right: 1em; text-align: center; vertical-align: top\">0</td>\n",
              "        <td style=\"padding-left: 1em; padding-right: 1em; text-align: center; vertical-align: top\">5</td>\n",
              "    </tr>\n",
              "    <tr>\n",
              "        <td style=\"padding-left: 1em; padding-right: 1em; text-align: center; vertical-align: top\">6</td>\n",
              "        <td style=\"padding-left: 1em; padding-right: 1em; text-align: center; vertical-align: top\">B006K2ZZ7K</td>\n",
              "        <td style=\"padding-left: 1em; padding-right: 1em; text-align: center; vertical-align: top\">ADT0SRK1MGOEU</td>\n",
              "        <td style=\"padding-left: 1em; padding-right: 1em; text-align: center; vertical-align: top\">Twoapennything</td>\n",
              "        <td style=\"padding-left: 1em; padding-right: 1em; text-align: center; vertical-align: top\">0</td>\n",
              "        <td style=\"padding-left: 1em; padding-right: 1em; text-align: center; vertical-align: top\">0</td>\n",
              "        <td style=\"padding-left: 1em; padding-right: 1em; text-align: center; vertical-align: top\">4</td>\n",
              "    </tr>\n",
              "    <tr>\n",
              "        <td style=\"padding-left: 1em; padding-right: 1em; text-align: center; vertical-align: top\">7</td>\n",
              "        <td style=\"padding-left: 1em; padding-right: 1em; text-align: center; vertical-align: top\">B006K2ZZ7K</td>\n",
              "        <td style=\"padding-left: 1em; padding-right: 1em; text-align: center; vertical-align: top\">A1SP2KVKFXXRU1</td>\n",
              "        <td style=\"padding-left: 1em; padding-right: 1em; text-align: center; vertical-align: top\">David C. Sullivan</td>\n",
              "        <td style=\"padding-left: 1em; padding-right: 1em; text-align: center; vertical-align: top\">0</td>\n",
              "        <td style=\"padding-left: 1em; padding-right: 1em; text-align: center; vertical-align: top\">0</td>\n",
              "        <td style=\"padding-left: 1em; padding-right: 1em; text-align: center; vertical-align: top\">5</td>\n",
              "    </tr>\n",
              "    <tr>\n",
              "        <td style=\"padding-left: 1em; padding-right: 1em; text-align: center; vertical-align: top\">8</td>\n",
              "        <td style=\"padding-left: 1em; padding-right: 1em; text-align: center; vertical-align: top\">B006K2ZZ7K</td>\n",
              "        <td style=\"padding-left: 1em; padding-right: 1em; text-align: center; vertical-align: top\">A3JRGQVEQN31IQ</td>\n",
              "        <td style=\"padding-left: 1em; padding-right: 1em; text-align: center; vertical-align: top\">Pamela G. Williams</td>\n",
              "        <td style=\"padding-left: 1em; padding-right: 1em; text-align: center; vertical-align: top\">0</td>\n",
              "        <td style=\"padding-left: 1em; padding-right: 1em; text-align: center; vertical-align: top\">0</td>\n",
              "        <td style=\"padding-left: 1em; padding-right: 1em; text-align: center; vertical-align: top\">5</td>\n",
              "    </tr>\n",
              "    <tr>\n",
              "        <td style=\"padding-left: 1em; padding-right: 1em; text-align: center; vertical-align: top\">9</td>\n",
              "        <td style=\"padding-left: 1em; padding-right: 1em; text-align: center; vertical-align: top\">B000E7L2R4</td>\n",
              "        <td style=\"padding-left: 1em; padding-right: 1em; text-align: center; vertical-align: top\">A1MZYO9TZK0BBI</td>\n",
              "        <td style=\"padding-left: 1em; padding-right: 1em; text-align: center; vertical-align: top\">R. James</td>\n",
              "        <td style=\"padding-left: 1em; padding-right: 1em; text-align: center; vertical-align: top\">1</td>\n",
              "        <td style=\"padding-left: 1em; padding-right: 1em; text-align: center; vertical-align: top\">1</td>\n",
              "        <td style=\"padding-left: 1em; padding-right: 1em; text-align: center; vertical-align: top\">5</td>\n",
              "    </tr>\n",
              "    <tr>\n",
              "        <td style=\"padding-left: 1em; padding-right: 1em; text-align: center; vertical-align: top\">10</td>\n",
              "        <td style=\"padding-left: 1em; padding-right: 1em; text-align: center; vertical-align: top\">B00171APVA</td>\n",
              "        <td style=\"padding-left: 1em; padding-right: 1em; text-align: center; vertical-align: top\">A21BT40VZCCYT4</td>\n",
              "        <td style=\"padding-left: 1em; padding-right: 1em; text-align: center; vertical-align: top\">Carol A. Reed</td>\n",
              "        <td style=\"padding-left: 1em; padding-right: 1em; text-align: center; vertical-align: top\">0</td>\n",
              "        <td style=\"padding-left: 1em; padding-right: 1em; text-align: center; vertical-align: top\">0</td>\n",
              "        <td style=\"padding-left: 1em; padding-right: 1em; text-align: center; vertical-align: top\">5</td>\n",
              "    </tr>\n",
              "</table>\n",
              "<table frame=\"box\" rules=\"cols\">\n",
              "    <tr>\n",
              "        <th style=\"padding-left: 1em; padding-right: 1em; text-align: center\">Time</th>\n",
              "        <th style=\"padding-left: 1em; padding-right: 1em; text-align: center\">Summary</th>\n",
              "        <th style=\"padding-left: 1em; padding-right: 1em; text-align: center\">Text</th>\n",
              "    </tr>\n",
              "    <tr>\n",
              "        <td style=\"padding-left: 1em; padding-right: 1em; text-align: center; vertical-align: top\">1303862400</td>\n",
              "        <td style=\"padding-left: 1em; padding-right: 1em; text-align: center; vertical-align: top\">Good Quality Dog Food</td>\n",
              "        <td style=\"padding-left: 1em; padding-right: 1em; text-align: center; vertical-align: top\">I have bought several of<br>the Vitality canned dog ...</td>\n",
              "    </tr>\n",
              "    <tr>\n",
              "        <td style=\"padding-left: 1em; padding-right: 1em; text-align: center; vertical-align: top\">1346976000</td>\n",
              "        <td style=\"padding-left: 1em; padding-right: 1em; text-align: center; vertical-align: top\">Not as Advertised</td>\n",
              "        <td style=\"padding-left: 1em; padding-right: 1em; text-align: center; vertical-align: top\">Product arrived labeled<br>as Jumbo Salted ...</td>\n",
              "    </tr>\n",
              "    <tr>\n",
              "        <td style=\"padding-left: 1em; padding-right: 1em; text-align: center; vertical-align: top\">1219017600</td>\n",
              "        <td style=\"padding-left: 1em; padding-right: 1em; text-align: center; vertical-align: top\">&quot;Delight&quot; says it all</td>\n",
              "        <td style=\"padding-left: 1em; padding-right: 1em; text-align: center; vertical-align: top\">This is a confection that<br>has been around a few ...</td>\n",
              "    </tr>\n",
              "    <tr>\n",
              "        <td style=\"padding-left: 1em; padding-right: 1em; text-align: center; vertical-align: top\">1307923200</td>\n",
              "        <td style=\"padding-left: 1em; padding-right: 1em; text-align: center; vertical-align: top\">Cough Medicine</td>\n",
              "        <td style=\"padding-left: 1em; padding-right: 1em; text-align: center; vertical-align: top\">If you are looking for<br>the secret ingredient in ...</td>\n",
              "    </tr>\n",
              "    <tr>\n",
              "        <td style=\"padding-left: 1em; padding-right: 1em; text-align: center; vertical-align: top\">1350777600</td>\n",
              "        <td style=\"padding-left: 1em; padding-right: 1em; text-align: center; vertical-align: top\">Great taffy</td>\n",
              "        <td style=\"padding-left: 1em; padding-right: 1em; text-align: center; vertical-align: top\">Great taffy at a great<br>price.  There was a wide ...</td>\n",
              "    </tr>\n",
              "    <tr>\n",
              "        <td style=\"padding-left: 1em; padding-right: 1em; text-align: center; vertical-align: top\">1342051200</td>\n",
              "        <td style=\"padding-left: 1em; padding-right: 1em; text-align: center; vertical-align: top\">Nice Taffy</td>\n",
              "        <td style=\"padding-left: 1em; padding-right: 1em; text-align: center; vertical-align: top\">I got a wild hair for<br>taffy and ordered this ...</td>\n",
              "    </tr>\n",
              "    <tr>\n",
              "        <td style=\"padding-left: 1em; padding-right: 1em; text-align: center; vertical-align: top\">1340150400</td>\n",
              "        <td style=\"padding-left: 1em; padding-right: 1em; text-align: center; vertical-align: top\">Great!  Just as good as<br>the expensive brands! ...</td>\n",
              "        <td style=\"padding-left: 1em; padding-right: 1em; text-align: center; vertical-align: top\">This saltwater taffy had<br>great flavors and was ...</td>\n",
              "    </tr>\n",
              "    <tr>\n",
              "        <td style=\"padding-left: 1em; padding-right: 1em; text-align: center; vertical-align: top\">1336003200</td>\n",
              "        <td style=\"padding-left: 1em; padding-right: 1em; text-align: center; vertical-align: top\">Wonderful, tasty taffy</td>\n",
              "        <td style=\"padding-left: 1em; padding-right: 1em; text-align: center; vertical-align: top\">This taffy is so good.<br>It is very soft and ...</td>\n",
              "    </tr>\n",
              "    <tr>\n",
              "        <td style=\"padding-left: 1em; padding-right: 1em; text-align: center; vertical-align: top\">1322006400</td>\n",
              "        <td style=\"padding-left: 1em; padding-right: 1em; text-align: center; vertical-align: top\">Yay Barley</td>\n",
              "        <td style=\"padding-left: 1em; padding-right: 1em; text-align: center; vertical-align: top\">Right now I&#x27;m mostly just<br>sprouting this so my  ...</td>\n",
              "    </tr>\n",
              "    <tr>\n",
              "        <td style=\"padding-left: 1em; padding-right: 1em; text-align: center; vertical-align: top\">1351209600</td>\n",
              "        <td style=\"padding-left: 1em; padding-right: 1em; text-align: center; vertical-align: top\">Healthy Dog Food</td>\n",
              "        <td style=\"padding-left: 1em; padding-right: 1em; text-align: center; vertical-align: top\">This is a very healthy<br>dog food. Good for their ...</td>\n",
              "    </tr>\n",
              "</table>\n",
              "[289205 rows x 10 columns]<br/>Note: Only the head of the SFrame is printed.<br/>You can use print_rows(num_rows=m, num_columns=n) to print more rows and columns.\n",
              "</div>"
            ],
            "text/plain": [
              "Columns:\n",
              "\tId\tint\n",
              "\tProductId\tstr\n",
              "\tUserId\tstr\n",
              "\tProfileName\tstr\n",
              "\tHelpfulnessNumerator\tint\n",
              "\tHelpfulnessDenominator\tint\n",
              "\tScore\tint\n",
              "\tTime\tint\n",
              "\tSummary\tstr\n",
              "\tText\tstr\n",
              "\n",
              "Rows: 289205\n",
              "\n",
              "Data:\n",
              "+----+------------+----------------+-------------------------------+----------------------+\n",
              "| Id | ProductId  |     UserId     |          ProfileName          | HelpfulnessNumerator |\n",
              "+----+------------+----------------+-------------------------------+----------------------+\n",
              "| 1  | B001E4KFG0 | A3SGXH7AUHU8GW |           delmartian          |          1           |\n",
              "| 2  | B00813GRG4 | A1D87F6ZCVE5NK |             dll pa            |          0           |\n",
              "| 3  | B000LQOCH0 | ABXLMWJIXXAIN  | Natalia Corres \"Natalia Co... |          1           |\n",
              "| 4  | B000UA0QIQ | A395BORC6FGVXV |              Karl             |          3           |\n",
              "| 5  | B006K2ZZ7K | A1UQRSCLF8GW1T | Michael D. Bigham \"M. Wassir\" |          0           |\n",
              "| 6  | B006K2ZZ7K | ADT0SRK1MGOEU  |         Twoapennything        |          0           |\n",
              "| 7  | B006K2ZZ7K | A1SP2KVKFXXRU1 |       David C. Sullivan       |          0           |\n",
              "| 8  | B006K2ZZ7K | A3JRGQVEQN31IQ |       Pamela G. Williams      |          0           |\n",
              "| 9  | B000E7L2R4 | A1MZYO9TZK0BBI |            R. James           |          1           |\n",
              "| 10 | B00171APVA | A21BT40VZCCYT4 |         Carol A. Reed         |          0           |\n",
              "+----+------------+----------------+-------------------------------+----------------------+\n",
              "+------------------------+-------+------------+-------------------------------+\n",
              "| HelpfulnessDenominator | Score |    Time    |            Summary            |\n",
              "+------------------------+-------+------------+-------------------------------+\n",
              "|           1            |   5   | 1303862400 |     Good Quality Dog Food     |\n",
              "|           0            |   1   | 1346976000 |       Not as Advertised       |\n",
              "|           1            |   4   | 1219017600 |     \"Delight\" says it all     |\n",
              "|           3            |   2   | 1307923200 |         Cough Medicine        |\n",
              "|           0            |   5   | 1350777600 |          Great taffy          |\n",
              "|           0            |   4   | 1342051200 |           Nice Taffy          |\n",
              "|           0            |   5   | 1340150400 | Great!  Just as good as th... |\n",
              "|           0            |   5   | 1336003200 |     Wonderful, tasty taffy    |\n",
              "|           1            |   5   | 1322006400 |           Yay Barley          |\n",
              "|           0            |   5   | 1351209600 |        Healthy Dog Food       |\n",
              "+------------------------+-------+------------+-------------------------------+\n",
              "+-------------------------------+\n",
              "|              Text             |\n",
              "+-------------------------------+\n",
              "| I have bought several of t... |\n",
              "| Product arrived labeled as... |\n",
              "| This is a confection that ... |\n",
              "| If you are looking for the... |\n",
              "| Great taffy at a great pri... |\n",
              "| I got a wild hair for taff... |\n",
              "| This saltwater taffy had g... |\n",
              "| This taffy is so good.  It... |\n",
              "| Right now I'm mostly just ... |\n",
              "| This is a very healthy dog... |\n",
              "+-------------------------------+\n",
              "[289205 rows x 10 columns]\n",
              "Note: Only the head of the SFrame is printed.\n",
              "You can use print_rows(num_rows=m, num_columns=n) to print more rows and columns."
            ]
          },
          "metadata": {},
          "execution_count": 2
        }
      ]
    },
    {
      "cell_type": "markdown",
      "metadata": {
        "id": "GvjvykQWEuEI"
      },
      "source": [
        "### Q1 ans:"
      ]
    },
    {
      "cell_type": "code",
      "metadata": {
        "id": "cIoqk24KbCyG",
        "colab": {
          "base_uri": "https://localhost:8080/",
          "height": 660
        },
        "outputId": "ac358720-76d3-46b2-c24e-55653e9e1676"
      },
      "source": [
        "# creating the features sframe from the review text field\n",
        "reviews_features_sframe = turi.SFrame()\n",
        "# removing all stop words as they are usually not very informative\n",
        "reviews_features_sframe['text_words_1grams'] = turi.text_analytics.count_ngrams(reviews_sframe['Text'], n=1, method='word').dict_trim_by_keys(turi.text_analytics.stop_words(), True)\n",
        "reviews_features_sframe['summary_words_1grams'] = turi.text_analytics.count_ngrams(reviews_sframe['Summary'], n=1, method='word').dict_trim_by_keys(turi.text_analytics.stop_words(), True)\n",
        "reviews_features_sframe['text_words_2grams'] = turi.text_analytics.count_ngrams(reviews_sframe['Text'], n=2, method='word').dict_trim_by_keys(turi.text_analytics.stop_words(), True)\n",
        "reviews_features_sframe['summary_words_2grams'] = turi.text_analytics.count_ngrams(reviews_sframe['Summary'], n=2, method='word').dict_trim_by_keys(turi.text_analytics.stop_words(), True)\n",
        "\n",
        "reviews_features_sframe['helpfulness_score'] = np.divide(reviews_sframe['HelpfulnessNumerator'].to_numpy(), reviews_sframe['HelpfulnessDenominator'].to_numpy(), where=reviews_sframe['HelpfulnessDenominator'].to_numpy()!=0) \n",
        "# i created a classifier that predicts the score from 1 to 5 (not only 1 OR 5).\n",
        "reviews_features_sframe['class'] = reviews_sframe['Score']\n",
        "reviews_features_sframe"
      ],
      "execution_count": 3,
      "outputs": [
        {
          "output_type": "execute_result",
          "data": {
            "text/html": [
              "<div style=\"max-height:1000px;max-width:1500px;overflow:auto;\"><table frame=\"box\" rules=\"cols\">\n",
              "    <tr>\n",
              "        <th style=\"padding-left: 1em; padding-right: 1em; text-align: center\">text_words_1grams</th>\n",
              "        <th style=\"padding-left: 1em; padding-right: 1em; text-align: center\">summary_words_1grams</th>\n",
              "        <th style=\"padding-left: 1em; padding-right: 1em; text-align: center\">text_words_2grams</th>\n",
              "        <th style=\"padding-left: 1em; padding-right: 1em; text-align: center\">summary_words_2grams</th>\n",
              "    </tr>\n",
              "    <tr>\n",
              "        <td style=\"padding-left: 1em; padding-right: 1em; text-align: center; vertical-align: top\">{&#x27;appreciates&#x27;: 1,<br>&#x27;labrador&#x27;: 1, &#x27;smells&#x27;: ...</td>\n",
              "        <td style=\"padding-left: 1em; padding-right: 1em; text-align: center; vertical-align: top\">{&#x27;food&#x27;: 1, &#x27;dog&#x27;: 1,<br>&#x27;quality&#x27;: 1, &#x27;good&#x27;: 1} ...</td>\n",
              "        <td style=\"padding-left: 1em; padding-right: 1em; text-align: center; vertical-align: top\">{&#x27;more like&#x27;: 1, &#x27;food<br>products&#x27;: 1, &#x27;a stew&#x27;: ...</td>\n",
              "        <td style=\"padding-left: 1em; padding-right: 1em; text-align: center; vertical-align: top\">{&#x27;dog food&#x27;: 1, &#x27;quality<br>dog&#x27;: 1, &#x27;good quality&#x27;: ...</td>\n",
              "    </tr>\n",
              "    <tr>\n",
              "        <td style=\"padding-left: 1em; padding-right: 1em; text-align: center; vertical-align: top\">{&#x27;intended&#x27;: 1, &#x27;salted&#x27;:<br>1, &#x27;product&#x27;: 2, ...</td>\n",
              "        <td style=\"padding-left: 1em; padding-right: 1em; text-align: center; vertical-align: top\">{&#x27;advertised&#x27;: 1}</td>\n",
              "        <td style=\"padding-left: 1em; padding-right: 1em; text-align: center; vertical-align: top\">{&#x27;the product&#x27;: 1,<br>&#x27;represent the&#x27;: 1, &#x27;to ...</td>\n",
              "        <td style=\"padding-left: 1em; padding-right: 1em; text-align: center; vertical-align: top\">{&#x27;as advertised&#x27;: 1, &#x27;not<br>as&#x27;: 1} ...</td>\n",
              "    </tr>\n",
              "    <tr>\n",
              "        <td style=\"padding-left: 1em; padding-right: 1em; text-align: center; vertical-align: top\">{&#x27;sisters&#x27;: 1, &#x27;brother&#x27;:<br>1, &#x27;selling&#x27;: 1, ...</td>\n",
              "        <td style=\"padding-left: 1em; padding-right: 1em; text-align: center; vertical-align: top\">{&#x27;delight&#x27;: 1}</td>\n",
              "        <td style=\"padding-left: 1em; padding-right: 1em; text-align: center; vertical-align: top\">{&#x27;to the&#x27;: 1, &#x27;brother<br>and&#x27;: 1, &#x27;out his&#x27;: 1, ...</td>\n",
              "        <td style=\"padding-left: 1em; padding-right: 1em; text-align: center; vertical-align: top\">{&#x27;it all&#x27;: 1, &#x27;says it&#x27;:<br>1, &#x27;delight says&#x27;: 1} ...</td>\n",
              "    </tr>\n",
              "    <tr>\n",
              "        <td style=\"padding-left: 1em; padding-right: 1em; text-align: center; vertical-align: top\">{&#x27;medicinal&#x27;: 1,<br>&#x27;flavor&#x27;: 1, &#x27;soda&#x27;: 1, ...</td>\n",
              "        <td style=\"padding-left: 1em; padding-right: 1em; text-align: center; vertical-align: top\">{&#x27;medicine&#x27;: 1, &#x27;cough&#x27;:<br>1} ...</td>\n",
              "        <td style=\"padding-left: 1em; padding-right: 1em; text-align: center; vertical-align: top\">{&#x27;is very&#x27;: 1, &#x27;soda<br>the&#x27;: 1, &#x27;cherry soda&#x27;: ...</td>\n",
              "        <td style=\"padding-left: 1em; padding-right: 1em; text-align: center; vertical-align: top\">{&#x27;cough medicine&#x27;: 1}</td>\n",
              "    </tr>\n",
              "    <tr>\n",
              "        <td style=\"padding-left: 1em; padding-right: 1em; text-align: center; vertical-align: top\">{&#x27;deal&#x27;: 1, &#x27;lover&#x27;: 1,<br>&#x27;quick&#x27;: 1, &#x27;delivery&#x27;: ...</td>\n",
              "        <td style=\"padding-left: 1em; padding-right: 1em; text-align: center; vertical-align: top\">{&#x27;taffy&#x27;: 1, &#x27;great&#x27;: 1}</td>\n",
              "        <td style=\"padding-left: 1em; padding-right: 1em; text-align: center; vertical-align: top\">{&#x27;lover this&#x27;: 1, &#x27;a<br>wide&#x27;: 1, &#x27;a deal&#x27;: 1, ...</td>\n",
              "        <td style=\"padding-left: 1em; padding-right: 1em; text-align: center; vertical-align: top\">{&#x27;great taffy&#x27;: 1}</td>\n",
              "    </tr>\n",
              "    <tr>\n",
              "        <td style=\"padding-left: 1em; padding-right: 1em; text-align: center; vertical-align: top\">{&#x27;treat&#x27;: 1,<br>&#x27;delightful&#x27;: 1, ...</td>\n",
              "        <td style=\"padding-left: 1em; padding-right: 1em; text-align: center; vertical-align: top\">{&#x27;taffy&#x27;: 1, &#x27;nice&#x27;: 1}</td>\n",
              "        <td style=\"padding-left: 1em; padding-right: 1em; text-align: center; vertical-align: top\">{&#x27;delightful treat&#x27;: 1,<br>&#x27;recommend this&#x27;: 1, ...</td>\n",
              "        <td style=\"padding-left: 1em; padding-right: 1em; text-align: center; vertical-align: top\">{&#x27;nice taffy&#x27;: 1}</td>\n",
              "    </tr>\n",
              "    <tr>\n",
              "        <td style=\"padding-left: 1em; padding-right: 1em; text-align: center; vertical-align: top\">{&#x27;themed&#x27;: 1, &#x27;served&#x27;:<br>1, &#x27;beach&#x27;: 1, ...</td>\n",
              "        <td style=\"padding-left: 1em; padding-right: 1em; text-align: center; vertical-align: top\">{&#x27;brands&#x27;: 1,<br>&#x27;expensive&#x27;: 1, &#x27;good&#x27;: ...</td>\n",
              "        <td style=\"padding-left: 1em; padding-right: 1em; text-align: center; vertical-align: top\">{&#x27;loved it&#x27;: 1, &#x27;everyone<br>loved&#x27;: 1, &#x27;and ...</td>\n",
              "        <td style=\"padding-left: 1em; padding-right: 1em; text-align: center; vertical-align: top\">{&#x27;expensive brands&#x27;: 1,<br>&#x27;good as&#x27;: 1, &#x27;the ...</td>\n",
              "    </tr>\n",
              "    <tr>\n",
              "        <td style=\"padding-left: 1em; padding-right: 1em; text-align: center; vertical-align: top\">{&#x27;recommend&#x27;: 1,<br>&#x27;amazing&#x27;: 1, ...</td>\n",
              "        <td style=\"padding-left: 1em; padding-right: 1em; text-align: center; vertical-align: top\">{&#x27;tasty&#x27;: 1, &#x27;taffy&#x27;: 1,<br>&#x27;wonderful&#x27;: 1} ...</td>\n",
              "        <td style=\"padding-left: 1em; padding-right: 1em; text-align: center; vertical-align: top\">{&#x27;and chewy&#x27;: 1, &#x27;very<br>satisfying&#x27;: 1, &#x27;this ...</td>\n",
              "        <td style=\"padding-left: 1em; padding-right: 1em; text-align: center; vertical-align: top\">{&#x27;tasty taffy&#x27;: 1,<br>&#x27;wonderful tasty&#x27;: 1} ...</td>\n",
              "    </tr>\n",
              "    <tr>\n",
              "        <td style=\"padding-left: 1em; padding-right: 1em; text-align: center; vertical-align: top\">{&#x27;rye&#x27;: 1, &#x27;cats&#x27;: 1,<br>&#x27;eat&#x27;: 1, &#x27;sprouting&#x27; ...</td>\n",
              "        <td style=\"padding-left: 1em; padding-right: 1em; text-align: center; vertical-align: top\">{&#x27;barley&#x27;: 1, &#x27;yay&#x27;: 1}</td>\n",
              "        <td style=\"padding-left: 1em; padding-right: 1em; text-align: center; vertical-align: top\">{&#x27;rye too&#x27;: 1, &#x27;and rye&#x27;:<br>1, &#x27;with wheatgrass&#x27;: 1, ...</td>\n",
              "        <td style=\"padding-left: 1em; padding-right: 1em; text-align: center; vertical-align: top\">{&#x27;yay barley&#x27;: 1}</td>\n",
              "    </tr>\n",
              "    <tr>\n",
              "        <td style=\"padding-left: 1em; padding-right: 1em; text-align: center; vertical-align: top\">{&#x27;feeding&#x27;: 1,<br>&#x27;required&#x27;: 1, &#x27;eats&#x27; ...</td>\n",
              "        <td style=\"padding-left: 1em; padding-right: 1em; text-align: center; vertical-align: top\">{&#x27;food&#x27;: 1, &#x27;dog&#x27;: 1,<br>&#x27;healthy&#x27;: 1} ...</td>\n",
              "        <td style=\"padding-left: 1em; padding-right: 1em; text-align: center; vertical-align: top\">{&#x27;every feeding&#x27;: 1,<br>&#x27;their digestion&#x27;: 1, ...</td>\n",
              "        <td style=\"padding-left: 1em; padding-right: 1em; text-align: center; vertical-align: top\">{&#x27;dog food&#x27;: 1, &#x27;healthy<br>dog&#x27;: 1} ...</td>\n",
              "    </tr>\n",
              "</table>\n",
              "<table frame=\"box\" rules=\"cols\">\n",
              "    <tr>\n",
              "        <th style=\"padding-left: 1em; padding-right: 1em; text-align: center\">helpfulness_score</th>\n",
              "        <th style=\"padding-left: 1em; padding-right: 1em; text-align: center\">class</th>\n",
              "    </tr>\n",
              "    <tr>\n",
              "        <td style=\"padding-left: 1em; padding-right: 1em; text-align: center; vertical-align: top\">1.0</td>\n",
              "        <td style=\"padding-left: 1em; padding-right: 1em; text-align: center; vertical-align: top\">5</td>\n",
              "    </tr>\n",
              "    <tr>\n",
              "        <td style=\"padding-left: 1em; padding-right: 1em; text-align: center; vertical-align: top\">0.0</td>\n",
              "        <td style=\"padding-left: 1em; padding-right: 1em; text-align: center; vertical-align: top\">1</td>\n",
              "    </tr>\n",
              "    <tr>\n",
              "        <td style=\"padding-left: 1em; padding-right: 1em; text-align: center; vertical-align: top\">1.0</td>\n",
              "        <td style=\"padding-left: 1em; padding-right: 1em; text-align: center; vertical-align: top\">4</td>\n",
              "    </tr>\n",
              "    <tr>\n",
              "        <td style=\"padding-left: 1em; padding-right: 1em; text-align: center; vertical-align: top\">1.0</td>\n",
              "        <td style=\"padding-left: 1em; padding-right: 1em; text-align: center; vertical-align: top\">2</td>\n",
              "    </tr>\n",
              "    <tr>\n",
              "        <td style=\"padding-left: 1em; padding-right: 1em; text-align: center; vertical-align: top\">0.0</td>\n",
              "        <td style=\"padding-left: 1em; padding-right: 1em; text-align: center; vertical-align: top\">5</td>\n",
              "    </tr>\n",
              "    <tr>\n",
              "        <td style=\"padding-left: 1em; padding-right: 1em; text-align: center; vertical-align: top\">0.0</td>\n",
              "        <td style=\"padding-left: 1em; padding-right: 1em; text-align: center; vertical-align: top\">4</td>\n",
              "    </tr>\n",
              "    <tr>\n",
              "        <td style=\"padding-left: 1em; padding-right: 1em; text-align: center; vertical-align: top\">0.0</td>\n",
              "        <td style=\"padding-left: 1em; padding-right: 1em; text-align: center; vertical-align: top\">5</td>\n",
              "    </tr>\n",
              "    <tr>\n",
              "        <td style=\"padding-left: 1em; padding-right: 1em; text-align: center; vertical-align: top\">0.0</td>\n",
              "        <td style=\"padding-left: 1em; padding-right: 1em; text-align: center; vertical-align: top\">5</td>\n",
              "    </tr>\n",
              "    <tr>\n",
              "        <td style=\"padding-left: 1em; padding-right: 1em; text-align: center; vertical-align: top\">1.0</td>\n",
              "        <td style=\"padding-left: 1em; padding-right: 1em; text-align: center; vertical-align: top\">5</td>\n",
              "    </tr>\n",
              "    <tr>\n",
              "        <td style=\"padding-left: 1em; padding-right: 1em; text-align: center; vertical-align: top\">0.0</td>\n",
              "        <td style=\"padding-left: 1em; padding-right: 1em; text-align: center; vertical-align: top\">5</td>\n",
              "    </tr>\n",
              "</table>\n",
              "[289205 rows x 6 columns]<br/>Note: Only the head of the SFrame is printed.<br/>You can use print_rows(num_rows=m, num_columns=n) to print more rows and columns.\n",
              "</div>"
            ],
            "text/plain": [
              "Columns:\n",
              "\ttext_words_1grams\tdict\n",
              "\tsummary_words_1grams\tdict\n",
              "\ttext_words_2grams\tdict\n",
              "\tsummary_words_2grams\tdict\n",
              "\thelpfulness_score\tfloat\n",
              "\tclass\tint\n",
              "\n",
              "Rows: 289205\n",
              "\n",
              "Data:\n",
              "+-------------------------------+-------------------------------+\n",
              "|       text_words_1grams       |      summary_words_1grams     |\n",
              "+-------------------------------+-------------------------------+\n",
              "| {'appreciates': 1, 'labrad... | {'food': 1, 'dog': 1, 'qua... |\n",
              "| {'intended': 1, 'salted': ... |       {'advertised': 1}       |\n",
              "| {'sisters': 1, 'brother': ... |         {'delight': 1}        |\n",
              "| {'medicinal': 1, 'flavor':... |  {'medicine': 1, 'cough': 1}  |\n",
              "| {'deal': 1, 'lover': 1, 'q... |    {'taffy': 1, 'great': 1}   |\n",
              "| {'treat': 1, 'delightful':... |    {'taffy': 1, 'nice': 1}    |\n",
              "| {'themed': 1, 'served': 1,... | {'brands': 1, 'expensive':... |\n",
              "| {'recommend': 1, 'amazing'... | {'tasty': 1, 'taffy': 1, '... |\n",
              "| {'rye': 1, 'cats': 1, 'eat... |    {'barley': 1, 'yay': 1}    |\n",
              "| {'feeding': 1, 'required':... | {'food': 1, 'dog': 1, 'hea... |\n",
              "+-------------------------------+-------------------------------+\n",
              "+-------------------------------+-------------------------------+-------------------+\n",
              "|       text_words_2grams       |      summary_words_2grams     | helpfulness_score |\n",
              "+-------------------------------+-------------------------------+-------------------+\n",
              "| {'more like': 1, 'food pro... | {'dog food': 1, 'quality d... |        1.0        |\n",
              "| {'the product': 1, 'repres... | {'as advertised': 1, 'not ... |        0.0        |\n",
              "| {'to the': 1, 'brother and... | {'it all': 1, 'says it': 1... |        1.0        |\n",
              "| {'is very': 1, 'soda the':... |     {'cough medicine': 1}     |        1.0        |\n",
              "| {'lover this': 1, 'a wide'... |       {'great taffy': 1}      |        0.0        |\n",
              "| {'delightful treat': 1, 'r... |       {'nice taffy': 1}       |        0.0        |\n",
              "| {'loved it': 1, 'everyone ... | {'expensive brands': 1, 'g... |        0.0        |\n",
              "| {'and chewy': 1, 'very sat... | {'tasty taffy': 1, 'wonder... |        0.0        |\n",
              "| {'rye too': 1, 'and rye': ... |       {'yay barley': 1}       |        1.0        |\n",
              "| {'every feeding': 1, 'thei... | {'dog food': 1, 'healthy d... |        0.0        |\n",
              "+-------------------------------+-------------------------------+-------------------+\n",
              "+-------+\n",
              "| class |\n",
              "+-------+\n",
              "|   5   |\n",
              "|   1   |\n",
              "|   4   |\n",
              "|   2   |\n",
              "|   5   |\n",
              "|   4   |\n",
              "|   5   |\n",
              "|   5   |\n",
              "|   5   |\n",
              "|   5   |\n",
              "+-------+\n",
              "[289205 rows x 6 columns]\n",
              "Note: Only the head of the SFrame is printed.\n",
              "You can use print_rows(num_rows=m, num_columns=n) to print more rows and columns."
            ]
          },
          "metadata": {},
          "execution_count": 3
        }
      ]
    },
    {
      "cell_type": "code",
      "metadata": {
        "id": "Xd1BxD60KBhz",
        "colab": {
          "base_uri": "https://localhost:8080/",
          "height": 1000
        },
        "outputId": "3d853cd1-35c0-4cfb-a6fa-8acb7b856679"
      },
      "source": [
        "train, test = reviews_features_sframe.random_split(0.8)\n",
        "cls = turi.classifier.create(train,features=['text_words_1grams', 'summary_words_1grams', 'text_words_2grams', 'summary_words_2grams', 'helpfulness_score'], target=\"class\", verbose=True)"
      ],
      "execution_count": null,
      "outputs": [
        {
          "output_type": "stream",
          "name": "stdout",
          "text": [
            "PROGRESS: Creating a validation set from 5 percent of training data. This may take a while.\n",
            "          You can set ``validation_set=None`` to disable validation tracking.\n",
            "\n",
            "PROGRESS: The following methods are available for this type of problem.\n",
            "PROGRESS: BoostedTreesClassifier, RandomForestClassifier, DecisionTreeClassifier, LogisticClassifier\n",
            "PROGRESS: The returned model will be chosen according to validation accuracy.\n"
          ]
        },
        {
          "output_type": "display_data",
          "data": {
            "text/html": [
              "<pre>Boosted trees classifier:</pre>"
            ],
            "text/plain": [
              "Boosted trees classifier:"
            ]
          },
          "metadata": {}
        },
        {
          "output_type": "display_data",
          "data": {
            "text/html": [
              "<pre>--------------------------------------------------------</pre>"
            ],
            "text/plain": [
              "--------------------------------------------------------"
            ]
          },
          "metadata": {}
        },
        {
          "output_type": "display_data",
          "data": {
            "text/html": [
              "<pre>Number of examples          : 219199</pre>"
            ],
            "text/plain": [
              "Number of examples          : 219199"
            ]
          },
          "metadata": {}
        },
        {
          "output_type": "display_data",
          "data": {
            "text/html": [
              "<pre>Number of classes           : 5</pre>"
            ],
            "text/plain": [
              "Number of classes           : 5"
            ]
          },
          "metadata": {}
        },
        {
          "output_type": "display_data",
          "data": {
            "text/html": [
              "<pre>Number of feature columns   : 5</pre>"
            ],
            "text/plain": [
              "Number of feature columns   : 5"
            ]
          },
          "metadata": {}
        },
        {
          "output_type": "display_data",
          "data": {
            "text/html": [
              "<pre>Number of unpacked features : 1910476</pre>"
            ],
            "text/plain": [
              "Number of unpacked features : 1910476"
            ]
          },
          "metadata": {}
        },
        {
          "output_type": "display_data",
          "data": {
            "text/html": [
              "<pre>+-----------+--------------+-------------------+---------------------+-------------------+---------------------+</pre>"
            ],
            "text/plain": [
              "+-----------+--------------+-------------------+---------------------+-------------------+---------------------+"
            ]
          },
          "metadata": {}
        },
        {
          "output_type": "display_data",
          "data": {
            "text/html": [
              "<pre>| Iteration | Elapsed Time | Training Accuracy | Validation Accuracy | Training Log Loss | Validation Log Loss |</pre>"
            ],
            "text/plain": [
              "| Iteration | Elapsed Time | Training Accuracy | Validation Accuracy | Training Log Loss | Validation Log Loss |"
            ]
          },
          "metadata": {}
        },
        {
          "output_type": "display_data",
          "data": {
            "text/html": [
              "<pre>+-----------+--------------+-------------------+---------------------+-------------------+---------------------+</pre>"
            ],
            "text/plain": [
              "+-----------+--------------+-------------------+---------------------+-------------------+---------------------+"
            ]
          },
          "metadata": {}
        },
        {
          "output_type": "display_data",
          "data": {
            "text/html": [
              "<pre>| 1         | 13.415158    | 0.667590          | 0.665598            | 1.356354          | 1.356407            |</pre>"
            ],
            "text/plain": [
              "| 1         | 13.415158    | 0.667590          | 0.665598            | 1.356354          | 1.356407            |"
            ]
          },
          "metadata": {}
        },
        {
          "output_type": "display_data",
          "data": {
            "text/html": [
              "<pre>| 2         | 26.562464    | 0.666458          | 0.664644            | 1.221753          | 1.223383            |</pre>"
            ],
            "text/plain": [
              "| 2         | 26.562464    | 0.666458          | 0.664644            | 1.221753          | 1.223383            |"
            ]
          },
          "metadata": {}
        },
        {
          "output_type": "display_data",
          "data": {
            "text/html": [
              "<pre>| 3         | 39.926669    | 0.668000          | 0.667245            | 1.136334          | 1.138211            |</pre>"
            ],
            "text/plain": [
              "| 3         | 39.926669    | 0.668000          | 0.667245            | 1.136334          | 1.138211            |"
            ]
          },
          "metadata": {}
        },
        {
          "output_type": "display_data",
          "data": {
            "text/html": [
              "<pre>| 4         | 53.411480    | 0.671312          | 0.668458            | 1.074668          | 1.077847            |</pre>"
            ],
            "text/plain": [
              "| 4         | 53.411480    | 0.671312          | 0.668458            | 1.074668          | 1.077847            |"
            ]
          },
          "metadata": {}
        },
        {
          "output_type": "display_data",
          "data": {
            "text/html": [
              "<pre>| 5         | 66.691353    | 0.672530          | 0.668978            | 1.028406          | 1.031790            |</pre>"
            ],
            "text/plain": [
              "| 5         | 66.691353    | 0.672530          | 0.668978            | 1.028406          | 1.031790            |"
            ]
          },
          "metadata": {}
        },
        {
          "output_type": "display_data",
          "data": {
            "text/html": [
              "<pre>| 7         | 93.529769    | 0.675085          | 0.672272            | 0.970154          | 0.975645            |</pre>"
            ],
            "text/plain": [
              "| 7         | 93.529769    | 0.675085          | 0.672272            | 0.970154          | 0.975645            |"
            ]
          },
          "metadata": {}
        },
        {
          "output_type": "display_data",
          "data": {
            "text/html": [
              "<pre>| 8         | 106.812830   | 0.677097          | 0.674959            | 0.950611          | 0.957465            |</pre>"
            ],
            "text/plain": [
              "| 8         | 106.812830   | 0.677097          | 0.674959            | 0.950611          | 0.957465            |"
            ]
          },
          "metadata": {}
        },
        {
          "output_type": "display_data",
          "data": {
            "text/html": [
              "<pre>| 9         | 120.068893   | 0.679077          | 0.676519            | 0.933468          | 0.941414            |</pre>"
            ],
            "text/plain": [
              "| 9         | 120.068893   | 0.679077          | 0.676519            | 0.933468          | 0.941414            |"
            ]
          },
          "metadata": {}
        },
        {
          "output_type": "display_data",
          "data": {
            "text/html": [
              "<pre>| 10        | 133.280654   | 0.682115          | 0.679466            | 0.919031          | 0.928308            |</pre>"
            ],
            "text/plain": [
              "| 10        | 133.280654   | 0.682115          | 0.679466            | 0.919031          | 0.928308            |"
            ]
          },
          "metadata": {}
        },
        {
          "output_type": "display_data",
          "data": {
            "text/html": [
              "<pre>+-----------+--------------+-------------------+---------------------+-------------------+---------------------+</pre>"
            ],
            "text/plain": [
              "+-----------+--------------+-------------------+---------------------+-------------------+---------------------+"
            ]
          },
          "metadata": {}
        },
        {
          "output_type": "display_data",
          "data": {
            "text/html": [
              "<pre>Random forest classifier:</pre>"
            ],
            "text/plain": [
              "Random forest classifier:"
            ]
          },
          "metadata": {}
        },
        {
          "output_type": "display_data",
          "data": {
            "text/html": [
              "<pre>--------------------------------------------------------</pre>"
            ],
            "text/plain": [
              "--------------------------------------------------------"
            ]
          },
          "metadata": {}
        },
        {
          "output_type": "display_data",
          "data": {
            "text/html": [
              "<pre>Number of examples          : 219199</pre>"
            ],
            "text/plain": [
              "Number of examples          : 219199"
            ]
          },
          "metadata": {}
        },
        {
          "output_type": "display_data",
          "data": {
            "text/html": [
              "<pre>Number of classes           : 5</pre>"
            ],
            "text/plain": [
              "Number of classes           : 5"
            ]
          },
          "metadata": {}
        },
        {
          "output_type": "display_data",
          "data": {
            "text/html": [
              "<pre>Number of feature columns   : 5</pre>"
            ],
            "text/plain": [
              "Number of feature columns   : 5"
            ]
          },
          "metadata": {}
        },
        {
          "output_type": "display_data",
          "data": {
            "text/html": [
              "<pre>Number of unpacked features : 1910476</pre>"
            ],
            "text/plain": [
              "Number of unpacked features : 1910476"
            ]
          },
          "metadata": {}
        },
        {
          "output_type": "display_data",
          "data": {
            "text/html": [
              "<pre>+-----------+--------------+-------------------+---------------------+-------------------+---------------------+</pre>"
            ],
            "text/plain": [
              "+-----------+--------------+-------------------+---------------------+-------------------+---------------------+"
            ]
          },
          "metadata": {}
        },
        {
          "output_type": "display_data",
          "data": {
            "text/html": [
              "<pre>| Iteration | Elapsed Time | Training Accuracy | Validation Accuracy | Training Log Loss | Validation Log Loss |</pre>"
            ],
            "text/plain": [
              "| Iteration | Elapsed Time | Training Accuracy | Validation Accuracy | Training Log Loss | Validation Log Loss |"
            ]
          },
          "metadata": {}
        },
        {
          "output_type": "display_data",
          "data": {
            "text/html": [
              "<pre>+-----------+--------------+-------------------+---------------------+-------------------+---------------------+</pre>"
            ],
            "text/plain": [
              "+-----------+--------------+-------------------+---------------------+-------------------+---------------------+"
            ]
          },
          "metadata": {}
        },
        {
          "output_type": "display_data",
          "data": {
            "text/html": [
              "<pre>| 1         | 11.236993    | 0.665961          | 0.664211            | 1.046619          | 1.049450            |</pre>"
            ],
            "text/plain": [
              "| 1         | 11.236993    | 0.665961          | 0.664211            | 1.046619          | 1.049450            |"
            ]
          },
          "metadata": {}
        },
        {
          "output_type": "display_data",
          "data": {
            "text/html": [
              "<pre>| 2         | 21.782073    | 0.664579          | 0.663777            | 1.031280          | 1.032030            |</pre>"
            ],
            "text/plain": [
              "| 2         | 21.782073    | 0.664579          | 0.663777            | 1.031280          | 1.032030            |"
            ]
          },
          "metadata": {}
        },
        {
          "output_type": "display_data",
          "data": {
            "text/html": [
              "<pre>| 3         | 32.477308    | 0.664346          | 0.664471            | 1.029392          | 1.028429            |</pre>"
            ],
            "text/plain": [
              "| 3         | 32.477308    | 0.664346          | 0.664471            | 1.029392          | 1.028429            |"
            ]
          },
          "metadata": {}
        },
        {
          "output_type": "display_data",
          "data": {
            "text/html": [
              "<pre>| 4         | 42.900660    | 0.664720          | 0.663517            | 1.028613          | 1.028050            |</pre>"
            ],
            "text/plain": [
              "| 4         | 42.900660    | 0.664720          | 0.663517            | 1.028613          | 1.028050            |"
            ]
          },
          "metadata": {}
        },
        {
          "output_type": "display_data",
          "data": {
            "text/html": [
              "<pre>| 5         | 53.368017    | 0.664930          | 0.664558            | 1.027992          | 1.027480            |</pre>"
            ],
            "text/plain": [
              "| 5         | 53.368017    | 0.664930          | 0.664558            | 1.027992          | 1.027480            |"
            ]
          },
          "metadata": {}
        },
        {
          "output_type": "display_data",
          "data": {
            "text/html": [
              "<pre>| 7         | 74.121935    | 0.665395          | 0.664904            | 1.027561          | 1.027401            |</pre>"
            ],
            "text/plain": [
              "| 7         | 74.121935    | 0.665395          | 0.664904            | 1.027561          | 1.027401            |"
            ]
          },
          "metadata": {}
        },
        {
          "output_type": "display_data",
          "data": {
            "text/html": [
              "<pre>| 8         | 84.545697    | 0.664706          | 0.664644            | 1.027337          | 1.027018            |</pre>"
            ],
            "text/plain": [
              "| 8         | 84.545697    | 0.664706          | 0.664644            | 1.027337          | 1.027018            |"
            ]
          },
          "metadata": {}
        },
        {
          "output_type": "display_data",
          "data": {
            "text/html": [
              "<pre>| 9         | 95.003526    | 0.664693          | 0.665511            | 1.027405          | 1.027097            |</pre>"
            ],
            "text/plain": [
              "| 9         | 95.003526    | 0.664693          | 0.665511            | 1.027405          | 1.027097            |"
            ]
          },
          "metadata": {}
        },
        {
          "output_type": "display_data",
          "data": {
            "text/html": [
              "<pre>| 10        | 105.521127   | 0.664383          | 0.666031            | 1.026837          | 1.026749            |</pre>"
            ],
            "text/plain": [
              "| 10        | 105.521127   | 0.664383          | 0.666031            | 1.026837          | 1.026749            |"
            ]
          },
          "metadata": {}
        },
        {
          "output_type": "display_data",
          "data": {
            "text/html": [
              "<pre>+-----------+--------------+-------------------+---------------------+-------------------+---------------------+</pre>"
            ],
            "text/plain": [
              "+-----------+--------------+-------------------+---------------------+-------------------+---------------------+"
            ]
          },
          "metadata": {}
        },
        {
          "output_type": "display_data",
          "data": {
            "text/html": [
              "<pre>Decision tree classifier:</pre>"
            ],
            "text/plain": [
              "Decision tree classifier:"
            ]
          },
          "metadata": {}
        },
        {
          "output_type": "display_data",
          "data": {
            "text/html": [
              "<pre>--------------------------------------------------------</pre>"
            ],
            "text/plain": [
              "--------------------------------------------------------"
            ]
          },
          "metadata": {}
        },
        {
          "output_type": "display_data",
          "data": {
            "text/html": [
              "<pre>Number of examples          : 219199</pre>"
            ],
            "text/plain": [
              "Number of examples          : 219199"
            ]
          },
          "metadata": {}
        },
        {
          "output_type": "display_data",
          "data": {
            "text/html": [
              "<pre>Number of classes           : 5</pre>"
            ],
            "text/plain": [
              "Number of classes           : 5"
            ]
          },
          "metadata": {}
        },
        {
          "output_type": "display_data",
          "data": {
            "text/html": [
              "<pre>Number of feature columns   : 5</pre>"
            ],
            "text/plain": [
              "Number of feature columns   : 5"
            ]
          },
          "metadata": {}
        },
        {
          "output_type": "display_data",
          "data": {
            "text/html": [
              "<pre>Number of unpacked features : 1910476</pre>"
            ],
            "text/plain": [
              "Number of unpacked features : 1910476"
            ]
          },
          "metadata": {}
        },
        {
          "output_type": "display_data",
          "data": {
            "text/html": [
              "<pre>+-----------+--------------+-------------------+---------------------+-------------------+---------------------+</pre>"
            ],
            "text/plain": [
              "+-----------+--------------+-------------------+---------------------+-------------------+---------------------+"
            ]
          },
          "metadata": {}
        },
        {
          "output_type": "display_data",
          "data": {
            "text/html": [
              "<pre>| Iteration | Elapsed Time | Training Accuracy | Validation Accuracy | Training Log Loss | Validation Log Loss |</pre>"
            ],
            "text/plain": [
              "| Iteration | Elapsed Time | Training Accuracy | Validation Accuracy | Training Log Loss | Validation Log Loss |"
            ]
          },
          "metadata": {}
        },
        {
          "output_type": "display_data",
          "data": {
            "text/html": [
              "<pre>+-----------+--------------+-------------------+---------------------+-------------------+---------------------+</pre>"
            ],
            "text/plain": [
              "+-----------+--------------+-------------------+---------------------+-------------------+---------------------+"
            ]
          },
          "metadata": {}
        },
        {
          "output_type": "display_data",
          "data": {
            "text/html": [
              "<pre>| 1         | 13.032796    | 0.667590          | 0.665598            | 1.035367          | 1.036734            |</pre>"
            ],
            "text/plain": [
              "| 1         | 13.032796    | 0.667590          | 0.665598            | 1.035367          | 1.036734            |"
            ]
          },
          "metadata": {}
        },
        {
          "output_type": "display_data",
          "data": {
            "text/html": [
              "<pre>+-----------+--------------+-------------------+---------------------+-------------------+---------------------+</pre>"
            ],
            "text/plain": [
              "+-----------+--------------+-------------------+---------------------+-------------------+---------------------+"
            ]
          },
          "metadata": {}
        },
        {
          "output_type": "display_data",
          "data": {
            "text/html": [
              "<pre>Logistic regression:</pre>"
            ],
            "text/plain": [
              "Logistic regression:"
            ]
          },
          "metadata": {}
        },
        {
          "output_type": "display_data",
          "data": {
            "text/html": [
              "<pre>--------------------------------------------------------</pre>"
            ],
            "text/plain": [
              "--------------------------------------------------------"
            ]
          },
          "metadata": {}
        },
        {
          "output_type": "display_data",
          "data": {
            "text/html": [
              "<pre>Number of examples          : 219199</pre>"
            ],
            "text/plain": [
              "Number of examples          : 219199"
            ]
          },
          "metadata": {}
        },
        {
          "output_type": "display_data",
          "data": {
            "text/html": [
              "<pre>Number of classes           : 5</pre>"
            ],
            "text/plain": [
              "Number of classes           : 5"
            ]
          },
          "metadata": {}
        },
        {
          "output_type": "display_data",
          "data": {
            "text/html": [
              "<pre>Number of feature columns   : 5</pre>"
            ],
            "text/plain": [
              "Number of feature columns   : 5"
            ]
          },
          "metadata": {}
        },
        {
          "output_type": "display_data",
          "data": {
            "text/html": [
              "<pre>Number of unpacked features : 1910476</pre>"
            ],
            "text/plain": [
              "Number of unpacked features : 1910476"
            ]
          },
          "metadata": {}
        },
        {
          "output_type": "display_data",
          "data": {
            "text/html": [
              "<pre>Number of coefficients      : 7641908</pre>"
            ],
            "text/plain": [
              "Number of coefficients      : 7641908"
            ]
          },
          "metadata": {}
        },
        {
          "output_type": "display_data",
          "data": {
            "text/html": [
              "<pre>Starting L-BFGS</pre>"
            ],
            "text/plain": [
              "Starting L-BFGS"
            ]
          },
          "metadata": {}
        },
        {
          "output_type": "display_data",
          "data": {
            "text/html": [
              "<pre>--------------------------------------------------------</pre>"
            ],
            "text/plain": [
              "--------------------------------------------------------"
            ]
          },
          "metadata": {}
        },
        {
          "output_type": "display_data",
          "data": {
            "text/html": [
              "<pre>+-----------+----------+-----------+--------------+-------------------+---------------------+</pre>"
            ],
            "text/plain": [
              "+-----------+----------+-----------+--------------+-------------------+---------------------+"
            ]
          },
          "metadata": {}
        },
        {
          "output_type": "display_data",
          "data": {
            "text/html": [
              "<pre>| Iteration | Passes   | Step size | Elapsed Time | Training Accuracy | Validation Accuracy |</pre>"
            ],
            "text/plain": [
              "| Iteration | Passes   | Step size | Elapsed Time | Training Accuracy | Validation Accuracy |"
            ]
          },
          "metadata": {}
        },
        {
          "output_type": "display_data",
          "data": {
            "text/html": [
              "<pre>+-----------+----------+-----------+--------------+-------------------+---------------------+</pre>"
            ],
            "text/plain": [
              "+-----------+----------+-----------+--------------+-------------------+---------------------+"
            ]
          },
          "metadata": {}
        },
        {
          "output_type": "display_data",
          "data": {
            "text/html": [
              "<pre>| 0         | 4        | 0.250000  | 8.880357     | 0.638931          | 0.640981            |</pre>"
            ],
            "text/plain": [
              "| 0         | 4        | 0.250000  | 8.880357     | 0.638931          | 0.640981            |"
            ]
          },
          "metadata": {}
        }
      ]
    },
    {
      "cell_type": "code",
      "metadata": {
        "id": "bTmtKELNK21M"
      },
      "source": [
        "# evaluating the classifier\n",
        "cls_eval_results = cls.evaluate(test)\n",
        "\n",
        "cls_summary_dict = cls.summary('dict')\n",
        "classifier_algorithm = ''.join([x for x in str(type(cls)).split('.')[-1] if x.isalpha()])\n",
        "test_f1_score, test_size = cls_eval_results['f1_score'], len(test)\n",
        "validation_score = dict(cls_summary_dict['sections'][1])['Validation accuracy']"
      ],
      "execution_count": null,
      "outputs": []
    },
    {
      "cell_type": "markdown",
      "metadata": {
        "id": "cbg__rrKDKwU"
      },
      "source": [
        "## Q2"
      ]
    },
    {
      "cell_type": "markdown",
      "metadata": {
        "id": "chKUklQQbCyL"
      },
      "source": [
        "**Question 2:** Construct a sentiment classifier using features from the [TextBlob package](https://textblob.readthedocs.io/en/dev/index.html),\n",
        "    and from the [affin package](https://pypi.org/project/afinn/). Compare the two classifiers results and visualize it (however you want) (20pt)"
      ]
    },
    {
      "cell_type": "markdown",
      "metadata": {
        "id": "j5MiPFJGDK1j"
      },
      "source": [
        "### Preperations:"
      ]
    },
    {
      "cell_type": "code",
      "metadata": {
        "id": "nfxAhdI7bCyM"
      },
      "source": [
        "! pip install turicreate\n",
        "! pip install kaggle \n",
        "! pip install gensim\n",
        "! pip install pyLDAvis\n",
        "! pip install spaCy\n",
        "! pip install afinn\n",
        "! pip install textblob\n",
        "\n",
        "! mkdir ~/.kaggle\n",
        "! cp kaggle.json ~/.kaggle/\n",
        "! chmod 600 ~/.kaggle/kaggle.json \n",
        "! mkdir -f ./datasets/amazon_reviews\n",
        "\n",
        "! kaggle datasets download snap/amazon-fine-food-reviews  -p ./datasets/amazon_reviews\n",
        "! unzip ./datasets/amazon_reviews/*.zip  -d ./datasets/amazon_reviews"
      ],
      "execution_count": null,
      "outputs": []
    },
    {
      "cell_type": "code",
      "metadata": {
        "id": "dVZB_WVuDW12"
      },
      "source": [
        "# IMPORTS\n",
        "import os\n",
        "import json\n",
        "import re\n",
        "import requests\n",
        "from typing import *\n",
        "import numpy as np\n",
        "import pandas as pd\n",
        "import turicreate as turi\n",
        "import networkx as ntkx\n",
        "import matplotlib.pyplot as plt\n",
        "from tqdm.notebook import tqdm \n",
        "from textblob import TextBlob\n",
        "from afinn import Afinn\n",
        "\n",
        "\n",
        "%matplotlib inline"
      ],
      "execution_count": null,
      "outputs": []
    },
    {
      "cell_type": "code",
      "metadata": {
        "id": "CI63u-MKKHF1",
        "colab": {
          "base_uri": "https://localhost:8080/",
          "height": 1000
        },
        "outputId": "019ed4f8-8eea-48a9-80bc-f058aa2e481d"
      },
      "source": [
        "org_reviews_sframe = turi.SFrame.read_csv('/content/datasets/amazon_reviews/Reviews.csv')\n",
        "org_reviews_sframe"
      ],
      "execution_count": null,
      "outputs": [
        {
          "output_type": "display_data",
          "data": {
            "text/html": [
              "<pre>Unexpected characters after last column. \"B000GW46D4\"\n",
              "Parse failed at token ending at: \n",
              "\tmyself that tastes much better than this.\"\n",
              "35360,B000GW46D4,\u001b[1;31m^\u001b[0mA1DPWQR4WSPXTM,Japri,0,0,2,1331424000,Very unsat\n",
              "Successfully parsed 10 tokens: \n",
              "\t0: 35359\n",
              "\t1: B000GW46D4\n",
              "\t2: A2Y4S4CNGKF21S\n",
              "\t3: H. Swanson\n",
              "\t4: 0\n",
              "\t5: 0\n",
              "\t6: 2\n",
              "\t7: 1332374400\n",
              "\t8: Very dry,  ... rumbly :\",\n",
              "\t9: to the poi ... is.\"\n",
              "35360</pre>"
            ],
            "text/plain": [
              "Unexpected characters after last column. \"B000GW46D4\"\n",
              "Parse failed at token ending at: \n",
              "\tmyself that tastes much better than this.\"\n",
              "35360,B000GW46D4,\u001b[1;31m^\u001b[0mA1DPWQR4WSPXTM,Japri,0,0,2,1331424000,Very unsat\n",
              "Successfully parsed 10 tokens: \n",
              "\t0: 35359\n",
              "\t1: B000GW46D4\n",
              "\t2: A2Y4S4CNGKF21S\n",
              "\t3: H. Swanson\n",
              "\t4: 0\n",
              "\t5: 0\n",
              "\t6: 2\n",
              "\t7: 1332374400\n",
              "\t8: Very dry,  ... rumbly :\",\n",
              "\t9: to the poi ... is.\"\n",
              "35360"
            ]
          },
          "metadata": {}
        },
        {
          "output_type": "display_data",
          "data": {
            "text/html": [
              "<pre>Unexpected characters after last column. \"one of only a very few\"\n",
              "Parse failed at token ending at: \n",
              "\thile. This is a very rare hot sauce, one of only a very few,\u001b[1;31m^\u001b[0m where the actual chile is the major ingredient.\n",
              "Successfully parsed 10 tokens: \n",
              "\t0: 74275\n",
              "\t1: B005B3HKPO\n",
              "\t2: A3OC6M21K4UAQ\n",
              "\t3: tw\n",
              "\t4: 2\n",
              "\t5: 5\n",
              "\t6: 2\n",
              "\t7: 1328486400\n",
              "\t8: whats with ... is smell??\n",
              "\t9: ummm can s ... mmended!.,</pre>"
            ],
            "text/plain": [
              "Unexpected characters after last column. \"one of only a very few\"\n",
              "Parse failed at token ending at: \n",
              "\thile. This is a very rare hot sauce, one of only a very few,\u001b[1;31m^\u001b[0m where the actual chile is the major ingredient.\n",
              "Successfully parsed 10 tokens: \n",
              "\t0: 74275\n",
              "\t1: B005B3HKPO\n",
              "\t2: A3OC6M21K4UAQ\n",
              "\t3: tw\n",
              "\t4: 2\n",
              "\t5: 5\n",
              "\t6: 2\n",
              "\t7: 1328486400\n",
              "\t8: whats with ... is smell??\n",
              "\t9: ummm can s ... mmended!.,"
            ]
          },
          "metadata": {}
        },
        {
          "output_type": "display_data",
          "data": {
            "text/html": [
              "<pre>Unexpected characters after last column. \"B000PMJLJO\"\n",
              "Parse failed at token ending at: \n",
              "\tmyself that tastes much better than this.\"\n",
              "88623,B000PMJLJO,\u001b[1;31m^\u001b[0mA1DPWQR4WSPXTM,Japri,0,0,2,1331424000,Very unsat\n",
              "Successfully parsed 10 tokens: \n",
              "\t0: 88622\n",
              "\t1: B000PMJLJO\n",
              "\t2: A2Y4S4CNGKF21S\n",
              "\t3: H. Swanson\n",
              "\t4: 0\n",
              "\t5: 0\n",
              "\t6: 2\n",
              "\t7: 1332374400\n",
              "\t8: Very dry,  ... rumbly :\",\n",
              "\t9: to the poi ... is.\"\n",
              "88623</pre>"
            ],
            "text/plain": [
              "Unexpected characters after last column. \"B000PMJLJO\"\n",
              "Parse failed at token ending at: \n",
              "\tmyself that tastes much better than this.\"\n",
              "88623,B000PMJLJO,\u001b[1;31m^\u001b[0mA1DPWQR4WSPXTM,Japri,0,0,2,1331424000,Very unsat\n",
              "Successfully parsed 10 tokens: \n",
              "\t0: 88622\n",
              "\t1: B000PMJLJO\n",
              "\t2: A2Y4S4CNGKF21S\n",
              "\t3: H. Swanson\n",
              "\t4: 0\n",
              "\t5: 0\n",
              "\t6: 2\n",
              "\t7: 1332374400\n",
              "\t8: Very dry,  ... rumbly :\",\n",
              "\t9: to the poi ... is.\"\n",
              "88623"
            ]
          },
          "metadata": {}
        },
        {
          "output_type": "display_data",
          "data": {
            "text/html": [
              "<pre>3 lines failed to parse correctly</pre>"
            ],
            "text/plain": [
              "3 lines failed to parse correctly"
            ]
          },
          "metadata": {}
        },
        {
          "output_type": "display_data",
          "data": {
            "text/html": [
              "<pre>Finished parsing file /content/datasets/amazon_reviews/Reviews.csv</pre>"
            ],
            "text/plain": [
              "Finished parsing file /content/datasets/amazon_reviews/Reviews.csv"
            ]
          },
          "metadata": {}
        },
        {
          "output_type": "display_data",
          "data": {
            "text/html": [
              "<pre>Parsing completed. Parsed 100 lines in 1.21643 secs.</pre>"
            ],
            "text/plain": [
              "Parsing completed. Parsed 100 lines in 1.21643 secs."
            ]
          },
          "metadata": {}
        },
        {
          "output_type": "stream",
          "name": "stdout",
          "text": [
            "------------------------------------------------------\n",
            "Inferred types from first 100 line(s) of file as \n",
            "column_type_hints=[int,str,str,str,int,int,int,int,str,str]\n",
            "If parsing fails due to incorrect types, you can correct\n",
            "the inferred type list above and pass it to read_csv in\n",
            "the column_type_hints argument\n",
            "------------------------------------------------------\n"
          ]
        },
        {
          "output_type": "display_data",
          "data": {
            "text/html": [
              "<pre>Unexpected characters after last column. \"B000GW46D4\"\n",
              "Parse failed at token ending at: \n",
              "\tmyself that tastes much better than this.\"\n",
              "35360,B000GW46D4,\u001b[1;31m^\u001b[0mA1DPWQR4WSPXTM,Japri,0,0,2,1331424000,Very unsat\n",
              "Successfully parsed 10 tokens: \n",
              "\t0: 35359\n",
              "\t1: B000GW46D4\n",
              "\t2: A2Y4S4CNGKF21S\n",
              "\t3: H. Swanson\n",
              "\t4: 0\n",
              "\t5: 0\n",
              "\t6: 2\n",
              "\t7: 1332374400\n",
              "\t8: \"Very dry, ... edibly dry\n",
              "\t9: to the poi ... is.\"\n",
              "35360</pre>"
            ],
            "text/plain": [
              "Unexpected characters after last column. \"B000GW46D4\"\n",
              "Parse failed at token ending at: \n",
              "\tmyself that tastes much better than this.\"\n",
              "35360,B000GW46D4,\u001b[1;31m^\u001b[0mA1DPWQR4WSPXTM,Japri,0,0,2,1331424000,Very unsat\n",
              "Successfully parsed 10 tokens: \n",
              "\t0: 35359\n",
              "\t1: B000GW46D4\n",
              "\t2: A2Y4S4CNGKF21S\n",
              "\t3: H. Swanson\n",
              "\t4: 0\n",
              "\t5: 0\n",
              "\t6: 2\n",
              "\t7: 1332374400\n",
              "\t8: \"Very dry, ... edibly dry\n",
              "\t9: to the poi ... is.\"\n",
              "35360"
            ]
          },
          "metadata": {}
        },
        {
          "output_type": "display_data",
          "data": {
            "text/html": [
              "<pre>Unexpected characters after last column. \"one of only a very few\"\n",
              "Parse failed at token ending at: \n",
              "\thile. This is a very rare hot sauce, one of only a very few,\u001b[1;31m^\u001b[0m where the actual chile is the major ingredient.\n",
              "Successfully parsed 10 tokens: \n",
              "\t0: 74275\n",
              "\t1: B005B3HKPO\n",
              "\t2: A3OC6M21K4UAQ\n",
              "\t3: tw\n",
              "\t4: 2\n",
              "\t5: 5\n",
              "\t6: 2\n",
              "\t7: 1328486400\n",
              "\t8: whats with ... is smell??\n",
              "\t9: \"ummm can  ...  hot sauce</pre>"
            ],
            "text/plain": [
              "Unexpected characters after last column. \"one of only a very few\"\n",
              "Parse failed at token ending at: \n",
              "\thile. This is a very rare hot sauce, one of only a very few,\u001b[1;31m^\u001b[0m where the actual chile is the major ingredient.\n",
              "Successfully parsed 10 tokens: \n",
              "\t0: 74275\n",
              "\t1: B005B3HKPO\n",
              "\t2: A3OC6M21K4UAQ\n",
              "\t3: tw\n",
              "\t4: 2\n",
              "\t5: 5\n",
              "\t6: 2\n",
              "\t7: 1328486400\n",
              "\t8: whats with ... is smell??\n",
              "\t9: \"ummm can  ...  hot sauce"
            ]
          },
          "metadata": {}
        },
        {
          "output_type": "display_data",
          "data": {
            "text/html": [
              "<pre>Unexpected characters after last column. \"B000PMJLJO\"\n",
              "Parse failed at token ending at: \n",
              "\tmyself that tastes much better than this.\"\n",
              "88623,B000PMJLJO,\u001b[1;31m^\u001b[0mA1DPWQR4WSPXTM,Japri,0,0,2,1331424000,Very unsat\n",
              "Successfully parsed 10 tokens: \n",
              "\t0: 88622\n",
              "\t1: B000PMJLJO\n",
              "\t2: A2Y4S4CNGKF21S\n",
              "\t3: H. Swanson\n",
              "\t4: 0\n",
              "\t5: 0\n",
              "\t6: 2\n",
              "\t7: 1332374400\n",
              "\t8: \"Very dry, ... edibly dry\n",
              "\t9: to the poi ... is.\"\n",
              "88623</pre>"
            ],
            "text/plain": [
              "Unexpected characters after last column. \"B000PMJLJO\"\n",
              "Parse failed at token ending at: \n",
              "\tmyself that tastes much better than this.\"\n",
              "88623,B000PMJLJO,\u001b[1;31m^\u001b[0mA1DPWQR4WSPXTM,Japri,0,0,2,1331424000,Very unsat\n",
              "Successfully parsed 10 tokens: \n",
              "\t0: 88622\n",
              "\t1: B000PMJLJO\n",
              "\t2: A2Y4S4CNGKF21S\n",
              "\t3: H. Swanson\n",
              "\t4: 0\n",
              "\t5: 0\n",
              "\t6: 2\n",
              "\t7: 1332374400\n",
              "\t8: \"Very dry, ... edibly dry\n",
              "\t9: to the poi ... is.\"\n",
              "88623"
            ]
          },
          "metadata": {}
        },
        {
          "output_type": "display_data",
          "data": {
            "text/html": [
              "<pre>Unexpected characters after last column. \"but that awful after taste has no place in my afternoons.  Fog Chaser is flavorful but smooth. If you have had difficulty finding a good coffee for the new machines\"\n",
              "Parse failed at token ending at: \n",
              "\te had difficulty finding a good coffee for the new machines,\u001b[1;31m^\u001b[0m do give this one a try.\"\n",
              "181216,B007Y59HVM,#oc-\n",
              "Successfully parsed 10 tokens: \n",
              "\t0: 181213\n",
              "\t1: B007Y59HVM\n",
              "\t2: #oc-R3W5DW4JKJT228\n",
              "\t3: Mamaw\n",
              "\t4: 0\n",
              "\t5: 2\n",
              "\t6: 1\n",
              "\t7: 1346112000\n",
              "\t8: Disappointed\n",
              "\t9: \"I regret  ... he morning</pre>"
            ],
            "text/plain": [
              "Unexpected characters after last column. \"but that awful after taste has no place in my afternoons.  Fog Chaser is flavorful but smooth. If you have had difficulty finding a good coffee for the new machines\"\n",
              "Parse failed at token ending at: \n",
              "\te had difficulty finding a good coffee for the new machines,\u001b[1;31m^\u001b[0m do give this one a try.\"\n",
              "181216,B007Y59HVM,#oc-\n",
              "Successfully parsed 10 tokens: \n",
              "\t0: 181213\n",
              "\t1: B007Y59HVM\n",
              "\t2: #oc-R3W5DW4JKJT228\n",
              "\t3: Mamaw\n",
              "\t4: 0\n",
              "\t5: 2\n",
              "\t6: 1\n",
              "\t7: 1346112000\n",
              "\t8: Disappointed\n",
              "\t9: \"I regret  ... he morning"
            ]
          },
          "metadata": {}
        },
        {
          "output_type": "display_data",
          "data": {
            "text/html": [
              "<pre>Read 71440 lines. Lines per second: 49415.3</pre>"
            ],
            "text/plain": [
              "Read 71440 lines. Lines per second: 49415.3"
            ]
          },
          "metadata": {}
        },
        {
          "output_type": "display_data",
          "data": {
            "text/html": [
              "<pre>Unexpected characters after last column. \"0\"\n",
              "Parse failed at token ending at: \n",
              "\t />\\\"\n",
              "190510,B0012UEHFQ,A2788LGTSGCFA6,\"Mom of 3 \"\"sue\"\"\",0,\u001b[1;31m^\u001b[0m0,5,1329436800,She Loves Them!,I have a crazy do\n",
              "Successfully parsed 10 tokens: \n",
              "\t0: 190509\n",
              "\t1: B0012UEHFQ\n",
              "\t2: A3CR0UBHFX0NE7\n",
              "\t3: Sharee Lee Peterson\n",
              "\t4: 0\n",
              "\t5: 0\n",
              "\t6: 1\n",
              "\t7: 1330300800\n",
              "\t8: Poor Substitute\n",
              "\t9: I had prev ... of 3 \"sue\"</pre>"
            ],
            "text/plain": [
              "Unexpected characters after last column. \"0\"\n",
              "Parse failed at token ending at: \n",
              "\t />\\\"\n",
              "190510,B0012UEHFQ,A2788LGTSGCFA6,\"Mom of 3 \"\"sue\"\"\",0,\u001b[1;31m^\u001b[0m0,5,1329436800,She Loves Them!,I have a crazy do\n",
              "Successfully parsed 10 tokens: \n",
              "\t0: 190509\n",
              "\t1: B0012UEHFQ\n",
              "\t2: A3CR0UBHFX0NE7\n",
              "\t3: Sharee Lee Peterson\n",
              "\t4: 0\n",
              "\t5: 0\n",
              "\t6: 1\n",
              "\t7: 1330300800\n",
              "\t8: Poor Substitute\n",
              "\t9: I had prev ... of 3 \"sue\""
            ]
          },
          "metadata": {}
        },
        {
          "output_type": "display_data",
          "data": {
            "text/html": [
              "<pre>Unexpected characters after last column. \"B000GW46DE\"\n",
              "Parse failed at token ending at: \n",
              "\tyself that tastes much better than this.\"\n",
              "201283,B000GW46DE,\u001b[1;31m^\u001b[0mA1DPWQR4WSPXTM,Japri,0,0,2,1331424000,Very unsat\n",
              "Successfully parsed 10 tokens: \n",
              "\t0: 201282\n",
              "\t1: B000GW46DE\n",
              "\t2: A2Y4S4CNGKF21S\n",
              "\t3: H. Swanson\n",
              "\t4: 0\n",
              "\t5: 0\n",
              "\t6: 2\n",
              "\t7: 1332374400\n",
              "\t8: \"Very dry, ... edibly dry\n",
              "\t9: to the poi ... s.\"\n",
              "201283</pre>"
            ],
            "text/plain": [
              "Unexpected characters after last column. \"B000GW46DE\"\n",
              "Parse failed at token ending at: \n",
              "\tyself that tastes much better than this.\"\n",
              "201283,B000GW46DE,\u001b[1;31m^\u001b[0mA1DPWQR4WSPXTM,Japri,0,0,2,1331424000,Very unsat\n",
              "Successfully parsed 10 tokens: \n",
              "\t0: 201282\n",
              "\t1: B000GW46DE\n",
              "\t2: A2Y4S4CNGKF21S\n",
              "\t3: H. Swanson\n",
              "\t4: 0\n",
              "\t5: 0\n",
              "\t6: 2\n",
              "\t7: 1332374400\n",
              "\t8: \"Very dry, ... edibly dry\n",
              "\t9: to the poi ... s.\"\n",
              "201283"
            ]
          },
          "metadata": {}
        },
        {
          "output_type": "display_data",
          "data": {
            "text/html": [
              "<pre>Unexpected characters after last column. \"B000PMC7GI\"\n",
              "Parse failed at token ending at: \n",
              "\tyself that tastes much better than this.\"\n",
              "353089,B000PMC7GI,\u001b[1;31m^\u001b[0mA1DPWQR4WSPXTM,Japri,0,0,2,1331424000,Very unsat\n",
              "Successfully parsed 10 tokens: \n",
              "\t0: 353088\n",
              "\t1: B000PMC7GI\n",
              "\t2: A2Y4S4CNGKF21S\n",
              "\t3: H. Swanson\n",
              "\t4: 0\n",
              "\t5: 0\n",
              "\t6: 2\n",
              "\t7: 1332374400\n",
              "\t8: \"Very dry, ... edibly dry\n",
              "\t9: to the poi ... s.\"\n",
              "353089</pre>"
            ],
            "text/plain": [
              "Unexpected characters after last column. \"B000PMC7GI\"\n",
              "Parse failed at token ending at: \n",
              "\tyself that tastes much better than this.\"\n",
              "353089,B000PMC7GI,\u001b[1;31m^\u001b[0mA1DPWQR4WSPXTM,Japri,0,0,2,1331424000,Very unsat\n",
              "Successfully parsed 10 tokens: \n",
              "\t0: 353088\n",
              "\t1: B000PMC7GI\n",
              "\t2: A2Y4S4CNGKF21S\n",
              "\t3: H. Swanson\n",
              "\t4: 0\n",
              "\t5: 0\n",
              "\t6: 2\n",
              "\t7: 1332374400\n",
              "\t8: \"Very dry, ... edibly dry\n",
              "\t9: to the poi ... s.\"\n",
              "353089"
            ]
          },
          "metadata": {}
        },
        {
          "output_type": "display_data",
          "data": {
            "text/html": [
              "<pre>Unexpected characters after last column. \"give it a try.  After drinking half of a bottle\"\n",
              "Parse failed at token ending at: \n",
              "\tou haven't, give it a try.  After drinking half of a bottle,\u001b[1;31m^\u001b[0m you will know it's good stuff.\"\n",
              "434576,B001SB1B\n",
              "Successfully parsed 10 tokens: \n",
              "\t0: 434574\n",
              "\t1: B002DHMX3A\n",
              "\t2: A2XNJJ9TF70P4J\n",
              "\t3: Angie\n",
              "\t4: 1\n",
              "\t5: 1\n",
              "\t6: 1\n",
              "\t7: 1307232000\n",
              "\t8: How did th ... s this up?\n",
              "\t9: \"The cerea ... ou haven't</pre>"
            ],
            "text/plain": [
              "Unexpected characters after last column. \"give it a try.  After drinking half of a bottle\"\n",
              "Parse failed at token ending at: \n",
              "\tou haven't, give it a try.  After drinking half of a bottle,\u001b[1;31m^\u001b[0m you will know it's good stuff.\"\n",
              "434576,B001SB1B\n",
              "Successfully parsed 10 tokens: \n",
              "\t0: 434574\n",
              "\t1: B002DHMX3A\n",
              "\t2: A2XNJJ9TF70P4J\n",
              "\t3: Angie\n",
              "\t4: 1\n",
              "\t5: 1\n",
              "\t6: 1\n",
              "\t7: 1307232000\n",
              "\t8: How did th ... s this up?\n",
              "\t9: \"The cerea ... ou haven't"
            ]
          },
          "metadata": {}
        },
        {
          "output_type": "display_data",
          "data": {
            "text/html": [
              "<pre>8 lines failed to parse correctly</pre>"
            ],
            "text/plain": [
              "8 lines failed to parse correctly"
            ]
          },
          "metadata": {}
        },
        {
          "output_type": "display_data",
          "data": {
            "text/html": [
              "<pre>Finished parsing file /content/datasets/amazon_reviews/Reviews.csv</pre>"
            ],
            "text/plain": [
              "Finished parsing file /content/datasets/amazon_reviews/Reviews.csv"
            ]
          },
          "metadata": {}
        },
        {
          "output_type": "display_data",
          "data": {
            "text/html": [
              "<pre>Parsing completed. Parsed 260995 lines in 3.89019 secs.</pre>"
            ],
            "text/plain": [
              "Parsing completed. Parsed 260995 lines in 3.89019 secs."
            ]
          },
          "metadata": {}
        },
        {
          "output_type": "execute_result",
          "data": {
            "text/html": [
              "<div style=\"max-height:1000px;max-width:1500px;overflow:auto;\"><table frame=\"box\" rules=\"cols\">\n",
              "    <tr>\n",
              "        <th style=\"padding-left: 1em; padding-right: 1em; text-align: center\">Id</th>\n",
              "        <th style=\"padding-left: 1em; padding-right: 1em; text-align: center\">ProductId</th>\n",
              "        <th style=\"padding-left: 1em; padding-right: 1em; text-align: center\">UserId</th>\n",
              "        <th style=\"padding-left: 1em; padding-right: 1em; text-align: center\">ProfileName</th>\n",
              "        <th style=\"padding-left: 1em; padding-right: 1em; text-align: center\">HelpfulnessNumerator</th>\n",
              "        <th style=\"padding-left: 1em; padding-right: 1em; text-align: center\">HelpfulnessDenominator</th>\n",
              "        <th style=\"padding-left: 1em; padding-right: 1em; text-align: center\">Score</th>\n",
              "    </tr>\n",
              "    <tr>\n",
              "        <td style=\"padding-left: 1em; padding-right: 1em; text-align: center; vertical-align: top\">1</td>\n",
              "        <td style=\"padding-left: 1em; padding-right: 1em; text-align: center; vertical-align: top\">B001E4KFG0</td>\n",
              "        <td style=\"padding-left: 1em; padding-right: 1em; text-align: center; vertical-align: top\">A3SGXH7AUHU8GW</td>\n",
              "        <td style=\"padding-left: 1em; padding-right: 1em; text-align: center; vertical-align: top\">delmartian</td>\n",
              "        <td style=\"padding-left: 1em; padding-right: 1em; text-align: center; vertical-align: top\">1</td>\n",
              "        <td style=\"padding-left: 1em; padding-right: 1em; text-align: center; vertical-align: top\">1</td>\n",
              "        <td style=\"padding-left: 1em; padding-right: 1em; text-align: center; vertical-align: top\">5</td>\n",
              "    </tr>\n",
              "    <tr>\n",
              "        <td style=\"padding-left: 1em; padding-right: 1em; text-align: center; vertical-align: top\">2</td>\n",
              "        <td style=\"padding-left: 1em; padding-right: 1em; text-align: center; vertical-align: top\">B00813GRG4</td>\n",
              "        <td style=\"padding-left: 1em; padding-right: 1em; text-align: center; vertical-align: top\">A1D87F6ZCVE5NK</td>\n",
              "        <td style=\"padding-left: 1em; padding-right: 1em; text-align: center; vertical-align: top\">dll pa</td>\n",
              "        <td style=\"padding-left: 1em; padding-right: 1em; text-align: center; vertical-align: top\">0</td>\n",
              "        <td style=\"padding-left: 1em; padding-right: 1em; text-align: center; vertical-align: top\">0</td>\n",
              "        <td style=\"padding-left: 1em; padding-right: 1em; text-align: center; vertical-align: top\">1</td>\n",
              "    </tr>\n",
              "    <tr>\n",
              "        <td style=\"padding-left: 1em; padding-right: 1em; text-align: center; vertical-align: top\">3</td>\n",
              "        <td style=\"padding-left: 1em; padding-right: 1em; text-align: center; vertical-align: top\">B000LQOCH0</td>\n",
              "        <td style=\"padding-left: 1em; padding-right: 1em; text-align: center; vertical-align: top\">ABXLMWJIXXAIN</td>\n",
              "        <td style=\"padding-left: 1em; padding-right: 1em; text-align: center; vertical-align: top\">Natalia Corres &quot;Natalia<br>Corres&quot; ...</td>\n",
              "        <td style=\"padding-left: 1em; padding-right: 1em; text-align: center; vertical-align: top\">1</td>\n",
              "        <td style=\"padding-left: 1em; padding-right: 1em; text-align: center; vertical-align: top\">1</td>\n",
              "        <td style=\"padding-left: 1em; padding-right: 1em; text-align: center; vertical-align: top\">4</td>\n",
              "    </tr>\n",
              "    <tr>\n",
              "        <td style=\"padding-left: 1em; padding-right: 1em; text-align: center; vertical-align: top\">4</td>\n",
              "        <td style=\"padding-left: 1em; padding-right: 1em; text-align: center; vertical-align: top\">B000UA0QIQ</td>\n",
              "        <td style=\"padding-left: 1em; padding-right: 1em; text-align: center; vertical-align: top\">A395BORC6FGVXV</td>\n",
              "        <td style=\"padding-left: 1em; padding-right: 1em; text-align: center; vertical-align: top\">Karl</td>\n",
              "        <td style=\"padding-left: 1em; padding-right: 1em; text-align: center; vertical-align: top\">3</td>\n",
              "        <td style=\"padding-left: 1em; padding-right: 1em; text-align: center; vertical-align: top\">3</td>\n",
              "        <td style=\"padding-left: 1em; padding-right: 1em; text-align: center; vertical-align: top\">2</td>\n",
              "    </tr>\n",
              "    <tr>\n",
              "        <td style=\"padding-left: 1em; padding-right: 1em; text-align: center; vertical-align: top\">5</td>\n",
              "        <td style=\"padding-left: 1em; padding-right: 1em; text-align: center; vertical-align: top\">B006K2ZZ7K</td>\n",
              "        <td style=\"padding-left: 1em; padding-right: 1em; text-align: center; vertical-align: top\">A1UQRSCLF8GW1T</td>\n",
              "        <td style=\"padding-left: 1em; padding-right: 1em; text-align: center; vertical-align: top\">Michael D. Bigham &quot;M.<br>Wassir&quot; ...</td>\n",
              "        <td style=\"padding-left: 1em; padding-right: 1em; text-align: center; vertical-align: top\">0</td>\n",
              "        <td style=\"padding-left: 1em; padding-right: 1em; text-align: center; vertical-align: top\">0</td>\n",
              "        <td style=\"padding-left: 1em; padding-right: 1em; text-align: center; vertical-align: top\">5</td>\n",
              "    </tr>\n",
              "    <tr>\n",
              "        <td style=\"padding-left: 1em; padding-right: 1em; text-align: center; vertical-align: top\">6</td>\n",
              "        <td style=\"padding-left: 1em; padding-right: 1em; text-align: center; vertical-align: top\">B006K2ZZ7K</td>\n",
              "        <td style=\"padding-left: 1em; padding-right: 1em; text-align: center; vertical-align: top\">ADT0SRK1MGOEU</td>\n",
              "        <td style=\"padding-left: 1em; padding-right: 1em; text-align: center; vertical-align: top\">Twoapennything</td>\n",
              "        <td style=\"padding-left: 1em; padding-right: 1em; text-align: center; vertical-align: top\">0</td>\n",
              "        <td style=\"padding-left: 1em; padding-right: 1em; text-align: center; vertical-align: top\">0</td>\n",
              "        <td style=\"padding-left: 1em; padding-right: 1em; text-align: center; vertical-align: top\">4</td>\n",
              "    </tr>\n",
              "    <tr>\n",
              "        <td style=\"padding-left: 1em; padding-right: 1em; text-align: center; vertical-align: top\">7</td>\n",
              "        <td style=\"padding-left: 1em; padding-right: 1em; text-align: center; vertical-align: top\">B006K2ZZ7K</td>\n",
              "        <td style=\"padding-left: 1em; padding-right: 1em; text-align: center; vertical-align: top\">A1SP2KVKFXXRU1</td>\n",
              "        <td style=\"padding-left: 1em; padding-right: 1em; text-align: center; vertical-align: top\">David C. Sullivan</td>\n",
              "        <td style=\"padding-left: 1em; padding-right: 1em; text-align: center; vertical-align: top\">0</td>\n",
              "        <td style=\"padding-left: 1em; padding-right: 1em; text-align: center; vertical-align: top\">0</td>\n",
              "        <td style=\"padding-left: 1em; padding-right: 1em; text-align: center; vertical-align: top\">5</td>\n",
              "    </tr>\n",
              "    <tr>\n",
              "        <td style=\"padding-left: 1em; padding-right: 1em; text-align: center; vertical-align: top\">8</td>\n",
              "        <td style=\"padding-left: 1em; padding-right: 1em; text-align: center; vertical-align: top\">B006K2ZZ7K</td>\n",
              "        <td style=\"padding-left: 1em; padding-right: 1em; text-align: center; vertical-align: top\">A3JRGQVEQN31IQ</td>\n",
              "        <td style=\"padding-left: 1em; padding-right: 1em; text-align: center; vertical-align: top\">Pamela G. Williams</td>\n",
              "        <td style=\"padding-left: 1em; padding-right: 1em; text-align: center; vertical-align: top\">0</td>\n",
              "        <td style=\"padding-left: 1em; padding-right: 1em; text-align: center; vertical-align: top\">0</td>\n",
              "        <td style=\"padding-left: 1em; padding-right: 1em; text-align: center; vertical-align: top\">5</td>\n",
              "    </tr>\n",
              "    <tr>\n",
              "        <td style=\"padding-left: 1em; padding-right: 1em; text-align: center; vertical-align: top\">9</td>\n",
              "        <td style=\"padding-left: 1em; padding-right: 1em; text-align: center; vertical-align: top\">B000E7L2R4</td>\n",
              "        <td style=\"padding-left: 1em; padding-right: 1em; text-align: center; vertical-align: top\">A1MZYO9TZK0BBI</td>\n",
              "        <td style=\"padding-left: 1em; padding-right: 1em; text-align: center; vertical-align: top\">R. James</td>\n",
              "        <td style=\"padding-left: 1em; padding-right: 1em; text-align: center; vertical-align: top\">1</td>\n",
              "        <td style=\"padding-left: 1em; padding-right: 1em; text-align: center; vertical-align: top\">1</td>\n",
              "        <td style=\"padding-left: 1em; padding-right: 1em; text-align: center; vertical-align: top\">5</td>\n",
              "    </tr>\n",
              "    <tr>\n",
              "        <td style=\"padding-left: 1em; padding-right: 1em; text-align: center; vertical-align: top\">10</td>\n",
              "        <td style=\"padding-left: 1em; padding-right: 1em; text-align: center; vertical-align: top\">B00171APVA</td>\n",
              "        <td style=\"padding-left: 1em; padding-right: 1em; text-align: center; vertical-align: top\">A21BT40VZCCYT4</td>\n",
              "        <td style=\"padding-left: 1em; padding-right: 1em; text-align: center; vertical-align: top\">Carol A. Reed</td>\n",
              "        <td style=\"padding-left: 1em; padding-right: 1em; text-align: center; vertical-align: top\">0</td>\n",
              "        <td style=\"padding-left: 1em; padding-right: 1em; text-align: center; vertical-align: top\">0</td>\n",
              "        <td style=\"padding-left: 1em; padding-right: 1em; text-align: center; vertical-align: top\">5</td>\n",
              "    </tr>\n",
              "</table>\n",
              "<table frame=\"box\" rules=\"cols\">\n",
              "    <tr>\n",
              "        <th style=\"padding-left: 1em; padding-right: 1em; text-align: center\">Time</th>\n",
              "        <th style=\"padding-left: 1em; padding-right: 1em; text-align: center\">Summary</th>\n",
              "        <th style=\"padding-left: 1em; padding-right: 1em; text-align: center\">Text</th>\n",
              "    </tr>\n",
              "    <tr>\n",
              "        <td style=\"padding-left: 1em; padding-right: 1em; text-align: center; vertical-align: top\">1303862400</td>\n",
              "        <td style=\"padding-left: 1em; padding-right: 1em; text-align: center; vertical-align: top\">Good Quality Dog Food</td>\n",
              "        <td style=\"padding-left: 1em; padding-right: 1em; text-align: center; vertical-align: top\">I have bought several of<br>the Vitality canned dog ...</td>\n",
              "    </tr>\n",
              "    <tr>\n",
              "        <td style=\"padding-left: 1em; padding-right: 1em; text-align: center; vertical-align: top\">1346976000</td>\n",
              "        <td style=\"padding-left: 1em; padding-right: 1em; text-align: center; vertical-align: top\">Not as Advertised</td>\n",
              "        <td style=\"padding-left: 1em; padding-right: 1em; text-align: center; vertical-align: top\">Product arrived labeled<br>as Jumbo Salted ...</td>\n",
              "    </tr>\n",
              "    <tr>\n",
              "        <td style=\"padding-left: 1em; padding-right: 1em; text-align: center; vertical-align: top\">1219017600</td>\n",
              "        <td style=\"padding-left: 1em; padding-right: 1em; text-align: center; vertical-align: top\">&quot;Delight&quot; says it all</td>\n",
              "        <td style=\"padding-left: 1em; padding-right: 1em; text-align: center; vertical-align: top\">This is a confection that<br>has been around a few ...</td>\n",
              "    </tr>\n",
              "    <tr>\n",
              "        <td style=\"padding-left: 1em; padding-right: 1em; text-align: center; vertical-align: top\">1307923200</td>\n",
              "        <td style=\"padding-left: 1em; padding-right: 1em; text-align: center; vertical-align: top\">Cough Medicine</td>\n",
              "        <td style=\"padding-left: 1em; padding-right: 1em; text-align: center; vertical-align: top\">If you are looking for<br>the secret ingredient in ...</td>\n",
              "    </tr>\n",
              "    <tr>\n",
              "        <td style=\"padding-left: 1em; padding-right: 1em; text-align: center; vertical-align: top\">1350777600</td>\n",
              "        <td style=\"padding-left: 1em; padding-right: 1em; text-align: center; vertical-align: top\">Great taffy</td>\n",
              "        <td style=\"padding-left: 1em; padding-right: 1em; text-align: center; vertical-align: top\">Great taffy at a great<br>price.  There was a wide ...</td>\n",
              "    </tr>\n",
              "    <tr>\n",
              "        <td style=\"padding-left: 1em; padding-right: 1em; text-align: center; vertical-align: top\">1342051200</td>\n",
              "        <td style=\"padding-left: 1em; padding-right: 1em; text-align: center; vertical-align: top\">Nice Taffy</td>\n",
              "        <td style=\"padding-left: 1em; padding-right: 1em; text-align: center; vertical-align: top\">I got a wild hair for<br>taffy and ordered this ...</td>\n",
              "    </tr>\n",
              "    <tr>\n",
              "        <td style=\"padding-left: 1em; padding-right: 1em; text-align: center; vertical-align: top\">1340150400</td>\n",
              "        <td style=\"padding-left: 1em; padding-right: 1em; text-align: center; vertical-align: top\">Great!  Just as good as<br>the expensive brands! ...</td>\n",
              "        <td style=\"padding-left: 1em; padding-right: 1em; text-align: center; vertical-align: top\">This saltwater taffy had<br>great flavors and was ...</td>\n",
              "    </tr>\n",
              "    <tr>\n",
              "        <td style=\"padding-left: 1em; padding-right: 1em; text-align: center; vertical-align: top\">1336003200</td>\n",
              "        <td style=\"padding-left: 1em; padding-right: 1em; text-align: center; vertical-align: top\">Wonderful, tasty taffy</td>\n",
              "        <td style=\"padding-left: 1em; padding-right: 1em; text-align: center; vertical-align: top\">This taffy is so good.<br>It is very soft and ...</td>\n",
              "    </tr>\n",
              "    <tr>\n",
              "        <td style=\"padding-left: 1em; padding-right: 1em; text-align: center; vertical-align: top\">1322006400</td>\n",
              "        <td style=\"padding-left: 1em; padding-right: 1em; text-align: center; vertical-align: top\">Yay Barley</td>\n",
              "        <td style=\"padding-left: 1em; padding-right: 1em; text-align: center; vertical-align: top\">Right now I&#x27;m mostly just<br>sprouting this so my  ...</td>\n",
              "    </tr>\n",
              "    <tr>\n",
              "        <td style=\"padding-left: 1em; padding-right: 1em; text-align: center; vertical-align: top\">1351209600</td>\n",
              "        <td style=\"padding-left: 1em; padding-right: 1em; text-align: center; vertical-align: top\">Healthy Dog Food</td>\n",
              "        <td style=\"padding-left: 1em; padding-right: 1em; text-align: center; vertical-align: top\">This is a very healthy<br>dog food. Good for their ...</td>\n",
              "    </tr>\n",
              "</table>\n",
              "[260995 rows x 10 columns]<br/>Note: Only the head of the SFrame is printed.<br/>You can use print_rows(num_rows=m, num_columns=n) to print more rows and columns.\n",
              "</div>"
            ],
            "text/plain": [
              "Columns:\n",
              "\tId\tint\n",
              "\tProductId\tstr\n",
              "\tUserId\tstr\n",
              "\tProfileName\tstr\n",
              "\tHelpfulnessNumerator\tint\n",
              "\tHelpfulnessDenominator\tint\n",
              "\tScore\tint\n",
              "\tTime\tint\n",
              "\tSummary\tstr\n",
              "\tText\tstr\n",
              "\n",
              "Rows: 260995\n",
              "\n",
              "Data:\n",
              "+----+------------+----------------+-------------------------------+----------------------+\n",
              "| Id | ProductId  |     UserId     |          ProfileName          | HelpfulnessNumerator |\n",
              "+----+------------+----------------+-------------------------------+----------------------+\n",
              "| 1  | B001E4KFG0 | A3SGXH7AUHU8GW |           delmartian          |          1           |\n",
              "| 2  | B00813GRG4 | A1D87F6ZCVE5NK |             dll pa            |          0           |\n",
              "| 3  | B000LQOCH0 | ABXLMWJIXXAIN  | Natalia Corres \"Natalia Co... |          1           |\n",
              "| 4  | B000UA0QIQ | A395BORC6FGVXV |              Karl             |          3           |\n",
              "| 5  | B006K2ZZ7K | A1UQRSCLF8GW1T | Michael D. Bigham \"M. Wassir\" |          0           |\n",
              "| 6  | B006K2ZZ7K | ADT0SRK1MGOEU  |         Twoapennything        |          0           |\n",
              "| 7  | B006K2ZZ7K | A1SP2KVKFXXRU1 |       David C. Sullivan       |          0           |\n",
              "| 8  | B006K2ZZ7K | A3JRGQVEQN31IQ |       Pamela G. Williams      |          0           |\n",
              "| 9  | B000E7L2R4 | A1MZYO9TZK0BBI |            R. James           |          1           |\n",
              "| 10 | B00171APVA | A21BT40VZCCYT4 |         Carol A. Reed         |          0           |\n",
              "+----+------------+----------------+-------------------------------+----------------------+\n",
              "+------------------------+-------+------------+-------------------------------+\n",
              "| HelpfulnessDenominator | Score |    Time    |            Summary            |\n",
              "+------------------------+-------+------------+-------------------------------+\n",
              "|           1            |   5   | 1303862400 |     Good Quality Dog Food     |\n",
              "|           0            |   1   | 1346976000 |       Not as Advertised       |\n",
              "|           1            |   4   | 1219017600 |     \"Delight\" says it all     |\n",
              "|           3            |   2   | 1307923200 |         Cough Medicine        |\n",
              "|           0            |   5   | 1350777600 |          Great taffy          |\n",
              "|           0            |   4   | 1342051200 |           Nice Taffy          |\n",
              "|           0            |   5   | 1340150400 | Great!  Just as good as th... |\n",
              "|           0            |   5   | 1336003200 |     Wonderful, tasty taffy    |\n",
              "|           1            |   5   | 1322006400 |           Yay Barley          |\n",
              "|           0            |   5   | 1351209600 |        Healthy Dog Food       |\n",
              "+------------------------+-------+------------+-------------------------------+\n",
              "+-------------------------------+\n",
              "|              Text             |\n",
              "+-------------------------------+\n",
              "| I have bought several of t... |\n",
              "| Product arrived labeled as... |\n",
              "| This is a confection that ... |\n",
              "| If you are looking for the... |\n",
              "| Great taffy at a great pri... |\n",
              "| I got a wild hair for taff... |\n",
              "| This saltwater taffy had g... |\n",
              "| This taffy is so good.  It... |\n",
              "| Right now I'm mostly just ... |\n",
              "| This is a very healthy dog... |\n",
              "+-------------------------------+\n",
              "[260995 rows x 10 columns]\n",
              "Note: Only the head of the SFrame is printed.\n",
              "You can use print_rows(num_rows=m, num_columns=n) to print more rows and columns."
            ]
          },
          "metadata": {},
          "execution_count": 19
        }
      ]
    },
    {
      "cell_type": "markdown",
      "metadata": {
        "id": "M5CMBQMZDbhD"
      },
      "source": [
        "### Q2 ans:"
      ]
    },
    {
      "cell_type": "code",
      "metadata": {
        "id": "uyc1iE55Desv"
      },
      "source": [
        "# we will extract the following features using textblob:\n",
        "# Counter of nouns in review's text & summary\n",
        "# sentiment polarity in review's text & summary\n",
        "# sentiment subjectivity in review's text & summary\n",
        "# and the following features using affin:\n",
        "# Afinn sentiment score for review's text & summary\n",
        "\n",
        "# creating the features sframe from the review text & summary fields\n",
        "reviews_textblob_and_afinn_features_sframe = turi.SFrame()\n",
        "features_list = [\n",
        "                 'TextBlob text polarity', \n",
        "                 'TextBlob text subjectivity', \n",
        "                 'TextBlob summary polarity', \n",
        "                 'TextBlob summary subjectivity', \n",
        "                 'Afinn text score', \n",
        "                 'Afinn summary score'\n",
        "                 ]\n",
        "# TextBlob features\n",
        "reviews_textblob_and_afinn_features_sframe['TextBlob text polarity'] = org_reviews_sframe['Text'].apply(lambda review: TextBlob(review).sentiment.polarity)\n",
        "reviews_textblob_and_afinn_features_sframe['TextBlob text subjectivity'] = org_reviews_sframe['Text'].apply(lambda review: TextBlob(review).sentiment.subjectivity)\n",
        "reviews_textblob_and_afinn_features_sframe['TextBlob summary polarity'] = org_reviews_sframe['Summary'].apply(lambda review: TextBlob(review).sentiment.polarity)\n",
        "reviews_textblob_and_afinn_features_sframe['TextBlob summary subjectivity'] = org_reviews_sframe['Summary'].apply(lambda review: TextBlob(review).sentiment.subjectivity)\n",
        "# Afinn features\n",
        "afinn = Afinn()\n",
        "reviews_textblob_and_afinn_features_sframe['Afinn text score'] = org_reviews_sframe['Text'].apply(lambda t: afinn.score(t))\n",
        "reviews_textblob_and_afinn_features_sframe['Afinn summary score'] = org_reviews_sframe['Summary'].apply(lambda t: afinn.score(t))\n",
        "\n",
        "\n",
        "# i created a classifier that predicts the score from 1 to 5 (not only 1 OR 5).\n",
        "reviews_textblob_and_afinn_features_sframe['class'] = org_reviews_sframe['Score']"
      ],
      "execution_count": null,
      "outputs": []
    },
    {
      "cell_type": "code",
      "metadata": {
        "id": "Qn6aDGQtJ-LT",
        "colab": {
          "base_uri": "https://localhost:8080/",
          "height": 1326
        },
        "outputId": "d3927442-772a-4e20-9412-00309344ce99"
      },
      "source": [
        "train, test = reviews_textblob_and_afinn_features_sframe.random_split(0.8)\n",
        "cls_with_sentiment_analysis_features = turi.classifier.create(train,features=features_list, target=\"class\", verbose=True)"
      ],
      "execution_count": null,
      "outputs": [
        {
          "output_type": "stream",
          "name": "stdout",
          "text": [
            "PROGRESS: Creating a validation set from 5 percent of training data. This may take a while.\n",
            "          You can set ``validation_set=None`` to disable validation tracking.\n",
            "\n",
            "PROGRESS: The following methods are available for this type of problem.\n",
            "PROGRESS: BoostedTreesClassifier, RandomForestClassifier, DecisionTreeClassifier, LogisticClassifier\n",
            "PROGRESS: The returned model will be chosen according to validation accuracy.\n"
          ]
        },
        {
          "output_type": "display_data",
          "data": {
            "text/html": [
              "<pre>Boosted trees classifier:</pre>"
            ],
            "text/plain": [
              "Boosted trees classifier:"
            ]
          },
          "metadata": {}
        },
        {
          "output_type": "display_data",
          "data": {
            "text/html": [
              "<pre>--------------------------------------------------------</pre>"
            ],
            "text/plain": [
              "--------------------------------------------------------"
            ]
          },
          "metadata": {}
        },
        {
          "output_type": "display_data",
          "data": {
            "text/html": [
              "<pre>Number of examples          : 198672</pre>"
            ],
            "text/plain": [
              "Number of examples          : 198672"
            ]
          },
          "metadata": {}
        },
        {
          "output_type": "display_data",
          "data": {
            "text/html": [
              "<pre>Number of classes           : 5</pre>"
            ],
            "text/plain": [
              "Number of classes           : 5"
            ]
          },
          "metadata": {}
        },
        {
          "output_type": "display_data",
          "data": {
            "text/html": [
              "<pre>Number of feature columns   : 6</pre>"
            ],
            "text/plain": [
              "Number of feature columns   : 6"
            ]
          },
          "metadata": {}
        },
        {
          "output_type": "display_data",
          "data": {
            "text/html": [
              "<pre>Number of unpacked features : 6</pre>"
            ],
            "text/plain": [
              "Number of unpacked features : 6"
            ]
          },
          "metadata": {}
        },
        {
          "output_type": "display_data",
          "data": {
            "text/html": [
              "<pre>+-----------+--------------+-------------------+---------------------+-------------------+---------------------+</pre>"
            ],
            "text/plain": [
              "+-----------+--------------+-------------------+---------------------+-------------------+---------------------+"
            ]
          },
          "metadata": {}
        },
        {
          "output_type": "display_data",
          "data": {
            "text/html": [
              "<pre>| Iteration | Elapsed Time | Training Accuracy | Validation Accuracy | Training Log Loss | Validation Log Loss |</pre>"
            ],
            "text/plain": [
              "| Iteration | Elapsed Time | Training Accuracy | Validation Accuracy | Training Log Loss | Validation Log Loss |"
            ]
          },
          "metadata": {}
        },
        {
          "output_type": "display_data",
          "data": {
            "text/html": [
              "<pre>+-----------+--------------+-------------------+---------------------+-------------------+---------------------+</pre>"
            ],
            "text/plain": [
              "+-----------+--------------+-------------------+---------------------+-------------------+---------------------+"
            ]
          },
          "metadata": {}
        },
        {
          "output_type": "display_data",
          "data": {
            "text/html": [
              "<pre>| 1         | 0.745158     | 0.679809          | 0.675337            | 1.322449          | 1.325751            |</pre>"
            ],
            "text/plain": [
              "| 1         | 0.745158     | 0.679809          | 0.675337            | 1.322449          | 1.325751            |"
            ]
          },
          "metadata": {}
        },
        {
          "output_type": "display_data",
          "data": {
            "text/html": [
              "<pre>| 2         | 1.464348     | 0.680795          | 0.675911            | 1.175785          | 1.181128            |</pre>"
            ],
            "text/plain": [
              "| 2         | 1.464348     | 0.680795          | 0.675911            | 1.175785          | 1.181128            |"
            ]
          },
          "metadata": {}
        },
        {
          "output_type": "display_data",
          "data": {
            "text/html": [
              "<pre>| 3         | 2.187504     | 0.681757          | 0.675815            | 1.084783          | 1.092162            |</pre>"
            ],
            "text/plain": [
              "| 3         | 2.187504     | 0.681757          | 0.675815            | 1.084783          | 1.092162            |"
            ]
          },
          "metadata": {}
        },
        {
          "output_type": "display_data",
          "data": {
            "text/html": [
              "<pre>| 4         | 2.916014     | 0.682144          | 0.676772            | 1.024796          | 1.033738            |</pre>"
            ],
            "text/plain": [
              "| 4         | 2.916014     | 0.682144          | 0.676772            | 1.024796          | 1.033738            |"
            ]
          },
          "metadata": {}
        },
        {
          "output_type": "display_data",
          "data": {
            "text/html": [
              "<pre>| 5         | 3.641679     | 0.682235          | 0.676580            | 0.982891          | 0.993245            |</pre>"
            ],
            "text/plain": [
              "| 5         | 3.641679     | 0.682235          | 0.676580            | 0.982891          | 0.993245            |"
            ]
          },
          "metadata": {}
        },
        {
          "output_type": "display_data",
          "data": {
            "text/html": [
              "<pre>| 10        | 7.248380     | 0.684490          | 0.678589            | 0.895955          | 0.911279            |</pre>"
            ],
            "text/plain": [
              "| 10        | 7.248380     | 0.684490          | 0.678589            | 0.895955          | 0.911279            |"
            ]
          },
          "metadata": {}
        },
        {
          "output_type": "display_data",
          "data": {
            "text/html": [
              "<pre>+-----------+--------------+-------------------+---------------------+-------------------+---------------------+</pre>"
            ],
            "text/plain": [
              "+-----------+--------------+-------------------+---------------------+-------------------+---------------------+"
            ]
          },
          "metadata": {}
        },
        {
          "output_type": "display_data",
          "data": {
            "text/html": [
              "<pre>Random forest classifier:</pre>"
            ],
            "text/plain": [
              "Random forest classifier:"
            ]
          },
          "metadata": {}
        },
        {
          "output_type": "display_data",
          "data": {
            "text/html": [
              "<pre>--------------------------------------------------------</pre>"
            ],
            "text/plain": [
              "--------------------------------------------------------"
            ]
          },
          "metadata": {}
        },
        {
          "output_type": "display_data",
          "data": {
            "text/html": [
              "<pre>Number of examples          : 198672</pre>"
            ],
            "text/plain": [
              "Number of examples          : 198672"
            ]
          },
          "metadata": {}
        },
        {
          "output_type": "display_data",
          "data": {
            "text/html": [
              "<pre>Number of classes           : 5</pre>"
            ],
            "text/plain": [
              "Number of classes           : 5"
            ]
          },
          "metadata": {}
        },
        {
          "output_type": "display_data",
          "data": {
            "text/html": [
              "<pre>Number of feature columns   : 6</pre>"
            ],
            "text/plain": [
              "Number of feature columns   : 6"
            ]
          },
          "metadata": {}
        },
        {
          "output_type": "display_data",
          "data": {
            "text/html": [
              "<pre>Number of unpacked features : 6</pre>"
            ],
            "text/plain": [
              "Number of unpacked features : 6"
            ]
          },
          "metadata": {}
        },
        {
          "output_type": "display_data",
          "data": {
            "text/html": [
              "<pre>+-----------+--------------+-------------------+---------------------+-------------------+---------------------+</pre>"
            ],
            "text/plain": [
              "+-----------+--------------+-------------------+---------------------+-------------------+---------------------+"
            ]
          },
          "metadata": {}
        },
        {
          "output_type": "display_data",
          "data": {
            "text/html": [
              "<pre>| Iteration | Elapsed Time | Training Accuracy | Validation Accuracy | Training Log Loss | Validation Log Loss |</pre>"
            ],
            "text/plain": [
              "| Iteration | Elapsed Time | Training Accuracy | Validation Accuracy | Training Log Loss | Validation Log Loss |"
            ]
          },
          "metadata": {}
        },
        {
          "output_type": "display_data",
          "data": {
            "text/html": [
              "<pre>+-----------+--------------+-------------------+---------------------+-------------------+---------------------+</pre>"
            ],
            "text/plain": [
              "+-----------+--------------+-------------------+---------------------+-------------------+---------------------+"
            ]
          },
          "metadata": {}
        },
        {
          "output_type": "display_data",
          "data": {
            "text/html": [
              "<pre>| 1         | 0.612387     | 0.676064          | 0.669504            | 0.982619          | 0.995099            |</pre>"
            ],
            "text/plain": [
              "| 1         | 0.612387     | 0.676064          | 0.669504            | 0.982619          | 0.995099            |"
            ]
          },
          "metadata": {}
        },
        {
          "output_type": "display_data",
          "data": {
            "text/html": [
              "<pre>| 2         | 1.207071     | 0.673064          | 0.666826            | 0.986463          | 0.997451            |</pre>"
            ],
            "text/plain": [
              "| 2         | 1.207071     | 0.673064          | 0.666826            | 0.986463          | 0.997451            |"
            ]
          },
          "metadata": {}
        },
        {
          "output_type": "display_data",
          "data": {
            "text/html": [
              "<pre>| 3         | 1.767622     | 0.675002          | 0.669886            | 0.983303          | 0.994822            |</pre>"
            ],
            "text/plain": [
              "| 3         | 1.767622     | 0.675002          | 0.669886            | 0.983303          | 0.994822            |"
            ]
          },
          "metadata": {}
        },
        {
          "output_type": "display_data",
          "data": {
            "text/html": [
              "<pre>| 4         | 2.336188     | 0.677438          | 0.672277            | 0.978465          | 0.989797            |</pre>"
            ],
            "text/plain": [
              "| 4         | 2.336188     | 0.677438          | 0.672277            | 0.978465          | 0.989797            |"
            ]
          },
          "metadata": {}
        },
        {
          "output_type": "display_data",
          "data": {
            "text/html": [
              "<pre>| 5         | 2.923112     | 0.677791          | 0.672373            | 0.977821          | 0.988875            |</pre>"
            ],
            "text/plain": [
              "| 5         | 2.923112     | 0.677791          | 0.672373            | 0.977821          | 0.988875            |"
            ]
          },
          "metadata": {}
        },
        {
          "output_type": "display_data",
          "data": {
            "text/html": [
              "<pre>| 10        | 5.806054     | 0.679134          | 0.674668            | 0.974635          | 0.985283            |</pre>"
            ],
            "text/plain": [
              "| 10        | 5.806054     | 0.679134          | 0.674668            | 0.974635          | 0.985283            |"
            ]
          },
          "metadata": {}
        },
        {
          "output_type": "display_data",
          "data": {
            "text/html": [
              "<pre>+-----------+--------------+-------------------+---------------------+-------------------+---------------------+</pre>"
            ],
            "text/plain": [
              "+-----------+--------------+-------------------+---------------------+-------------------+---------------------+"
            ]
          },
          "metadata": {}
        },
        {
          "output_type": "display_data",
          "data": {
            "text/html": [
              "<pre>Decision tree classifier:</pre>"
            ],
            "text/plain": [
              "Decision tree classifier:"
            ]
          },
          "metadata": {}
        },
        {
          "output_type": "display_data",
          "data": {
            "text/html": [
              "<pre>--------------------------------------------------------</pre>"
            ],
            "text/plain": [
              "--------------------------------------------------------"
            ]
          },
          "metadata": {}
        },
        {
          "output_type": "display_data",
          "data": {
            "text/html": [
              "<pre>Number of examples          : 198672</pre>"
            ],
            "text/plain": [
              "Number of examples          : 198672"
            ]
          },
          "metadata": {}
        },
        {
          "output_type": "display_data",
          "data": {
            "text/html": [
              "<pre>Number of classes           : 5</pre>"
            ],
            "text/plain": [
              "Number of classes           : 5"
            ]
          },
          "metadata": {}
        },
        {
          "output_type": "display_data",
          "data": {
            "text/html": [
              "<pre>Number of feature columns   : 6</pre>"
            ],
            "text/plain": [
              "Number of feature columns   : 6"
            ]
          },
          "metadata": {}
        },
        {
          "output_type": "display_data",
          "data": {
            "text/html": [
              "<pre>Number of unpacked features : 6</pre>"
            ],
            "text/plain": [
              "Number of unpacked features : 6"
            ]
          },
          "metadata": {}
        },
        {
          "output_type": "display_data",
          "data": {
            "text/html": [
              "<pre>+-----------+--------------+-------------------+---------------------+-------------------+---------------------+</pre>"
            ],
            "text/plain": [
              "+-----------+--------------+-------------------+---------------------+-------------------+---------------------+"
            ]
          },
          "metadata": {}
        },
        {
          "output_type": "display_data",
          "data": {
            "text/html": [
              "<pre>| Iteration | Elapsed Time | Training Accuracy | Validation Accuracy | Training Log Loss | Validation Log Loss |</pre>"
            ],
            "text/plain": [
              "| Iteration | Elapsed Time | Training Accuracy | Validation Accuracy | Training Log Loss | Validation Log Loss |"
            ]
          },
          "metadata": {}
        },
        {
          "output_type": "display_data",
          "data": {
            "text/html": [
              "<pre>+-----------+--------------+-------------------+---------------------+-------------------+---------------------+</pre>"
            ],
            "text/plain": [
              "+-----------+--------------+-------------------+---------------------+-------------------+---------------------+"
            ]
          },
          "metadata": {}
        },
        {
          "output_type": "display_data",
          "data": {
            "text/html": [
              "<pre>| 1         | 0.734106     | 0.679809          | 0.675337            | 0.971122          | 0.983320            |</pre>"
            ],
            "text/plain": [
              "| 1         | 0.734106     | 0.679809          | 0.675337            | 0.971122          | 0.983320            |"
            ]
          },
          "metadata": {}
        },
        {
          "output_type": "display_data",
          "data": {
            "text/html": [
              "<pre>+-----------+--------------+-------------------+---------------------+-------------------+---------------------+</pre>"
            ],
            "text/plain": [
              "+-----------+--------------+-------------------+---------------------+-------------------+---------------------+"
            ]
          },
          "metadata": {}
        },
        {
          "output_type": "display_data",
          "data": {
            "text/html": [
              "<pre>Logistic regression:</pre>"
            ],
            "text/plain": [
              "Logistic regression:"
            ]
          },
          "metadata": {}
        },
        {
          "output_type": "display_data",
          "data": {
            "text/html": [
              "<pre>--------------------------------------------------------</pre>"
            ],
            "text/plain": [
              "--------------------------------------------------------"
            ]
          },
          "metadata": {}
        },
        {
          "output_type": "display_data",
          "data": {
            "text/html": [
              "<pre>Number of examples          : 198672</pre>"
            ],
            "text/plain": [
              "Number of examples          : 198672"
            ]
          },
          "metadata": {}
        },
        {
          "output_type": "display_data",
          "data": {
            "text/html": [
              "<pre>Number of classes           : 5</pre>"
            ],
            "text/plain": [
              "Number of classes           : 5"
            ]
          },
          "metadata": {}
        },
        {
          "output_type": "display_data",
          "data": {
            "text/html": [
              "<pre>Number of feature columns   : 6</pre>"
            ],
            "text/plain": [
              "Number of feature columns   : 6"
            ]
          },
          "metadata": {}
        },
        {
          "output_type": "display_data",
          "data": {
            "text/html": [
              "<pre>Number of unpacked features : 6</pre>"
            ],
            "text/plain": [
              "Number of unpacked features : 6"
            ]
          },
          "metadata": {}
        },
        {
          "output_type": "display_data",
          "data": {
            "text/html": [
              "<pre>Number of coefficients      : 28</pre>"
            ],
            "text/plain": [
              "Number of coefficients      : 28"
            ]
          },
          "metadata": {}
        },
        {
          "output_type": "display_data",
          "data": {
            "text/html": [
              "<pre>Starting Newton Method</pre>"
            ],
            "text/plain": [
              "Starting Newton Method"
            ]
          },
          "metadata": {}
        },
        {
          "output_type": "display_data",
          "data": {
            "text/html": [
              "<pre>--------------------------------------------------------</pre>"
            ],
            "text/plain": [
              "--------------------------------------------------------"
            ]
          },
          "metadata": {}
        },
        {
          "output_type": "display_data",
          "data": {
            "text/html": [
              "<pre>+-----------+----------+--------------+-------------------+---------------------+</pre>"
            ],
            "text/plain": [
              "+-----------+----------+--------------+-------------------+---------------------+"
            ]
          },
          "metadata": {}
        },
        {
          "output_type": "display_data",
          "data": {
            "text/html": [
              "<pre>| Iteration | Passes   | Elapsed Time | Training Accuracy | Validation Accuracy |</pre>"
            ],
            "text/plain": [
              "| Iteration | Passes   | Elapsed Time | Training Accuracy | Validation Accuracy |"
            ]
          },
          "metadata": {}
        },
        {
          "output_type": "display_data",
          "data": {
            "text/html": [
              "<pre>+-----------+----------+--------------+-------------------+---------------------+</pre>"
            ],
            "text/plain": [
              "+-----------+----------+--------------+-------------------+---------------------+"
            ]
          },
          "metadata": {}
        },
        {
          "output_type": "display_data",
          "data": {
            "text/html": [
              "<pre>| 1         | 2        | 0.959529     | 0.669833          | 0.663479            |</pre>"
            ],
            "text/plain": [
              "| 1         | 2        | 0.959529     | 0.669833          | 0.663479            |"
            ]
          },
          "metadata": {}
        },
        {
          "output_type": "display_data",
          "data": {
            "text/html": [
              "<pre>| 2         | 3        | 1.520330     | 0.641696          | 0.638615            |</pre>"
            ],
            "text/plain": [
              "| 2         | 3        | 1.520330     | 0.641696          | 0.638615            |"
            ]
          },
          "metadata": {}
        },
        {
          "output_type": "display_data",
          "data": {
            "text/html": [
              "<pre>| 3         | 4        | 2.096055     | 0.676004          | 0.671703            |</pre>"
            ],
            "text/plain": [
              "| 3         | 4        | 2.096055     | 0.676004          | 0.671703            |"
            ]
          },
          "metadata": {}
        },
        {
          "output_type": "display_data",
          "data": {
            "text/html": [
              "<pre>| 4         | 5        | 2.655739     | 0.676094          | 0.671129            |</pre>"
            ],
            "text/plain": [
              "| 4         | 5        | 2.655739     | 0.676094          | 0.671129            |"
            ]
          },
          "metadata": {}
        },
        {
          "output_type": "display_data",
          "data": {
            "text/html": [
              "<pre>| 5         | 6        | 3.216826     | 0.676039          | 0.671321            |</pre>"
            ],
            "text/plain": [
              "| 5         | 6        | 3.216826     | 0.676039          | 0.671321            |"
            ]
          },
          "metadata": {}
        },
        {
          "output_type": "display_data",
          "data": {
            "text/html": [
              "<pre>| 6         | 7        | 3.782297     | 0.676039          | 0.671321            |</pre>"
            ],
            "text/plain": [
              "| 6         | 7        | 3.782297     | 0.676039          | 0.671321            |"
            ]
          },
          "metadata": {}
        },
        {
          "output_type": "display_data",
          "data": {
            "text/html": [
              "<pre>+-----------+----------+--------------+-------------------+---------------------+</pre>"
            ],
            "text/plain": [
              "+-----------+----------+--------------+-------------------+---------------------+"
            ]
          },
          "metadata": {}
        },
        {
          "output_type": "display_data",
          "data": {
            "text/html": [
              "<pre>SUCCESS: Optimal solution found.</pre>"
            ],
            "text/plain": [
              "SUCCESS: Optimal solution found."
            ]
          },
          "metadata": {}
        },
        {
          "output_type": "display_data",
          "data": {
            "text/html": [
              "<pre></pre>"
            ],
            "text/plain": [
              ""
            ]
          },
          "metadata": {}
        },
        {
          "output_type": "stream",
          "name": "stdout",
          "text": [
            "PROGRESS: Model selection based on validation accuracy:\n",
            "PROGRESS: ---------------------------------------------\n",
            "PROGRESS: BoostedTreesClassifier          : 0.6785885053074495\n",
            "PROGRESS: RandomForestClassifier          : 0.6746676867170317\n",
            "PROGRESS: DecisionTreeClassifier          : 0.6753370947690542\n",
            "PROGRESS: LogisticClassifier              : 0.6713206464569188\n",
            "PROGRESS: ---------------------------------------------\n",
            "PROGRESS: Selecting BoostedTreesClassifier based on validation set performance.\n"
          ]
        }
      ]
    },
    {
      "cell_type": "code",
      "metadata": {
        "id": "8IMMdyEYJ-Qw"
      },
      "source": [
        "# evaluating the classifier\n",
        "cls_with_sentiment_analysis_features_eval_results = cls_with_sentiment_analysis_features.evaluate(test)\n",
        "\n",
        "cls_with_sentiment_analysis_features_summary_dict = cls_with_sentiment_analysis_features.summary('dict')\n",
        "classifier_algorithm = ''.join([x for x in str(type(cls_with_sentiment_analysis_features_eval_results)).split('.')[-1] if x.isalpha()])\n",
        "test_f1_score, test_size = cls_with_sentiment_analysis_features_eval_results['f1_score'], len(test)\n",
        "validation_score = dict(cls_with_sentiment_analysis_features_summary_dict['sections'][1])['Validation accuracy']"
      ],
      "execution_count": null,
      "outputs": []
    },
    {
      "cell_type": "code",
      "metadata": {
        "id": "6n3O_v_eFgeE",
        "colab": {
          "base_uri": "https://localhost:8080/",
          "height": 592
        },
        "outputId": "91444571-de33-4b4e-f35b-0c2d763d8aea"
      },
      "source": [
        "# comparing the two classifiers\n",
        "fig, ax = plt.subplots(figsize=(10,10))\n",
        "# take the following score values from each evaluation dictionaries: 'Training time (sec)' , 'Training accuracy', 'Validation accuracy', 'Validation auc'\n",
        "scores_to_collect = ['Training time (sec)' , 'Training accuracy', 'Validation accuracy', 'Validation auc']\n",
        "cls_evalution_dictionaries_to_collect_from = [dict(cls_summary_dict['sections'][1]), dict(cls_with_sentiment_analysis_features_summary_dict['sections'][1])]\n",
        "regular_text_analysis_scores = []\n",
        "text_blob_and_affin_scores = []\n",
        "for score_to_collect in scores_to_collect:\n",
        "  regular_text_analysis_scores.append(cls_evalution_dictionaries_to_collect_from[0][score_to_collect])\n",
        "  text_blob_and_affin_scores.append(cls_evalution_dictionaries_to_collect_from[1][score_to_collect])\n",
        "\n",
        "x_ticks = np.arange(0, len(scores_to_collect)*2, 2) \n",
        "\n",
        "ax.bar(x_ticks-0.5, regular_text_analysis_scores,color='red', label = 'regular text features')\n",
        "ax.bar(x_ticks+0.5, text_blob_and_affin_scores,color='blue', label = 'textBlob\\&Afinn text features')\n",
        "\n",
        "ax.set_xticks(x_ticks)\n",
        "ax.set_xticklabels(scores_to_collect)\n",
        "\n",
        "ax.legend()\n",
        "plt.show()"
      ],
      "execution_count": null,
      "outputs": [
        {
          "output_type": "display_data",
          "data": {
            "image/png": "[encoded data removed]",
            "text/plain": [
              "<Figure size 720x720 with 1 Axes>"
            ]
          },
          "metadata": {
            "needs_background": "light"
          }
        }
      ]
    },
    {
      "cell_type": "markdown",
      "metadata": {
        "id": "P_-RwAYKDfoO"
      },
      "source": [
        "## Q3"
      ]
    },
    {
      "cell_type": "markdown",
      "metadata": {
        "id": "GklKQldybCyP"
      },
      "source": [
        "**Question 3:**  Select a different reviews dataset and create a sentiment classifier which utilizes word embeddings (25pt).\n",
        "Evaluate this classifier (5pt). Try to improve your classifier by adding additional features (20pt)"
      ]
    },
    {
      "cell_type": "markdown",
      "metadata": {
        "id": "hbXq30e_Xh4Q"
      },
      "source": [
        "### Preperations:"
      ]
    },
    {
      "cell_type": "code",
      "metadata": {
        "id": "MgS9j6eRbCyQ"
      },
      "source": [
        "! pip install turicreate\n",
        "! pip install kaggle \n",
        "! pip install gensim\n",
        "! pip install pyLDAvis\n",
        "! pip install spaCy\n",
        "! pip install afinn\n",
        "! pip install textblob\n",
        "\n",
        "! mkdir ~/.kaggle\n",
        "! cp kaggle.json ~/.kaggle/\n",
        "! chmod 600 ~/.kaggle/kaggle.json \n",
        "! mkdir -f ./datasets/employees_reviews\n",
        "\n",
        "! kaggle datasets download petersunga/google-amazon-facebook-employee-reviews  -p ./datasets/employees_reviews\n",
        "! unzip ./datasets/employees_reviews/*.zip  -d ./datasets/employees_reviews"
      ],
      "execution_count": null,
      "outputs": []
    },
    {
      "cell_type": "code",
      "metadata": {
        "id": "_S1NVvnDPSfm"
      },
      "source": [
        "# IMPORTS\n",
        "import os\n",
        "import json\n",
        "import re\n",
        "import requests\n",
        "from typing import *\n",
        "import numpy as np\n",
        "import pandas as pd\n",
        "import turicreate as turi\n",
        "import networkx as ntkx\n",
        "import matplotlib.pyplot as plt\n",
        "from tqdm.notebook import tqdm \n",
        "from textblob import TextBlob\n",
        "from afinn import Afinn\n",
        "\n",
        "\n",
        "%matplotlib inline"
      ],
      "execution_count": null,
      "outputs": []
    },
    {
      "cell_type": "code",
      "metadata": {
        "id": "AW8-Dk0mPSiI"
      },
      "source": [
        "#  i will use the employee review dataset\n",
        "employees_reviews_sframe = turi.SFrame.read_csv(\"./datasets/employees_reviews/employee_reviews.csv\", na_values=['none'])\n",
        "employees_reviews_sframe"
      ],
      "execution_count": null,
      "outputs": []
    },
    {
      "cell_type": "code",
      "metadata": {
        "id": "G1FQKyiFawJ_"
      },
      "source": [
        "# i will use the spacy library to import a word->embedding dictionary \n",
        "!python -m spacy download en_core_web_lg # Important! you need to restart runtime after install"
      ],
      "execution_count": null,
      "outputs": []
    },
    {
      "cell_type": "markdown",
      "metadata": {
        "id": "gHVDDzOOXk6J"
      },
      "source": [
        "### Q3 ans:"
      ]
    },
    {
      "cell_type": "code",
      "metadata": {
        "id": "brDcGdprXlD5"
      },
      "source": [
        "spacy_word_to_tokens = spacy.load('en_core_web_lg')\n",
        "employees_reviews_embeddings_sframe = turi.SFrame()\n",
        "\n",
        "main_text_field = 'Review'\n",
        "\n",
        "l = []\n",
        "for i in tqdm(range(len(sf))):\n",
        "    text = sf[i][main_text_field]\n",
        "    l.append(nlp(text).vector)\n",
        "\n",
        "employees_reviews_embeddings_sframe['word_embeddings'] = l \n",
        "employees_reviews_embeddings_sframe['class'] = employees_reviews_sframe['class']\n",
        "\n",
        "# addings additional features:\n",
        "employees_reviews_embeddings_sframe['words_1grams'] = tc.text_analytics.count_ngrams(employees_reviews_sframe[main_text_field], n=1, method='word')\n",
        "employees_reviews_embeddings_sframe['words_2grams'] = tc.text_analytics.count_ngrams(employees_reviews_sframe[main_text_field], n=2, method='word')\n",
        "# TextBlob features\n",
        "employees_reviews_embeddings_sframe['TextBlob text polarity'] = employees_reviews_sframe[main_text_field].apply(lambda review: TextBlob(review).sentiment.polarity)\n",
        "employees_reviews_embeddings_sframe['TextBlob text subjectivity'] = employees_reviews_sframe[main_text_field].apply(lambda review: TextBlob(review).sentiment.subjectivity)\n",
        "# employees_reviews_embeddings_sframe['TextBlob summary polarity'] = employees_reviews_sframe['Summary'].apply(lambda review: TextBlob(review).sentiment.polarity)\n",
        "# employees_reviews_embeddings_sframe['TextBlob summary subjectivity'] = employees_reviews_sframe['Summary'].apply(lambda review: TextBlob(review).sentiment.subjectivity)\n",
        "# Afinn features\n",
        "afinn = Afinn()\n",
        "employees_reviews_embeddings_sframe['Afinn text score'] = employees_reviews_sframe[main_text_field].apply(lambda t: afinn.score(t))\n",
        "# employees_reviews_embeddings_sframe['Afinn summary score'] = employees_reviews_sframe['Summary'].apply(lambda t: afinn.score(t))\n",
        "\n",
        "\n",
        "features_list = ['word_embeddings', 'words_1grams', 'words_2grams', 'TextBlob text polarity', 'TextBlob text subjectivity', 'Afinn text score']"
      ],
      "execution_count": null,
      "outputs": []
    },
    {
      "cell_type": "code",
      "metadata": {
        "id": "zk5Ge-9iXlK8"
      },
      "source": [
        "# training and evaluating the classifier with only word embeddings as features.\n",
        "# splitting and training\n",
        "train, test = employees_reviews_embeddings_sframe.random_split(0.8)\n",
        "cls_with_embeddings_only = turi.classifier.create(train, features=['word_embeddings'], target=\"class\", verbose=True)\n",
        "cls_with_additional_features = turi.classifier.create(train, features=features_list, target=\"class\", verbose=True)\n",
        "# evaluating the classifier\n",
        "cls_with_embeddings_only_eval_results = cls_with_embeddings_only.evaluate(test)\n",
        "cls_with_additional_features_eval_results = cls_with_additional_features.evaluate(test)"
      ],
      "execution_count": null,
      "outputs": []
    },
    {
      "cell_type": "markdown",
      "metadata": {
        "id": "7WXZ9ZzHdsH4"
      },
      "source": [
        "As can be seen from the results, adding features to the embeddings XXXXXX"
      ]
    },
    {
      "cell_type": "code",
      "metadata": {
        "id": "r00toZbtXlNv"
      },
      "source": [
        "# comparing the two classifiers\n",
        "fig, ax = plt.subplots(figsize=(10,10))\n",
        "# take the following score values from each evaluation dictionaries: 'Training time (sec)' , 'Training accuracy', 'Validation accuracy', 'Validation auc'\n",
        "scores_to_collect = ['Training time (sec)' , 'Training accuracy', 'Validation accuracy', 'Validation auc']\n",
        "cls_evalution_dictionaries_to_collect_from = [dict(cls_with_embeddings_only_eval_results['sections'][1]), dict(cls_with_additional_features_eval_results['sections'][1])]\n",
        "regular_text_analysis_scores = []\n",
        "text_blob_and_affin_scores = []\n",
        "for score_to_collect in scores_to_collect:\n",
        "  regular_text_analysis_scores.append(cls_evalution_dictionaries_to_collect_from[0][score_to_collect])\n",
        "  text_blob_and_affin_scores.append(cls_evalution_dictionaries_to_collect_from[1][score_to_collect])\n",
        "\n",
        "x_ticks = np.arange(0, len(scores_to_collect)*2, 2) \n",
        "\n",
        "ax.bar(x_ticks-0.5, regular_text_analysis_scores,color='red', label = 'Only embeddings as features')\n",
        "ax.bar(x_ticks+0.5, text_blob_and_affin_scores,color='blue', label = 'Additional features')\n",
        "\n",
        "ax.set_xticks(x_ticks)\n",
        "ax.set_xticklabels(scores_to_collect)\n",
        "\n",
        "ax.legend()\n",
        "plt.show()"
      ],
      "execution_count": null,
      "outputs": []
    }
  ]
}