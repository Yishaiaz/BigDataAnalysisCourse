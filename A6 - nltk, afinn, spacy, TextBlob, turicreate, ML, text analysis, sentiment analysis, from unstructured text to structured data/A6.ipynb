{
  "nbformat": 4,
  "nbformat_minor": 0,
  "metadata": {
    "kernelspec": {
      "display_name": "Python 3",
      "language": "python",
      "name": "python3"
    },
    "language_info": {
      "codemirror_mode": {
        "name": "ipython",
        "version": 3
      },
      "file_extension": ".py",
      "mimetype": "text/x-python",
      "name": "python",
      "nbconvert_exporter": "python",
      "pygments_lexer": "ipython3",
      "version": "3.6.7"
    },
    "colab": {
      "name": "DataMining solution for HW-6.ipynb",
      "provenance": [],
      "collapsed_sections": [],
      "machine_shape": "hm"
    }
  },
  "cells": [
    {
      "cell_type": "markdown",
      "metadata": {
        "id": "ATxpf1JpbCyE"
      },
      "source": [
        "# Homework Assignment  6"
      ]
    },
    {
      "cell_type": "markdown",
      "metadata": {
        "id": "f72OF5E8D-aL"
      },
      "source": [
        "## Q1"
      ]
    },
    {
      "cell_type": "markdown",
      "metadata": {
        "id": "T6nDeYS6bCyF"
      },
      "source": [
        "**Question 1:** Construct a sentiment classifier using 80% of the reviews in the [Amazon Fine Food Reviews dataset](https://www.kaggle.com/snap/amazon-fine-food-reviews).\n",
        "The classifier needs to predict if a product got a one-star or a five-star review. \n",
        "Evaluate the classifier using the rest of the data (30pt). \n"
      ]
    },
    {
      "cell_type": "markdown",
      "metadata": {
        "id": "toVGR2omD_yE"
      },
      "source": [
        "### Preperations:"
      ]
    },
    {
      "cell_type": "code",
      "metadata": {
        "id": "nYUfZZeLEB_3",
        "colab": {
          "base_uri": "https://localhost:8080/"
        },
        "outputId": "236db3af-0a4d-488e-cd9e-31c24eb67d60"
      },
      "source": [
        "!pip install turicreate\n",
        "!pip install kaggle \n",
        "!pip install gensim\n",
        "!pip install pyLDAvis\n",
        "!pip install spaCy\n",
        "!pip install afinn\n",
        "! pip install textblob\n",
        "\n",
        "! mkdir ~/.kaggle\n",
        "! cp kaggle.json ~/.kaggle/\n",
        "! chmod 600 ~/.kaggle/kaggle.json \n",
        "! mkdir -f ./datasets/amazon_reviews\n",
        "\n",
        "!kaggle datasets download snap/amazon-fine-food-reviews  -p ./datasets/amazon_reviews\n",
        "!unzip ./datasets/amazon_reviews/*.zip  -d ./datasets/amazon_reviews"
      ],
      "execution_count": null,
      "outputs": [
        {
          "output_type": "stream",
          "name": "stdout",
          "text": [
            "mkdir: cannot create directory ‘/root/.kaggle’: File exists\n",
            "mkdir: invalid option -- 'f'\n",
            "Try 'mkdir --help' for more information.\n",
            "Downloading amazon-fine-food-reviews.zip to ./datasets/amazon_reviews\n",
            " 97% 235M/242M [00:04<00:00, 69.7MB/s]\n",
            "100% 242M/242M [00:04<00:00, 52.6MB/s]\n",
            "Archive:  ./datasets/amazon_reviews/amazon-fine-food-reviews.zip\n",
            "  inflating: ./datasets/amazon_reviews/Reviews.csv  \n",
            "  inflating: ./datasets/amazon_reviews/database.sqlite  \n",
            "  inflating: ./datasets/amazon_reviews/hashes.txt  \n"
          ]
        }
      ]
    },
    {
      "cell_type": "code",
      "metadata": {
        "id": "VFuLh5r9ECKm"
      },
      "source": [
        "# IMPORTS\n",
        "import os\n",
        "import json\n",
        "import re\n",
        "import requests\n",
        "from typing import *\n",
        "import numpy as np\n",
        "import pandas as pd\n",
        "import turicreate as turi\n",
        "import networkx as ntkx\n",
        "import matplotlib.pyplot as plt\n",
        "from tqdm.notebook import tqdm \n",
        "\n",
        "%matplotlib inline"
      ],
      "execution_count": null,
      "outputs": []
    },
    {
      "cell_type": "code",
      "metadata": {
        "id": "UD5n1r2dECRz"
      },
      "source": [
        "reviews_sframe = turi.SFrame.read_csv('/content/datasets/amazon_reviews/Reviews.csv')\n",
        "# taking a subset (~1/3) of the reviews (to reduce runtime)\n",
        "reviews_sframe = reviews_sframe[:100000]"
      ],
      "execution_count": null,
      "outputs": []
    },
    {
      "cell_type": "markdown",
      "metadata": {
        "id": "GvjvykQWEuEI"
      },
      "source": [
        "### Q1 ans:"
      ]
    },
    {
      "cell_type": "code",
      "metadata": {
        "id": "cIoqk24KbCyG",
        "colab": {
          "base_uri": "https://localhost:8080/",
          "height": 660
        },
        "outputId": "d62dd869-d35d-4a11-8c22-0bcb6da8eb86"
      },
      "source": [
        "# creating the features sframe from the review text field\n",
        "reviews_features_sframe = turi.SFrame()\n",
        "# removing all stop words as they are usually not very informative\n",
        "reviews_features_sframe['text_words_1grams'] = turi.text_analytics.count_ngrams(reviews_sframe['Text'], n=1, method='word').dict_trim_by_keys(turi.text_analytics.stop_words(), True)\n",
        "reviews_features_sframe['summary_words_1grams'] = turi.text_analytics.count_ngrams(reviews_sframe['Summary'], n=1, method='word').dict_trim_by_keys(turi.text_analytics.stop_words(), True)\n",
        "reviews_features_sframe['text_words_2grams'] = turi.text_analytics.count_ngrams(reviews_sframe['Text'], n=2, method='word').dict_trim_by_keys(turi.text_analytics.stop_words(), True)\n",
        "reviews_features_sframe['summary_words_2grams'] = turi.text_analytics.count_ngrams(reviews_sframe['Summary'], n=2, method='word').dict_trim_by_keys(turi.text_analytics.stop_words(), True)\n",
        "\n",
        "reviews_features_sframe['helpfulness_score'] = np.divide(reviews_sframe['HelpfulnessNumerator'].to_numpy(), reviews_sframe['HelpfulnessDenominator'].to_numpy(), where=reviews_sframe['HelpfulnessDenominator'].to_numpy()!=0) \n",
        "# i created a classifier that predicts the score from 1 to 5 (not only 1 OR 5).\n",
        "reviews_features_sframe['class'] = reviews_sframe['Score']\n",
        "reviews_features_sframe"
      ],
      "execution_count": null,
      "outputs": [
        {
          "output_type": "execute_result",
          "data": {
            "text/html": [
              "<div style=\"max-height:1000px;max-width:1500px;overflow:auto;\"><table frame=\"box\" rules=\"cols\">\n",
              "    <tr>\n",
              "        <th style=\"padding-left: 1em; padding-right: 1em; text-align: center\">text_words_1grams</th>\n",
              "        <th style=\"padding-left: 1em; padding-right: 1em; text-align: center\">summary_words_1grams</th>\n",
              "        <th style=\"padding-left: 1em; padding-right: 1em; text-align: center\">text_words_2grams</th>\n",
              "        <th style=\"padding-left: 1em; padding-right: 1em; text-align: center\">summary_words_2grams</th>\n",
              "    </tr>\n",
              "    <tr>\n",
              "        <td style=\"padding-left: 1em; padding-right: 1em; text-align: center; vertical-align: top\">{&#x27;appreciates&#x27;: 1,<br>&#x27;labrador&#x27;: 1, &#x27;smells&#x27;: ...</td>\n",
              "        <td style=\"padding-left: 1em; padding-right: 1em; text-align: center; vertical-align: top\">{&#x27;food&#x27;: 1, &#x27;dog&#x27;: 1,<br>&#x27;quality&#x27;: 1, &#x27;good&#x27;: 1} ...</td>\n",
              "        <td style=\"padding-left: 1em; padding-right: 1em; text-align: center; vertical-align: top\">{&#x27;more like&#x27;: 1, &#x27;food<br>products&#x27;: 1, &#x27;a stew&#x27;: ...</td>\n",
              "        <td style=\"padding-left: 1em; padding-right: 1em; text-align: center; vertical-align: top\">{&#x27;dog food&#x27;: 1, &#x27;quality<br>dog&#x27;: 1, &#x27;good quality&#x27;: ...</td>\n",
              "    </tr>\n",
              "    <tr>\n",
              "        <td style=\"padding-left: 1em; padding-right: 1em; text-align: center; vertical-align: top\">{&#x27;intended&#x27;: 1, &#x27;salted&#x27;:<br>1, &#x27;product&#x27;: 2, ...</td>\n",
              "        <td style=\"padding-left: 1em; padding-right: 1em; text-align: center; vertical-align: top\">{&#x27;advertised&#x27;: 1}</td>\n",
              "        <td style=\"padding-left: 1em; padding-right: 1em; text-align: center; vertical-align: top\">{&#x27;the product&#x27;: 1,<br>&#x27;represent the&#x27;: 1, &#x27;to ...</td>\n",
              "        <td style=\"padding-left: 1em; padding-right: 1em; text-align: center; vertical-align: top\">{&#x27;as advertised&#x27;: 1, &#x27;not<br>as&#x27;: 1} ...</td>\n",
              "    </tr>\n",
              "    <tr>\n",
              "        <td style=\"padding-left: 1em; padding-right: 1em; text-align: center; vertical-align: top\">{&#x27;sisters&#x27;: 1, &#x27;brother&#x27;:<br>1, &#x27;selling&#x27;: 1, ...</td>\n",
              "        <td style=\"padding-left: 1em; padding-right: 1em; text-align: center; vertical-align: top\">{&#x27;delight&#x27;: 1}</td>\n",
              "        <td style=\"padding-left: 1em; padding-right: 1em; text-align: center; vertical-align: top\">{&#x27;to the&#x27;: 1, &#x27;brother<br>and&#x27;: 1, &#x27;out his&#x27;: 1, ...</td>\n",
              "        <td style=\"padding-left: 1em; padding-right: 1em; text-align: center; vertical-align: top\">{&#x27;it all&#x27;: 1, &#x27;says it&#x27;:<br>1, &#x27;delight says&#x27;: 1} ...</td>\n",
              "    </tr>\n",
              "    <tr>\n",
              "        <td style=\"padding-left: 1em; padding-right: 1em; text-align: center; vertical-align: top\">{&#x27;medicinal&#x27;: 1,<br>&#x27;flavor&#x27;: 1, &#x27;soda&#x27;: 1, ...</td>\n",
              "        <td style=\"padding-left: 1em; padding-right: 1em; text-align: center; vertical-align: top\">{&#x27;medicine&#x27;: 1, &#x27;cough&#x27;:<br>1} ...</td>\n",
              "        <td style=\"padding-left: 1em; padding-right: 1em; text-align: center; vertical-align: top\">{&#x27;is very&#x27;: 1, &#x27;soda<br>the&#x27;: 1, &#x27;cherry soda&#x27;: ...</td>\n",
              "        <td style=\"padding-left: 1em; padding-right: 1em; text-align: center; vertical-align: top\">{&#x27;cough medicine&#x27;: 1}</td>\n",
              "    </tr>\n",
              "    <tr>\n",
              "        <td style=\"padding-left: 1em; padding-right: 1em; text-align: center; vertical-align: top\">{&#x27;deal&#x27;: 1, &#x27;lover&#x27;: 1,<br>&#x27;quick&#x27;: 1, &#x27;delivery&#x27;: ...</td>\n",
              "        <td style=\"padding-left: 1em; padding-right: 1em; text-align: center; vertical-align: top\">{&#x27;taffy&#x27;: 1, &#x27;great&#x27;: 1}</td>\n",
              "        <td style=\"padding-left: 1em; padding-right: 1em; text-align: center; vertical-align: top\">{&#x27;lover this&#x27;: 1, &#x27;a<br>wide&#x27;: 1, &#x27;a deal&#x27;: 1, ...</td>\n",
              "        <td style=\"padding-left: 1em; padding-right: 1em; text-align: center; vertical-align: top\">{&#x27;great taffy&#x27;: 1}</td>\n",
              "    </tr>\n",
              "    <tr>\n",
              "        <td style=\"padding-left: 1em; padding-right: 1em; text-align: center; vertical-align: top\">{&#x27;treat&#x27;: 1,<br>&#x27;delightful&#x27;: 1, ...</td>\n",
              "        <td style=\"padding-left: 1em; padding-right: 1em; text-align: center; vertical-align: top\">{&#x27;taffy&#x27;: 1, &#x27;nice&#x27;: 1}</td>\n",
              "        <td style=\"padding-left: 1em; padding-right: 1em; text-align: center; vertical-align: top\">{&#x27;delightful treat&#x27;: 1,<br>&#x27;recommend this&#x27;: 1, ...</td>\n",
              "        <td style=\"padding-left: 1em; padding-right: 1em; text-align: center; vertical-align: top\">{&#x27;nice taffy&#x27;: 1}</td>\n",
              "    </tr>\n",
              "    <tr>\n",
              "        <td style=\"padding-left: 1em; padding-right: 1em; text-align: center; vertical-align: top\">{&#x27;themed&#x27;: 1, &#x27;served&#x27;:<br>1, &#x27;beach&#x27;: 1, ...</td>\n",
              "        <td style=\"padding-left: 1em; padding-right: 1em; text-align: center; vertical-align: top\">{&#x27;brands&#x27;: 1,<br>&#x27;expensive&#x27;: 1, &#x27;good&#x27;: ...</td>\n",
              "        <td style=\"padding-left: 1em; padding-right: 1em; text-align: center; vertical-align: top\">{&#x27;loved it&#x27;: 1, &#x27;everyone<br>loved&#x27;: 1, &#x27;and ...</td>\n",
              "        <td style=\"padding-left: 1em; padding-right: 1em; text-align: center; vertical-align: top\">{&#x27;expensive brands&#x27;: 1,<br>&#x27;good as&#x27;: 1, &#x27;the ...</td>\n",
              "    </tr>\n",
              "    <tr>\n",
              "        <td style=\"padding-left: 1em; padding-right: 1em; text-align: center; vertical-align: top\">{&#x27;recommend&#x27;: 1,<br>&#x27;amazing&#x27;: 1, ...</td>\n",
              "        <td style=\"padding-left: 1em; padding-right: 1em; text-align: center; vertical-align: top\">{&#x27;tasty&#x27;: 1, &#x27;taffy&#x27;: 1,<br>&#x27;wonderful&#x27;: 1} ...</td>\n",
              "        <td style=\"padding-left: 1em; padding-right: 1em; text-align: center; vertical-align: top\">{&#x27;and chewy&#x27;: 1, &#x27;very<br>satisfying&#x27;: 1, &#x27;this ...</td>\n",
              "        <td style=\"padding-left: 1em; padding-right: 1em; text-align: center; vertical-align: top\">{&#x27;tasty taffy&#x27;: 1,<br>&#x27;wonderful tasty&#x27;: 1} ...</td>\n",
              "    </tr>\n",
              "    <tr>\n",
              "        <td style=\"padding-left: 1em; padding-right: 1em; text-align: center; vertical-align: top\">{&#x27;rye&#x27;: 1, &#x27;cats&#x27;: 1,<br>&#x27;eat&#x27;: 1, &#x27;sprouting&#x27; ...</td>\n",
              "        <td style=\"padding-left: 1em; padding-right: 1em; text-align: center; vertical-align: top\">{&#x27;barley&#x27;: 1, &#x27;yay&#x27;: 1}</td>\n",
              "        <td style=\"padding-left: 1em; padding-right: 1em; text-align: center; vertical-align: top\">{&#x27;rye too&#x27;: 1, &#x27;and rye&#x27;:<br>1, &#x27;with wheatgrass&#x27;: 1, ...</td>\n",
              "        <td style=\"padding-left: 1em; padding-right: 1em; text-align: center; vertical-align: top\">{&#x27;yay barley&#x27;: 1}</td>\n",
              "    </tr>\n",
              "    <tr>\n",
              "        <td style=\"padding-left: 1em; padding-right: 1em; text-align: center; vertical-align: top\">{&#x27;feeding&#x27;: 1,<br>&#x27;required&#x27;: 1, &#x27;eats&#x27; ...</td>\n",
              "        <td style=\"padding-left: 1em; padding-right: 1em; text-align: center; vertical-align: top\">{&#x27;food&#x27;: 1, &#x27;dog&#x27;: 1,<br>&#x27;healthy&#x27;: 1} ...</td>\n",
              "        <td style=\"padding-left: 1em; padding-right: 1em; text-align: center; vertical-align: top\">{&#x27;every feeding&#x27;: 1,<br>&#x27;their digestion&#x27;: 1, ...</td>\n",
              "        <td style=\"padding-left: 1em; padding-right: 1em; text-align: center; vertical-align: top\">{&#x27;dog food&#x27;: 1, &#x27;healthy<br>dog&#x27;: 1} ...</td>\n",
              "    </tr>\n",
              "</table>\n",
              "<table frame=\"box\" rules=\"cols\">\n",
              "    <tr>\n",
              "        <th style=\"padding-left: 1em; padding-right: 1em; text-align: center\">helpfulness_score</th>\n",
              "        <th style=\"padding-left: 1em; padding-right: 1em; text-align: center\">class</th>\n",
              "    </tr>\n",
              "    <tr>\n",
              "        <td style=\"padding-left: 1em; padding-right: 1em; text-align: center; vertical-align: top\">1.0</td>\n",
              "        <td style=\"padding-left: 1em; padding-right: 1em; text-align: center; vertical-align: top\">5</td>\n",
              "    </tr>\n",
              "    <tr>\n",
              "        <td style=\"padding-left: 1em; padding-right: 1em; text-align: center; vertical-align: top\">0.0</td>\n",
              "        <td style=\"padding-left: 1em; padding-right: 1em; text-align: center; vertical-align: top\">1</td>\n",
              "    </tr>\n",
              "    <tr>\n",
              "        <td style=\"padding-left: 1em; padding-right: 1em; text-align: center; vertical-align: top\">1.0</td>\n",
              "        <td style=\"padding-left: 1em; padding-right: 1em; text-align: center; vertical-align: top\">4</td>\n",
              "    </tr>\n",
              "    <tr>\n",
              "        <td style=\"padding-left: 1em; padding-right: 1em; text-align: center; vertical-align: top\">1.0</td>\n",
              "        <td style=\"padding-left: 1em; padding-right: 1em; text-align: center; vertical-align: top\">2</td>\n",
              "    </tr>\n",
              "    <tr>\n",
              "        <td style=\"padding-left: 1em; padding-right: 1em; text-align: center; vertical-align: top\">0.0</td>\n",
              "        <td style=\"padding-left: 1em; padding-right: 1em; text-align: center; vertical-align: top\">5</td>\n",
              "    </tr>\n",
              "    <tr>\n",
              "        <td style=\"padding-left: 1em; padding-right: 1em; text-align: center; vertical-align: top\">0.0</td>\n",
              "        <td style=\"padding-left: 1em; padding-right: 1em; text-align: center; vertical-align: top\">4</td>\n",
              "    </tr>\n",
              "    <tr>\n",
              "        <td style=\"padding-left: 1em; padding-right: 1em; text-align: center; vertical-align: top\">0.0</td>\n",
              "        <td style=\"padding-left: 1em; padding-right: 1em; text-align: center; vertical-align: top\">5</td>\n",
              "    </tr>\n",
              "    <tr>\n",
              "        <td style=\"padding-left: 1em; padding-right: 1em; text-align: center; vertical-align: top\">0.0</td>\n",
              "        <td style=\"padding-left: 1em; padding-right: 1em; text-align: center; vertical-align: top\">5</td>\n",
              "    </tr>\n",
              "    <tr>\n",
              "        <td style=\"padding-left: 1em; padding-right: 1em; text-align: center; vertical-align: top\">1.0</td>\n",
              "        <td style=\"padding-left: 1em; padding-right: 1em; text-align: center; vertical-align: top\">5</td>\n",
              "    </tr>\n",
              "    <tr>\n",
              "        <td style=\"padding-left: 1em; padding-right: 1em; text-align: center; vertical-align: top\">0.0</td>\n",
              "        <td style=\"padding-left: 1em; padding-right: 1em; text-align: center; vertical-align: top\">5</td>\n",
              "    </tr>\n",
              "</table>\n",
              "[100000 rows x 6 columns]<br/>Note: Only the head of the SFrame is printed.<br/>You can use print_rows(num_rows=m, num_columns=n) to print more rows and columns.\n",
              "</div>"
            ],
            "text/plain": [
              "Columns:\n",
              "\ttext_words_1grams\tdict\n",
              "\tsummary_words_1grams\tdict\n",
              "\ttext_words_2grams\tdict\n",
              "\tsummary_words_2grams\tdict\n",
              "\thelpfulness_score\tfloat\n",
              "\tclass\tint\n",
              "\n",
              "Rows: 100000\n",
              "\n",
              "Data:\n",
              "+-------------------------------+-------------------------------+\n",
              "|       text_words_1grams       |      summary_words_1grams     |\n",
              "+-------------------------------+-------------------------------+\n",
              "| {'appreciates': 1, 'labrad... | {'food': 1, 'dog': 1, 'qua... |\n",
              "| {'intended': 1, 'salted': ... |       {'advertised': 1}       |\n",
              "| {'sisters': 1, 'brother': ... |         {'delight': 1}        |\n",
              "| {'medicinal': 1, 'flavor':... |  {'medicine': 1, 'cough': 1}  |\n",
              "| {'deal': 1, 'lover': 1, 'q... |    {'taffy': 1, 'great': 1}   |\n",
              "| {'treat': 1, 'delightful':... |    {'taffy': 1, 'nice': 1}    |\n",
              "| {'themed': 1, 'served': 1,... | {'brands': 1, 'expensive':... |\n",
              "| {'recommend': 1, 'amazing'... | {'tasty': 1, 'taffy': 1, '... |\n",
              "| {'rye': 1, 'cats': 1, 'eat... |    {'barley': 1, 'yay': 1}    |\n",
              "| {'feeding': 1, 'required':... | {'food': 1, 'dog': 1, 'hea... |\n",
              "+-------------------------------+-------------------------------+\n",
              "+-------------------------------+-------------------------------+-------------------+\n",
              "|       text_words_2grams       |      summary_words_2grams     | helpfulness_score |\n",
              "+-------------------------------+-------------------------------+-------------------+\n",
              "| {'more like': 1, 'food pro... | {'dog food': 1, 'quality d... |        1.0        |\n",
              "| {'the product': 1, 'repres... | {'as advertised': 1, 'not ... |        0.0        |\n",
              "| {'to the': 1, 'brother and... | {'it all': 1, 'says it': 1... |        1.0        |\n",
              "| {'is very': 1, 'soda the':... |     {'cough medicine': 1}     |        1.0        |\n",
              "| {'lover this': 1, 'a wide'... |       {'great taffy': 1}      |        0.0        |\n",
              "| {'delightful treat': 1, 'r... |       {'nice taffy': 1}       |        0.0        |\n",
              "| {'loved it': 1, 'everyone ... | {'expensive brands': 1, 'g... |        0.0        |\n",
              "| {'and chewy': 1, 'very sat... | {'tasty taffy': 1, 'wonder... |        0.0        |\n",
              "| {'rye too': 1, 'and rye': ... |       {'yay barley': 1}       |        1.0        |\n",
              "| {'every feeding': 1, 'thei... | {'dog food': 1, 'healthy d... |        0.0        |\n",
              "+-------------------------------+-------------------------------+-------------------+\n",
              "+-------+\n",
              "| class |\n",
              "+-------+\n",
              "|   5   |\n",
              "|   1   |\n",
              "|   4   |\n",
              "|   2   |\n",
              "|   5   |\n",
              "|   4   |\n",
              "|   5   |\n",
              "|   5   |\n",
              "|   5   |\n",
              "|   5   |\n",
              "+-------+\n",
              "[100000 rows x 6 columns]\n",
              "Note: Only the head of the SFrame is printed.\n",
              "You can use print_rows(num_rows=m, num_columns=n) to print more rows and columns."
            ]
          },
          "metadata": {},
          "execution_count": 5
        }
      ]
    },
    {
      "cell_type": "code",
      "metadata": {
        "id": "Xd1BxD60KBhz",
        "colab": {
          "base_uri": "https://localhost:8080/",
          "height": 1000
        },
        "outputId": "2a9139d2-4e38-43ca-b70e-f9f6cc9929dc"
      },
      "source": [
        "train, test = reviews_features_sframe.random_split(0.8)\n",
        "cls = turi.classifier.create(train,features=['text_words_1grams', 'summary_words_1grams', 'text_words_2grams', 'summary_words_2grams', 'helpfulness_score'], target=\"class\", verbose=True)"
      ],
      "execution_count": null,
      "outputs": [
        {
          "output_type": "stream",
          "name": "stdout",
          "text": [
            "PROGRESS: Creating a validation set from 5 percent of training data. This may take a while.\n",
            "          You can set ``validation_set=None`` to disable validation tracking.\n",
            "\n",
            "PROGRESS: The following methods are available for this type of problem.\n",
            "PROGRESS: BoostedTreesClassifier, RandomForestClassifier, DecisionTreeClassifier, LogisticClassifier\n",
            "PROGRESS: The returned model will be chosen according to validation accuracy.\n"
          ]
        },
        {
          "output_type": "display_data",
          "data": {
            "text/html": [
              "<pre>Boosted trees classifier:</pre>"
            ],
            "text/plain": [
              "Boosted trees classifier:"
            ]
          },
          "metadata": {}
        },
        {
          "output_type": "display_data",
          "data": {
            "text/html": [
              "<pre>--------------------------------------------------------</pre>"
            ],
            "text/plain": [
              "--------------------------------------------------------"
            ]
          },
          "metadata": {}
        },
        {
          "output_type": "display_data",
          "data": {
            "text/html": [
              "<pre>Number of examples          : 75981</pre>"
            ],
            "text/plain": [
              "Number of examples          : 75981"
            ]
          },
          "metadata": {}
        },
        {
          "output_type": "display_data",
          "data": {
            "text/html": [
              "<pre>Number of classes           : 5</pre>"
            ],
            "text/plain": [
              "Number of classes           : 5"
            ]
          },
          "metadata": {}
        },
        {
          "output_type": "display_data",
          "data": {
            "text/html": [
              "<pre>Number of feature columns   : 5</pre>"
            ],
            "text/plain": [
              "Number of feature columns   : 5"
            ]
          },
          "metadata": {}
        },
        {
          "output_type": "display_data",
          "data": {
            "text/html": [
              "<pre>Number of unpacked features : 1030052</pre>"
            ],
            "text/plain": [
              "Number of unpacked features : 1030052"
            ]
          },
          "metadata": {}
        },
        {
          "output_type": "display_data",
          "data": {
            "text/html": [
              "<pre>+-----------+--------------+-------------------+---------------------+-------------------+---------------------+</pre>"
            ],
            "text/plain": [
              "+-----------+--------------+-------------------+---------------------+-------------------+---------------------+"
            ]
          },
          "metadata": {}
        },
        {
          "output_type": "display_data",
          "data": {
            "text/html": [
              "<pre>| Iteration | Elapsed Time | Training Accuracy | Validation Accuracy | Training Log Loss | Validation Log Loss |</pre>"
            ],
            "text/plain": [
              "| Iteration | Elapsed Time | Training Accuracy | Validation Accuracy | Training Log Loss | Validation Log Loss |"
            ]
          },
          "metadata": {}
        },
        {
          "output_type": "display_data",
          "data": {
            "text/html": [
              "<pre>+-----------+--------------+-------------------+---------------------+-------------------+---------------------+</pre>"
            ],
            "text/plain": [
              "+-----------+--------------+-------------------+---------------------+-------------------+---------------------+"
            ]
          },
          "metadata": {}
        },
        {
          "output_type": "display_data",
          "data": {
            "text/html": [
              "<pre>| 1         | 4.823338     | 0.665969          | 0.669250            | 1.358076          | 1.354577            |</pre>"
            ],
            "text/plain": [
              "| 1         | 4.823338     | 0.665969          | 0.669250            | 1.358076          | 1.354577            |"
            ]
          },
          "metadata": {}
        },
        {
          "output_type": "display_data",
          "data": {
            "text/html": [
              "<pre>| 2         | 9.608004     | 0.667140          | 0.671250            | 1.220932          | 1.217350            |</pre>"
            ],
            "text/plain": [
              "| 2         | 9.608004     | 0.667140          | 0.671250            | 1.220932          | 1.217350            |"
            ]
          },
          "metadata": {}
        },
        {
          "output_type": "display_data",
          "data": {
            "text/html": [
              "<pre>| 3         | 14.395061    | 0.668680          | 0.671000            | 1.134880          | 1.131284            |</pre>"
            ],
            "text/plain": [
              "| 3         | 14.395061    | 0.668680          | 0.671000            | 1.134880          | 1.131284            |"
            ]
          },
          "metadata": {}
        },
        {
          "output_type": "display_data",
          "data": {
            "text/html": [
              "<pre>| 4         | 19.286093    | 0.669654          | 0.671000            | 1.075041          | 1.073639            |</pre>"
            ],
            "text/plain": [
              "| 4         | 19.286093    | 0.669654          | 0.671000            | 1.075041          | 1.073639            |"
            ]
          },
          "metadata": {}
        },
        {
          "output_type": "display_data",
          "data": {
            "text/html": [
              "<pre>| 5         | 24.174419    | 0.673432          | 0.674000            | 1.026955          | 1.026783            |</pre>"
            ],
            "text/plain": [
              "| 5         | 24.174419    | 0.673432          | 0.674000            | 1.026955          | 1.026783            |"
            ]
          },
          "metadata": {}
        },
        {
          "output_type": "display_data",
          "data": {
            "text/html": [
              "<pre>| 7         | 33.958843    | 0.677709          | 0.675750            | 0.969464          | 0.973709            |</pre>"
            ],
            "text/plain": [
              "| 7         | 33.958843    | 0.677709          | 0.675750            | 0.969464          | 0.973709            |"
            ]
          },
          "metadata": {}
        },
        {
          "output_type": "display_data",
          "data": {
            "text/html": [
              "<pre>| 8         | 38.860251    | 0.679933          | 0.677250            | 0.947957          | 0.954122            |</pre>"
            ],
            "text/plain": [
              "| 8         | 38.860251    | 0.679933          | 0.677250            | 0.947957          | 0.954122            |"
            ]
          },
          "metadata": {}
        },
        {
          "output_type": "display_data",
          "data": {
            "text/html": [
              "<pre>| 9         | 43.775628    | 0.681710          | 0.677500            | 0.929882          | 0.939693            |</pre>"
            ],
            "text/plain": [
              "| 9         | 43.775628    | 0.681710          | 0.677500            | 0.929882          | 0.939693            |"
            ]
          },
          "metadata": {}
        },
        {
          "output_type": "display_data",
          "data": {
            "text/html": [
              "<pre>| 10        | 48.719187    | 0.685803          | 0.680250            | 0.914098          | 0.926321            |</pre>"
            ],
            "text/plain": [
              "| 10        | 48.719187    | 0.685803          | 0.680250            | 0.914098          | 0.926321            |"
            ]
          },
          "metadata": {}
        },
        {
          "output_type": "display_data",
          "data": {
            "text/html": [
              "<pre>+-----------+--------------+-------------------+---------------------+-------------------+---------------------+</pre>"
            ],
            "text/plain": [
              "+-----------+--------------+-------------------+---------------------+-------------------+---------------------+"
            ]
          },
          "metadata": {}
        },
        {
          "output_type": "display_data",
          "data": {
            "text/html": [
              "<pre>Random forest classifier:</pre>"
            ],
            "text/plain": [
              "Random forest classifier:"
            ]
          },
          "metadata": {}
        },
        {
          "output_type": "display_data",
          "data": {
            "text/html": [
              "<pre>--------------------------------------------------------</pre>"
            ],
            "text/plain": [
              "--------------------------------------------------------"
            ]
          },
          "metadata": {}
        },
        {
          "output_type": "display_data",
          "data": {
            "text/html": [
              "<pre>Number of examples          : 75981</pre>"
            ],
            "text/plain": [
              "Number of examples          : 75981"
            ]
          },
          "metadata": {}
        },
        {
          "output_type": "display_data",
          "data": {
            "text/html": [
              "<pre>Number of classes           : 5</pre>"
            ],
            "text/plain": [
              "Number of classes           : 5"
            ]
          },
          "metadata": {}
        },
        {
          "output_type": "display_data",
          "data": {
            "text/html": [
              "<pre>Number of feature columns   : 5</pre>"
            ],
            "text/plain": [
              "Number of feature columns   : 5"
            ]
          },
          "metadata": {}
        },
        {
          "output_type": "display_data",
          "data": {
            "text/html": [
              "<pre>Number of unpacked features : 1030052</pre>"
            ],
            "text/plain": [
              "Number of unpacked features : 1030052"
            ]
          },
          "metadata": {}
        },
        {
          "output_type": "display_data",
          "data": {
            "text/html": [
              "<pre>+-----------+--------------+-------------------+---------------------+-------------------+---------------------+</pre>"
            ],
            "text/plain": [
              "+-----------+--------------+-------------------+---------------------+-------------------+---------------------+"
            ]
          },
          "metadata": {}
        },
        {
          "output_type": "display_data",
          "data": {
            "text/html": [
              "<pre>| Iteration | Elapsed Time | Training Accuracy | Validation Accuracy | Training Log Loss | Validation Log Loss |</pre>"
            ],
            "text/plain": [
              "| Iteration | Elapsed Time | Training Accuracy | Validation Accuracy | Training Log Loss | Validation Log Loss |"
            ]
          },
          "metadata": {}
        },
        {
          "output_type": "display_data",
          "data": {
            "text/html": [
              "<pre>+-----------+--------------+-------------------+---------------------+-------------------+---------------------+</pre>"
            ],
            "text/plain": [
              "+-----------+--------------+-------------------+---------------------+-------------------+---------------------+"
            ]
          },
          "metadata": {}
        },
        {
          "output_type": "display_data",
          "data": {
            "text/html": [
              "<pre>| 1         | 4.156014     | 0.664600          | 0.664750            | 1.043350          | 1.038440            |</pre>"
            ],
            "text/plain": [
              "| 1         | 4.156014     | 0.664600          | 0.664750            | 1.043350          | 1.038440            |"
            ]
          },
          "metadata": {}
        },
        {
          "output_type": "display_data",
          "data": {
            "text/html": [
              "<pre>| 2         | 8.087143     | 0.664561          | 0.668000            | 1.037622          | 1.030635            |</pre>"
            ],
            "text/plain": [
              "| 2         | 8.087143     | 0.664561          | 0.668000            | 1.037622          | 1.030635            |"
            ]
          },
          "metadata": {}
        },
        {
          "output_type": "display_data",
          "data": {
            "text/html": [
              "<pre>| 3         | 11.992962    | 0.662705          | 0.664250            | 1.034108          | 1.028381            |</pre>"
            ],
            "text/plain": [
              "| 3         | 11.992962    | 0.662705          | 0.664250            | 1.034108          | 1.028381            |"
            ]
          },
          "metadata": {}
        },
        {
          "output_type": "display_data",
          "data": {
            "text/html": [
              "<pre>| 4         | 15.952579    | 0.660810          | 0.662250            | 1.034179          | 1.028922            |</pre>"
            ],
            "text/plain": [
              "| 4         | 15.952579    | 0.660810          | 0.662250            | 1.034179          | 1.028922            |"
            ]
          },
          "metadata": {}
        },
        {
          "output_type": "display_data",
          "data": {
            "text/html": [
              "<pre>| 5         | 19.858459    | 0.660836          | 0.662750            | 1.033396          | 1.027591            |</pre>"
            ],
            "text/plain": [
              "| 5         | 19.858459    | 0.660836          | 0.662750            | 1.033396          | 1.027591            |"
            ]
          },
          "metadata": {}
        },
        {
          "output_type": "display_data",
          "data": {
            "text/html": [
              "<pre>| 7         | 27.773149    | 0.660441          | 0.663000            | 1.033062          | 1.026539            |</pre>"
            ],
            "text/plain": [
              "| 7         | 27.773149    | 0.660441          | 0.663000            | 1.033062          | 1.026539            |"
            ]
          },
          "metadata": {}
        },
        {
          "output_type": "display_data",
          "data": {
            "text/html": [
              "<pre>| 8         | 31.707643    | 0.660691          | 0.663500            | 1.032592          | 1.026042            |</pre>"
            ],
            "text/plain": [
              "| 8         | 31.707643    | 0.660691          | 0.663500            | 1.032592          | 1.026042            |"
            ]
          },
          "metadata": {}
        },
        {
          "output_type": "display_data",
          "data": {
            "text/html": [
              "<pre>| 9         | 35.666543    | 0.661402          | 0.663750            | 1.032363          | 1.025791            |</pre>"
            ],
            "text/plain": [
              "| 9         | 35.666543    | 0.661402          | 0.663750            | 1.032363          | 1.025791            |"
            ]
          },
          "metadata": {}
        },
        {
          "output_type": "display_data",
          "data": {
            "text/html": [
              "<pre>| 10        | 39.549655    | 0.661639          | 0.663250            | 1.032273          | 1.025737            |</pre>"
            ],
            "text/plain": [
              "| 10        | 39.549655    | 0.661639          | 0.663250            | 1.032273          | 1.025737            |"
            ]
          },
          "metadata": {}
        },
        {
          "output_type": "display_data",
          "data": {
            "text/html": [
              "<pre>+-----------+--------------+-------------------+---------------------+-------------------+---------------------+</pre>"
            ],
            "text/plain": [
              "+-----------+--------------+-------------------+---------------------+-------------------+---------------------+"
            ]
          },
          "metadata": {}
        },
        {
          "output_type": "display_data",
          "data": {
            "text/html": [
              "<pre>Decision tree classifier:</pre>"
            ],
            "text/plain": [
              "Decision tree classifier:"
            ]
          },
          "metadata": {}
        },
        {
          "output_type": "display_data",
          "data": {
            "text/html": [
              "<pre>--------------------------------------------------------</pre>"
            ],
            "text/plain": [
              "--------------------------------------------------------"
            ]
          },
          "metadata": {}
        },
        {
          "output_type": "display_data",
          "data": {
            "text/html": [
              "<pre>Number of examples          : 75981</pre>"
            ],
            "text/plain": [
              "Number of examples          : 75981"
            ]
          },
          "metadata": {}
        },
        {
          "output_type": "display_data",
          "data": {
            "text/html": [
              "<pre>Number of classes           : 5</pre>"
            ],
            "text/plain": [
              "Number of classes           : 5"
            ]
          },
          "metadata": {}
        },
        {
          "output_type": "display_data",
          "data": {
            "text/html": [
              "<pre>Number of feature columns   : 5</pre>"
            ],
            "text/plain": [
              "Number of feature columns   : 5"
            ]
          },
          "metadata": {}
        },
        {
          "output_type": "display_data",
          "data": {
            "text/html": [
              "<pre>Number of unpacked features : 1030052</pre>"
            ],
            "text/plain": [
              "Number of unpacked features : 1030052"
            ]
          },
          "metadata": {}
        },
        {
          "output_type": "display_data",
          "data": {
            "text/html": [
              "<pre>+-----------+--------------+-------------------+---------------------+-------------------+---------------------+</pre>"
            ],
            "text/plain": [
              "+-----------+--------------+-------------------+---------------------+-------------------+---------------------+"
            ]
          },
          "metadata": {}
        },
        {
          "output_type": "display_data",
          "data": {
            "text/html": [
              "<pre>| Iteration | Elapsed Time | Training Accuracy | Validation Accuracy | Training Log Loss | Validation Log Loss |</pre>"
            ],
            "text/plain": [
              "| Iteration | Elapsed Time | Training Accuracy | Validation Accuracy | Training Log Loss | Validation Log Loss |"
            ]
          },
          "metadata": {}
        },
        {
          "output_type": "display_data",
          "data": {
            "text/html": [
              "<pre>+-----------+--------------+-------------------+---------------------+-------------------+---------------------+</pre>"
            ],
            "text/plain": [
              "+-----------+--------------+-------------------+---------------------+-------------------+---------------------+"
            ]
          },
          "metadata": {}
        },
        {
          "output_type": "display_data",
          "data": {
            "text/html": [
              "<pre>| 1         | 4.754825     | 0.665969          | 0.669250            | 1.038352          | 1.029982            |</pre>"
            ],
            "text/plain": [
              "| 1         | 4.754825     | 0.665969          | 0.669250            | 1.038352          | 1.029982            |"
            ]
          },
          "metadata": {}
        },
        {
          "output_type": "display_data",
          "data": {
            "text/html": [
              "<pre>+-----------+--------------+-------------------+---------------------+-------------------+---------------------+</pre>"
            ],
            "text/plain": [
              "+-----------+--------------+-------------------+---------------------+-------------------+---------------------+"
            ]
          },
          "metadata": {}
        },
        {
          "output_type": "display_data",
          "data": {
            "text/html": [
              "<pre>Logistic regression:</pre>"
            ],
            "text/plain": [
              "Logistic regression:"
            ]
          },
          "metadata": {}
        },
        {
          "output_type": "display_data",
          "data": {
            "text/html": [
              "<pre>--------------------------------------------------------</pre>"
            ],
            "text/plain": [
              "--------------------------------------------------------"
            ]
          },
          "metadata": {}
        },
        {
          "output_type": "display_data",
          "data": {
            "text/html": [
              "<pre>Number of examples          : 75981</pre>"
            ],
            "text/plain": [
              "Number of examples          : 75981"
            ]
          },
          "metadata": {}
        },
        {
          "output_type": "display_data",
          "data": {
            "text/html": [
              "<pre>Number of classes           : 5</pre>"
            ],
            "text/plain": [
              "Number of classes           : 5"
            ]
          },
          "metadata": {}
        },
        {
          "output_type": "display_data",
          "data": {
            "text/html": [
              "<pre>Number of feature columns   : 5</pre>"
            ],
            "text/plain": [
              "Number of feature columns   : 5"
            ]
          },
          "metadata": {}
        },
        {
          "output_type": "display_data",
          "data": {
            "text/html": [
              "<pre>Number of unpacked features : 1030052</pre>"
            ],
            "text/plain": [
              "Number of unpacked features : 1030052"
            ]
          },
          "metadata": {}
        },
        {
          "output_type": "display_data",
          "data": {
            "text/html": [
              "<pre>Number of coefficients      : 4120212</pre>"
            ],
            "text/plain": [
              "Number of coefficients      : 4120212"
            ]
          },
          "metadata": {}
        },
        {
          "output_type": "display_data",
          "data": {
            "text/html": [
              "<pre>Starting L-BFGS</pre>"
            ],
            "text/plain": [
              "Starting L-BFGS"
            ]
          },
          "metadata": {}
        },
        {
          "output_type": "display_data",
          "data": {
            "text/html": [
              "<pre>--------------------------------------------------------</pre>"
            ],
            "text/plain": [
              "--------------------------------------------------------"
            ]
          },
          "metadata": {}
        },
        {
          "output_type": "display_data",
          "data": {
            "text/html": [
              "<pre>+-----------+----------+-----------+--------------+-------------------+---------------------+</pre>"
            ],
            "text/plain": [
              "+-----------+----------+-----------+--------------+-------------------+---------------------+"
            ]
          },
          "metadata": {}
        },
        {
          "output_type": "display_data",
          "data": {
            "text/html": [
              "<pre>| Iteration | Passes   | Step size | Elapsed Time | Training Accuracy | Validation Accuracy |</pre>"
            ],
            "text/plain": [
              "| Iteration | Passes   | Step size | Elapsed Time | Training Accuracy | Validation Accuracy |"
            ]
          },
          "metadata": {}
        },
        {
          "output_type": "display_data",
          "data": {
            "text/html": [
              "<pre>+-----------+----------+-----------+--------------+-------------------+---------------------+</pre>"
            ],
            "text/plain": [
              "+-----------+----------+-----------+--------------+-------------------+---------------------+"
            ]
          },
          "metadata": {}
        },
        {
          "output_type": "display_data",
          "data": {
            "text/html": [
              "<pre>| 0         | 4        | 0.250000  | 3.537844     | 0.637212          | 0.640500            |</pre>"
            ],
            "text/plain": [
              "| 0         | 4        | 0.250000  | 3.537844     | 0.637212          | 0.640500            |"
            ]
          },
          "metadata": {}
        },
        {
          "output_type": "display_data",
          "data": {
            "text/html": [
              "<pre>| 1         | 7        | 1.250000  | 268.811151   | 0.838881          | 0.672750            |</pre>"
            ],
            "text/plain": [
              "| 1         | 7        | 1.250000  | 268.811151   | 0.838881          | 0.672750            |"
            ]
          },
          "metadata": {}
        },
        {
          "output_type": "display_data",
          "data": {
            "text/html": [
              "<pre>| 2         | 8        | 1.250000  | 539.823623   | 0.970361          | 0.711000            |</pre>"
            ],
            "text/plain": [
              "| 2         | 8        | 1.250000  | 539.823623   | 0.970361          | 0.711000            |"
            ]
          },
          "metadata": {}
        },
        {
          "output_type": "display_data",
          "data": {
            "text/html": [
              "<pre>| 3         | 9        | 1.250000  | 809.696862   | 0.990787          | 0.736250            |</pre>"
            ],
            "text/plain": [
              "| 3         | 9        | 1.250000  | 809.696862   | 0.990787          | 0.736250            |"
            ]
          },
          "metadata": {}
        },
        {
          "output_type": "display_data",
          "data": {
            "text/html": [
              "<pre>| 4         | 10       | 1.250000  | 1080.273020  | 0.997828          | 0.756500            |</pre>"
            ],
            "text/plain": [
              "| 4         | 10       | 1.250000  | 1080.273020  | 0.997828          | 0.756500            |"
            ]
          },
          "metadata": {}
        },
        {
          "output_type": "display_data",
          "data": {
            "text/html": [
              "<pre>| 6         | 12       | 1.250000  | 1626.488266  | 0.999526          | 0.763500            |</pre>"
            ],
            "text/plain": [
              "| 6         | 12       | 1.250000  | 1626.488266  | 0.999526          | 0.763500            |"
            ]
          },
          "metadata": {}
        },
        {
          "output_type": "display_data",
          "data": {
            "text/html": [
              "<pre>| 7         | 13       | 1.250000  | 1901.448278  | 0.999750          | 0.764500            |</pre>"
            ],
            "text/plain": [
              "| 7         | 13       | 1.250000  | 1901.448278  | 0.999750          | 0.764500            |"
            ]
          },
          "metadata": {}
        },
        {
          "output_type": "display_data",
          "data": {
            "text/html": [
              "<pre>| 8         | 14       | 1.250000  | 2175.743852  | 0.999789          | 0.765500            |</pre>"
            ],
            "text/plain": [
              "| 8         | 14       | 1.250000  | 2175.743852  | 0.999789          | 0.765500            |"
            ]
          },
          "metadata": {}
        },
        {
          "output_type": "display_data",
          "data": {
            "text/html": [
              "<pre>| 9         | 15       | 1.250000  | 2449.698775  | 0.999895          | 0.767250            |</pre>"
            ],
            "text/plain": [
              "| 9         | 15       | 1.250000  | 2449.698775  | 0.999895          | 0.767250            |"
            ]
          },
          "metadata": {}
        },
        {
          "output_type": "display_data",
          "data": {
            "text/html": [
              "<pre>+-----------+----------+-----------+--------------+-------------------+---------------------+</pre>"
            ],
            "text/plain": [
              "+-----------+----------+-----------+--------------+-------------------+---------------------+"
            ]
          },
          "metadata": {}
        },
        {
          "output_type": "stream",
          "name": "stdout",
          "text": [
            "PROGRESS: Model selection based on validation accuracy:\n",
            "PROGRESS: ---------------------------------------------\n",
            "PROGRESS: BoostedTreesClassifier          : 0.68025\n",
            "PROGRESS: RandomForestClassifier          : 0.66325\n",
            "PROGRESS: DecisionTreeClassifier          : 0.66925\n",
            "PROGRESS: LogisticClassifier              : 0.76725\n",
            "PROGRESS: ---------------------------------------------\n",
            "PROGRESS: Selecting LogisticClassifier based on validation set performance.\n"
          ]
        }
      ]
    },
    {
      "cell_type": "code",
      "metadata": {
        "id": "bTmtKELNK21M"
      },
      "source": [
        "# evaluating the classifier\n",
        "cls_eval_results = cls.evaluate(test)\n",
        "\n",
        "cls_summary_dict = cls.summary('dict')\n",
        "classifier_algorithm = ''.join([x for x in str(type(cls)).split('.')[-1] if x.isalpha()])\n",
        "test_f1_score, test_size = cls_eval_results['f1_score'], len(test)\n",
        "# validation_score = dict(cls_summary_dict['sections'][1])['Validation accuracy']"
      ],
      "execution_count": null,
      "outputs": []
    },
    {
      "cell_type": "markdown",
      "metadata": {
        "id": "cbg__rrKDKwU"
      },
      "source": [
        "## Q2"
      ]
    },
    {
      "cell_type": "markdown",
      "metadata": {
        "id": "chKUklQQbCyL"
      },
      "source": [
        "**Question 2:** Construct a sentiment classifier using features from the [TextBlob package](https://textblob.readthedocs.io/en/dev/index.html),\n",
        "    and from the [affin package](https://pypi.org/project/afinn/). Compare the two classifiers results and visualize it (however you want) (20pt)"
      ]
    },
    {
      "cell_type": "markdown",
      "metadata": {
        "id": "j5MiPFJGDK1j"
      },
      "source": [
        "### Preperations:"
      ]
    },
    {
      "cell_type": "code",
      "metadata": {
        "id": "nfxAhdI7bCyM"
      },
      "source": [
        "! pip install turicreate\n",
        "! pip install kaggle \n",
        "! pip install gensim\n",
        "! pip install pyLDAvis\n",
        "! pip install spaCy\n",
        "! pip install afinn\n",
        "! pip install textblob\n",
        "\n",
        "! mkdir ~/.kaggle\n",
        "! cp kaggle.json ~/.kaggle/\n",
        "! chmod 600 ~/.kaggle/kaggle.json \n",
        "! mkdir -f ./datasets/amazon_reviews\n",
        "\n",
        "! kaggle datasets download snap/amazon-fine-food-reviews  -p ./datasets/amazon_reviews\n",
        "! unzip ./datasets/amazon_reviews/*.zip  -d ./datasets/amazon_reviews"
      ],
      "execution_count": null,
      "outputs": []
    },
    {
      "cell_type": "code",
      "metadata": {
        "id": "dVZB_WVuDW12"
      },
      "source": [
        "# IMPORTS\n",
        "import os\n",
        "import json\n",
        "import re\n",
        "import requests\n",
        "from typing import *\n",
        "import numpy as np\n",
        "import pandas as pd\n",
        "import turicreate as turi\n",
        "import networkx as ntkx\n",
        "import matplotlib.pyplot as plt\n",
        "from tqdm.notebook import tqdm \n",
        "from textblob import TextBlob\n",
        "from afinn import Afinn\n",
        "\n",
        "\n",
        "%matplotlib inline"
      ],
      "execution_count": null,
      "outputs": []
    },
    {
      "cell_type": "code",
      "metadata": {
        "id": "CI63u-MKKHF1",
        "colab": {
          "base_uri": "https://localhost:8080/",
          "height": 1000
        },
        "outputId": "f50eafed-4243-4322-a431-c7cf0bfba6ba"
      },
      "source": [
        "org_reviews_sframe = turi.SFrame.read_csv('/content/datasets/amazon_reviews/Reviews.csv')\n",
        "org_reviews_sframe = org_reviews_sframe[:100000]"
      ],
      "execution_count": null,
      "outputs": [
        {
          "output_type": "display_data",
          "data": {
            "text/html": [
              "<pre>Unexpected characters after last column. \"B000GW46D4\"\n",
              "Parse failed at token ending at: \n",
              "\tmyself that tastes much better than this.\"\n",
              "35360,B000GW46D4,\u001b[1;31m^\u001b[0mA1DPWQR4WSPXTM,Japri,0,0,2,1331424000,Very unsat\n",
              "Successfully parsed 10 tokens: \n",
              "\t0: 35359\n",
              "\t1: B000GW46D4\n",
              "\t2: A2Y4S4CNGKF21S\n",
              "\t3: H. Swanson\n",
              "\t4: 0\n",
              "\t5: 0\n",
              "\t6: 2\n",
              "\t7: 1332374400\n",
              "\t8: Very dry,  ... rumbly :\",\n",
              "\t9: to the poi ... is.\"\n",
              "35360</pre>"
            ],
            "text/plain": [
              "Unexpected characters after last column. \"B000GW46D4\"\n",
              "Parse failed at token ending at: \n",
              "\tmyself that tastes much better than this.\"\n",
              "35360,B000GW46D4,\u001b[1;31m^\u001b[0mA1DPWQR4WSPXTM,Japri,0,0,2,1331424000,Very unsat\n",
              "Successfully parsed 10 tokens: \n",
              "\t0: 35359\n",
              "\t1: B000GW46D4\n",
              "\t2: A2Y4S4CNGKF21S\n",
              "\t3: H. Swanson\n",
              "\t4: 0\n",
              "\t5: 0\n",
              "\t6: 2\n",
              "\t7: 1332374400\n",
              "\t8: Very dry,  ... rumbly :\",\n",
              "\t9: to the poi ... is.\"\n",
              "35360"
            ]
          },
          "metadata": {}
        },
        {
          "output_type": "display_data",
          "data": {
            "text/html": [
              "<pre>Unexpected characters after last column. \"one of only a very few\"\n",
              "Parse failed at token ending at: \n",
              "\thile. This is a very rare hot sauce, one of only a very few,\u001b[1;31m^\u001b[0m where the actual chile is the major ingredient.\n",
              "Successfully parsed 10 tokens: \n",
              "\t0: 74275\n",
              "\t1: B005B3HKPO\n",
              "\t2: A3OC6M21K4UAQ\n",
              "\t3: tw\n",
              "\t4: 2\n",
              "\t5: 5\n",
              "\t6: 2\n",
              "\t7: 1328486400\n",
              "\t8: whats with ... is smell??\n",
              "\t9: ummm can s ... mmended!.,</pre>"
            ],
            "text/plain": [
              "Unexpected characters after last column. \"one of only a very few\"\n",
              "Parse failed at token ending at: \n",
              "\thile. This is a very rare hot sauce, one of only a very few,\u001b[1;31m^\u001b[0m where the actual chile is the major ingredient.\n",
              "Successfully parsed 10 tokens: \n",
              "\t0: 74275\n",
              "\t1: B005B3HKPO\n",
              "\t2: A3OC6M21K4UAQ\n",
              "\t3: tw\n",
              "\t4: 2\n",
              "\t5: 5\n",
              "\t6: 2\n",
              "\t7: 1328486400\n",
              "\t8: whats with ... is smell??\n",
              "\t9: ummm can s ... mmended!.,"
            ]
          },
          "metadata": {}
        },
        {
          "output_type": "display_data",
          "data": {
            "text/html": [
              "<pre>Unexpected characters after last column. \"B000PMJLJO\"\n",
              "Parse failed at token ending at: \n",
              "\tmyself that tastes much better than this.\"\n",
              "88623,B000PMJLJO,\u001b[1;31m^\u001b[0mA1DPWQR4WSPXTM,Japri,0,0,2,1331424000,Very unsat\n",
              "Successfully parsed 10 tokens: \n",
              "\t0: 88622\n",
              "\t1: B000PMJLJO\n",
              "\t2: A2Y4S4CNGKF21S\n",
              "\t3: H. Swanson\n",
              "\t4: 0\n",
              "\t5: 0\n",
              "\t6: 2\n",
              "\t7: 1332374400\n",
              "\t8: Very dry,  ... rumbly :\",\n",
              "\t9: to the poi ... is.\"\n",
              "88623</pre>"
            ],
            "text/plain": [
              "Unexpected characters after last column. \"B000PMJLJO\"\n",
              "Parse failed at token ending at: \n",
              "\tmyself that tastes much better than this.\"\n",
              "88623,B000PMJLJO,\u001b[1;31m^\u001b[0mA1DPWQR4WSPXTM,Japri,0,0,2,1331424000,Very unsat\n",
              "Successfully parsed 10 tokens: \n",
              "\t0: 88622\n",
              "\t1: B000PMJLJO\n",
              "\t2: A2Y4S4CNGKF21S\n",
              "\t3: H. Swanson\n",
              "\t4: 0\n",
              "\t5: 0\n",
              "\t6: 2\n",
              "\t7: 1332374400\n",
              "\t8: Very dry,  ... rumbly :\",\n",
              "\t9: to the poi ... is.\"\n",
              "88623"
            ]
          },
          "metadata": {}
        },
        {
          "output_type": "display_data",
          "data": {
            "text/html": [
              "<pre>3 lines failed to parse correctly</pre>"
            ],
            "text/plain": [
              "3 lines failed to parse correctly"
            ]
          },
          "metadata": {}
        },
        {
          "output_type": "display_data",
          "data": {
            "text/html": [
              "<pre>Finished parsing file /content/datasets/amazon_reviews/Reviews.csv</pre>"
            ],
            "text/plain": [
              "Finished parsing file /content/datasets/amazon_reviews/Reviews.csv"
            ]
          },
          "metadata": {}
        },
        {
          "output_type": "display_data",
          "data": {
            "text/html": [
              "<pre>Parsing completed. Parsed 100 lines in 0.658359 secs.</pre>"
            ],
            "text/plain": [
              "Parsing completed. Parsed 100 lines in 0.658359 secs."
            ]
          },
          "metadata": {}
        },
        {
          "output_type": "stream",
          "name": "stdout",
          "text": [
            "------------------------------------------------------\n",
            "Inferred types from first 100 line(s) of file as \n",
            "column_type_hints=[int,str,str,str,int,int,int,int,str,str]\n",
            "If parsing fails due to incorrect types, you can correct\n",
            "the inferred type list above and pass it to read_csv in\n",
            "the column_type_hints argument\n",
            "------------------------------------------------------\n"
          ]
        },
        {
          "output_type": "display_data",
          "data": {
            "text/html": [
              "<pre>Unexpected characters after last column. \"B000GW46D4\"\n",
              "Parse failed at token ending at: \n",
              "\tmyself that tastes much better than this.\"\n",
              "35360,B000GW46D4,\u001b[1;31m^\u001b[0mA1DPWQR4WSPXTM,Japri,0,0,2,1331424000,Very unsat\n",
              "Successfully parsed 10 tokens: \n",
              "\t0: 35359\n",
              "\t1: B000GW46D4\n",
              "\t2: A2Y4S4CNGKF21S\n",
              "\t3: H. Swanson\n",
              "\t4: 0\n",
              "\t5: 0\n",
              "\t6: 2\n",
              "\t7: 1332374400\n",
              "\t8: \"Very dry, ... edibly dry\n",
              "\t9: to the poi ... is.\"\n",
              "35360</pre>"
            ],
            "text/plain": [
              "Unexpected characters after last column. \"B000GW46D4\"\n",
              "Parse failed at token ending at: \n",
              "\tmyself that tastes much better than this.\"\n",
              "35360,B000GW46D4,\u001b[1;31m^\u001b[0mA1DPWQR4WSPXTM,Japri,0,0,2,1331424000,Very unsat\n",
              "Successfully parsed 10 tokens: \n",
              "\t0: 35359\n",
              "\t1: B000GW46D4\n",
              "\t2: A2Y4S4CNGKF21S\n",
              "\t3: H. Swanson\n",
              "\t4: 0\n",
              "\t5: 0\n",
              "\t6: 2\n",
              "\t7: 1332374400\n",
              "\t8: \"Very dry, ... edibly dry\n",
              "\t9: to the poi ... is.\"\n",
              "35360"
            ]
          },
          "metadata": {}
        },
        {
          "output_type": "display_data",
          "data": {
            "text/html": [
              "<pre>Unexpected characters after last column. \"one of only a very few\"\n",
              "Parse failed at token ending at: \n",
              "\thile. This is a very rare hot sauce, one of only a very few,\u001b[1;31m^\u001b[0m where the actual chile is the major ingredient.\n",
              "Successfully parsed 10 tokens: \n",
              "\t0: 74275\n",
              "\t1: B005B3HKPO\n",
              "\t2: A3OC6M21K4UAQ\n",
              "\t3: tw\n",
              "\t4: 2\n",
              "\t5: 5\n",
              "\t6: 2\n",
              "\t7: 1328486400\n",
              "\t8: whats with ... is smell??\n",
              "\t9: \"ummm can  ...  hot sauce</pre>"
            ],
            "text/plain": [
              "Unexpected characters after last column. \"one of only a very few\"\n",
              "Parse failed at token ending at: \n",
              "\thile. This is a very rare hot sauce, one of only a very few,\u001b[1;31m^\u001b[0m where the actual chile is the major ingredient.\n",
              "Successfully parsed 10 tokens: \n",
              "\t0: 74275\n",
              "\t1: B005B3HKPO\n",
              "\t2: A3OC6M21K4UAQ\n",
              "\t3: tw\n",
              "\t4: 2\n",
              "\t5: 5\n",
              "\t6: 2\n",
              "\t7: 1328486400\n",
              "\t8: whats with ... is smell??\n",
              "\t9: \"ummm can  ...  hot sauce"
            ]
          },
          "metadata": {}
        },
        {
          "output_type": "display_data",
          "data": {
            "text/html": [
              "<pre>Unexpected characters after last column. \"B000PMJLJO\"\n",
              "Parse failed at token ending at: \n",
              "\tmyself that tastes much better than this.\"\n",
              "88623,B000PMJLJO,\u001b[1;31m^\u001b[0mA1DPWQR4WSPXTM,Japri,0,0,2,1331424000,Very unsat\n",
              "Successfully parsed 10 tokens: \n",
              "\t0: 88622\n",
              "\t1: B000PMJLJO\n",
              "\t2: A2Y4S4CNGKF21S\n",
              "\t3: H. Swanson\n",
              "\t4: 0\n",
              "\t5: 0\n",
              "\t6: 2\n",
              "\t7: 1332374400\n",
              "\t8: \"Very dry, ... edibly dry\n",
              "\t9: to the poi ... is.\"\n",
              "88623</pre>"
            ],
            "text/plain": [
              "Unexpected characters after last column. \"B000PMJLJO\"\n",
              "Parse failed at token ending at: \n",
              "\tmyself that tastes much better than this.\"\n",
              "88623,B000PMJLJO,\u001b[1;31m^\u001b[0mA1DPWQR4WSPXTM,Japri,0,0,2,1331424000,Very unsat\n",
              "Successfully parsed 10 tokens: \n",
              "\t0: 88622\n",
              "\t1: B000PMJLJO\n",
              "\t2: A2Y4S4CNGKF21S\n",
              "\t3: H. Swanson\n",
              "\t4: 0\n",
              "\t5: 0\n",
              "\t6: 2\n",
              "\t7: 1332374400\n",
              "\t8: \"Very dry, ... edibly dry\n",
              "\t9: to the poi ... is.\"\n",
              "88623"
            ]
          },
          "metadata": {}
        },
        {
          "output_type": "display_data",
          "data": {
            "text/html": [
              "<pre>Unexpected characters after last column. \"but that awful after taste has no place in my afternoons.  Fog Chaser is flavorful but smooth. If you have had difficulty finding a good coffee for the new machines\"\n",
              "Parse failed at token ending at: \n",
              "\te had difficulty finding a good coffee for the new machines,\u001b[1;31m^\u001b[0m do give this one a try.\"\n",
              "181216,B007Y59HVM,#oc-\n",
              "Successfully parsed 10 tokens: \n",
              "\t0: 181213\n",
              "\t1: B007Y59HVM\n",
              "\t2: #oc-R3W5DW4JKJT228\n",
              "\t3: Mamaw\n",
              "\t4: 0\n",
              "\t5: 2\n",
              "\t6: 1\n",
              "\t7: 1346112000\n",
              "\t8: Disappointed\n",
              "\t9: \"I regret  ... he morning</pre>"
            ],
            "text/plain": [
              "Unexpected characters after last column. \"but that awful after taste has no place in my afternoons.  Fog Chaser is flavorful but smooth. If you have had difficulty finding a good coffee for the new machines\"\n",
              "Parse failed at token ending at: \n",
              "\te had difficulty finding a good coffee for the new machines,\u001b[1;31m^\u001b[0m do give this one a try.\"\n",
              "181216,B007Y59HVM,#oc-\n",
              "Successfully parsed 10 tokens: \n",
              "\t0: 181213\n",
              "\t1: B007Y59HVM\n",
              "\t2: #oc-R3W5DW4JKJT228\n",
              "\t3: Mamaw\n",
              "\t4: 0\n",
              "\t5: 2\n",
              "\t6: 1\n",
              "\t7: 1346112000\n",
              "\t8: Disappointed\n",
              "\t9: \"I regret  ... he morning"
            ]
          },
          "metadata": {}
        },
        {
          "output_type": "display_data",
          "data": {
            "text/html": [
              "<pre>Read 71440 lines. Lines per second: 78753</pre>"
            ],
            "text/plain": [
              "Read 71440 lines. Lines per second: 78753"
            ]
          },
          "metadata": {}
        },
        {
          "output_type": "display_data",
          "data": {
            "text/html": [
              "<pre>Unexpected characters after last column. \"0\"\n",
              "Parse failed at token ending at: \n",
              "\t />\\\"\n",
              "190510,B0012UEHFQ,A2788LGTSGCFA6,\"Mom of 3 \"\"sue\"\"\",0,\u001b[1;31m^\u001b[0m0,5,1329436800,She Loves Them!,I have a crazy do\n",
              "Successfully parsed 10 tokens: \n",
              "\t0: 190509\n",
              "\t1: B0012UEHFQ\n",
              "\t2: A3CR0UBHFX0NE7\n",
              "\t3: Sharee Lee Peterson\n",
              "\t4: 0\n",
              "\t5: 0\n",
              "\t6: 1\n",
              "\t7: 1330300800\n",
              "\t8: Poor Substitute\n",
              "\t9: I had prev ... of 3 \"sue\"</pre>"
            ],
            "text/plain": [
              "Unexpected characters after last column. \"0\"\n",
              "Parse failed at token ending at: \n",
              "\t />\\\"\n",
              "190510,B0012UEHFQ,A2788LGTSGCFA6,\"Mom of 3 \"\"sue\"\"\",0,\u001b[1;31m^\u001b[0m0,5,1329436800,She Loves Them!,I have a crazy do\n",
              "Successfully parsed 10 tokens: \n",
              "\t0: 190509\n",
              "\t1: B0012UEHFQ\n",
              "\t2: A3CR0UBHFX0NE7\n",
              "\t3: Sharee Lee Peterson\n",
              "\t4: 0\n",
              "\t5: 0\n",
              "\t6: 1\n",
              "\t7: 1330300800\n",
              "\t8: Poor Substitute\n",
              "\t9: I had prev ... of 3 \"sue\""
            ]
          },
          "metadata": {}
        },
        {
          "output_type": "display_data",
          "data": {
            "text/html": [
              "<pre>Unable to interpret \"encouraged him to eat\" as a integer\n",
              "Parse failed at token ending at: \n",
              "\tencouraged him to eat,\u001b[1;31m^\u001b[0m again.  It is also low in fat which is what he \n",
              "Successfully parsed 0 tokens:</pre>"
            ],
            "text/plain": [
              "Unable to interpret \"encouraged him to eat\" as a integer\n",
              "Parse failed at token ending at: \n",
              "\tencouraged him to eat,\u001b[1;31m^\u001b[0m again.  It is also low in fat which is what he \n",
              "Successfully parsed 0 tokens:"
            ]
          },
          "metadata": {}
        },
        {
          "output_type": "display_data",
          "data": {
            "text/html": [
              "<pre>Unable to interpret \"aDent just for grins and really like it! The taste is pleasant and long lasting. Nice flavor still after chewing away. Would recommend it to those who aren't sure if it's a product they would like. Great gum product.\" as a integer\n",
              "Parse failed at token ending at: \n",
              "\taDent just for grins and really like it! The taste is pleasant and long lasting. Nice flavor still after chewing away. Would recommend it to those who aren't sure if it's a product they would like. Great gum product.\u001b[1;31m^\u001b[0m\n",
              "Successfully parsed 0 tokens:</pre>"
            ],
            "text/plain": [
              "Unable to interpret \"aDent just for grins and really like it! The taste is pleasant and long lasting. Nice flavor still after chewing away. Would recommend it to those who aren't sure if it's a product they would like. Great gum product.\" as a integer\n",
              "Parse failed at token ending at: \n",
              "\taDent just for grins and really like it! The taste is pleasant and long lasting. Nice flavor still after chewing away. Would recommend it to those who aren't sure if it's a product they would like. Great gum product.\u001b[1;31m^\u001b[0m\n",
              "Successfully parsed 0 tokens:"
            ]
          },
          "metadata": {}
        },
        {
          "output_type": "display_data",
          "data": {
            "text/html": [
              "<pre>Unexpected characters after last column. \"B000GW6786\"\n",
              "Parse failed at token ending at: \n",
              "\tyself that tastes much better than this.\"\n",
              "415822,B000GW6786,\u001b[1;31m^\u001b[0mA1DPWQR4WSPXTM,Japri,0,0,2,1331424000,Very unsat\n",
              "Successfully parsed 10 tokens: \n",
              "\t0: 415821\n",
              "\t1: B000GW6786\n",
              "\t2: A2Y4S4CNGKF21S\n",
              "\t3: H. Swanson\n",
              "\t4: 0\n",
              "\t5: 0\n",
              "\t6: 2\n",
              "\t7: 1332374400\n",
              "\t8: \"Very dry, ... edibly dry\n",
              "\t9: to the poi ... s.\"\n",
              "415822</pre>"
            ],
            "text/plain": [
              "Unexpected characters after last column. \"B000GW6786\"\n",
              "Parse failed at token ending at: \n",
              "\tyself that tastes much better than this.\"\n",
              "415822,B000GW6786,\u001b[1;31m^\u001b[0mA1DPWQR4WSPXTM,Japri,0,0,2,1331424000,Very unsat\n",
              "Successfully parsed 10 tokens: \n",
              "\t0: 415821\n",
              "\t1: B000GW6786\n",
              "\t2: A2Y4S4CNGKF21S\n",
              "\t3: H. Swanson\n",
              "\t4: 0\n",
              "\t5: 0\n",
              "\t6: 2\n",
              "\t7: 1332374400\n",
              "\t8: \"Very dry, ... edibly dry\n",
              "\t9: to the poi ... s.\"\n",
              "415822"
            ]
          },
          "metadata": {}
        },
        {
          "output_type": "display_data",
          "data": {
            "text/html": [
              "<pre>Unable to interpret \"no carbonation.  Great for dieters who don't want the calories but are sick of the flavor of water.  The Cherry mint ha a nice flavor with a hint of cherry.  Delicious.\"\n",
              "514288\" as a integer\n",
              "Parse failed at token ending at: \n",
              "\tha a nice flavor with a hint of cherry.  Delicious.\"\n",
              "514288,\u001b[1;31m^\u001b[0mB0081X097M,A1YN5RSMH6TTZP,ltgr;blu,0,0,5,1332979\n",
              "Successfully parsed 4 tokens: \n",
              "\t0: 514285\n",
              "\t1: B0081X097M\n",
              "\t2: ATO7WKMVJD6XQ\n",
              "\t3: \"Curcio \"\" ... tives.Plus</pre>"
            ],
            "text/plain": [
              "Unable to interpret \"no carbonation.  Great for dieters who don't want the calories but are sick of the flavor of water.  The Cherry mint ha a nice flavor with a hint of cherry.  Delicious.\"\n",
              "514288\" as a integer\n",
              "Parse failed at token ending at: \n",
              "\tha a nice flavor with a hint of cherry.  Delicious.\"\n",
              "514288,\u001b[1;31m^\u001b[0mB0081X097M,A1YN5RSMH6TTZP,ltgr;blu,0,0,5,1332979\n",
              "Successfully parsed 4 tokens: \n",
              "\t0: 514285\n",
              "\t1: B0081X097M\n",
              "\t2: ATO7WKMVJD6XQ\n",
              "\t3: \"Curcio \"\" ... tives.Plus"
            ]
          },
          "metadata": {}
        },
        {
          "output_type": "display_data",
          "data": {
            "text/html": [
              "<pre>9 lines failed to parse correctly</pre>"
            ],
            "text/plain": [
              "9 lines failed to parse correctly"
            ]
          },
          "metadata": {}
        },
        {
          "output_type": "display_data",
          "data": {
            "text/html": [
              "<pre>Finished parsing file /content/datasets/amazon_reviews/Reviews.csv</pre>"
            ],
            "text/plain": [
              "Finished parsing file /content/datasets/amazon_reviews/Reviews.csv"
            ]
          },
          "metadata": {}
        },
        {
          "output_type": "display_data",
          "data": {
            "text/html": [
              "<pre>Parsing completed. Parsed 289205 lines in 2.35419 secs.</pre>"
            ],
            "text/plain": [
              "Parsing completed. Parsed 289205 lines in 2.35419 secs."
            ]
          },
          "metadata": {}
        }
      ]
    },
    {
      "cell_type": "markdown",
      "metadata": {
        "id": "M5CMBQMZDbhD"
      },
      "source": [
        "### Q2 ans:"
      ]
    },
    {
      "cell_type": "code",
      "metadata": {
        "id": "uyc1iE55Desv"
      },
      "source": [
        "# we will extract the following features using textblob:\n",
        "# Counter of nouns in review's text & summary\n",
        "# sentiment polarity in review's text & summary\n",
        "# sentiment subjectivity in review's text & summary\n",
        "# and the following features using affin:\n",
        "# Afinn sentiment score for review's text & summary\n",
        "\n",
        "# creating the features sframe from the review text & summary fields\n",
        "reviews_textblob_and_afinn_features_sframe = turi.SFrame()\n",
        "features_list = [\n",
        "                 'TextBlob text polarity', \n",
        "                 'TextBlob text subjectivity', \n",
        "                 'TextBlob summary polarity', \n",
        "                 'TextBlob summary subjectivity', \n",
        "                 'Afinn text score', \n",
        "                 'Afinn summary score'\n",
        "                 ]\n",
        "# TextBlob features\n",
        "reviews_textblob_and_afinn_features_sframe['TextBlob text polarity'] = org_reviews_sframe['Text'].apply(lambda review: TextBlob(review).sentiment.polarity)\n",
        "reviews_textblob_and_afinn_features_sframe['TextBlob text subjectivity'] = org_reviews_sframe['Text'].apply(lambda review: TextBlob(review).sentiment.subjectivity)\n",
        "reviews_textblob_and_afinn_features_sframe['TextBlob summary polarity'] = org_reviews_sframe['Summary'].apply(lambda review: TextBlob(review).sentiment.polarity)\n",
        "reviews_textblob_and_afinn_features_sframe['TextBlob summary subjectivity'] = org_reviews_sframe['Summary'].apply(lambda review: TextBlob(review).sentiment.subjectivity)\n",
        "# Afinn features\n",
        "afinn = Afinn()\n",
        "reviews_textblob_and_afinn_features_sframe['Afinn text score'] = org_reviews_sframe['Text'].apply(lambda t: afinn.score(t))\n",
        "reviews_textblob_and_afinn_features_sframe['Afinn summary score'] = org_reviews_sframe['Summary'].apply(lambda t: afinn.score(t))\n",
        "\n",
        "\n",
        "# i created a classifier that predicts the score from 1 to 5 (not only 1 OR 5).\n",
        "reviews_textblob_and_afinn_features_sframe['class'] = org_reviews_sframe['Score']"
      ],
      "execution_count": null,
      "outputs": []
    },
    {
      "cell_type": "code",
      "metadata": {
        "id": "Qn6aDGQtJ-LT",
        "colab": {
          "base_uri": "https://localhost:8080/",
          "height": 1000
        },
        "outputId": "05dc4b48-10ab-4170-f2a4-f708b8eec33d"
      },
      "source": [
        "train, test = reviews_textblob_and_afinn_features_sframe.random_split(0.8)\n",
        "cls_with_sentiment_analysis_features = turi.classifier.create(train,features=features_list, target=\"class\", verbose=True)"
      ],
      "execution_count": null,
      "outputs": [
        {
          "output_type": "stream",
          "name": "stdout",
          "text": [
            "PROGRESS: Creating a validation set from 5 percent of training data. This may take a while.\n",
            "          You can set ``validation_set=None`` to disable validation tracking.\n",
            "\n",
            "PROGRESS: The following methods are available for this type of problem.\n",
            "PROGRESS: BoostedTreesClassifier, RandomForestClassifier, DecisionTreeClassifier, LogisticClassifier\n",
            "PROGRESS: The returned model will be chosen according to validation accuracy.\n"
          ]
        },
        {
          "output_type": "display_data",
          "data": {
            "text/html": [
              "<pre>Boosted trees classifier:</pre>"
            ],
            "text/plain": [
              "Boosted trees classifier:"
            ]
          },
          "metadata": {}
        },
        {
          "output_type": "display_data",
          "data": {
            "text/html": [
              "<pre>--------------------------------------------------------</pre>"
            ],
            "text/plain": [
              "--------------------------------------------------------"
            ]
          },
          "metadata": {}
        },
        {
          "output_type": "display_data",
          "data": {
            "text/html": [
              "<pre>Number of examples          : 75656</pre>"
            ],
            "text/plain": [
              "Number of examples          : 75656"
            ]
          },
          "metadata": {}
        },
        {
          "output_type": "display_data",
          "data": {
            "text/html": [
              "<pre>Number of classes           : 5</pre>"
            ],
            "text/plain": [
              "Number of classes           : 5"
            ]
          },
          "metadata": {}
        },
        {
          "output_type": "display_data",
          "data": {
            "text/html": [
              "<pre>Number of feature columns   : 6</pre>"
            ],
            "text/plain": [
              "Number of feature columns   : 6"
            ]
          },
          "metadata": {}
        },
        {
          "output_type": "display_data",
          "data": {
            "text/html": [
              "<pre>Number of unpacked features : 6</pre>"
            ],
            "text/plain": [
              "Number of unpacked features : 6"
            ]
          },
          "metadata": {}
        },
        {
          "output_type": "display_data",
          "data": {
            "text/html": [
              "<pre>+-----------+--------------+-------------------+---------------------+-------------------+---------------------+</pre>"
            ],
            "text/plain": [
              "+-----------+--------------+-------------------+---------------------+-------------------+---------------------+"
            ]
          },
          "metadata": {}
        },
        {
          "output_type": "display_data",
          "data": {
            "text/html": [
              "<pre>| Iteration | Elapsed Time | Training Accuracy | Validation Accuracy | Training Log Loss | Validation Log Loss |</pre>"
            ],
            "text/plain": [
              "| Iteration | Elapsed Time | Training Accuracy | Validation Accuracy | Training Log Loss | Validation Log Loss |"
            ]
          },
          "metadata": {}
        },
        {
          "output_type": "display_data",
          "data": {
            "text/html": [
              "<pre>+-----------+--------------+-------------------+---------------------+-------------------+---------------------+</pre>"
            ],
            "text/plain": [
              "+-----------+--------------+-------------------+---------------------+-------------------+---------------------+"
            ]
          },
          "metadata": {}
        },
        {
          "output_type": "display_data",
          "data": {
            "text/html": [
              "<pre>| 1         | 0.199567     | 0.676576          | 0.680562            | 1.327490          | 1.325619            |</pre>"
            ],
            "text/plain": [
              "| 1         | 0.199567     | 0.676576          | 0.680562            | 1.327490          | 1.325619            |"
            ]
          },
          "metadata": {}
        },
        {
          "output_type": "display_data",
          "data": {
            "text/html": [
              "<pre>| 2         | 0.404590     | 0.677316          | 0.682320            | 1.181352          | 1.179425            |</pre>"
            ],
            "text/plain": [
              "| 2         | 0.404590     | 0.677316          | 0.682320            | 1.181352          | 1.179425            |"
            ]
          },
          "metadata": {}
        },
        {
          "output_type": "display_data",
          "data": {
            "text/html": [
              "<pre>| 3         | 0.626265     | 0.678347          | 0.684078            | 1.090829          | 1.088471            |</pre>"
            ],
            "text/plain": [
              "| 3         | 0.626265     | 0.678347          | 0.684078            | 1.090829          | 1.088471            |"
            ]
          },
          "metadata": {}
        },
        {
          "output_type": "display_data",
          "data": {
            "text/html": [
              "<pre>| 4         | 0.831354     | 0.678889          | 0.685334            | 1.031079          | 1.029176            |</pre>"
            ],
            "text/plain": [
              "| 4         | 0.831354     | 0.678889          | 0.685334            | 1.031079          | 1.029176            |"
            ]
          },
          "metadata": {}
        },
        {
          "output_type": "display_data",
          "data": {
            "text/html": [
              "<pre>| 5         | 1.035189     | 0.679801          | 0.686590            | 0.988941          | 0.987706            |</pre>"
            ],
            "text/plain": [
              "| 5         | 1.035189     | 0.679801          | 0.686590            | 0.988941          | 0.987706            |"
            ]
          },
          "metadata": {}
        },
        {
          "output_type": "display_data",
          "data": {
            "text/html": [
              "<pre>| 10        | 2.093096     | 0.683184          | 0.688348            | 0.899385          | 0.902719            |</pre>"
            ],
            "text/plain": [
              "| 10        | 2.093096     | 0.683184          | 0.688348            | 0.899385          | 0.902719            |"
            ]
          },
          "metadata": {}
        },
        {
          "output_type": "display_data",
          "data": {
            "text/html": [
              "<pre>+-----------+--------------+-------------------+---------------------+-------------------+---------------------+</pre>"
            ],
            "text/plain": [
              "+-----------+--------------+-------------------+---------------------+-------------------+---------------------+"
            ]
          },
          "metadata": {}
        },
        {
          "output_type": "display_data",
          "data": {
            "text/html": [
              "<pre>Random forest classifier:</pre>"
            ],
            "text/plain": [
              "Random forest classifier:"
            ]
          },
          "metadata": {}
        },
        {
          "output_type": "display_data",
          "data": {
            "text/html": [
              "<pre>--------------------------------------------------------</pre>"
            ],
            "text/plain": [
              "--------------------------------------------------------"
            ]
          },
          "metadata": {}
        },
        {
          "output_type": "display_data",
          "data": {
            "text/html": [
              "<pre>Number of examples          : 75656</pre>"
            ],
            "text/plain": [
              "Number of examples          : 75656"
            ]
          },
          "metadata": {}
        },
        {
          "output_type": "display_data",
          "data": {
            "text/html": [
              "<pre>Number of classes           : 5</pre>"
            ],
            "text/plain": [
              "Number of classes           : 5"
            ]
          },
          "metadata": {}
        },
        {
          "output_type": "display_data",
          "data": {
            "text/html": [
              "<pre>Number of feature columns   : 6</pre>"
            ],
            "text/plain": [
              "Number of feature columns   : 6"
            ]
          },
          "metadata": {}
        },
        {
          "output_type": "display_data",
          "data": {
            "text/html": [
              "<pre>Number of unpacked features : 6</pre>"
            ],
            "text/plain": [
              "Number of unpacked features : 6"
            ]
          },
          "metadata": {}
        },
        {
          "output_type": "display_data",
          "data": {
            "text/html": [
              "<pre>+-----------+--------------+-------------------+---------------------+-------------------+---------------------+</pre>"
            ],
            "text/plain": [
              "+-----------+--------------+-------------------+---------------------+-------------------+---------------------+"
            ]
          },
          "metadata": {}
        },
        {
          "output_type": "display_data",
          "data": {
            "text/html": [
              "<pre>| Iteration | Elapsed Time | Training Accuracy | Validation Accuracy | Training Log Loss | Validation Log Loss |</pre>"
            ],
            "text/plain": [
              "| Iteration | Elapsed Time | Training Accuracy | Validation Accuracy | Training Log Loss | Validation Log Loss |"
            ]
          },
          "metadata": {}
        },
        {
          "output_type": "display_data",
          "data": {
            "text/html": [
              "<pre>+-----------+--------------+-------------------+---------------------+-------------------+---------------------+</pre>"
            ],
            "text/plain": [
              "+-----------+--------------+-------------------+---------------------+-------------------+---------------------+"
            ]
          },
          "metadata": {}
        },
        {
          "output_type": "display_data",
          "data": {
            "text/html": [
              "<pre>| 1         | 0.190497     | 0.672994          | 0.677800            | 0.989832          | 0.978991            |</pre>"
            ],
            "text/plain": [
              "| 1         | 0.190497     | 0.672994          | 0.677800            | 0.989832          | 0.978991            |"
            ]
          },
          "metadata": {}
        },
        {
          "output_type": "display_data",
          "data": {
            "text/html": [
              "<pre>| 2         | 0.364228     | 0.673945          | 0.678805            | 0.984771          | 0.975677            |</pre>"
            ],
            "text/plain": [
              "| 2         | 0.364228     | 0.673945          | 0.678805            | 0.984771          | 0.975677            |"
            ]
          },
          "metadata": {}
        },
        {
          "output_type": "display_data",
          "data": {
            "text/html": [
              "<pre>| 3         | 0.544851     | 0.673126          | 0.679307            | 0.987651          | 0.979662            |</pre>"
            ],
            "text/plain": [
              "| 3         | 0.544851     | 0.673126          | 0.679307            | 0.987651          | 0.979662            |"
            ]
          },
          "metadata": {}
        },
        {
          "output_type": "display_data",
          "data": {
            "text/html": [
              "<pre>| 4         | 0.726292     | 0.674580          | 0.679558            | 0.984576          | 0.975825            |</pre>"
            ],
            "text/plain": [
              "| 4         | 0.726292     | 0.674580          | 0.679558            | 0.984576          | 0.975825            |"
            ]
          },
          "metadata": {}
        },
        {
          "output_type": "display_data",
          "data": {
            "text/html": [
              "<pre>| 5         | 0.895898     | 0.674765          | 0.679558            | 0.984428          | 0.975988            |</pre>"
            ],
            "text/plain": [
              "| 5         | 0.895898     | 0.674765          | 0.679558            | 0.984428          | 0.975988            |"
            ]
          },
          "metadata": {}
        },
        {
          "output_type": "display_data",
          "data": {
            "text/html": [
              "<pre>| 10        | 1.755288     | 0.674434          | 0.678805            | 0.982835          | 0.976364            |</pre>"
            ],
            "text/plain": [
              "| 10        | 1.755288     | 0.674434          | 0.678805            | 0.982835          | 0.976364            |"
            ]
          },
          "metadata": {}
        },
        {
          "output_type": "display_data",
          "data": {
            "text/html": [
              "<pre>+-----------+--------------+-------------------+---------------------+-------------------+---------------------+</pre>"
            ],
            "text/plain": [
              "+-----------+--------------+-------------------+---------------------+-------------------+---------------------+"
            ]
          },
          "metadata": {}
        },
        {
          "output_type": "display_data",
          "data": {
            "text/html": [
              "<pre>Decision tree classifier:</pre>"
            ],
            "text/plain": [
              "Decision tree classifier:"
            ]
          },
          "metadata": {}
        },
        {
          "output_type": "display_data",
          "data": {
            "text/html": [
              "<pre>--------------------------------------------------------</pre>"
            ],
            "text/plain": [
              "--------------------------------------------------------"
            ]
          },
          "metadata": {}
        },
        {
          "output_type": "display_data",
          "data": {
            "text/html": [
              "<pre>Number of examples          : 75656</pre>"
            ],
            "text/plain": [
              "Number of examples          : 75656"
            ]
          },
          "metadata": {}
        },
        {
          "output_type": "display_data",
          "data": {
            "text/html": [
              "<pre>Number of classes           : 5</pre>"
            ],
            "text/plain": [
              "Number of classes           : 5"
            ]
          },
          "metadata": {}
        },
        {
          "output_type": "display_data",
          "data": {
            "text/html": [
              "<pre>Number of feature columns   : 6</pre>"
            ],
            "text/plain": [
              "Number of feature columns   : 6"
            ]
          },
          "metadata": {}
        },
        {
          "output_type": "display_data",
          "data": {
            "text/html": [
              "<pre>Number of unpacked features : 6</pre>"
            ],
            "text/plain": [
              "Number of unpacked features : 6"
            ]
          },
          "metadata": {}
        },
        {
          "output_type": "display_data",
          "data": {
            "text/html": [
              "<pre>+-----------+--------------+-------------------+---------------------+-------------------+---------------------+</pre>"
            ],
            "text/plain": [
              "+-----------+--------------+-------------------+---------------------+-------------------+---------------------+"
            ]
          },
          "metadata": {}
        },
        {
          "output_type": "display_data",
          "data": {
            "text/html": [
              "<pre>| Iteration | Elapsed Time | Training Accuracy | Validation Accuracy | Training Log Loss | Validation Log Loss |</pre>"
            ],
            "text/plain": [
              "| Iteration | Elapsed Time | Training Accuracy | Validation Accuracy | Training Log Loss | Validation Log Loss |"
            ]
          },
          "metadata": {}
        },
        {
          "output_type": "display_data",
          "data": {
            "text/html": [
              "<pre>+-----------+--------------+-------------------+---------------------+-------------------+---------------------+</pre>"
            ],
            "text/plain": [
              "+-----------+--------------+-------------------+---------------------+-------------------+---------------------+"
            ]
          },
          "metadata": {}
        },
        {
          "output_type": "display_data",
          "data": {
            "text/html": [
              "<pre>| 1         | 0.224737     | 0.676576          | 0.680562            | 0.980808          | 0.971949            |</pre>"
            ],
            "text/plain": [
              "| 1         | 0.224737     | 0.676576          | 0.680562            | 0.980808          | 0.971949            |"
            ]
          },
          "metadata": {}
        },
        {
          "output_type": "display_data",
          "data": {
            "text/html": [
              "<pre>+-----------+--------------+-------------------+---------------------+-------------------+---------------------+</pre>"
            ],
            "text/plain": [
              "+-----------+--------------+-------------------+---------------------+-------------------+---------------------+"
            ]
          },
          "metadata": {}
        },
        {
          "output_type": "display_data",
          "data": {
            "text/html": [
              "<pre>Logistic regression:</pre>"
            ],
            "text/plain": [
              "Logistic regression:"
            ]
          },
          "metadata": {}
        },
        {
          "output_type": "display_data",
          "data": {
            "text/html": [
              "<pre>--------------------------------------------------------</pre>"
            ],
            "text/plain": [
              "--------------------------------------------------------"
            ]
          },
          "metadata": {}
        },
        {
          "output_type": "display_data",
          "data": {
            "text/html": [
              "<pre>Number of examples          : 75656</pre>"
            ],
            "text/plain": [
              "Number of examples          : 75656"
            ]
          },
          "metadata": {}
        },
        {
          "output_type": "display_data",
          "data": {
            "text/html": [
              "<pre>Number of classes           : 5</pre>"
            ],
            "text/plain": [
              "Number of classes           : 5"
            ]
          },
          "metadata": {}
        },
        {
          "output_type": "display_data",
          "data": {
            "text/html": [
              "<pre>Number of feature columns   : 6</pre>"
            ],
            "text/plain": [
              "Number of feature columns   : 6"
            ]
          },
          "metadata": {}
        },
        {
          "output_type": "display_data",
          "data": {
            "text/html": [
              "<pre>Number of unpacked features : 6</pre>"
            ],
            "text/plain": [
              "Number of unpacked features : 6"
            ]
          },
          "metadata": {}
        },
        {
          "output_type": "display_data",
          "data": {
            "text/html": [
              "<pre>Number of coefficients      : 28</pre>"
            ],
            "text/plain": [
              "Number of coefficients      : 28"
            ]
          },
          "metadata": {}
        },
        {
          "output_type": "display_data",
          "data": {
            "text/html": [
              "<pre>Starting Newton Method</pre>"
            ],
            "text/plain": [
              "Starting Newton Method"
            ]
          },
          "metadata": {}
        },
        {
          "output_type": "display_data",
          "data": {
            "text/html": [
              "<pre>--------------------------------------------------------</pre>"
            ],
            "text/plain": [
              "--------------------------------------------------------"
            ]
          },
          "metadata": {}
        },
        {
          "output_type": "display_data",
          "data": {
            "text/html": [
              "<pre>+-----------+----------+--------------+-------------------+---------------------+</pre>"
            ],
            "text/plain": [
              "+-----------+----------+--------------+-------------------+---------------------+"
            ]
          },
          "metadata": {}
        },
        {
          "output_type": "display_data",
          "data": {
            "text/html": [
              "<pre>| Iteration | Passes   | Elapsed Time | Training Accuracy | Validation Accuracy |</pre>"
            ],
            "text/plain": [
              "| Iteration | Passes   | Elapsed Time | Training Accuracy | Validation Accuracy |"
            ]
          },
          "metadata": {}
        },
        {
          "output_type": "display_data",
          "data": {
            "text/html": [
              "<pre>+-----------+----------+--------------+-------------------+---------------------+</pre>"
            ],
            "text/plain": [
              "+-----------+----------+--------------+-------------------+---------------------+"
            ]
          },
          "metadata": {}
        },
        {
          "output_type": "display_data",
          "data": {
            "text/html": [
              "<pre>| 1         | 2        | 0.180094     | 0.665367          | 0.674033            |</pre>"
            ],
            "text/plain": [
              "| 1         | 2        | 0.180094     | 0.665367          | 0.674033            |"
            ]
          },
          "metadata": {}
        },
        {
          "output_type": "display_data",
          "data": {
            "text/html": [
              "<pre>| 2         | 3        | 0.290353     | 0.646399          | 0.650176            |</pre>"
            ],
            "text/plain": [
              "| 2         | 3        | 0.290353     | 0.646399          | 0.650176            |"
            ]
          },
          "metadata": {}
        },
        {
          "output_type": "display_data",
          "data": {
            "text/html": [
              "<pre>| 3         | 4        | 0.398966     | 0.671540          | 0.678553            |</pre>"
            ],
            "text/plain": [
              "| 3         | 4        | 0.398966     | 0.671540          | 0.678553            |"
            ]
          },
          "metadata": {}
        },
        {
          "output_type": "display_data",
          "data": {
            "text/html": [
              "<pre>| 4         | 5        | 0.507067     | 0.671896          | 0.679056            |</pre>"
            ],
            "text/plain": [
              "| 4         | 5        | 0.507067     | 0.671896          | 0.679056            |"
            ]
          },
          "metadata": {}
        },
        {
          "output_type": "display_data",
          "data": {
            "text/html": [
              "<pre>| 5         | 6        | 0.622239     | 0.671896          | 0.679056            |</pre>"
            ],
            "text/plain": [
              "| 5         | 6        | 0.622239     | 0.671896          | 0.679056            |"
            ]
          },
          "metadata": {}
        },
        {
          "output_type": "display_data",
          "data": {
            "text/html": [
              "<pre>| 6         | 7        | 0.729286     | 0.671910          | 0.679056            |</pre>"
            ],
            "text/plain": [
              "| 6         | 7        | 0.729286     | 0.671910          | 0.679056            |"
            ]
          },
          "metadata": {}
        },
        {
          "output_type": "display_data",
          "data": {
            "text/html": [
              "<pre>+-----------+----------+--------------+-------------------+---------------------+</pre>"
            ],
            "text/plain": [
              "+-----------+----------+--------------+-------------------+---------------------+"
            ]
          },
          "metadata": {}
        },
        {
          "output_type": "display_data",
          "data": {
            "text/html": [
              "<pre>SUCCESS: Optimal solution found.</pre>"
            ],
            "text/plain": [
              "SUCCESS: Optimal solution found."
            ]
          },
          "metadata": {}
        },
        {
          "output_type": "display_data",
          "data": {
            "text/html": [
              "<pre></pre>"
            ],
            "text/plain": [
              ""
            ]
          },
          "metadata": {}
        },
        {
          "output_type": "stream",
          "name": "stdout",
          "text": [
            "PROGRESS: Model selection based on validation accuracy:\n",
            "PROGRESS: ---------------------------------------------\n",
            "PROGRESS: BoostedTreesClassifier          : 0.6883475640381718\n",
            "PROGRESS: RandomForestClassifier          : 0.6788046207935711\n",
            "PROGRESS: DecisionTreeClassifier          : 0.6805625313912607\n",
            "PROGRESS: LogisticClassifier              : 0.6790557508789553\n",
            "PROGRESS: ---------------------------------------------\n",
            "PROGRESS: Selecting BoostedTreesClassifier based on validation set performance.\n"
          ]
        }
      ]
    },
    {
      "cell_type": "code",
      "metadata": {
        "id": "8IMMdyEYJ-Qw"
      },
      "source": [
        "# evaluating the classifier\n",
        "cls_with_sentiment_analysis_features_eval_results = cls_with_sentiment_analysis_features.evaluate(test)\n",
        "\n",
        "cls_with_sentiment_analysis_features_summary_dict = cls_with_sentiment_analysis_features.summary('dict')\n",
        "classifier_algorithm = ''.join([x for x in str(type(cls_with_sentiment_analysis_features_eval_results)).split('.')[-1] if x.isalpha()])\n",
        "test_f1_score, test_size = cls_with_sentiment_analysis_features_eval_results['f1_score'], len(test)\n",
        "# validation_score = dict(cls_with_sentiment_analysis_features_summary_dict['sections'][1])['Validation accuracy']"
      ],
      "execution_count": null,
      "outputs": []
    },
    {
      "cell_type": "code",
      "metadata": {
        "id": "6n3O_v_eFgeE",
        "colab": {
          "base_uri": "https://localhost:8080/",
          "height": 592
        },
        "outputId": "bd3e3d81-6fc9-4cc2-ef6c-b988a1f35679"
      },
      "source": [
        "# comparing the two classifiers\n",
        "fig, ax = plt.subplots(figsize=(10,10))\n",
        "# take the following score values from each evaluation dictionaries: 'recall' , 'accuracy', 'auc', 'f1_score'\n",
        "scores_to_collect = ['recall' , 'accuracy', 'auc', 'f1_score']\n",
        "cls_evalution_dictionaries_to_collect_from = [dict(cls_eval_results), dict(cls_with_sentiment_analysis_features_eval_results)]\n",
        "regular_text_analysis_scores = []\n",
        "text_blob_and_affin_scores = []\n",
        "for score_to_collect in scores_to_collect:\n",
        "  regular_text_analysis_scores.append(cls_evalution_dictionaries_to_collect_from[0][score_to_collect])\n",
        "  text_blob_and_affin_scores.append(cls_evalution_dictionaries_to_collect_from[1][score_to_collect])\n",
        "\n",
        "x_ticks = np.arange(0, len(scores_to_collect)*2, 2) \n",
        "\n",
        "ax.bar(x_ticks-0.5, regular_text_analysis_scores,color='red', label = 'regular text features')\n",
        "ax.bar(x_ticks+0.5, text_blob_and_affin_scores,color='blue', label = 'textBlob\\&Afinn text features')\n",
        "\n",
        "ax.set_xticks(x_ticks)\n",
        "ax.set_xticklabels(scores_to_collect)\n",
        "\n",
        "ax.legend()\n",
        "plt.show()"
      ],
      "execution_count": null,
      "outputs": [
        {
          "output_type": "display_data",
          "data": {
            "image/png": "[encoded data removed]",
            "text/plain": [
              "<Figure size 720x720 with 1 Axes>"
            ]
          },
          "metadata": {
            "needs_background": "light"
          }
        }
      ]
    },
    {
      "cell_type": "markdown",
      "metadata": {
        "id": "P_-RwAYKDfoO"
      },
      "source": [
        "## Q3"
      ]
    },
    {
      "cell_type": "markdown",
      "metadata": {
        "id": "GklKQldybCyP"
      },
      "source": [
        "**Question 3:**  Select a different reviews dataset and create a sentiment classifier which utilizes word embeddings (25pt).\n",
        "Evaluate this classifier (5pt). Try to improve your classifier by adding additional features (20pt)"
      ]
    },
    {
      "cell_type": "markdown",
      "metadata": {
        "id": "hbXq30e_Xh4Q"
      },
      "source": [
        "### Preperations:"
      ]
    },
    {
      "cell_type": "code",
      "metadata": {
        "id": "MgS9j6eRbCyQ",
        "colab": {
          "base_uri": "https://localhost:8080/"
        },
        "outputId": "1f5d440e-356a-4bdf-f7b9-0d6236a67934"
      },
      "source": [
        "# ! pip install turicreate\n",
        "# ! pip install kaggle \n",
        "# ! pip install gensim\n",
        "# ! pip install pyLDAvis\n",
        "# ! pip install spaCy\n",
        "# ! pip install afinn\n",
        "# ! pip install textblob\n",
        "\n",
        "! mkdir ~/.kaggle\n",
        "! cp kaggle.json ~/.kaggle/\n",
        "! chmod 600 ~/.kaggle/kaggle.json \n",
        "! mkdir -f ./datasets/hotel_reviews\n",
        "\n",
        "! kaggle datasets download anu0012/hotel-review  -p ./datasets/hotel_reviews\n",
        "! unzip ./datasets/hotel_reviews/*.zip  -d ./datasets/hotel_reviews"
      ],
      "execution_count": 5,
      "outputs": [
        {
          "output_type": "stream",
          "name": "stdout",
          "text": [
            "mkdir: cannot create directory ‘/root/.kaggle’: File exists\n",
            "mkdir: invalid option -- 'f'\n",
            "Try 'mkdir --help' for more information.\n",
            "Downloading hotel-review.zip to ./datasets/hotel_reviews\n",
            " 41% 9.00M/21.7M [00:00<00:00, 24.0MB/s]\n",
            "100% 21.7M/21.7M [00:00<00:00, 44.3MB/s]\n",
            "Archive:  ./datasets/hotel_reviews/hotel-review.zip\n",
            "  inflating: ./datasets/hotel_reviews/test.csv  \n",
            "  inflating: ./datasets/hotel_reviews/train.csv  \n"
          ]
        }
      ]
    },
    {
      "cell_type": "code",
      "metadata": {
        "id": "_S1NVvnDPSfm"
      },
      "source": [
        "# IMPORTS\n",
        "import os\n",
        "import json\n",
        "import re\n",
        "import requests\n",
        "from typing import *\n",
        "import numpy as np\n",
        "import pandas as pd\n",
        "import turicreate as turi\n",
        "import networkx as ntkx\n",
        "import matplotlib.pyplot as plt\n",
        "from tqdm.notebook import tqdm \n",
        "from textblob import TextBlob\n",
        "from afinn import Afinn\n",
        "import spacy\n",
        "\n",
        "\n",
        "%matplotlib inline"
      ],
      "execution_count": 1,
      "outputs": []
    },
    {
      "cell_type": "code",
      "metadata": {
        "id": "AW8-Dk0mPSiI",
        "colab": {
          "base_uri": "https://localhost:8080/",
          "height": 636
        },
        "outputId": "0528d214-d88d-4a34-bb01-e29a9691c75d"
      },
      "source": [
        "#  i will use the hotel review dataset (only the training dataset)\n",
        "hotels_reviews_sframe = turi.SFrame.read_csv(\"./datasets/hotel_reviews/train.csv\", na_values=['none'])\n",
        "hotels_reviews_sframe"
      ],
      "execution_count": 2,
      "outputs": [
        {
          "output_type": "display_data",
          "data": {
            "text/html": [
              "<pre>Finished parsing file /content/datasets/hotel_reviews/train.csv</pre>"
            ],
            "text/plain": [
              "Finished parsing file /content/datasets/hotel_reviews/train.csv"
            ]
          },
          "metadata": {}
        },
        {
          "output_type": "display_data",
          "data": {
            "text/html": [
              "<pre>Parsing completed. Parsed 100 lines in 0.543543 secs.</pre>"
            ],
            "text/plain": [
              "Parsing completed. Parsed 100 lines in 0.543543 secs."
            ]
          },
          "metadata": {}
        },
        {
          "output_type": "stream",
          "name": "stdout",
          "text": [
            "------------------------------------------------------\n",
            "Inferred types from first 100 line(s) of file as \n",
            "column_type_hints=[str,str,str,str,str]\n",
            "If parsing fails due to incorrect types, you can correct\n",
            "the inferred type list above and pass it to read_csv in\n",
            "the column_type_hints argument\n",
            "------------------------------------------------------\n"
          ]
        },
        {
          "output_type": "display_data",
          "data": {
            "text/html": [
              "<pre>Finished parsing file /content/datasets/hotel_reviews/train.csv</pre>"
            ],
            "text/plain": [
              "Finished parsing file /content/datasets/hotel_reviews/train.csv"
            ]
          },
          "metadata": {}
        },
        {
          "output_type": "display_data",
          "data": {
            "text/html": [
              "<pre>Parsing completed. Parsed 38932 lines in 0.520892 secs.</pre>"
            ],
            "text/plain": [
              "Parsing completed. Parsed 38932 lines in 0.520892 secs."
            ]
          },
          "metadata": {}
        },
        {
          "output_type": "execute_result",
          "data": {
            "text/html": [
              "<div style=\"max-height:1000px;max-width:1500px;overflow:auto;\"><table frame=\"box\" rules=\"cols\">\n",
              "    <tr>\n",
              "        <th style=\"padding-left: 1em; padding-right: 1em; text-align: center\">User_ID</th>\n",
              "        <th style=\"padding-left: 1em; padding-right: 1em; text-align: center\">Description</th>\n",
              "        <th style=\"padding-left: 1em; padding-right: 1em; text-align: center\">Browser_Used</th>\n",
              "        <th style=\"padding-left: 1em; padding-right: 1em; text-align: center\">Device_Used</th>\n",
              "        <th style=\"padding-left: 1em; padding-right: 1em; text-align: center\">Is_Response</th>\n",
              "    </tr>\n",
              "    <tr>\n",
              "        <td style=\"padding-left: 1em; padding-right: 1em; text-align: center; vertical-align: top\">id10326</td>\n",
              "        <td style=\"padding-left: 1em; padding-right: 1em; text-align: center; vertical-align: top\">The room was kind of<br>clean but had a VERY ...</td>\n",
              "        <td style=\"padding-left: 1em; padding-right: 1em; text-align: center; vertical-align: top\">Edge</td>\n",
              "        <td style=\"padding-left: 1em; padding-right: 1em; text-align: center; vertical-align: top\">Mobile</td>\n",
              "        <td style=\"padding-left: 1em; padding-right: 1em; text-align: center; vertical-align: top\">not happy</td>\n",
              "    </tr>\n",
              "    <tr>\n",
              "        <td style=\"padding-left: 1em; padding-right: 1em; text-align: center; vertical-align: top\">id10327</td>\n",
              "        <td style=\"padding-left: 1em; padding-right: 1em; text-align: center; vertical-align: top\">I stayed at the Crown<br>Plaza April -- - April ...</td>\n",
              "        <td style=\"padding-left: 1em; padding-right: 1em; text-align: center; vertical-align: top\">Internet Explorer</td>\n",
              "        <td style=\"padding-left: 1em; padding-right: 1em; text-align: center; vertical-align: top\">Mobile</td>\n",
              "        <td style=\"padding-left: 1em; padding-right: 1em; text-align: center; vertical-align: top\">not happy</td>\n",
              "    </tr>\n",
              "    <tr>\n",
              "        <td style=\"padding-left: 1em; padding-right: 1em; text-align: center; vertical-align: top\">id10328</td>\n",
              "        <td style=\"padding-left: 1em; padding-right: 1em; text-align: center; vertical-align: top\">I booked this hotel<br>through Hotwire at the ...</td>\n",
              "        <td style=\"padding-left: 1em; padding-right: 1em; text-align: center; vertical-align: top\">Mozilla</td>\n",
              "        <td style=\"padding-left: 1em; padding-right: 1em; text-align: center; vertical-align: top\">Tablet</td>\n",
              "        <td style=\"padding-left: 1em; padding-right: 1em; text-align: center; vertical-align: top\">not happy</td>\n",
              "    </tr>\n",
              "    <tr>\n",
              "        <td style=\"padding-left: 1em; padding-right: 1em; text-align: center; vertical-align: top\">id10329</td>\n",
              "        <td style=\"padding-left: 1em; padding-right: 1em; text-align: center; vertical-align: top\">Stayed here with husband<br>and sons on the way t ...</td>\n",
              "        <td style=\"padding-left: 1em; padding-right: 1em; text-align: center; vertical-align: top\">InternetExplorer</td>\n",
              "        <td style=\"padding-left: 1em; padding-right: 1em; text-align: center; vertical-align: top\">Desktop</td>\n",
              "        <td style=\"padding-left: 1em; padding-right: 1em; text-align: center; vertical-align: top\">happy</td>\n",
              "    </tr>\n",
              "    <tr>\n",
              "        <td style=\"padding-left: 1em; padding-right: 1em; text-align: center; vertical-align: top\">id10330</td>\n",
              "        <td style=\"padding-left: 1em; padding-right: 1em; text-align: center; vertical-align: top\">My girlfriends and I<br>stayed here to celebrate ...</td>\n",
              "        <td style=\"padding-left: 1em; padding-right: 1em; text-align: center; vertical-align: top\">Edge</td>\n",
              "        <td style=\"padding-left: 1em; padding-right: 1em; text-align: center; vertical-align: top\">Tablet</td>\n",
              "        <td style=\"padding-left: 1em; padding-right: 1em; text-align: center; vertical-align: top\">not happy</td>\n",
              "    </tr>\n",
              "    <tr>\n",
              "        <td style=\"padding-left: 1em; padding-right: 1em; text-align: center; vertical-align: top\">id10331</td>\n",
              "        <td style=\"padding-left: 1em; padding-right: 1em; text-align: center; vertical-align: top\">We had - rooms. One was<br>very nice and clearly ...</td>\n",
              "        <td style=\"padding-left: 1em; padding-right: 1em; text-align: center; vertical-align: top\">InternetExplorer</td>\n",
              "        <td style=\"padding-left: 1em; padding-right: 1em; text-align: center; vertical-align: top\">Desktop</td>\n",
              "        <td style=\"padding-left: 1em; padding-right: 1em; text-align: center; vertical-align: top\">happy</td>\n",
              "    </tr>\n",
              "    <tr>\n",
              "        <td style=\"padding-left: 1em; padding-right: 1em; text-align: center; vertical-align: top\">id10332</td>\n",
              "        <td style=\"padding-left: 1em; padding-right: 1em; text-align: center; vertical-align: top\">My husband and I have<br>stayed in this hotel a ...</td>\n",
              "        <td style=\"padding-left: 1em; padding-right: 1em; text-align: center; vertical-align: top\">Firefox</td>\n",
              "        <td style=\"padding-left: 1em; padding-right: 1em; text-align: center; vertical-align: top\">Tablet</td>\n",
              "        <td style=\"padding-left: 1em; padding-right: 1em; text-align: center; vertical-align: top\">not happy</td>\n",
              "    </tr>\n",
              "    <tr>\n",
              "        <td style=\"padding-left: 1em; padding-right: 1em; text-align: center; vertical-align: top\">id10333</td>\n",
              "        <td style=\"padding-left: 1em; padding-right: 1em; text-align: center; vertical-align: top\">My wife &amp; I stayed in<br>this glorious city a ...</td>\n",
              "        <td style=\"padding-left: 1em; padding-right: 1em; text-align: center; vertical-align: top\">Google Chrome</td>\n",
              "        <td style=\"padding-left: 1em; padding-right: 1em; text-align: center; vertical-align: top\">Mobile</td>\n",
              "        <td style=\"padding-left: 1em; padding-right: 1em; text-align: center; vertical-align: top\">happy</td>\n",
              "    </tr>\n",
              "    <tr>\n",
              "        <td style=\"padding-left: 1em; padding-right: 1em; text-align: center; vertical-align: top\">id10334</td>\n",
              "        <td style=\"padding-left: 1em; padding-right: 1em; text-align: center; vertical-align: top\">My boyfriend and I stayed<br>at the Fairmont on a ...</td>\n",
              "        <td style=\"padding-left: 1em; padding-right: 1em; text-align: center; vertical-align: top\">Internet Explorer</td>\n",
              "        <td style=\"padding-left: 1em; padding-right: 1em; text-align: center; vertical-align: top\">Desktop</td>\n",
              "        <td style=\"padding-left: 1em; padding-right: 1em; text-align: center; vertical-align: top\">happy</td>\n",
              "    </tr>\n",
              "    <tr>\n",
              "        <td style=\"padding-left: 1em; padding-right: 1em; text-align: center; vertical-align: top\">id10335</td>\n",
              "        <td style=\"padding-left: 1em; padding-right: 1em; text-align: center; vertical-align: top\">Wonderful staff, great<br>location, but it was ...</td>\n",
              "        <td style=\"padding-left: 1em; padding-right: 1em; text-align: center; vertical-align: top\">Chrome</td>\n",
              "        <td style=\"padding-left: 1em; padding-right: 1em; text-align: center; vertical-align: top\">Tablet</td>\n",
              "        <td style=\"padding-left: 1em; padding-right: 1em; text-align: center; vertical-align: top\">not happy</td>\n",
              "    </tr>\n",
              "</table>\n",
              "[38932 rows x 5 columns]<br/>Note: Only the head of the SFrame is printed.<br/>You can use print_rows(num_rows=m, num_columns=n) to print more rows and columns.\n",
              "</div>"
            ],
            "text/plain": [
              "Columns:\n",
              "\tUser_ID\tstr\n",
              "\tDescription\tstr\n",
              "\tBrowser_Used\tstr\n",
              "\tDevice_Used\tstr\n",
              "\tIs_Response\tstr\n",
              "\n",
              "Rows: 38932\n",
              "\n",
              "Data:\n",
              "+---------+-------------------------------+-------------------+-------------+\n",
              "| User_ID |          Description          |    Browser_Used   | Device_Used |\n",
              "+---------+-------------------------------+-------------------+-------------+\n",
              "| id10326 | The room was kind of clean... |        Edge       |    Mobile   |\n",
              "| id10327 | I stayed at the Crown Plaz... | Internet Explorer |    Mobile   |\n",
              "| id10328 | I booked this hotel throug... |      Mozilla      |    Tablet   |\n",
              "| id10329 | Stayed here with husband a... |  InternetExplorer |   Desktop   |\n",
              "| id10330 | My girlfriends and I staye... |        Edge       |    Tablet   |\n",
              "| id10331 | We had - rooms. One was ve... |  InternetExplorer |   Desktop   |\n",
              "| id10332 | My husband and I have stay... |      Firefox      |    Tablet   |\n",
              "| id10333 | My wife & I stayed in this... |   Google Chrome   |    Mobile   |\n",
              "| id10334 | My boyfriend and I stayed ... | Internet Explorer |   Desktop   |\n",
              "| id10335 | Wonderful staff, great loc... |       Chrome      |    Tablet   |\n",
              "+---------+-------------------------------+-------------------+-------------+\n",
              "+-------------+\n",
              "| Is_Response |\n",
              "+-------------+\n",
              "|  not happy  |\n",
              "|  not happy  |\n",
              "|  not happy  |\n",
              "|    happy    |\n",
              "|  not happy  |\n",
              "|    happy    |\n",
              "|  not happy  |\n",
              "|    happy    |\n",
              "|    happy    |\n",
              "|  not happy  |\n",
              "+-------------+\n",
              "[38932 rows x 5 columns]\n",
              "Note: Only the head of the SFrame is printed.\n",
              "You can use print_rows(num_rows=m, num_columns=n) to print more rows and columns."
            ]
          },
          "metadata": {},
          "execution_count": 2
        }
      ]
    },
    {
      "cell_type": "code",
      "metadata": {
        "id": "G1FQKyiFawJ_",
        "colab": {
          "base_uri": "https://localhost:8080/"
        },
        "outputId": "ecc5272f-d7fc-445a-d8d6-9f815c349445"
      },
      "source": [
        "# i will use the spacy library to import a word->embedding dictionary \n",
        "!python -m spacy download en_core_web_lg # Important! you need to restart runtime after install\n",
        "spacy_word_to_tokens = spacy.load('en_core_web_lg')\n"
      ],
      "execution_count": 8,
      "outputs": [
        {
          "output_type": "stream",
          "name": "stdout",
          "text": [
            "Collecting en_core_web_lg==2.2.5\n",
            "  Downloading https://github.com/explosion/spacy-models/releases/download/en_core_web_lg-2.2.5/en_core_web_lg-2.2.5.tar.gz (827.9 MB)\n",
            "\u001b[K     |████████████████████████████████| 827.9 MB 1.2 MB/s \n",
            "\u001b[?25hRequirement already satisfied: spacy>=2.2.2 in /usr/local/lib/python3.7/dist-packages (from en_core_web_lg==2.2.5) (2.2.4)\n",
            "Requirement already satisfied: wasabi<1.1.0,>=0.4.0 in /usr/local/lib/python3.7/dist-packages (from spacy>=2.2.2->en_core_web_lg==2.2.5) (0.8.2)\n",
            "Requirement already satisfied: catalogue<1.1.0,>=0.0.7 in /usr/local/lib/python3.7/dist-packages (from spacy>=2.2.2->en_core_web_lg==2.2.5) (1.0.0)\n",
            "Requirement already satisfied: tqdm<5.0.0,>=4.38.0 in /usr/local/lib/python3.7/dist-packages (from spacy>=2.2.2->en_core_web_lg==2.2.5) (4.62.3)\n",
            "Requirement already satisfied: requests<3.0.0,>=2.13.0 in /usr/local/lib/python3.7/dist-packages (from spacy>=2.2.2->en_core_web_lg==2.2.5) (2.23.0)\n",
            "Requirement already satisfied: preshed<3.1.0,>=3.0.2 in /usr/local/lib/python3.7/dist-packages (from spacy>=2.2.2->en_core_web_lg==2.2.5) (3.0.6)\n",
            "Requirement already satisfied: numpy>=1.15.0 in /usr/local/lib/python3.7/dist-packages (from spacy>=2.2.2->en_core_web_lg==2.2.5) (1.21.4)\n",
            "Requirement already satisfied: plac<1.2.0,>=0.9.6 in /usr/local/lib/python3.7/dist-packages (from spacy>=2.2.2->en_core_web_lg==2.2.5) (1.1.3)\n",
            "Requirement already satisfied: blis<0.5.0,>=0.4.0 in /usr/local/lib/python3.7/dist-packages (from spacy>=2.2.2->en_core_web_lg==2.2.5) (0.4.1)\n",
            "Requirement already satisfied: setuptools in /usr/local/lib/python3.7/dist-packages (from spacy>=2.2.2->en_core_web_lg==2.2.5) (57.4.0)\n",
            "Requirement already satisfied: cymem<2.1.0,>=2.0.2 in /usr/local/lib/python3.7/dist-packages (from spacy>=2.2.2->en_core_web_lg==2.2.5) (2.0.6)\n",
            "Requirement already satisfied: thinc==7.4.0 in /usr/local/lib/python3.7/dist-packages (from spacy>=2.2.2->en_core_web_lg==2.2.5) (7.4.0)\n",
            "Requirement already satisfied: srsly<1.1.0,>=1.0.2 in /usr/local/lib/python3.7/dist-packages (from spacy>=2.2.2->en_core_web_lg==2.2.5) (1.0.5)\n",
            "Requirement already satisfied: murmurhash<1.1.0,>=0.28.0 in /usr/local/lib/python3.7/dist-packages (from spacy>=2.2.2->en_core_web_lg==2.2.5) (1.0.6)\n",
            "Requirement already satisfied: importlib-metadata>=0.20 in /usr/local/lib/python3.7/dist-packages (from catalogue<1.1.0,>=0.0.7->spacy>=2.2.2->en_core_web_lg==2.2.5) (4.8.2)\n",
            "Requirement already satisfied: typing-extensions>=3.6.4 in /usr/local/lib/python3.7/dist-packages (from importlib-metadata>=0.20->catalogue<1.1.0,>=0.0.7->spacy>=2.2.2->en_core_web_lg==2.2.5) (3.10.0.2)\n",
            "Requirement already satisfied: zipp>=0.5 in /usr/local/lib/python3.7/dist-packages (from importlib-metadata>=0.20->catalogue<1.1.0,>=0.0.7->spacy>=2.2.2->en_core_web_lg==2.2.5) (3.6.0)\n",
            "Requirement already satisfied: urllib3!=1.25.0,!=1.25.1,<1.26,>=1.21.1 in /usr/local/lib/python3.7/dist-packages (from requests<3.0.0,>=2.13.0->spacy>=2.2.2->en_core_web_lg==2.2.5) (1.24.3)\n",
            "Requirement already satisfied: chardet<4,>=3.0.2 in /usr/local/lib/python3.7/dist-packages (from requests<3.0.0,>=2.13.0->spacy>=2.2.2->en_core_web_lg==2.2.5) (3.0.4)\n",
            "Requirement already satisfied: certifi>=2017.4.17 in /usr/local/lib/python3.7/dist-packages (from requests<3.0.0,>=2.13.0->spacy>=2.2.2->en_core_web_lg==2.2.5) (2021.10.8)\n",
            "Requirement already satisfied: idna<3,>=2.5 in /usr/local/lib/python3.7/dist-packages (from requests<3.0.0,>=2.13.0->spacy>=2.2.2->en_core_web_lg==2.2.5) (2.10)\n",
            "Building wheels for collected packages: en-core-web-lg\n",
            "  Building wheel for en-core-web-lg (setup.py) ... \u001b[?25l\u001b[?25hdone\n",
            "  Created wheel for en-core-web-lg: filename=en_core_web_lg-2.2.5-py3-none-any.whl size=829180942 sha256=e5cec03c0f55baf4115a91b867433833bc2faada3460ac8402cdcf5bfcec4cd3\n",
            "  Stored in directory: /tmp/pip-ephem-wheel-cache-59sx8h7i/wheels/11/95/ba/2c36cc368c0bd339b44a791c2c1881a1fb714b78c29a4cb8f5\n",
            "Successfully built en-core-web-lg\n",
            "Installing collected packages: en-core-web-lg\n",
            "Successfully installed en-core-web-lg-2.2.5\n",
            "\u001b[38;5;2m✔ Download and installation successful\u001b[0m\n",
            "You can now load the model via spacy.load('en_core_web_lg')\n"
          ]
        }
      ]
    },
    {
      "cell_type": "markdown",
      "metadata": {
        "id": "gHVDDzOOXk6J"
      },
      "source": [
        "### Q3 ans:"
      ]
    },
    {
      "cell_type": "code",
      "metadata": {
        "id": "brDcGdprXlD5"
      },
      "source": [
        "hotels_reviews_embeddings_sframe = turi.SFrame()\n",
        "\n",
        "main_text_field = 'Description'\n",
        "class_field = 'Is_Response'\n",
        "\n",
        "l = []\n",
        "for i in tqdm(range(len(hotels_reviews_sframe))):\n",
        "    text = hotels_reviews_sframe[i][main_text_field]\n",
        "    l.append(spacy_word_to_tokens(text).vector)\n"
      ],
      "execution_count": null,
      "outputs": []
    },
    {
      "cell_type": "code",
      "metadata": {
        "id": "Pl9lWFrseyRe"
      },
      "source": [
        "hotels_reviews_embeddings_sframe['word_embeddings'] = l \n",
        "hotels_reviews_embeddings_sframe['class'] = hotels_reviews_sframe[class_field]\n",
        "\n",
        "# addings additional features:\n",
        "hotels_reviews_embeddings_sframe['words_1grams'] = turi.text_analytics.count_ngrams(hotels_reviews_sframe[main_text_field], n=1, method='word')\n",
        "hotels_reviews_embeddings_sframe['words_2grams'] = turi.text_analytics.count_ngrams(hotels_reviews_sframe[main_text_field], n=2, method='word')\n",
        "# TextBlob features\n",
        "hotels_reviews_embeddings_sframe['TextBlob text polarity'] = hotels_reviews_sframe[main_text_field].apply(lambda review: TextBlob(review).sentiment.polarity)\n",
        "hotels_reviews_embeddings_sframe['TextBlob text subjectivity'] = hotels_reviews_sframe[main_text_field].apply(lambda review: TextBlob(review).sentiment.subjectivity)\n",
        "# Afinn features\n",
        "afinn = Afinn()\n",
        "hotels_reviews_embeddings_sframe['Afinn text score'] = hotels_reviews_sframe[main_text_field].apply(lambda t: afinn.score(t))\n",
        "\n",
        "\n",
        "features_list = ['word_embeddings', 'words_1grams', 'words_2grams', 'TextBlob text polarity', 'TextBlob text subjectivity', 'Afinn text score']"
      ],
      "execution_count": 8,
      "outputs": []
    },
    {
      "cell_type": "code",
      "metadata": {
        "id": "zk5Ge-9iXlK8",
        "colab": {
          "base_uri": "https://localhost:8080/",
          "height": 1000
        },
        "outputId": "3992f4c0-db2c-4a31-e8e0-d9a509653633"
      },
      "source": [
        "# training and evaluating the classifier with only word embeddings as features.\n",
        "# splitting and training\n",
        "train, test = hotels_reviews_embeddings_sframe.random_split(0.8)\n",
        "cls_with_embeddings_only = turi.classifier.create(train, features=['word_embeddings'], target='class', verbose=True)\n",
        "cls_with_additional_features = turi.classifier.create(train, features=features_list, target='class', verbose=True)\n",
        "# evaluating the classifier\n",
        "cls_with_embeddings_only_eval_results = cls_with_embeddings_only.evaluate(test)\n",
        "cls_with_additional_features_eval_results = cls_with_additional_features.evaluate(test)"
      ],
      "execution_count": 11,
      "outputs": [
        {
          "output_type": "stream",
          "name": "stdout",
          "text": [
            "PROGRESS: Creating a validation set from 5 percent of training data. This may take a while.\n",
            "          You can set ``validation_set=None`` to disable validation tracking.\n",
            "\n",
            "PROGRESS: The following methods are available for this type of problem.\n",
            "PROGRESS: LogisticClassifier, SVMClassifier\n",
            "PROGRESS: The returned model will be chosen according to validation accuracy.\n"
          ]
        },
        {
          "output_type": "display_data",
          "data": {
            "text/html": [
              "<pre>Logistic regression:</pre>"
            ],
            "text/plain": [
              "Logistic regression:"
            ]
          },
          "metadata": {}
        },
        {
          "output_type": "display_data",
          "data": {
            "text/html": [
              "<pre>--------------------------------------------------------</pre>"
            ],
            "text/plain": [
              "--------------------------------------------------------"
            ]
          },
          "metadata": {}
        },
        {
          "output_type": "display_data",
          "data": {
            "text/html": [
              "<pre>Number of examples          : 29626</pre>"
            ],
            "text/plain": [
              "Number of examples          : 29626"
            ]
          },
          "metadata": {}
        },
        {
          "output_type": "display_data",
          "data": {
            "text/html": [
              "<pre>Number of classes           : 2</pre>"
            ],
            "text/plain": [
              "Number of classes           : 2"
            ]
          },
          "metadata": {}
        },
        {
          "output_type": "display_data",
          "data": {
            "text/html": [
              "<pre>Number of feature columns   : 1</pre>"
            ],
            "text/plain": [
              "Number of feature columns   : 1"
            ]
          },
          "metadata": {}
        },
        {
          "output_type": "display_data",
          "data": {
            "text/html": [
              "<pre>Number of unpacked features : 300</pre>"
            ],
            "text/plain": [
              "Number of unpacked features : 300"
            ]
          },
          "metadata": {}
        },
        {
          "output_type": "display_data",
          "data": {
            "text/html": [
              "<pre>Number of coefficients      : 301</pre>"
            ],
            "text/plain": [
              "Number of coefficients      : 301"
            ]
          },
          "metadata": {}
        },
        {
          "output_type": "display_data",
          "data": {
            "text/html": [
              "<pre>Starting Newton Method</pre>"
            ],
            "text/plain": [
              "Starting Newton Method"
            ]
          },
          "metadata": {}
        },
        {
          "output_type": "display_data",
          "data": {
            "text/html": [
              "<pre>--------------------------------------------------------</pre>"
            ],
            "text/plain": [
              "--------------------------------------------------------"
            ]
          },
          "metadata": {}
        },
        {
          "output_type": "display_data",
          "data": {
            "text/html": [
              "<pre>+-----------+----------+--------------+-------------------+---------------------+</pre>"
            ],
            "text/plain": [
              "+-----------+----------+--------------+-------------------+---------------------+"
            ]
          },
          "metadata": {}
        },
        {
          "output_type": "display_data",
          "data": {
            "text/html": [
              "<pre>| Iteration | Passes   | Elapsed Time | Training Accuracy | Validation Accuracy |</pre>"
            ],
            "text/plain": [
              "| Iteration | Passes   | Elapsed Time | Training Accuracy | Validation Accuracy |"
            ]
          },
          "metadata": {}
        },
        {
          "output_type": "display_data",
          "data": {
            "text/html": [
              "<pre>+-----------+----------+--------------+-------------------+---------------------+</pre>"
            ],
            "text/plain": [
              "+-----------+----------+--------------+-------------------+---------------------+"
            ]
          },
          "metadata": {}
        },
        {
          "output_type": "display_data",
          "data": {
            "text/html": [
              "<pre>| 1         | 2        | 5.880037     | 0.870249          | 0.871795            |</pre>"
            ],
            "text/plain": [
              "| 1         | 2        | 5.880037     | 0.870249          | 0.871795            |"
            ]
          },
          "metadata": {}
        },
        {
          "output_type": "display_data",
          "data": {
            "text/html": [
              "<pre>| 2         | 3        | 9.002871     | 0.875751          | 0.876923            |</pre>"
            ],
            "text/plain": [
              "| 2         | 3        | 9.002871     | 0.875751          | 0.876923            |"
            ]
          },
          "metadata": {}
        },
        {
          "output_type": "display_data",
          "data": {
            "text/html": [
              "<pre>| 3         | 4        | 12.136589    | 0.877776          | 0.876282            |</pre>"
            ],
            "text/plain": [
              "| 3         | 4        | 12.136589    | 0.877776          | 0.876282            |"
            ]
          },
          "metadata": {}
        },
        {
          "output_type": "display_data",
          "data": {
            "text/html": [
              "<pre>| 4         | 5        | 15.287015    | 0.878789          | 0.879487            |</pre>"
            ],
            "text/plain": [
              "| 4         | 5        | 15.287015    | 0.878789          | 0.879487            |"
            ]
          },
          "metadata": {}
        },
        {
          "output_type": "display_data",
          "data": {
            "text/html": [
              "<pre>| 5         | 6        | 18.414950    | 0.879059          | 0.879487            |</pre>"
            ],
            "text/plain": [
              "| 5         | 6        | 18.414950    | 0.879059          | 0.879487            |"
            ]
          },
          "metadata": {}
        },
        {
          "output_type": "display_data",
          "data": {
            "text/html": [
              "<pre>| 6         | 7        | 21.541789    | 0.879093          | 0.879487            |</pre>"
            ],
            "text/plain": [
              "| 6         | 7        | 21.541789    | 0.879093          | 0.879487            |"
            ]
          },
          "metadata": {}
        },
        {
          "output_type": "display_data",
          "data": {
            "text/html": [
              "<pre>+-----------+----------+--------------+-------------------+---------------------+</pre>"
            ],
            "text/plain": [
              "+-----------+----------+--------------+-------------------+---------------------+"
            ]
          },
          "metadata": {}
        },
        {
          "output_type": "display_data",
          "data": {
            "text/html": [
              "<pre>SUCCESS: Optimal solution found.</pre>"
            ],
            "text/plain": [
              "SUCCESS: Optimal solution found."
            ]
          },
          "metadata": {}
        },
        {
          "output_type": "display_data",
          "data": {
            "text/html": [
              "<pre></pre>"
            ],
            "text/plain": [
              ""
            ]
          },
          "metadata": {}
        },
        {
          "output_type": "display_data",
          "data": {
            "text/html": [
              "<pre>SVM:</pre>"
            ],
            "text/plain": [
              "SVM:"
            ]
          },
          "metadata": {}
        },
        {
          "output_type": "display_data",
          "data": {
            "text/html": [
              "<pre>--------------------------------------------------------</pre>"
            ],
            "text/plain": [
              "--------------------------------------------------------"
            ]
          },
          "metadata": {}
        },
        {
          "output_type": "display_data",
          "data": {
            "text/html": [
              "<pre>Number of examples          : 29626</pre>"
            ],
            "text/plain": [
              "Number of examples          : 29626"
            ]
          },
          "metadata": {}
        },
        {
          "output_type": "display_data",
          "data": {
            "text/html": [
              "<pre>Number of classes           : 2</pre>"
            ],
            "text/plain": [
              "Number of classes           : 2"
            ]
          },
          "metadata": {}
        },
        {
          "output_type": "display_data",
          "data": {
            "text/html": [
              "<pre>Number of feature columns   : 1</pre>"
            ],
            "text/plain": [
              "Number of feature columns   : 1"
            ]
          },
          "metadata": {}
        },
        {
          "output_type": "display_data",
          "data": {
            "text/html": [
              "<pre>Number of unpacked features : 300</pre>"
            ],
            "text/plain": [
              "Number of unpacked features : 300"
            ]
          },
          "metadata": {}
        },
        {
          "output_type": "display_data",
          "data": {
            "text/html": [
              "<pre>Number of coefficients    : 301</pre>"
            ],
            "text/plain": [
              "Number of coefficients    : 301"
            ]
          },
          "metadata": {}
        },
        {
          "output_type": "display_data",
          "data": {
            "text/html": [
              "<pre>Starting L-BFGS</pre>"
            ],
            "text/plain": [
              "Starting L-BFGS"
            ]
          },
          "metadata": {}
        },
        {
          "output_type": "display_data",
          "data": {
            "text/html": [
              "<pre>--------------------------------------------------------</pre>"
            ],
            "text/plain": [
              "--------------------------------------------------------"
            ]
          },
          "metadata": {}
        },
        {
          "output_type": "display_data",
          "data": {
            "text/html": [
              "<pre>+-----------+----------+-----------+--------------+-------------------+---------------------+</pre>"
            ],
            "text/plain": [
              "+-----------+----------+-----------+--------------+-------------------+---------------------+"
            ]
          },
          "metadata": {}
        },
        {
          "output_type": "display_data",
          "data": {
            "text/html": [
              "<pre>| Iteration | Passes   | Step size | Elapsed Time | Training Accuracy | Validation Accuracy |</pre>"
            ],
            "text/plain": [
              "| Iteration | Passes   | Step size | Elapsed Time | Training Accuracy | Validation Accuracy |"
            ]
          },
          "metadata": {}
        },
        {
          "output_type": "display_data",
          "data": {
            "text/html": [
              "<pre>+-----------+----------+-----------+--------------+-------------------+---------------------+</pre>"
            ],
            "text/plain": [
              "+-----------+----------+-----------+--------------+-------------------+---------------------+"
            ]
          },
          "metadata": {}
        },
        {
          "output_type": "display_data",
          "data": {
            "text/html": [
              "<pre>| 0         | 5        | 0.050694  | 1.088533     | 0.679775          | 0.689744            |</pre>"
            ],
            "text/plain": [
              "| 0         | 5        | 0.050694  | 1.088533     | 0.679775          | 0.689744            |"
            ]
          },
          "metadata": {}
        },
        {
          "output_type": "display_data",
          "data": {
            "text/html": [
              "<pre>| 1         | 9        | 1.064572  | 2.153764     | 0.681732          | 0.691026            |</pre>"
            ],
            "text/plain": [
              "| 1         | 9        | 1.064572  | 2.153764     | 0.681732          | 0.691026            |"
            ]
          },
          "metadata": {}
        },
        {
          "output_type": "display_data",
          "data": {
            "text/html": [
              "<pre>| 2         | 10       | 1.064572  | 2.564931     | 0.324647          | 0.319872            |</pre>"
            ],
            "text/plain": [
              "| 2         | 10       | 1.064572  | 2.564931     | 0.324647          | 0.319872            |"
            ]
          },
          "metadata": {}
        },
        {
          "output_type": "display_data",
          "data": {
            "text/html": [
              "<pre>Warning: Reached max step size.</pre>"
            ],
            "text/plain": [
              "Warning: Reached max step size."
            ]
          },
          "metadata": {}
        },
        {
          "output_type": "display_data",
          "data": {
            "text/html": [
              "<pre>| 3         | 19       | 25.000000 | 4.687748     | 0.683656          | 0.691667            |</pre>"
            ],
            "text/plain": [
              "| 3         | 19       | 25.000000 | 4.687748     | 0.683656          | 0.691667            |"
            ]
          },
          "metadata": {}
        },
        {
          "output_type": "display_data",
          "data": {
            "text/html": [
              "<pre>| 4         | 20       | 25.000000 | 5.091477     | 0.717174          | 0.717949            |</pre>"
            ],
            "text/plain": [
              "| 4         | 20       | 25.000000 | 5.091477     | 0.717174          | 0.717949            |"
            ]
          },
          "metadata": {}
        },
        {
          "output_type": "display_data",
          "data": {
            "text/html": [
              "<pre>| 9         | 32       | 1.000000  | 8.647509     | 0.840748          | 0.832051            |</pre>"
            ],
            "text/plain": [
              "| 9         | 32       | 1.000000  | 8.647509     | 0.840748          | 0.832051            |"
            ]
          },
          "metadata": {}
        },
        {
          "output_type": "display_data",
          "data": {
            "text/html": [
              "<pre>+-----------+----------+-----------+--------------+-------------------+---------------------+</pre>"
            ],
            "text/plain": [
              "+-----------+----------+-----------+--------------+-------------------+---------------------+"
            ]
          },
          "metadata": {}
        },
        {
          "output_type": "stream",
          "name": "stdout",
          "text": [
            "PROGRESS: Model selection based on validation accuracy:\n",
            "PROGRESS: ---------------------------------------------\n",
            "PROGRESS: LogisticClassifier              : 0.8794871794871795\n",
            "PROGRESS: SVMClassifier                   : 0.8320512820512821\n",
            "PROGRESS: ---------------------------------------------\n",
            "PROGRESS: Selecting LogisticClassifier based on validation set performance.\n",
            "PROGRESS: Creating a validation set from 5 percent of training data. This may take a while.\n",
            "          You can set ``validation_set=None`` to disable validation tracking.\n",
            "\n",
            "PROGRESS: The following methods are available for this type of problem.\n",
            "PROGRESS: LogisticClassifier, SVMClassifier\n",
            "PROGRESS: The returned model will be chosen according to validation accuracy.\n"
          ]
        },
        {
          "output_type": "display_data",
          "data": {
            "text/html": [
              "<pre>Logistic regression:</pre>"
            ],
            "text/plain": [
              "Logistic regression:"
            ]
          },
          "metadata": {}
        },
        {
          "output_type": "display_data",
          "data": {
            "text/html": [
              "<pre>--------------------------------------------------------</pre>"
            ],
            "text/plain": [
              "--------------------------------------------------------"
            ]
          },
          "metadata": {}
        },
        {
          "output_type": "display_data",
          "data": {
            "text/html": [
              "<pre>Number of examples          : 29626</pre>"
            ],
            "text/plain": [
              "Number of examples          : 29626"
            ]
          },
          "metadata": {}
        },
        {
          "output_type": "display_data",
          "data": {
            "text/html": [
              "<pre>Number of classes           : 2</pre>"
            ],
            "text/plain": [
              "Number of classes           : 2"
            ]
          },
          "metadata": {}
        },
        {
          "output_type": "display_data",
          "data": {
            "text/html": [
              "<pre>Number of feature columns   : 6</pre>"
            ],
            "text/plain": [
              "Number of feature columns   : 6"
            ]
          },
          "metadata": {}
        },
        {
          "output_type": "display_data",
          "data": {
            "text/html": [
              "<pre>Number of unpacked features : 730018</pre>"
            ],
            "text/plain": [
              "Number of unpacked features : 730018"
            ]
          },
          "metadata": {}
        },
        {
          "output_type": "display_data",
          "data": {
            "text/html": [
              "<pre>Number of coefficients      : 730019</pre>"
            ],
            "text/plain": [
              "Number of coefficients      : 730019"
            ]
          },
          "metadata": {}
        },
        {
          "output_type": "display_data",
          "data": {
            "text/html": [
              "<pre>Starting L-BFGS</pre>"
            ],
            "text/plain": [
              "Starting L-BFGS"
            ]
          },
          "metadata": {}
        },
        {
          "output_type": "display_data",
          "data": {
            "text/html": [
              "<pre>--------------------------------------------------------</pre>"
            ],
            "text/plain": [
              "--------------------------------------------------------"
            ]
          },
          "metadata": {}
        },
        {
          "output_type": "display_data",
          "data": {
            "text/html": [
              "<pre>+-----------+----------+-----------+--------------+-------------------+---------------------+</pre>"
            ],
            "text/plain": [
              "+-----------+----------+-----------+--------------+-------------------+---------------------+"
            ]
          },
          "metadata": {}
        },
        {
          "output_type": "display_data",
          "data": {
            "text/html": [
              "<pre>| Iteration | Passes   | Step size | Elapsed Time | Training Accuracy | Validation Accuracy |</pre>"
            ],
            "text/plain": [
              "| Iteration | Passes   | Step size | Elapsed Time | Training Accuracy | Validation Accuracy |"
            ]
          },
          "metadata": {}
        },
        {
          "output_type": "display_data",
          "data": {
            "text/html": [
              "<pre>+-----------+----------+-----------+--------------+-------------------+---------------------+</pre>"
            ],
            "text/plain": [
              "+-----------+----------+-----------+--------------+-------------------+---------------------+"
            ]
          },
          "metadata": {}
        },
        {
          "output_type": "display_data",
          "data": {
            "text/html": [
              "<pre>| 0         | 5        | 0.060853  | 2.445286     | 0.694019          | 0.700000            |</pre>"
            ],
            "text/plain": [
              "| 0         | 5        | 0.060853  | 2.445286     | 0.694019          | 0.700000            |"
            ]
          },
          "metadata": {}
        },
        {
          "output_type": "display_data",
          "data": {
            "text/html": [
              "<pre>| 1         | 9        | 1.277915  | 4.471651     | 0.886249          | 0.780128            |</pre>"
            ],
            "text/plain": [
              "| 1         | 9        | 1.277915  | 4.471651     | 0.886249          | 0.780128            |"
            ]
          },
          "metadata": {}
        },
        {
          "output_type": "display_data",
          "data": {
            "text/html": [
              "<pre>| 2         | 10       | 1.277915  | 5.225307     | 0.960069          | 0.847436            |</pre>"
            ],
            "text/plain": [
              "| 2         | 10       | 1.277915  | 5.225307     | 0.960069          | 0.847436            |"
            ]
          },
          "metadata": {}
        },
        {
          "output_type": "display_data",
          "data": {
            "text/html": [
              "<pre>| 3         | 11       | 1.277915  | 5.983076     | 0.982482          | 0.867308            |</pre>"
            ],
            "text/plain": [
              "| 3         | 11       | 1.277915  | 5.983076     | 0.982482          | 0.867308            |"
            ]
          },
          "metadata": {}
        },
        {
          "output_type": "display_data",
          "data": {
            "text/html": [
              "<pre>| 4         | 12       | 1.277915  | 6.742221     | 0.993620          | 0.874359            |</pre>"
            ],
            "text/plain": [
              "| 4         | 12       | 1.277915  | 6.742221     | 0.993620          | 0.874359            |"
            ]
          },
          "metadata": {}
        },
        {
          "output_type": "display_data",
          "data": {
            "text/html": [
              "<pre>| 9         | 18       | 1.277915  | 11.015411    | 0.999899          | 0.878846            |</pre>"
            ],
            "text/plain": [
              "| 9         | 18       | 1.277915  | 11.015411    | 0.999899          | 0.878846            |"
            ]
          },
          "metadata": {}
        },
        {
          "output_type": "display_data",
          "data": {
            "text/html": [
              "<pre>+-----------+----------+-----------+--------------+-------------------+---------------------+</pre>"
            ],
            "text/plain": [
              "+-----------+----------+-----------+--------------+-------------------+---------------------+"
            ]
          },
          "metadata": {}
        },
        {
          "output_type": "display_data",
          "data": {
            "text/html": [
              "<pre>SVM:</pre>"
            ],
            "text/plain": [
              "SVM:"
            ]
          },
          "metadata": {}
        },
        {
          "output_type": "display_data",
          "data": {
            "text/html": [
              "<pre>--------------------------------------------------------</pre>"
            ],
            "text/plain": [
              "--------------------------------------------------------"
            ]
          },
          "metadata": {}
        },
        {
          "output_type": "display_data",
          "data": {
            "text/html": [
              "<pre>Number of examples          : 29626</pre>"
            ],
            "text/plain": [
              "Number of examples          : 29626"
            ]
          },
          "metadata": {}
        },
        {
          "output_type": "display_data",
          "data": {
            "text/html": [
              "<pre>Number of classes           : 2</pre>"
            ],
            "text/plain": [
              "Number of classes           : 2"
            ]
          },
          "metadata": {}
        },
        {
          "output_type": "display_data",
          "data": {
            "text/html": [
              "<pre>Number of feature columns   : 6</pre>"
            ],
            "text/plain": [
              "Number of feature columns   : 6"
            ]
          },
          "metadata": {}
        },
        {
          "output_type": "display_data",
          "data": {
            "text/html": [
              "<pre>Number of unpacked features : 730018</pre>"
            ],
            "text/plain": [
              "Number of unpacked features : 730018"
            ]
          },
          "metadata": {}
        },
        {
          "output_type": "display_data",
          "data": {
            "text/html": [
              "<pre>Number of coefficients    : 730019</pre>"
            ],
            "text/plain": [
              "Number of coefficients    : 730019"
            ]
          },
          "metadata": {}
        },
        {
          "output_type": "display_data",
          "data": {
            "text/html": [
              "<pre>Starting L-BFGS</pre>"
            ],
            "text/plain": [
              "Starting L-BFGS"
            ]
          },
          "metadata": {}
        },
        {
          "output_type": "display_data",
          "data": {
            "text/html": [
              "<pre>--------------------------------------------------------</pre>"
            ],
            "text/plain": [
              "--------------------------------------------------------"
            ]
          },
          "metadata": {}
        },
        {
          "output_type": "display_data",
          "data": {
            "text/html": [
              "<pre>+-----------+----------+-----------+--------------+-------------------+---------------------+</pre>"
            ],
            "text/plain": [
              "+-----------+----------+-----------+--------------+-------------------+---------------------+"
            ]
          },
          "metadata": {}
        },
        {
          "output_type": "display_data",
          "data": {
            "text/html": [
              "<pre>| Iteration | Passes   | Step size | Elapsed Time | Training Accuracy | Validation Accuracy |</pre>"
            ],
            "text/plain": [
              "| Iteration | Passes   | Step size | Elapsed Time | Training Accuracy | Validation Accuracy |"
            ]
          },
          "metadata": {}
        },
        {
          "output_type": "display_data",
          "data": {
            "text/html": [
              "<pre>+-----------+----------+-----------+--------------+-------------------+---------------------+</pre>"
            ],
            "text/plain": [
              "+-----------+----------+-----------+--------------+-------------------+---------------------+"
            ]
          },
          "metadata": {}
        },
        {
          "output_type": "display_data",
          "data": {
            "text/html": [
              "<pre>| 0         | 6        | 0.024763  | 2.468125     | 0.694019          | 0.700000            |</pre>"
            ],
            "text/plain": [
              "| 0         | 6        | 0.024763  | 2.468125     | 0.694019          | 0.700000            |"
            ]
          },
          "metadata": {}
        },
        {
          "output_type": "display_data",
          "data": {
            "text/html": [
              "<pre>| 1         | 11       | 2.104876  | 4.672555     | 0.944508          | 0.848718            |</pre>"
            ],
            "text/plain": [
              "| 1         | 11       | 2.104876  | 4.672555     | 0.944508          | 0.848718            |"
            ]
          },
          "metadata": {}
        },
        {
          "output_type": "display_data",
          "data": {
            "text/html": [
              "<pre>| 2         | 12       | 2.104876  | 5.366888     | 0.970094          | 0.858974            |</pre>"
            ],
            "text/plain": [
              "| 2         | 12       | 2.104876  | 5.366888     | 0.970094          | 0.858974            |"
            ]
          },
          "metadata": {}
        },
        {
          "output_type": "display_data",
          "data": {
            "text/html": [
              "<pre>| 3         | 13       | 2.104876  | 6.065292     | 0.994532          | 0.861538            |</pre>"
            ],
            "text/plain": [
              "| 3         | 13       | 2.104876  | 6.065292     | 0.994532          | 0.861538            |"
            ]
          },
          "metadata": {}
        },
        {
          "output_type": "display_data",
          "data": {
            "text/html": [
              "<pre>| 4         | 14       | 2.104876  | 6.770929     | 0.996658          | 0.857051            |</pre>"
            ],
            "text/plain": [
              "| 4         | 14       | 2.104876  | 6.770929     | 0.996658          | 0.857051            |"
            ]
          },
          "metadata": {}
        },
        {
          "output_type": "display_data",
          "data": {
            "text/html": [
              "<pre>| 9         | 20       | 2.088888  | 10.715144    | 0.999899          | 0.852564            |</pre>"
            ],
            "text/plain": [
              "| 9         | 20       | 2.088888  | 10.715144    | 0.999899          | 0.852564            |"
            ]
          },
          "metadata": {}
        },
        {
          "output_type": "display_data",
          "data": {
            "text/html": [
              "<pre>+-----------+----------+-----------+--------------+-------------------+---------------------+</pre>"
            ],
            "text/plain": [
              "+-----------+----------+-----------+--------------+-------------------+---------------------+"
            ]
          },
          "metadata": {}
        },
        {
          "output_type": "stream",
          "name": "stdout",
          "text": [
            "PROGRESS: Model selection based on validation accuracy:\n",
            "PROGRESS: ---------------------------------------------\n",
            "PROGRESS: LogisticClassifier              : 0.8788461538461538\n",
            "PROGRESS: SVMClassifier                   : 0.8525641025641025\n",
            "PROGRESS: ---------------------------------------------\n",
            "PROGRESS: Selecting LogisticClassifier based on validation set performance.\n"
          ]
        }
      ]
    },
    {
      "cell_type": "markdown",
      "metadata": {
        "id": "7WXZ9ZzHdsH4"
      },
      "source": [
        "As can be seen from the results, adding features to the embeddings XXXXXX"
      ]
    },
    {
      "cell_type": "code",
      "metadata": {
        "id": "r00toZbtXlNv",
        "colab": {
          "base_uri": "https://localhost:8080/",
          "height": 592
        },
        "outputId": "093e6a8c-0034-4020-b76f-64a0f7790e74"
      },
      "source": [
        "# comparing the two classifiers\n",
        "fig, ax = plt.subplots(figsize=(10,10))\n",
        "# take the following score values from each evaluation dictionaries: 'recall' , 'accuracy', 'auc', 'f1_score'\n",
        "scores_to_collect = ['recall' , 'accuracy', 'auc', 'f1_score']\n",
        "cls_evalution_dictionaries_to_collect_from = [dict(cls_with_embeddings_only_eval_results), dict(cls_with_additional_features_eval_results)]\n",
        "regular_text_analysis_scores = []\n",
        "text_blob_and_affin_scores = []\n",
        "for score_to_collect in scores_to_collect:\n",
        "  regular_text_analysis_scores.append(cls_evalution_dictionaries_to_collect_from[0][score_to_collect])\n",
        "  text_blob_and_affin_scores.append(cls_evalution_dictionaries_to_collect_from[1][score_to_collect])\n",
        "\n",
        "x_ticks = np.arange(0, len(scores_to_collect)*2, 2) \n",
        "\n",
        "ax.bar(x_ticks-0.5, regular_text_analysis_scores,color='red', label = 'Only embeddings as features')\n",
        "ax.bar(x_ticks+0.5, text_blob_and_affin_scores,color='blue', label = 'Additional features')\n",
        "\n",
        "ax.set_xticks(x_ticks)\n",
        "ax.set_xticklabels(scores_to_collect)\n",
        "\n",
        "ax.legend()\n",
        "plt.show()"
      ],
      "execution_count": 12,
      "outputs": [
        {
          "output_type": "display_data",
          "data": {
            "image/png": "[encoded data removed]",
            "text/plain": [
              "<Figure size 720x720 with 1 Axes>"
            ]
          },
          "metadata": {
            "needs_background": "light"
          }
        }
      ]
    }
  ]
}